{
 "cells": [
  {
   "cell_type": "markdown",
   "metadata": {},
   "source": [
    "# Praktični izpit tečaja Analitika podatkov v Python-u"
   ]
  },
  {
   "cell_type": "markdown",
   "metadata": {},
   "source": [
    "Čas reševanja: `120 min`"
   ]
  },
  {
   "cell_type": "markdown",
   "metadata": {
    "collapsed": true
   },
   "source": [
    "Skupno število točk: `70 pts`\n",
    "\n",
    "Odgovore na vprašanja vnesite v celice z komentarjem `# Odgovor`\n",
    "\n",
    "Za vsa vprašanja smo na voljo.\n",
    "\n",
    "Lahko si pomagate z uporabo gradiv in internetom. Ne pozabite na uradno dokumentacijo.\n",
    "\n",
    "Srečno!!"
   ]
  },
  {
   "cell_type": "markdown",
   "metadata": {},
   "source": [
    "**Pred začetkom izpita zaženite spodnjo celico:**\n",
    "    \n",
    "    "
   ]
  },
  {
   "cell_type": "code",
   "execution_count": 97,
   "metadata": {},
   "outputs": [],
   "source": [
    "import pandas as pd\n",
    "import numpy as np\n",
    "\n",
    "%matplotlib inline\n",
    "import matplotlib.pyplot as plt\n",
    "import seaborn as sns"
   ]
  },
  {
   "cell_type": "markdown",
   "metadata": {},
   "source": [
    "## DEL 1 - Priprava (30 pts)"
   ]
  },
  {
   "cell_type": "markdown",
   "metadata": {},
   "source": [
    "### 1.1) Uvoz podatkov \n",
    "\n",
    "`2 pts`"
   ]
  },
  {
   "cell_type": "markdown",
   "metadata": {},
   "source": [
    "Pridobili smo podatke registracije avtomobilov v Sloveniji za marec 2019. Datoteka se imenuje `DATA_vozila_marec_clean1.csv`. \n",
    "\n",
    "V spodnji spremenljivki je shranjena pot do datoteke. Naložite podatke v pandas dataframe, da jih lako uporabimo za nadaljno obdelavo."
   ]
  },
  {
   "cell_type": "code",
   "execution_count": 1,
   "metadata": {},
   "outputs": [],
   "source": [
    "path = 'data/DATA_vozila_RAW.csv'"
   ]
  },
  {
   "cell_type": "code",
   "execution_count": 39,
   "metadata": {},
   "outputs": [],
   "source": [
    "# Odgovor\n",
    "\n",
    "\n"
   ]
  },
  {
   "cell_type": "markdown",
   "metadata": {},
   "source": [
    "### 1.2) Prikaz osnovnih lastnosti podatkov"
   ]
  },
  {
   "cell_type": "markdown",
   "metadata": {},
   "source": [
    "#### 1.2.1) Prikažite obliko uvoženega dataframe-a\n",
    "\n",
    "`1 pts`"
   ]
  },
  {
   "cell_type": "code",
   "execution_count": 28,
   "metadata": {},
   "outputs": [],
   "source": [
    "# Odgovor\n",
    "\n",
    "\n"
   ]
  },
  {
   "cell_type": "markdown",
   "metadata": {},
   "source": [
    "#### 1.2.2) Prikažite tipe spremenljivk za vsak stolpec uvoženega dataframe-a\n",
    "\n",
    "`1 pts`"
   ]
  },
  {
   "cell_type": "code",
   "execution_count": 30,
   "metadata": {},
   "outputs": [],
   "source": [
    "# Odgovor\n"
   ]
  },
  {
   "cell_type": "markdown",
   "metadata": {},
   "source": [
    "#### 1.2.3) Prikažite prvih 7 vrstic uvoženega dataframe-a\n",
    "\n",
    "`1 pts`"
   ]
  },
  {
   "cell_type": "code",
   "execution_count": 34,
   "metadata": {},
   "outputs": [],
   "source": [
    "# Odgovor\n",
    "\n"
   ]
  },
  {
   "cell_type": "markdown",
   "metadata": {},
   "source": [
    "#### 1.2.4) Prikažite zadnjih 6 vrstic uvoženega dataframe-a\n",
    "\n",
    "`1 pts`"
   ]
  },
  {
   "cell_type": "code",
   "execution_count": 37,
   "metadata": {},
   "outputs": [],
   "source": [
    "# Odgovor\n",
    "\n"
   ]
  },
  {
   "cell_type": "markdown",
   "metadata": {},
   "source": [
    "#### 1.2.5) Prikažite informacije (velikost df, podatkovni tipi, pomnilnik...) uvoženega dataframe-a z uporabo ene metode\n",
    "\n",
    "`1 pts`"
   ]
  },
  {
   "cell_type": "code",
   "execution_count": 39,
   "metadata": {},
   "outputs": [],
   "source": [
    "# Odgovor\n",
    "\n",
    "\n"
   ]
  },
  {
   "cell_type": "markdown",
   "metadata": {},
   "source": [
    "### 1.3) Priprava podatkov za obdelavo\n",
    "\n",
    "Pred analizo podatkov moramo naše podatke urediti in pripraviti."
   ]
  },
  {
   "cell_type": "markdown",
   "metadata": {},
   "source": [
    "#### 1.3.1) Odstrnjevanje nepotrebnih stolpcev\n",
    "\n",
    "Odstranite nepotrebne stolpce iz naših podatkov. Imena nepotrebnih stolpcev so shanjena v spodnji spremenljivki `to_drop`.\n",
    "\n",
    "Operacijo opravite na mestu (inplace).\n",
    "\n",
    "`2 pts`"
   ]
  },
  {
   "cell_type": "code",
   "execution_count": 5,
   "metadata": {},
   "outputs": [],
   "source": [
    "to_drop = ['Unnamed: 0', 'Unnamed: 0.1', 'P.1.5-Oznaka motorja', 'Homologacijska', 'Dvtredu']"
   ]
  },
  {
   "cell_type": "code",
   "execution_count": 6,
   "metadata": {},
   "outputs": [],
   "source": [
    "# Odgovor\n",
    "\n",
    "\n"
   ]
  },
  {
   "cell_type": "markdown",
   "metadata": {},
   "source": [
    "#### 1.3.2) Preimenovanje imen stolpcev\n",
    "\n",
    "Preimenujte stolpce, da bo delo s podatki lažje. Preslikave imen stolpcev najdete v spodnji spremenljivki `new_names`.\n",
    "\n",
    "Operacijo opravite na mestu (inplace).\n",
    "\n",
    "`2 pts`"
   ]
  },
  {
   "cell_type": "code",
   "execution_count": 8,
   "metadata": {},
   "outputs": [],
   "source": [
    "new_names = {'Datum prve registracije vozila': 'Prva_registracija',\n",
    "             'Registrsko obmocje tablice prve registracije': 'Tablica_kraj',\n",
    "             'Starost uporabnika vozila': 'Starost_vozinka',\n",
    "             'Spol uporabnika': 'Spol_voznika',\n",
    "             'Upravna enota uporabnika vozila': 'Upravna_enota_sifra',\n",
    "             'Drzava (koda)': 'Država_proizvodnje',\n",
    "             'Masa vozila': 'Masa_vozila',\n",
    "             'Kategorija in vrsta vozila (opis)': 'Kategorija_vozila',\n",
    "             'Nazivna moc': 'Moc',\n",
    "             'Vrsta goriva (opis)': 'Gorivo',\n",
    "             'S.1-Stevilo sedezev (vkljucno z vozniskim)': 'Stevilo_sedezev',\n",
    "             'T-Najvisja hitrost': 'Hitrost_max',\n",
    "             'V.8-Kombinirana poraba goriva': 'Poraba_goriva',\n",
    "             'Leto izdelave': 'Leto_izdelave'\n",
    "}"
   ]
  },
  {
   "cell_type": "code",
   "execution_count": 49,
   "metadata": {},
   "outputs": [],
   "source": [
    "# Odgovor\n",
    "\n",
    "\n"
   ]
  },
  {
   "cell_type": "markdown",
   "metadata": {},
   "source": [
    "#### 1.3.3) Odstranjevenje mankajočih vrednosti\n",
    "\n",
    "Izpiši število mankajočih vrednosti za vsak stolpec v pandas Series obliki.\n",
    "\n",
    "Pričakovan odgovor:\n",
    "```\n",
    "Prva_registracija         0\n",
    "Tablica_kraj              0\n",
    "Starost_vozinka        6349\n",
    "Spol_voznika           6349\n",
    "Upravna_enota_sifra       0\n",
    "Znamka                    0\n",
    "Država_proizvodnje        0\n",
    "Masa_vozila               0\n",
    "...\n",
    "```\n",
    "\n",
    "`2 pts`"
   ]
  },
  {
   "cell_type": "code",
   "execution_count": 54,
   "metadata": {},
   "outputs": [],
   "source": [
    "# Odgovor\n",
    "\n",
    "\n"
   ]
  },
  {
   "cell_type": "markdown",
   "metadata": {},
   "source": [
    "---"
   ]
  },
  {
   "cell_type": "markdown",
   "metadata": {},
   "source": [
    "`2 pts`"
   ]
  },
  {
   "cell_type": "markdown",
   "metadata": {},
   "source": [
    "Odstrani vse vrstice v naših podatkih za katere ima stolpec `Starost_vozinka` manjkajoče vrednosti.\n",
    "\n",
    "Delo nadaljuj z novimi podatki."
   ]
  },
  {
   "cell_type": "code",
   "execution_count": 61,
   "metadata": {},
   "outputs": [],
   "source": [
    "# Odgovor\n",
    "\n",
    "\n"
   ]
  },
  {
   "cell_type": "markdown",
   "metadata": {},
   "source": [
    "---"
   ]
  },
  {
   "cell_type": "markdown",
   "metadata": {},
   "source": [
    "`2 pts`"
   ]
  },
  {
   "cell_type": "markdown",
   "metadata": {},
   "source": [
    "Vse manjkajoče vrednosti v stolpcu `Stevilo_sedezev` nadomesti z številom `0`.\n",
    "\n",
    "Delo nadaljuj z novimi podatki."
   ]
  },
  {
   "cell_type": "code",
   "execution_count": 86,
   "metadata": {},
   "outputs": [],
   "source": [
    "# Odgovor\n",
    "\n",
    "\n"
   ]
  },
  {
   "cell_type": "markdown",
   "metadata": {},
   "source": [
    "#### 1.3.4) Iskanje podvojenih vrstic v podatkih"
   ]
  },
  {
   "cell_type": "markdown",
   "metadata": {},
   "source": [
    "Poišči število podvojenih vrstic v naših podatkih.\n",
    "\n",
    "`1 pts`"
   ]
  },
  {
   "cell_type": "code",
   "execution_count": 91,
   "metadata": {},
   "outputs": [],
   "source": [
    "# Odgovor\n",
    "\n",
    "\n"
   ]
  },
  {
   "cell_type": "markdown",
   "metadata": {},
   "source": [
    "---"
   ]
  },
  {
   "cell_type": "markdown",
   "metadata": {},
   "source": [
    "`1 pts`"
   ]
  },
  {
   "cell_type": "markdown",
   "metadata": {},
   "source": [
    "Odstrani vse podvojene vrstice iz naših podatkov."
   ]
  },
  {
   "cell_type": "code",
   "execution_count": 115,
   "metadata": {},
   "outputs": [],
   "source": [
    "# Odgovor\n",
    "\n"
   ]
  },
  {
   "cell_type": "markdown",
   "metadata": {},
   "source": [
    "#### 1.3.5) Transformiranje podatkov"
   ]
  },
  {
   "cell_type": "markdown",
   "metadata": {},
   "source": [
    "Stolpec `Upravna_enota_sifra` vsebuje šifre upravnih enot. Spodaj je podan slovar, ki preslika šifro upravne enote v njeno ime. Dodajte stolpec `Upravna_enota` v katerem so preslikana imena upravnih enot.\n",
    "\n",
    "Nadaljujte delo z novimi podatki.\n",
    "\n",
    "Namig: Uporabite pandas metodo .map()\n",
    "\n",
    "`2 pts`"
   ]
  },
  {
   "cell_type": "code",
   "execution_count": 13,
   "metadata": {},
   "outputs": [],
   "source": [
    "sifra_to_ime = {0: \"Neznana\",\n",
    "              1: \"AJDOVŠČINA\",\n",
    "              2: \"BREŽICE\",\n",
    "              3: \"CELJE\",\n",
    "              4: \"CERKNICA\",\n",
    "              5: \"ČRNOMELJ\",\n",
    "              6: \"DOMŽALE\",\n",
    "              7: \"DRAVOGRAD\",\n",
    "              8: \"GORNJA RADGONA\",\n",
    "              9: \"GROSUPLJE\",\n",
    "              10: \"HRASTNIK\",\n",
    "              11: \"IDRIJA\",\n",
    "              12: \"ILIRSKA BISTRICA\",\n",
    "              13: \"IZOLA\",\n",
    "              14: \"JESENICE\",\n",
    "              15: \"KAMNIK\",\n",
    "              16: \"KOČEVJE\",\n",
    "              17: \"KOPER\",\n",
    "              18: \"KRANJ\",\n",
    "              19: \"KRŠKO\",\n",
    "              20: \"LAŠKO\",\n",
    "              21: \"LENART\",\n",
    "              22: \"LENDAVA\",\n",
    "              23: \"LITIJA\",\n",
    "              24: \"LJUBLJANA\",\n",
    "              29: \"LJUTOMER\",\n",
    "              30: \"LOGATEC\",\n",
    "              34: \"METLIKA\",\n",
    "              35: \"MOZIRJE\",\n",
    "              36: \"MURSKA SOBOTA\",\n",
    "              37: \"NOVA GORICA\",\n",
    "              38: \"NOVO MESTO\",\n",
    "              39: \"ORMOŽ\",\n",
    "              40: \"PIRAN\",\n",
    "              41: \"POSTOJNA\",\n",
    "              42: \"PTUJ\",\n",
    "              43: \"RADLJE OB DRAVI\",\n",
    "              44: \"RADOVLJICA\",\n",
    "              45: \"RAVNE NA KOROŠKEM\",\n",
    "              46: \"RIBNICA\",\n",
    "              47: \"SEVNICA\",\n",
    "              48: \"SEŽANA\",\n",
    "              49: \"SLOVENJ GRADEC\",\n",
    "              50: \"SLOVENSKA BISTRICA\",\n",
    "              51: \"SLOVENSKE KONJICE\",\n",
    "              52: \"ŠENTJUR PRI CELJU\",\n",
    "              53: \"ŠKOFJA LOKA\",\n",
    "              54: \"ŠMARJE PRI JELŠAH\",\n",
    "              55: \"TOLMIN\",\n",
    "              56: \"TRBOVLJE\",\n",
    "              57: \"TREBNJE\",\n",
    "              58: \"TRŽIČ\",\n",
    "              59: \"VELENJE\",\n",
    "              60: \"VRHNIKA\",\n",
    "              61: \"ZAGORJE OB SAVI\",\n",
    "              62: \"ŽALEC\",\n",
    "              64: \"MARIBOR\",\n",
    "              65: \"PESNICA\",\n",
    "              68: \"RUŠE\"}"
   ]
  },
  {
   "cell_type": "code",
   "execution_count": 14,
   "metadata": {},
   "outputs": [],
   "source": [
    "# Odgovor\n",
    "\n",
    "\n"
   ]
  },
  {
   "cell_type": "markdown",
   "metadata": {},
   "source": [
    "#### 1.3.6) Sprememba podatkovnih tipov"
   ]
  },
  {
   "cell_type": "markdown",
   "metadata": {},
   "source": [
    "Pretvori stolpec `Prva_registracija` v podatkovni tip `datetime64[ns]`.\n",
    "\n",
    "\n",
    "Nadaljujte delo z novimi podatki.\n",
    "\n",
    "`2 pts`"
   ]
  },
  {
   "cell_type": "code",
   "execution_count": 135,
   "metadata": {},
   "outputs": [],
   "source": [
    "# Odgovor\n",
    "\n"
   ]
  },
  {
   "cell_type": "markdown",
   "metadata": {},
   "source": [
    "---"
   ]
  },
  {
   "cell_type": "markdown",
   "metadata": {},
   "source": [
    "Pretvori naslednje stolpce v naslednje podatkovne tipe:\n",
    "- `Starost_vozinka` -> `int64`\n",
    "- `Masa_vozila` -> `float64` (pozor na decimalno vejico namesto decimalne pike)\n",
    "- `Moc` -> `float64` (pozor na decimalno vejico namesto decimalne pike)\n",
    "- `Stevilo_sedezev` -> `int64`\n",
    "\n",
    "Na koncu želimo imeti podatke takšne oblike: \n",
    "```\n",
    "Prva_registracija      8298 non-null datetime64[ns]\n",
    "Tablica_kraj           8298 non-null object\n",
    "Starost_vozinka        8298 non-null int64\n",
    "Spol_voznika           8298 non-null object\n",
    "Upravna_enota_sifra    8298 non-null int64\n",
    "Znamka                 8298 non-null object\n",
    "Država_proizvodnje     8298 non-null object\n",
    "Masa_vozila            8298 non-null float64\n",
    "Kategorija_vozila      8298 non-null object\n",
    "Moc                    8298 non-null float64\n",
    "Gorivo                 8298 non-null object\n",
    "Stevilo_sedezev        8298 non-null int64\n",
    "Hitrost_max            8194 non-null float64\n",
    "Poraba_goriva          6812 non-null object\n",
    "Leto_izdelave          8298 non-null int64\n",
    "Upravna_enota          8298 non-null object\n",
    "```\n"
   ]
  },
  {
   "cell_type": "markdown",
   "metadata": {},
   "source": [
    "`4 pts`"
   ]
  },
  {
   "cell_type": "code",
   "execution_count": 208,
   "metadata": {},
   "outputs": [],
   "source": [
    "# Odgovor\n",
    "\n"
   ]
  },
  {
   "cell_type": "code",
   "execution_count": 209,
   "metadata": {},
   "outputs": [],
   "source": [
    "# Odgovor\n",
    "\n"
   ]
  },
  {
   "cell_type": "code",
   "execution_count": 210,
   "metadata": {},
   "outputs": [],
   "source": [
    "# Odgovor\n",
    "\n"
   ]
  },
  {
   "cell_type": "code",
   "execution_count": 211,
   "metadata": {},
   "outputs": [],
   "source": [
    "# Odgovor\n",
    "\n"
   ]
  },
  {
   "cell_type": "markdown",
   "metadata": {},
   "source": [
    "#### 1.3.7) Sprememba vrednsoti v določenih celicah"
   ]
  },
  {
   "cell_type": "markdown",
   "metadata": {},
   "source": [
    "- V stolpcu `Tablica_kraj` imamo vrednost `KR?KO`. Kot zgleda podatek ni bil pravilno vnešen. Spremenite vse vrednosti `KR?KO` v `KRSKO`.\n",
    "\n",
    "- V stolpcu `Znamka` imamo vrednost `?KODA`. Kot zgleda podatek ni bil pravilno vnešen. Spremenite vse vrednosti `?KODA` v `SKODA`.\n",
    "\n",
    "`2 pts`"
   ]
  },
  {
   "cell_type": "code",
   "execution_count": null,
   "metadata": {},
   "outputs": [],
   "source": [
    "# Odgovor\n",
    "\n",
    "\n"
   ]
  },
  {
   "cell_type": "markdown",
   "metadata": {},
   "source": [
    "### 1.4) Izvoz urejenih podatkov"
   ]
  },
  {
   "cell_type": "markdown",
   "metadata": {},
   "source": [
    "Pripravljene in urejene podatke izvozite v novo csv datoteko z imenom `DATA_vozila_CLEAN`. Za pot lahko uporabite pripravljano spremenljivko `path`. Za separator uporabite `,`. Indexa **ne** izvozite s podatki.\n",
    "\n",
    "`1 pts`"
   ]
  },
  {
   "cell_type": "code",
   "execution_count": 54,
   "metadata": {},
   "outputs": [],
   "source": [
    "path = 'data/DATA_vozila_CLEAN.csv'"
   ]
  },
  {
   "cell_type": "code",
   "execution_count": 55,
   "metadata": {},
   "outputs": [],
   "source": [
    "# Odgovor\n",
    "\n",
    "\n"
   ]
  },
  {
   "cell_type": "markdown",
   "metadata": {},
   "source": [
    "## DEL 2 - Analiza (40 pts)"
   ]
  },
  {
   "cell_type": "markdown",
   "metadata": {},
   "source": [
    "V tem delu sledi analiza urejenih podatkov."
   ]
  },
  {
   "cell_type": "markdown",
   "metadata": {},
   "source": [
    "V primeru, da vam ni uspelo urediti podatkov v prejšnjem delu, si jih lahko naložite v pomočjo spodnje celice."
   ]
  },
  {
   "cell_type": "code",
   "execution_count": 4,
   "metadata": {},
   "outputs": [],
   "source": [
    "# Naložimo urejene podatke\n",
    "df = pd.read_csv('data/DATA_vozila_CLEAN.csv')"
   ]
  },
  {
   "cell_type": "code",
   "execution_count": 5,
   "metadata": {
    "scrolled": true
   },
   "outputs": [
    {
     "data": {
      "text/html": [
       "<div>\n",
       "<style scoped>\n",
       "    .dataframe tbody tr th:only-of-type {\n",
       "        vertical-align: middle;\n",
       "    }\n",
       "\n",
       "    .dataframe tbody tr th {\n",
       "        vertical-align: top;\n",
       "    }\n",
       "\n",
       "    .dataframe thead th {\n",
       "        text-align: right;\n",
       "    }\n",
       "</style>\n",
       "<table border=\"1\" class=\"dataframe\">\n",
       "  <thead>\n",
       "    <tr style=\"text-align: right;\">\n",
       "      <th></th>\n",
       "      <th>Prva_registracija</th>\n",
       "      <th>Tablica_kraj</th>\n",
       "      <th>Starost_vozinka</th>\n",
       "      <th>Spol_voznika</th>\n",
       "      <th>Upravna_enota_sifra</th>\n",
       "      <th>Znamka</th>\n",
       "      <th>Država_proizvodnje</th>\n",
       "      <th>Masa_vozila</th>\n",
       "      <th>Kategorija_vozila</th>\n",
       "      <th>Moc</th>\n",
       "      <th>Gorivo</th>\n",
       "      <th>Stevilo_sedezev</th>\n",
       "      <th>Hitrost_max</th>\n",
       "      <th>Poraba_goriva</th>\n",
       "      <th>Leto_izdelave</th>\n",
       "      <th>Upravna_enota</th>\n",
       "    </tr>\n",
       "  </thead>\n",
       "  <tbody>\n",
       "    <tr>\n",
       "      <th>0</th>\n",
       "      <td>2007-10-24</td>\n",
       "      <td>KRSKO</td>\n",
       "      <td>61</td>\n",
       "      <td>M</td>\n",
       "      <td>2</td>\n",
       "      <td>BMW</td>\n",
       "      <td>DEU</td>\n",
       "      <td>223.0</td>\n",
       "      <td>motorno kolo</td>\n",
       "      <td>80.0</td>\n",
       "      <td>Bencin</td>\n",
       "      <td>2</td>\n",
       "      <td>215.0</td>\n",
       "      <td>NaN</td>\n",
       "      <td>2007</td>\n",
       "      <td>BREŽICE</td>\n",
       "    </tr>\n",
       "    <tr>\n",
       "      <th>1</th>\n",
       "      <td>2019-03-25</td>\n",
       "      <td>MURSKA SOBOTA</td>\n",
       "      <td>58</td>\n",
       "      <td>Z</td>\n",
       "      <td>36</td>\n",
       "      <td>FIAT</td>\n",
       "      <td>ITA</td>\n",
       "      <td>1270.0</td>\n",
       "      <td>osebni avtomobil</td>\n",
       "      <td>70.0</td>\n",
       "      <td>Bencin</td>\n",
       "      <td>5</td>\n",
       "      <td>185.0</td>\n",
       "      <td>7,7</td>\n",
       "      <td>2019</td>\n",
       "      <td>MURSKA SOBOTA</td>\n",
       "    </tr>\n",
       "    <tr>\n",
       "      <th>2</th>\n",
       "      <td>2008-01-08</td>\n",
       "      <td>CELJE</td>\n",
       "      <td>71</td>\n",
       "      <td>M</td>\n",
       "      <td>59</td>\n",
       "      <td>HONDA</td>\n",
       "      <td>JPN</td>\n",
       "      <td>242.0</td>\n",
       "      <td>motorno kolo</td>\n",
       "      <td>37.0</td>\n",
       "      <td>Bencin</td>\n",
       "      <td>2</td>\n",
       "      <td>160.0</td>\n",
       "      <td>NaN</td>\n",
       "      <td>2008</td>\n",
       "      <td>VELENJE</td>\n",
       "    </tr>\n",
       "    <tr>\n",
       "      <th>3</th>\n",
       "      <td>2019-08-03</td>\n",
       "      <td>KRANJ</td>\n",
       "      <td>64</td>\n",
       "      <td>M</td>\n",
       "      <td>58</td>\n",
       "      <td>DEUTZ-FAHR</td>\n",
       "      <td>ITA</td>\n",
       "      <td>5200.0</td>\n",
       "      <td>traktor</td>\n",
       "      <td>53.0</td>\n",
       "      <td>Dizel</td>\n",
       "      <td>1</td>\n",
       "      <td>40.0</td>\n",
       "      <td>NaN</td>\n",
       "      <td>2019</td>\n",
       "      <td>TRŽIČ</td>\n",
       "    </tr>\n",
       "    <tr>\n",
       "      <th>4</th>\n",
       "      <td>2011-04-26</td>\n",
       "      <td>NOVA GORICA</td>\n",
       "      <td>63</td>\n",
       "      <td>Z</td>\n",
       "      <td>37</td>\n",
       "      <td>MERCEDES BENZ</td>\n",
       "      <td>DEU</td>\n",
       "      <td>1435.0</td>\n",
       "      <td>osebni avtomobil</td>\n",
       "      <td>103.0</td>\n",
       "      <td>Dizel</td>\n",
       "      <td>5</td>\n",
       "      <td>200.0</td>\n",
       "      <td>5,3</td>\n",
       "      <td>2011</td>\n",
       "      <td>NOVA GORICA</td>\n",
       "    </tr>\n",
       "  </tbody>\n",
       "</table>\n",
       "</div>"
      ],
      "text/plain": [
       "  Prva_registracija   Tablica_kraj  Starost_vozinka Spol_voznika  \\\n",
       "0        2007-10-24          KRSKO               61            M   \n",
       "1        2019-03-25  MURSKA SOBOTA               58            Z   \n",
       "2        2008-01-08          CELJE               71            M   \n",
       "3        2019-08-03          KRANJ               64            M   \n",
       "4        2011-04-26    NOVA GORICA               63            Z   \n",
       "\n",
       "   Upravna_enota_sifra         Znamka Država_proizvodnje  Masa_vozila  \\\n",
       "0                    2            BMW                DEU        223.0   \n",
       "1                   36           FIAT                ITA       1270.0   \n",
       "2                   59          HONDA                JPN        242.0   \n",
       "3                   58     DEUTZ-FAHR                ITA       5200.0   \n",
       "4                   37  MERCEDES BENZ                DEU       1435.0   \n",
       "\n",
       "  Kategorija_vozila    Moc  Gorivo  Stevilo_sedezev  Hitrost_max  \\\n",
       "0      motorno kolo   80.0  Bencin                2        215.0   \n",
       "1  osebni avtomobil   70.0  Bencin                5        185.0   \n",
       "2      motorno kolo   37.0  Bencin                2        160.0   \n",
       "3           traktor   53.0   Dizel                1         40.0   \n",
       "4  osebni avtomobil  103.0   Dizel                5        200.0   \n",
       "\n",
       "  Poraba_goriva  Leto_izdelave  Upravna_enota  \n",
       "0           NaN           2007        BREŽICE  \n",
       "1           7,7           2019  MURSKA SOBOTA  \n",
       "2           NaN           2008        VELENJE  \n",
       "3           NaN           2019          TRŽIČ  \n",
       "4           5,3           2011    NOVA GORICA  "
      ]
     },
     "execution_count": 5,
     "metadata": {},
     "output_type": "execute_result"
    }
   ],
   "source": [
    "df.head()"
   ]
  },
  {
   "cell_type": "markdown",
   "metadata": {},
   "source": [
    "Prikažite glavne statistične lastnosti za numerične stolpce z uporabo ene metode.\n",
    "\n",
    "`1 pts`"
   ]
  },
  {
   "cell_type": "code",
   "execution_count": 139,
   "metadata": {},
   "outputs": [],
   "source": [
    "# Odgovor\n",
    "\n"
   ]
  },
  {
   "cell_type": "markdown",
   "metadata": {},
   "source": [
    "### 2.1) Analiza - Znamke vozil `6 pts`"
   ]
  },
  {
   "cell_type": "markdown",
   "metadata": {},
   "source": [
    "Analizirajte stolpec `Znamka`.\n",
    "\n",
    "Izpišite število registriranih števil po znamkah.\n",
    "\n",
    "`1 pts`"
   ]
  },
  {
   "cell_type": "code",
   "execution_count": 9,
   "metadata": {},
   "outputs": [],
   "source": [
    "# Odgovor\n",
    "\n"
   ]
  },
  {
   "cell_type": "markdown",
   "metadata": {},
   "source": [
    "Prvih 10 vrednosti (10 najbolj pogostih znamk in število registaciiji) zgornjega izračuna shranite v spremenljivko `znamke_top_10`.\n",
    "\n",
    "`2 pts`"
   ]
  },
  {
   "cell_type": "code",
   "execution_count": 11,
   "metadata": {},
   "outputs": [],
   "source": [
    "# Odgovor\n",
    "\n"
   ]
  },
  {
   "cell_type": "markdown",
   "metadata": {},
   "source": [
    "Izrišite graf števil registraciji v odvisnosti od znamk (za `znamke_top_10` Series). \n",
    "\n",
    "Uporabite funkcijo plot v knjižnjici pandas. Graf naj bo tipa `bar` z naslovom `Pogostost znamk vozil`\n",
    "\n",
    "`3 pts`"
   ]
  },
  {
   "cell_type": "code",
   "execution_count": null,
   "metadata": {},
   "outputs": [],
   "source": [
    "# Odgovor\n",
    "\n"
   ]
  },
  {
   "cell_type": "markdown",
   "metadata": {},
   "source": [
    "### 2.2) Analiza - Maksimalna hitrost vozila v primerjavi s spoloma `4 pts`"
   ]
  },
  {
   "cell_type": "markdown",
   "metadata": {},
   "source": [
    "Izdelejte nov dataframe z imenom `df_osebna_spol`, v katerem shranite samo vrstice, ki predstavljajo osebna vozila (stolpec `Kategorija_vozila` -> vrednost `osebni avtomobil`).\n",
    "\n",
    "`1 pts`"
   ]
  },
  {
   "cell_type": "code",
   "execution_count": 132,
   "metadata": {},
   "outputs": [],
   "source": [
    "# Odgovor\n",
    "\n"
   ]
  },
  {
   "cell_type": "markdown",
   "metadata": {},
   "source": [
    "V `df_osebna_spol` shranite samo stolpca `Spol_voznika` in `Hitrost_max`. z uporabo `loc metode`.\n",
    "\n",
    "`1 pts`"
   ]
  },
  {
   "cell_type": "code",
   "execution_count": 133,
   "metadata": {},
   "outputs": [],
   "source": [
    "# Odgovor\n",
    "\n"
   ]
  },
  {
   "cell_type": "markdown",
   "metadata": {},
   "source": [
    "Izračunajte povprečno maksimalno hitrost (stolpec `Hitrost_max`) za vsakega izmed spolov.\n",
    "\n",
    "`2 pts`"
   ]
  },
  {
   "cell_type": "code",
   "execution_count": 135,
   "metadata": {},
   "outputs": [],
   "source": [
    "# Odgovor\n",
    "\n"
   ]
  },
  {
   "cell_type": "markdown",
   "metadata": {},
   "source": [
    "### 2.3) Analiza - Primerjava moči vozil po regijah `6 pts`"
   ]
  },
  {
   "cell_type": "markdown",
   "metadata": {},
   "source": [
    "Izdelejte nov dataframe z imenom `df_osebna_2000_naprej`, v katerem shranite samo vrstice, ki predstavljajo osebna vozila (stolpec `Kategorija_vozila` -> vrednost `osebni avtomobil`), ki so bila izdelana po letu 2000 (vključno z letom 2000, stolpec `Leto_izdelave` >= 2000).\n",
    "\n",
    "`2 pts`"
   ]
  },
  {
   "cell_type": "code",
   "execution_count": 114,
   "metadata": {},
   "outputs": [],
   "source": [
    "# Odgovor\n",
    "\n",
    "\n"
   ]
  },
  {
   "cell_type": "markdown",
   "metadata": {},
   "source": [
    "Dobljen dataframe grupirajte po stolpcu `Tablica_kraj` in izračunjte povprečno vrednost za stolpec `Moc`. Dobljen Series poimenujte `moc_povprecna`.\n",
    "\n",
    "`2 pts`"
   ]
  },
  {
   "cell_type": "code",
   "execution_count": 120,
   "metadata": {},
   "outputs": [],
   "source": [
    "# Odgovor\n",
    "\n",
    "\n"
   ]
  },
  {
   "cell_type": "markdown",
   "metadata": {},
   "source": [
    "V grafu prikažite `moc_povprecna` za vsako regijo. Uporabite graf tipa `bar`.\n",
    "\n",
    "`2 pts`"
   ]
  },
  {
   "cell_type": "code",
   "execution_count": 123,
   "metadata": {},
   "outputs": [],
   "source": [
    "# Odgovor\n",
    "\n",
    "\n"
   ]
  },
  {
   "cell_type": "markdown",
   "metadata": {},
   "source": [
    "### 2.4) Analiza - Primerjava dizel/bencin za osebna vozila po letu izdelave `17 pts`"
   ]
  },
  {
   "cell_type": "markdown",
   "metadata": {},
   "source": [
    "Izdelejte nov dataframe z imenom `df_osebna_2009_naprej`, v katerem shranite samo vrstice, ki predstavljajo osebna vozila (stolpec `Kategorija_vozila` -> vrednost `osebni avtomobil`), ki so bila izdelana po letu 2009 (vključno z letom 2009, stolpec `Leto_izdelave` >= 2009).\n",
    "\n",
    "`2 pts`"
   ]
  },
  {
   "cell_type": "code",
   "execution_count": 15,
   "metadata": {},
   "outputs": [],
   "source": [
    "# Odgovor\n",
    "\n"
   ]
  },
  {
   "cell_type": "markdown",
   "metadata": {},
   "source": [
    "Iz stolpca `Gorivo` izberite samo vnose, ki imajo vrednost `Bencin` ali `Dizel` in jih shranite v `df_osebna_2009_naprej`.\n",
    "\n",
    "Namig: metoda `pandas.DataFrame.isin`\n",
    "\n",
    "`2 pts`"
   ]
  },
  {
   "cell_type": "code",
   "execution_count": 52,
   "metadata": {},
   "outputs": [],
   "source": [
    "# Odgovor\n",
    "\n"
   ]
  },
  {
   "cell_type": "markdown",
   "metadata": {},
   "source": [
    "Podatke grupirajte glede na `Leto_izdelave` in `Gorivo`.  Pridobite število vrednosti za posamezno kategorijo in podatke preoblikujte nazaj v tabelo (npr. s pomočjo metode `unstack()`).\n",
    "\n",
    "Dobljen dataframe shranite v spremenljivko `count_gorivo`.\n",
    "\n",
    "Želen rezultat:\n",
    "\n",
    "<img width=200 src=\"./data/table_1.PNG\">\n",
    "\n",
    "`3 pts`"
   ]
  },
  {
   "cell_type": "code",
   "execution_count": null,
   "metadata": {},
   "outputs": [],
   "source": [
    "# Odgovor\n",
    "\n"
   ]
  },
  {
   "cell_type": "markdown",
   "metadata": {},
   "source": [
    "Preoblikujte dobljene podatke (`count_gorivo`) v obliko primerno za izrisovanje grafa tipa bar. "
   ]
  },
  {
   "cell_type": "markdown",
   "metadata": {},
   "source": [
    "Prvi korak: Preoblikujte podatke s pomočjo stack metode.\n",
    "\n",
    "`1 pts`"
   ]
  },
  {
   "cell_type": "code",
   "execution_count": 86,
   "metadata": {},
   "outputs": [],
   "source": [
    "# Odgovor\n"
   ]
  },
  {
   "cell_type": "markdown",
   "metadata": {},
   "source": [
    "Drugi korak: Dobljenemu Series objektu dodelite ime `total` s pomočjo name metode.\n",
    "\n",
    "`1 pts`"
   ]
  },
  {
   "cell_type": "code",
   "execution_count": 88,
   "metadata": {},
   "outputs": [],
   "source": [
    "# Odgovor\n"
   ]
  },
  {
   "cell_type": "markdown",
   "metadata": {},
   "source": [
    "Tretji korak: Restirajte indexe dobljenemu objektu.\n",
    "    \n",
    "`1 pts`"
   ]
  },
  {
   "cell_type": "code",
   "execution_count": 90,
   "metadata": {},
   "outputs": [],
   "source": [
    "# Odgovor\n"
   ]
  },
  {
   "cell_type": "markdown",
   "metadata": {},
   "source": [
    "Pred izrisom podatkov, moramo podatke normalizirati. Možen postopek:\n",
    "- napišete lastno funkcijo, ki normalizira posamezno skupino podatkov\n",
    "- `count_gorivo` razvrstite glede na leto izdelave in nad vsako vrstico zaženete normalizacijsko funkcijo\n",
    "\n",
    "`4 pts`"
   ]
  },
  {
   "cell_type": "code",
   "execution_count": 111,
   "metadata": {},
   "outputs": [],
   "source": [
    "# Odgovor\n",
    "\n",
    "\n",
    "\n",
    "\n",
    "\n",
    "\n",
    "\n",
    "\n"
   ]
  },
  {
   "cell_type": "markdown",
   "metadata": {},
   "source": [
    "Namig (možne so tudi druge rešitve):\n",
    "\n",
    "> S pomočjo funkcije `sns.barplot` izrišite graf za urejene podatke.\n",
    "- na osi x prikažite `Leto_izdelave`\n",
    "- na osi y prikažite `normed_total`\n",
    "- `hue` vrednost naj predstavlja `Gorivo`\n",
    "\n",
    "Želen graf:\n",
    "\n",
    "<img width=300 src=\"./data/slika6.PNG\">\n",
    "\n",
    "`3 pts`"
   ]
  },
  {
   "cell_type": "code",
   "execution_count": null,
   "metadata": {},
   "outputs": [],
   "source": [
    "# Odgovor\n",
    "\n",
    "\n",
    "\n"
   ]
  },
  {
   "cell_type": "markdown",
   "metadata": {},
   "source": [
    "### 2.5) Analiza - Korelacija moč/maksimalna hitrost `6 pts`"
   ]
  },
  {
   "cell_type": "markdown",
   "metadata": {},
   "source": [
    "Izračunajte koorelacijsko matriko za numerične vrednsoti v naših podatkih.\n",
    "\n",
    "`1 pts`"
   ]
  },
  {
   "cell_type": "code",
   "execution_count": 142,
   "metadata": {},
   "outputs": [],
   "source": [
    "# Odgovor\n",
    "\n"
   ]
  },
  {
   "cell_type": "markdown",
   "metadata": {},
   "source": [
    "Katere dve spremenljivki sta najbolj povezani?\n",
    "\n",
    "`1 pts`"
   ]
  },
  {
   "cell_type": "code",
   "execution_count": null,
   "metadata": {},
   "outputs": [],
   "source": [
    "# Odgovor - ni potreben izračun\n"
   ]
  },
  {
   "cell_type": "markdown",
   "metadata": {},
   "source": [
    "S pomočjo `sns.lmplot` funkcije izrišite graf, ki prikazuje linearno regresijo med `Hitrost_max` in `Moc`.\n",
    "\n",
    "`2 pts`"
   ]
  },
  {
   "cell_type": "code",
   "execution_count": null,
   "metadata": {},
   "outputs": [],
   "source": [
    "# Odgovor\n",
    "\n"
   ]
  },
  {
   "cell_type": "markdown",
   "metadata": {},
   "source": [
    "Izpišite vrstico, kjer je vrednost `Moc` maksimalna.\n",
    "\n",
    "`2 pts`"
   ]
  },
  {
   "cell_type": "code",
   "execution_count": 153,
   "metadata": {},
   "outputs": [],
   "source": [
    "# Odgovor\n",
    "\n"
   ]
  },
  {
   "cell_type": "markdown",
   "metadata": {},
   "source": [
    "## Oddaja\n",
    "\n",
    "Rešeni notebook pošljite na naslednja e-mail naslova:\n",
    "- leon.stefanic@ltfe.org \n",
    "- gregor.balkovec@ltfe.org\n",
    "\n",
    "**POMEMBNO!** Pred pošiljanjem notebook preimenujte na naslednji način:\n",
    "\n",
    "`IZPIT_PRAKSA_IME_PRIMEK`"
   ]
  }
 ],
 "metadata": {
  "kernelspec": {
   "display_name": "Python 3",
   "language": "python",
   "name": "python3"
  },
  "language_info": {
   "codemirror_mode": {
    "name": "ipython",
    "version": 3
   },
   "file_extension": ".py",
   "mimetype": "text/x-python",
   "name": "python",
   "nbconvert_exporter": "python",
   "pygments_lexer": "ipython3",
   "version": "3.7.3"
  }
 },
 "nbformat": 4,
 "nbformat_minor": 2
}
