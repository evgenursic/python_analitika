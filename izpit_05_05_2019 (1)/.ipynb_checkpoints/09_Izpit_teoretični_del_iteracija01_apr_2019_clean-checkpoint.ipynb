{
 "cells": [
  {
   "cell_type": "markdown",
   "metadata": {},
   "source": [
    "# Teoretični izpit tečaja Analitika podatkov v Python-u"
   ]
  },
  {
   "cell_type": "markdown",
   "metadata": {},
   "source": [
    "Čas reševanja: `90 min`"
   ]
  },
  {
   "cell_type": "markdown",
   "metadata": {},
   "source": [
    "Skupno število točk: `30 pts`"
   ]
  },
  {
   "cell_type": "markdown",
   "metadata": {},
   "source": [
    "Odgovore na vprašanja vnesite v celice s komentarjem `# Odgovor`\n",
    "\n",
    "Za vsa vprašanja smo na voljo.\n",
    "\n",
    "Lahko si pomagate z uporabo gradiv in internetom. Ne pozabite na uradno dokumentacijo.\n",
    "\n",
    "Srečno!!"
   ]
  },
  {
   "cell_type": "markdown",
   "metadata": {},
   "source": [
    "**Pred začetkom izpita zaženite spodnjo celico:**"
   ]
  },
  {
   "cell_type": "code",
   "execution_count": 1,
   "metadata": {},
   "outputs": [],
   "source": [
    "import pandas as pd\n",
    "import numpy as np\n",
    "\n",
    "%matplotlib inline\n",
    "import matplotlib.pyplot as plt\n",
    "\n",
    "import requests\n",
    "from bs4 import BeautifulSoup"
   ]
  },
  {
   "cell_type": "markdown",
   "metadata": {},
   "source": [
    "### 1.del - Numpy"
   ]
  },
  {
   "cell_type": "markdown",
   "metadata": {},
   "source": [
    "`Možne točke: 5 pts`"
   ]
  },
  {
   "cell_type": "markdown",
   "metadata": {},
   "source": [
    "##### 1.1) Ustvarite Numpy array `1 pts`\n",
    "\n",
    "Ustavrite Numpy array z vrednostmi od 1 do vključno 50."
   ]
  },
  {
   "cell_type": "code",
   "execution_count": 3,
   "metadata": {},
   "outputs": [
    {
     "data": {
      "text/plain": [
       "array([ 1,  2,  3,  4,  5,  6,  7,  8,  9, 10, 11, 12, 13, 14, 15, 16, 17,\n",
       "       18, 19, 20, 21, 22, 23, 24, 25, 26, 27, 28, 29, 30, 31, 32, 33, 34,\n",
       "       35, 36, 37, 38, 39, 40, 41, 42, 43, 44, 45, 46, 47, 48, 49, 50])"
      ]
     },
     "execution_count": 3,
     "metadata": {},
     "output_type": "execute_result"
    }
   ],
   "source": [
    "# Odgovor\n",
    "\n",
    "np.arange(1,51)"
   ]
  },
  {
   "cell_type": "markdown",
   "metadata": {},
   "source": [
    "Želena rešitev:\n",
    "    \n",
    "```\n",
    "array([ 1,  2,  3,  4,  5,  6,  7,  8,  9, 10, 11, 12, 13, 14, 15, 16, 17,\n",
    "       18, 19, 20, 21, 22, 23, 24, 25, 26, 27, 28, 29, 30, 31, 32, 33, 34,\n",
    "       35, 36, 37, 38, 39, 40, 41, 42, 43, 44, 45, 46, 47, 48, 49, 50])\n",
    "```"
   ]
  },
  {
   "cell_type": "markdown",
   "metadata": {},
   "source": [
    "##### 1.2) Negirajte vse elemente Numpy array-a, ki so med med 3 in vključno 8. `1 pts`"
   ]
  },
  {
   "cell_type": "code",
   "execution_count": 40,
   "metadata": {},
   "outputs": [
    {
     "data": {
      "text/plain": [
       "array([ 0,  1,  2,  3,  4,  5,  6,  7,  8,  9, 10])"
      ]
     },
     "execution_count": 40,
     "metadata": {},
     "output_type": "execute_result"
    }
   ],
   "source": [
    "Z = np.arange(11)\n",
    "Z"
   ]
  },
  {
   "cell_type": "code",
   "execution_count": 61,
   "metadata": {},
   "outputs": [
    {
     "data": {
      "text/plain": [
       "array([ 0,  1,  2,  3, -4, -5, -6, -7, -8,  9, 10])"
      ]
     },
     "execution_count": 61,
     "metadata": {},
     "output_type": "execute_result"
    }
   ],
   "source": [
    "# Odgovor\n",
    "\n",
    "Z[(3 < Z) & (Z <= 8)] *= -1\n",
    "Z"
   ]
  },
  {
   "cell_type": "markdown",
   "metadata": {},
   "source": [
    "Želena rešitev:\n",
    "```\n",
    "array([ 0,  1,  2,  3, -4, -5, -6, -7, -8,  9, 10])\n",
    "```"
   ]
  },
  {
   "cell_type": "markdown",
   "metadata": {},
   "source": [
    "##### 1.3) Ustvarite in sortirajte naključni array. `2 pts`\n",
    "\n"
   ]
  },
  {
   "cell_type": "markdown",
   "metadata": {},
   "source": [
    "Ustvarite Numpy array 10 naključnih števil in ga sortirajte od najmanjšega do največjega števila."
   ]
  },
  {
   "cell_type": "code",
   "execution_count": 98,
   "metadata": {},
   "outputs": [
    {
     "name": "stdout",
     "output_type": "stream",
     "text": [
      "[0.02592623 0.20464863 0.26682728 0.29965467 0.33033482 0.4203678\n",
      " 0.43532239 0.4359949  0.54966248 0.61927097]\n"
     ]
    }
   ],
   "source": [
    "np.random.seed(2)\n",
    "\n",
    "# Odgovor\n",
    "Z = np.random.random(10)\n",
    "Z.sort()\n",
    "print(Z)"
   ]
  },
  {
   "cell_type": "markdown",
   "metadata": {},
   "source": [
    "Želena rešitev:\n",
    "    \n",
    "```\n",
    "array([0.02592623, 0.20464863, 0.26682728, 0.29965467, 0.33033482,\n",
    "       0.4203678 , 0.43532239, 0.4359949 , 0.54966248, 0.61927097])\n",
    "```"
   ]
  },
  {
   "cell_type": "markdown",
   "metadata": {},
   "source": [
    "##### 1.4) Pretvorite 32-bitni float Numpy array v 64-bitni integer Numpy array. `1 pts`"
   ]
  },
  {
   "cell_type": "code",
   "execution_count": 99,
   "metadata": {},
   "outputs": [
    {
     "data": {
      "text/plain": [
       "dtype('float32')"
      ]
     },
     "execution_count": 99,
     "metadata": {},
     "output_type": "execute_result"
    }
   ],
   "source": [
    "Z = np.arange(10, dtype=np.float32)\n",
    "Z.dtype"
   ]
  },
  {
   "cell_type": "code",
   "execution_count": 102,
   "metadata": {},
   "outputs": [
    {
     "data": {
      "text/plain": [
       "dtype('int64')"
      ]
     },
     "execution_count": 102,
     "metadata": {},
     "output_type": "execute_result"
    }
   ],
   "source": [
    "# Odgovor\n",
    "Z = np.arange(10, dtype=np.int64)\n",
    "Z.dtype\n"
   ]
  },
  {
   "cell_type": "markdown",
   "metadata": {},
   "source": [
    "Za pravilni odgovor mora spodnja celica vrniti naslednje:\n",
    "```\n",
    "dtype('int64')\n",
    "```"
   ]
  },
  {
   "cell_type": "markdown",
   "metadata": {},
   "source": [
    "### 2. del - pandas 1/3"
   ]
  },
  {
   "cell_type": "markdown",
   "metadata": {},
   "source": [
    "`Možne točke: 5 pts`"
   ]
  },
  {
   "cell_type": "markdown",
   "metadata": {},
   "source": [
    "##### 2.1) Kako naredimo pandas Series iz sledečih podatkovnih tipov? `1 pts`\n",
    "\n",
    "Izdelajte pandas Series iz vsakega spodnjega podatkovnega tipa: list, numpy array, dictionary."
   ]
  },
  {
   "cell_type": "code",
   "execution_count": 103,
   "metadata": {},
   "outputs": [],
   "source": [
    "mylist = list('abcedfghijklmnopqrstuvwxyz')\n",
    "myarr = np.arange(26)\n",
    "mydict = dict(zip(mylist, myarr))"
   ]
  },
  {
   "cell_type": "code",
   "execution_count": 108,
   "metadata": {},
   "outputs": [],
   "source": [
    "# Odgovor 1 - mylist\n",
    "ser1 = pd.Series(mydict)\n",
    "\n",
    "# Odgovor 2 - myarr\n",
    "ser2 = pd.Series(myarr)\n",
    "\n",
    "# Odgovor 3 - mydict\n",
    "ser3 = pd.Series(mydict)"
   ]
  },
  {
   "cell_type": "markdown",
   "metadata": {},
   "source": [
    "Za pravilni odgovor mora spodnja celica vrniti `pandas.core.series.Series` za vsako spremenljivko."
   ]
  },
  {
   "cell_type": "code",
   "execution_count": 107,
   "metadata": {},
   "outputs": [
    {
     "name": "stdout",
     "output_type": "stream",
     "text": [
      "<class 'pandas.core.series.Series'>\n",
      "<class 'pandas.core.series.Series'>\n",
      "<class 'pandas.core.series.Series'>\n"
     ]
    }
   ],
   "source": [
    "print(type(ser1))\n",
    "print(type(ser2))\n",
    "print(type(ser3))"
   ]
  },
  {
   "cell_type": "markdown",
   "metadata": {},
   "source": [
    "##### 2.2) Kako združimo dve pandas Series v pandas Dataframe  `1 pts`\n",
    "\n",
    "Združi series1 in series2 v dataframe."
   ]
  },
  {
   "cell_type": "code",
   "execution_count": 119,
   "metadata": {},
   "outputs": [],
   "source": [
    "series1 = pd.Series(list('abcedfghijklmnopqrstuvwxyz'))\n",
    "series2= pd.Series(np.arange(26))"
   ]
  },
  {
   "cell_type": "code",
   "execution_count": 120,
   "metadata": {},
   "outputs": [
    {
     "name": "stdout",
     "output_type": "stream",
     "text": [
      "  col1  col2\n",
      "0    a     0\n",
      "1    b     1\n",
      "2    c     2\n",
      "3    e     3\n",
      "4    d     4\n"
     ]
    }
   ],
   "source": [
    "# Odgovor\n",
    "df = pd.DataFrame({'col1': series1, 'col2': series2})\n",
    "print(df.head())"
   ]
  },
  {
   "cell_type": "markdown",
   "metadata": {},
   "source": [
    "Za pravilni odgovor mora spodnja celica vrniti dataframe naslednje oblike:\n",
    "\n",
    "```\n",
    "  col1  col2\n",
    "0    a     0\n",
    "1    b     1\n",
    "2    c     2\n",
    "3    e     3\n",
    "4    d     4\n",
    "```"
   ]
  },
  {
   "cell_type": "markdown",
   "metadata": {},
   "source": [
    "##### 2.3) Kako izračunamo število zankov vsake besede v  pandas Series?  `2 pts`\n",
    "\n",
    "Izračunajte število znakov v vsaki besedi v `ser_beseda`. Naredite nov pandas dataframe, ki vsebuje dva stolpca: besede (ser_beseda) in stevilo_znakov (izračunano stevilo znakov)."
   ]
  },
  {
   "cell_type": "code",
   "execution_count": 121,
   "metadata": {},
   "outputs": [],
   "source": [
    "ser_beseda = pd.Series(['veliko', 'zannje', 'kako', 'ne', 'pandasinnumpy'])"
   ]
  },
  {
   "cell_type": "code",
   "execution_count": 131,
   "metadata": {},
   "outputs": [
    {
     "name": "stdout",
     "output_type": "stream",
     "text": [
      "          besede  stevilo_znakov\n",
      "0         veliko               6\n",
      "1         zannje               6\n",
      "2           kako               4\n",
      "3             ne               2\n",
      "4  pandasinnumpy              13\n"
     ]
    }
   ],
   "source": [
    "# Odgovor\n",
    "\n",
    "\n",
    "df_stevilo = pd.DataFrame({'besede':ser_beseda, 'stevilo_znakov':ser_beseda.map(lambda x: len(x))})\n",
    "print(df_stevilo)"
   ]
  },
  {
   "cell_type": "markdown",
   "metadata": {},
   "source": [
    "Za pravilni odgovor mora spodnja celica vrniti dataframe naslednje oblike:\n",
    "    \n",
    "```\n",
    "          besede  stevilo_znakov\n",
    "0         veliko               6\n",
    "1         zannje               6\n",
    "2           kako               4\n",
    "3             ne               2\n",
    "4  pandasinnumpy              13\n",
    "```"
   ]
  },
  {
   "cell_type": "markdown",
   "metadata": {},
   "source": [
    "##### 2.4) Kako pretvorimo pandas series s stringi datumov v pandas timeseries?  `1 pts`\n",
    "\n",
    "Dani pandas series `ser_times` pretvorite v pandas timeseries tipa datetime64[ns]."
   ]
  },
  {
   "cell_type": "code",
   "execution_count": 132,
   "metadata": {},
   "outputs": [],
   "source": [
    "ser_times = pd.Series(['01 Jan 2010', '02-02-2011', '20120303', '2013/04/04', '2014-05-05', '2015-06-06T12:20'])"
   ]
  },
  {
   "cell_type": "code",
   "execution_count": 135,
   "metadata": {},
   "outputs": [
    {
     "name": "stdout",
     "output_type": "stream",
     "text": [
      "0   2010-01-01 00:00:00\n",
      "1   2011-02-02 00:00:00\n",
      "2   2012-03-03 00:00:00\n",
      "3   2013-04-04 00:00:00\n",
      "4   2014-05-05 00:00:00\n",
      "5   2015-06-06 12:20:00\n",
      "dtype: datetime64[ns]\n"
     ]
    }
   ],
   "source": [
    "# Odgovor\n",
    "\n",
    "set_datatime = pd.to_datetime(ser_times)\n",
    "print(set_datatime)"
   ]
  },
  {
   "cell_type": "markdown",
   "metadata": {},
   "source": [
    "Za pravilni odgovor mora spodnja celica vrniti series naslednje oblike:\n",
    "\n",
    "```\n",
    "0   2010-01-01 00:00:00\n",
    "1   2011-02-02 00:00:00\n",
    "2   2012-03-03 00:00:00\n",
    "3   2013-04-04 00:00:00\n",
    "4   2014-05-05 00:00:00\n",
    "5   2015-06-06 12:20:00\n",
    "dtype: datetime64[ns]\n",
    "```"
   ]
  },
  {
   "cell_type": "markdown",
   "metadata": {},
   "source": [
    "### 3. del - pandas 2/3"
   ]
  },
  {
   "cell_type": "markdown",
   "metadata": {},
   "source": [
    "`Možne točke: 5 pts`"
   ]
  },
  {
   "cell_type": "markdown",
   "metadata": {},
   "source": [
    "##### 3.1) Kako izpišemo zadnje 3 vrstice pandas dataframe-a, kjer je vsota vrstic večja od 100?  `2 pts`\n",
    "\n",
    "Izpišite zadnje 3 vrstice dataframe-a katerega vsota vrstic je večja od 100."
   ]
  },
  {
   "cell_type": "code",
   "execution_count": 142,
   "metadata": {},
   "outputs": [
    {
     "name": "stdout",
     "output_type": "stream",
     "text": [
      "     0   1   2   3\n",
      "0   15  21  22  18\n",
      "1   19  21  15  25\n",
      "2   10  26  11  22\n",
      "3   17  23  38  16\n",
      "4   35  28  30  15\n",
      "5   28  30  21  38\n",
      "6   20  38  39  24\n",
      "7   28  14  33  33\n",
      "8   19  27  33  10\n",
      "9   32  23  19  19\n",
      "10  17  39  32  35\n",
      "11  11  10  38  27\n",
      "12  18  34  23  29\n",
      "13  25  20  35  18\n",
      "14  17  13  16  31\n"
     ]
    }
   ],
   "source": [
    "np.random.seed(1)\n",
    "df = pd.DataFrame(np.random.randint(10, 40, 60).reshape(-1, 4))\n",
    "print(df)"
   ]
  },
  {
   "cell_type": "code",
   "execution_count": 150,
   "metadata": {},
   "outputs": [],
   "source": [
    "# Odgovor\n",
    "rowsums = df.apply(np.sum, axis=1)\n",
    "df_last_3 = df.iloc[np.where(rowsums > 100)[0][-3:], :]"
   ]
  },
  {
   "cell_type": "markdown",
   "metadata": {},
   "source": [
    "Za pravilni odgovor mora spodnja celica vrniti dataframe naslednje oblike:\n",
    "```\n",
    "     0   1   2   3\n",
    "7   28  14  33  33\n",
    "10  17  39  32  35\n",
    "12  18  34  23  29\n",
    "```"
   ]
  },
  {
   "cell_type": "code",
   "execution_count": 149,
   "metadata": {},
   "outputs": [
    {
     "name": "stdout",
     "output_type": "stream",
     "text": [
      "     0   1   2   3\n",
      "7   28  14  33  33\n",
      "10  17  39  32  35\n",
      "12  18  34  23  29\n"
     ]
    }
   ],
   "source": [
    "print(df_last_3)"
   ]
  },
  {
   "cell_type": "markdown",
   "metadata": {},
   "source": [
    "##### 3.2) Kako dodamo dva stolpca pandas dataframe-u, ki vsebujeta max in min vrednost vsake vrstice? `2 pts`"
   ]
  },
  {
   "cell_type": "markdown",
   "metadata": {},
   "source": [
    "Danemu pandas dataframe-u dodajte dva stolpca, ki vsebujeta max in min vrednost vsake vrstice."
   ]
  },
  {
   "cell_type": "code",
   "execution_count": 179,
   "metadata": {},
   "outputs": [],
   "source": [
    "np.random.seed(2)\n",
    "df = pd.DataFrame(np.random.randint(1,100, 80).reshape(8, -1))"
   ]
  },
  {
   "cell_type": "code",
   "execution_count": 159,
   "metadata": {},
   "outputs": [
    {
     "data": {
      "text/html": [
       "<div>\n",
       "<style scoped>\n",
       "    .dataframe tbody tr th:only-of-type {\n",
       "        vertical-align: middle;\n",
       "    }\n",
       "\n",
       "    .dataframe tbody tr th {\n",
       "        vertical-align: top;\n",
       "    }\n",
       "\n",
       "    .dataframe thead th {\n",
       "        text-align: right;\n",
       "    }\n",
       "</style>\n",
       "<table border=\"1\" class=\"dataframe\">\n",
       "  <thead>\n",
       "    <tr style=\"text-align: right;\">\n",
       "      <th></th>\n",
       "      <th>0</th>\n",
       "      <th>1</th>\n",
       "      <th>2</th>\n",
       "      <th>3</th>\n",
       "      <th>4</th>\n",
       "      <th>5</th>\n",
       "      <th>6</th>\n",
       "      <th>7</th>\n",
       "      <th>8</th>\n",
       "      <th>9</th>\n",
       "    </tr>\n",
       "  </thead>\n",
       "  <tbody>\n",
       "    <tr>\n",
       "      <th>0</th>\n",
       "      <td>41</td>\n",
       "      <td>16</td>\n",
       "      <td>73</td>\n",
       "      <td>23</td>\n",
       "      <td>44</td>\n",
       "      <td>83</td>\n",
       "      <td>76</td>\n",
       "      <td>8</td>\n",
       "      <td>35</td>\n",
       "      <td>50</td>\n",
       "    </tr>\n",
       "    <tr>\n",
       "      <th>1</th>\n",
       "      <td>96</td>\n",
       "      <td>76</td>\n",
       "      <td>86</td>\n",
       "      <td>48</td>\n",
       "      <td>64</td>\n",
       "      <td>32</td>\n",
       "      <td>91</td>\n",
       "      <td>21</td>\n",
       "      <td>38</td>\n",
       "      <td>40</td>\n",
       "    </tr>\n",
       "    <tr>\n",
       "      <th>2</th>\n",
       "      <td>68</td>\n",
       "      <td>5</td>\n",
       "      <td>43</td>\n",
       "      <td>52</td>\n",
       "      <td>39</td>\n",
       "      <td>34</td>\n",
       "      <td>59</td>\n",
       "      <td>68</td>\n",
       "      <td>70</td>\n",
       "      <td>89</td>\n",
       "    </tr>\n",
       "    <tr>\n",
       "      <th>3</th>\n",
       "      <td>69</td>\n",
       "      <td>47</td>\n",
       "      <td>71</td>\n",
       "      <td>96</td>\n",
       "      <td>84</td>\n",
       "      <td>32</td>\n",
       "      <td>67</td>\n",
       "      <td>81</td>\n",
       "      <td>53</td>\n",
       "      <td>77</td>\n",
       "    </tr>\n",
       "    <tr>\n",
       "      <th>4</th>\n",
       "      <td>51</td>\n",
       "      <td>5</td>\n",
       "      <td>91</td>\n",
       "      <td>64</td>\n",
       "      <td>80</td>\n",
       "      <td>50</td>\n",
       "      <td>40</td>\n",
       "      <td>47</td>\n",
       "      <td>9</td>\n",
       "      <td>51</td>\n",
       "    </tr>\n",
       "    <tr>\n",
       "      <th>5</th>\n",
       "      <td>16</td>\n",
       "      <td>9</td>\n",
       "      <td>18</td>\n",
       "      <td>23</td>\n",
       "      <td>74</td>\n",
       "      <td>58</td>\n",
       "      <td>91</td>\n",
       "      <td>63</td>\n",
       "      <td>84</td>\n",
       "      <td>97</td>\n",
       "    </tr>\n",
       "    <tr>\n",
       "      <th>6</th>\n",
       "      <td>44</td>\n",
       "      <td>33</td>\n",
       "      <td>27</td>\n",
       "      <td>9</td>\n",
       "      <td>77</td>\n",
       "      <td>11</td>\n",
       "      <td>41</td>\n",
       "      <td>35</td>\n",
       "      <td>61</td>\n",
       "      <td>10</td>\n",
       "    </tr>\n",
       "    <tr>\n",
       "      <th>7</th>\n",
       "      <td>71</td>\n",
       "      <td>87</td>\n",
       "      <td>71</td>\n",
       "      <td>20</td>\n",
       "      <td>57</td>\n",
       "      <td>83</td>\n",
       "      <td>2</td>\n",
       "      <td>69</td>\n",
       "      <td>41</td>\n",
       "      <td>82</td>\n",
       "    </tr>\n",
       "  </tbody>\n",
       "</table>\n",
       "</div>"
      ],
      "text/plain": [
       "    0   1   2   3   4   5   6   7   8   9\n",
       "0  41  16  73  23  44  83  76   8  35  50\n",
       "1  96  76  86  48  64  32  91  21  38  40\n",
       "2  68   5  43  52  39  34  59  68  70  89\n",
       "3  69  47  71  96  84  32  67  81  53  77\n",
       "4  51   5  91  64  80  50  40  47   9  51\n",
       "5  16   9  18  23  74  58  91  63  84  97\n",
       "6  44  33  27   9  77  11  41  35  61  10\n",
       "7  71  87  71  20  57  83   2  69  41  82"
      ]
     },
     "execution_count": 159,
     "metadata": {},
     "output_type": "execute_result"
    }
   ],
   "source": [
    "df"
   ]
  },
  {
   "cell_type": "code",
   "execution_count": 188,
   "metadata": {},
   "outputs": [],
   "source": [
    "# Odgovor\n",
    "\n",
    "min_df = np.min(df, axis=1)\n",
    "max_df = np.max(df, axis=1)\n",
    "\n",
    "df = df.assign(min = (min_df),  max = (max_df))"
   ]
  },
  {
   "cell_type": "markdown",
   "metadata": {},
   "source": [
    "Za pravilni odgovor mora spodnja celica vrniti dataframe naslednje oblike:\n",
    "```\n",
    "    0   1   2   3   4   5   6   7   8   9  min  max\n",
    "0  41  16  73  23  44  83  76   8  35  50    8   83\n",
    "1  96  76  86  48  64  32  91  21  38  40   21   96\n",
    "2  68   5  43  52  39  34  59  68  70  89    5   89\n",
    "3  69  47  71  96  84  32  67  81  53  77   32   96\n",
    "4  51   5  91  64  80  50  40  47   9  51    5   91\n",
    "5  16   9  18  23  74  58  91  63  84  97    9   97\n",
    "6  44  33  27   9  77  11  41  35  61  10    9   77\n",
    "7  71  87  71  20  57  83   2  69  41  82    2   87\n",
    "```"
   ]
  },
  {
   "cell_type": "code",
   "execution_count": 189,
   "metadata": {},
   "outputs": [
    {
     "name": "stdout",
     "output_type": "stream",
     "text": [
      "    0   1   2   3   4   5   6   7   8   9  min  max\n",
      "0  41  16  73  23  44  83  76   8  35  50    8   83\n",
      "1  96  76  86  48  64  32  91  21  38  40   21   96\n",
      "2  68   5  43  52  39  34  59  68  70  89    5   89\n",
      "3  69  47  71  96  84  32  67  81  53  77   32   96\n",
      "4  51   5  91  64  80  50  40  47   9  51    5   91\n",
      "5  16   9  18  23  74  58  91  63  84  97    9   97\n",
      "6  44  33  27   9  77  11  41  35  61  10    9   77\n",
      "7  71  87  71  20  57  83   2  69  41  82    2   87\n"
     ]
    }
   ],
   "source": [
    "print(df)"
   ]
  },
  {
   "cell_type": "markdown",
   "metadata": {},
   "source": [
    "##### 3.3)  Izbira vrstic in stolpcev `1 pts`"
   ]
  },
  {
   "cell_type": "markdown",
   "metadata": {},
   "source": [
    "Iz spodnjih podatkov sestavite dataframe z imenom `exam_df`. List `labels` naj bodo index-i dataframe-a.\n",
    "\n",
    "Iz sestavljenega dataframe-a izberite stolpca `'name' in 'score'` ter vrstice `c, d in e`."
   ]
  },
  {
   "cell_type": "markdown",
   "metadata": {},
   "source": [
    "Podatki:"
   ]
  },
  {
   "cell_type": "code",
   "execution_count": 4,
   "metadata": {},
   "outputs": [],
   "source": [
    "exam_data  = {'name': ['Anastasia', 'Dima', 'Katherine', 'James', 'Emily', 'Michael', 'Matthew', 'Laura', 'Kevin', 'Jonas'],\n",
    "        'score': [12.5, 9, 16.5, np.nan, 9, 20, 14.5, np.nan, 8, 19],\n",
    "        'attempts': [1, 3, 2, 3, 2, 3, 1, 1, 2, 1],\n",
    "        'qualify': ['yes', 'no', 'yes', 'no', 'no', 'yes', 'yes', 'no', 'no', 'yes']}\n",
    "\n",
    "labels = ['a', 'b', 'c', 'd', 'e', 'f', 'g', 'h', 'i', 'j']"
   ]
  },
  {
   "cell_type": "code",
   "execution_count": 6,
   "metadata": {},
   "outputs": [
    {
     "data": {
      "text/html": [
       "<div>\n",
       "<style scoped>\n",
       "    .dataframe tbody tr th:only-of-type {\n",
       "        vertical-align: middle;\n",
       "    }\n",
       "\n",
       "    .dataframe tbody tr th {\n",
       "        vertical-align: top;\n",
       "    }\n",
       "\n",
       "    .dataframe thead th {\n",
       "        text-align: right;\n",
       "    }\n",
       "</style>\n",
       "<table border=\"1\" class=\"dataframe\">\n",
       "  <thead>\n",
       "    <tr style=\"text-align: right;\">\n",
       "      <th></th>\n",
       "      <th>name</th>\n",
       "      <th>score</th>\n",
       "      <th>attempts</th>\n",
       "      <th>qualify</th>\n",
       "    </tr>\n",
       "  </thead>\n",
       "  <tbody>\n",
       "    <tr>\n",
       "      <th>a</th>\n",
       "      <td>Anastasia</td>\n",
       "      <td>12.5</td>\n",
       "      <td>1</td>\n",
       "      <td>yes</td>\n",
       "    </tr>\n",
       "    <tr>\n",
       "      <th>b</th>\n",
       "      <td>Dima</td>\n",
       "      <td>9.0</td>\n",
       "      <td>3</td>\n",
       "      <td>no</td>\n",
       "    </tr>\n",
       "    <tr>\n",
       "      <th>c</th>\n",
       "      <td>Katherine</td>\n",
       "      <td>16.5</td>\n",
       "      <td>2</td>\n",
       "      <td>yes</td>\n",
       "    </tr>\n",
       "    <tr>\n",
       "      <th>d</th>\n",
       "      <td>James</td>\n",
       "      <td>NaN</td>\n",
       "      <td>3</td>\n",
       "      <td>no</td>\n",
       "    </tr>\n",
       "    <tr>\n",
       "      <th>e</th>\n",
       "      <td>Emily</td>\n",
       "      <td>9.0</td>\n",
       "      <td>2</td>\n",
       "      <td>no</td>\n",
       "    </tr>\n",
       "    <tr>\n",
       "      <th>f</th>\n",
       "      <td>Michael</td>\n",
       "      <td>20.0</td>\n",
       "      <td>3</td>\n",
       "      <td>yes</td>\n",
       "    </tr>\n",
       "    <tr>\n",
       "      <th>g</th>\n",
       "      <td>Matthew</td>\n",
       "      <td>14.5</td>\n",
       "      <td>1</td>\n",
       "      <td>yes</td>\n",
       "    </tr>\n",
       "    <tr>\n",
       "      <th>h</th>\n",
       "      <td>Laura</td>\n",
       "      <td>NaN</td>\n",
       "      <td>1</td>\n",
       "      <td>no</td>\n",
       "    </tr>\n",
       "    <tr>\n",
       "      <th>i</th>\n",
       "      <td>Kevin</td>\n",
       "      <td>8.0</td>\n",
       "      <td>2</td>\n",
       "      <td>no</td>\n",
       "    </tr>\n",
       "    <tr>\n",
       "      <th>j</th>\n",
       "      <td>Jonas</td>\n",
       "      <td>19.0</td>\n",
       "      <td>1</td>\n",
       "      <td>yes</td>\n",
       "    </tr>\n",
       "  </tbody>\n",
       "</table>\n",
       "</div>"
      ],
      "text/plain": [
       "        name  score  attempts qualify\n",
       "a  Anastasia   12.5         1     yes\n",
       "b       Dima    9.0         3      no\n",
       "c  Katherine   16.5         2     yes\n",
       "d      James    NaN         3      no\n",
       "e      Emily    9.0         2      no\n",
       "f    Michael   20.0         3     yes\n",
       "g    Matthew   14.5         1     yes\n",
       "h      Laura    NaN         1      no\n",
       "i      Kevin    8.0         2      no\n",
       "j      Jonas   19.0         1     yes"
      ]
     },
     "execution_count": 6,
     "metadata": {},
     "output_type": "execute_result"
    }
   ],
   "source": [
    "# Odgovor\n",
    "\n",
    "exam_df = pd.DataFrame(exam_data, labels)\n",
    "\n",
    "exam_df"
   ]
  },
  {
   "cell_type": "code",
   "execution_count": 19,
   "metadata": {},
   "outputs": [
    {
     "name": "stdout",
     "output_type": "stream",
     "text": [
      "        name  score\n",
      "c  Katherine   16.5\n",
      "d      James    NaN\n",
      "e      Emily    9.0\n"
     ]
    }
   ],
   "source": [
    "print(exam_df.loc[labels[2:5],['name','score']])"
   ]
  },
  {
   "cell_type": "markdown",
   "metadata": {},
   "source": [
    "Želena rešitev:\n",
    "```\n",
    "        name  score\n",
    "c  Katherine   16.5\n",
    "d      James    NaN\n",
    "e      Emily    9.0\n",
    "```"
   ]
  },
  {
   "cell_type": "markdown",
   "metadata": {},
   "source": [
    "### 4.del - pandas 3/3"
   ]
  },
  {
   "cell_type": "markdown",
   "metadata": {},
   "source": [
    "`Možne točke: 5 pts`"
   ]
  },
  {
   "cell_type": "markdown",
   "metadata": {},
   "source": [
    "Dataframe `df_grade` za naslednji sklop nalog:"
   ]
  },
  {
   "cell_type": "code",
   "execution_count": 98,
   "metadata": {},
   "outputs": [],
   "source": [
    "df_grade = pd.DataFrame({'name': ['Anastasia', 'Dima', 'Katherine', 'James', 'Emily', 'Michael', 'Matthew', 'Laura', 'Kevin', 'Jonas'],\n",
    "'score': [12.5, 9, 16.5, np.nan, 9, 20, 14.5, np.nan, 8, 19],\n",
    "'attempts': [1, 3, 2, 3, 2, 3, 1, 1, 2, 1],\n",
    "'qualify': ['yes', 'no', 'yes', 'no', 'no', 'yes', 'yes', 'no', 'no', 'yes']}, \n",
    "index = ['a', 'b', 'c', 'd', 'e', 'f', 'g', 'h', 'i', 'j'])"
   ]
  },
  {
   "cell_type": "code",
   "execution_count": 21,
   "metadata": {},
   "outputs": [
    {
     "data": {
      "text/html": [
       "<div>\n",
       "<style scoped>\n",
       "    .dataframe tbody tr th:only-of-type {\n",
       "        vertical-align: middle;\n",
       "    }\n",
       "\n",
       "    .dataframe tbody tr th {\n",
       "        vertical-align: top;\n",
       "    }\n",
       "\n",
       "    .dataframe thead th {\n",
       "        text-align: right;\n",
       "    }\n",
       "</style>\n",
       "<table border=\"1\" class=\"dataframe\">\n",
       "  <thead>\n",
       "    <tr style=\"text-align: right;\">\n",
       "      <th></th>\n",
       "      <th>name</th>\n",
       "      <th>score</th>\n",
       "      <th>attempts</th>\n",
       "      <th>qualify</th>\n",
       "    </tr>\n",
       "  </thead>\n",
       "  <tbody>\n",
       "    <tr>\n",
       "      <th>a</th>\n",
       "      <td>Anastasia</td>\n",
       "      <td>12.5</td>\n",
       "      <td>1</td>\n",
       "      <td>yes</td>\n",
       "    </tr>\n",
       "    <tr>\n",
       "      <th>b</th>\n",
       "      <td>Dima</td>\n",
       "      <td>9.0</td>\n",
       "      <td>3</td>\n",
       "      <td>no</td>\n",
       "    </tr>\n",
       "    <tr>\n",
       "      <th>c</th>\n",
       "      <td>Katherine</td>\n",
       "      <td>16.5</td>\n",
       "      <td>2</td>\n",
       "      <td>yes</td>\n",
       "    </tr>\n",
       "    <tr>\n",
       "      <th>d</th>\n",
       "      <td>James</td>\n",
       "      <td>NaN</td>\n",
       "      <td>3</td>\n",
       "      <td>no</td>\n",
       "    </tr>\n",
       "    <tr>\n",
       "      <th>e</th>\n",
       "      <td>Emily</td>\n",
       "      <td>9.0</td>\n",
       "      <td>2</td>\n",
       "      <td>no</td>\n",
       "    </tr>\n",
       "    <tr>\n",
       "      <th>f</th>\n",
       "      <td>Michael</td>\n",
       "      <td>20.0</td>\n",
       "      <td>3</td>\n",
       "      <td>yes</td>\n",
       "    </tr>\n",
       "    <tr>\n",
       "      <th>g</th>\n",
       "      <td>Matthew</td>\n",
       "      <td>14.5</td>\n",
       "      <td>1</td>\n",
       "      <td>yes</td>\n",
       "    </tr>\n",
       "    <tr>\n",
       "      <th>h</th>\n",
       "      <td>Laura</td>\n",
       "      <td>NaN</td>\n",
       "      <td>1</td>\n",
       "      <td>no</td>\n",
       "    </tr>\n",
       "    <tr>\n",
       "      <th>i</th>\n",
       "      <td>Kevin</td>\n",
       "      <td>8.0</td>\n",
       "      <td>2</td>\n",
       "      <td>no</td>\n",
       "    </tr>\n",
       "    <tr>\n",
       "      <th>j</th>\n",
       "      <td>Jonas</td>\n",
       "      <td>19.0</td>\n",
       "      <td>1</td>\n",
       "      <td>yes</td>\n",
       "    </tr>\n",
       "  </tbody>\n",
       "</table>\n",
       "</div>"
      ],
      "text/plain": [
       "        name  score  attempts qualify\n",
       "a  Anastasia   12.5         1     yes\n",
       "b       Dima    9.0         3      no\n",
       "c  Katherine   16.5         2     yes\n",
       "d      James    NaN         3      no\n",
       "e      Emily    9.0         2      no\n",
       "f    Michael   20.0         3     yes\n",
       "g    Matthew   14.5         1     yes\n",
       "h      Laura    NaN         1      no\n",
       "i      Kevin    8.0         2      no\n",
       "j      Jonas   19.0         1     yes"
      ]
     },
     "execution_count": 21,
     "metadata": {},
     "output_type": "execute_result"
    }
   ],
   "source": [
    "df_grade"
   ]
  },
  {
   "cell_type": "markdown",
   "metadata": {},
   "source": [
    "##### 4.1)  Izbira podatkov glede na dani kriteriji `1 pts`"
   ]
  },
  {
   "cell_type": "markdown",
   "metadata": {},
   "source": [
    "Iz dataframe-a `df_grade` izberite vrstice, ki izpolnjujejo naslednja pogoja:\n",
    "- vrednost stolpca 'attempts' je **manjša ali enaka**  2,\n",
    "- vrednost stolpca 'score' je **večja** od 12."
   ]
  },
  {
   "cell_type": "code",
   "execution_count": 79,
   "metadata": {},
   "outputs": [
    {
     "name": "stdout",
     "output_type": "stream",
     "text": [
      "        name  score  attempts qualify\n",
      "a  Anastasia   12.5         1     yes\n",
      "c  Katherine   16.5         2     yes\n",
      "g    Matthew   14.5         1     yes\n",
      "j      Jonas   19.0         1     yes\n"
     ]
    }
   ],
   "source": [
    "# Odgovor\n",
    "\n",
    "att = df_grade['attempts'] <= 2\n",
    "scor = df_grade['score'] > 12\n",
    "print(df_grade[att&scor])"
   ]
  },
  {
   "cell_type": "markdown",
   "metadata": {},
   "source": [
    "Želena rešitev:\n",
    "```\n",
    "        name  score  attempts qualify\n",
    "a  Anastasia   12.5         1     yes\n",
    "c  Katherine   16.5         2     yes\n",
    "g    Matthew   14.5         1     yes\n",
    "j      Jonas   19.0         1     yes\n",
    "```"
   ]
  },
  {
   "cell_type": "markdown",
   "metadata": {},
   "source": [
    "##### 4.2)  Sprememba vrednosti v dataframe-u `1 pts`"
   ]
  },
  {
   "cell_type": "markdown",
   "metadata": {},
   "source": [
    "V `df_grade`spremenite vrednost vrstice `d` in stolpca `score` v 11.5."
   ]
  },
  {
   "cell_type": "code",
   "execution_count": 84,
   "metadata": {},
   "outputs": [
    {
     "data": {
      "text/html": [
       "<div>\n",
       "<style scoped>\n",
       "    .dataframe tbody tr th:only-of-type {\n",
       "        vertical-align: middle;\n",
       "    }\n",
       "\n",
       "    .dataframe tbody tr th {\n",
       "        vertical-align: top;\n",
       "    }\n",
       "\n",
       "    .dataframe thead th {\n",
       "        text-align: right;\n",
       "    }\n",
       "</style>\n",
       "<table border=\"1\" class=\"dataframe\">\n",
       "  <thead>\n",
       "    <tr style=\"text-align: right;\">\n",
       "      <th></th>\n",
       "      <th>name</th>\n",
       "      <th>score</th>\n",
       "      <th>attempts</th>\n",
       "      <th>qualify</th>\n",
       "    </tr>\n",
       "  </thead>\n",
       "  <tbody>\n",
       "    <tr>\n",
       "      <th>a</th>\n",
       "      <td>Anastasia</td>\n",
       "      <td>12.5</td>\n",
       "      <td>1</td>\n",
       "      <td>yes</td>\n",
       "    </tr>\n",
       "    <tr>\n",
       "      <th>b</th>\n",
       "      <td>Dima</td>\n",
       "      <td>9.0</td>\n",
       "      <td>3</td>\n",
       "      <td>no</td>\n",
       "    </tr>\n",
       "    <tr>\n",
       "      <th>c</th>\n",
       "      <td>Katherine</td>\n",
       "      <td>16.5</td>\n",
       "      <td>2</td>\n",
       "      <td>yes</td>\n",
       "    </tr>\n",
       "    <tr>\n",
       "      <th>d</th>\n",
       "      <td>James</td>\n",
       "      <td>NaN</td>\n",
       "      <td>3</td>\n",
       "      <td>no</td>\n",
       "    </tr>\n",
       "  </tbody>\n",
       "</table>\n",
       "</div>"
      ],
      "text/plain": [
       "        name  score  attempts qualify\n",
       "a  Anastasia   12.5         1     yes\n",
       "b       Dima    9.0         3      no\n",
       "c  Katherine   16.5         2     yes\n",
       "d      James    NaN         3      no"
      ]
     },
     "execution_count": 84,
     "metadata": {},
     "output_type": "execute_result"
    }
   ],
   "source": [
    "df_grade.head(4)"
   ]
  },
  {
   "cell_type": "code",
   "execution_count": 108,
   "metadata": {},
   "outputs": [
    {
     "data": {
      "text/html": [
       "<div>\n",
       "<style scoped>\n",
       "    .dataframe tbody tr th:only-of-type {\n",
       "        vertical-align: middle;\n",
       "    }\n",
       "\n",
       "    .dataframe tbody tr th {\n",
       "        vertical-align: top;\n",
       "    }\n",
       "\n",
       "    .dataframe thead th {\n",
       "        text-align: right;\n",
       "    }\n",
       "</style>\n",
       "<table border=\"1\" class=\"dataframe\">\n",
       "  <thead>\n",
       "    <tr style=\"text-align: right;\">\n",
       "      <th></th>\n",
       "      <th>name</th>\n",
       "      <th>score</th>\n",
       "      <th>attempts</th>\n",
       "      <th>qualify</th>\n",
       "    </tr>\n",
       "  </thead>\n",
       "  <tbody>\n",
       "    <tr>\n",
       "      <th>a</th>\n",
       "      <td>Anastasia</td>\n",
       "      <td>12.5</td>\n",
       "      <td>1</td>\n",
       "      <td>yes</td>\n",
       "    </tr>\n",
       "    <tr>\n",
       "      <th>b</th>\n",
       "      <td>Dima</td>\n",
       "      <td>9.0</td>\n",
       "      <td>3</td>\n",
       "      <td>no</td>\n",
       "    </tr>\n",
       "    <tr>\n",
       "      <th>c</th>\n",
       "      <td>Katherine</td>\n",
       "      <td>16.5</td>\n",
       "      <td>2</td>\n",
       "      <td>yes</td>\n",
       "    </tr>\n",
       "    <tr>\n",
       "      <th>d</th>\n",
       "      <td>James</td>\n",
       "      <td>11.5</td>\n",
       "      <td>3</td>\n",
       "      <td>no</td>\n",
       "    </tr>\n",
       "  </tbody>\n",
       "</table>\n",
       "</div>"
      ],
      "text/plain": [
       "        name  score  attempts qualify\n",
       "a  Anastasia   12.5         1     yes\n",
       "b       Dima    9.0         3      no\n",
       "c  Katherine   16.5         2     yes\n",
       "d      James   11.5         3      no"
      ]
     },
     "execution_count": 108,
     "metadata": {},
     "output_type": "execute_result"
    }
   ],
   "source": [
    "# Odgovor\n",
    "\n",
    "df_grade.at['d','score'] = 11.5\n",
    "df_grade.head(4)"
   ]
  },
  {
   "cell_type": "markdown",
   "metadata": {},
   "source": [
    "Želena rešitev:\n",
    "```\n",
    "        name  score  attempts qualify\n",
    "a  Anastasia   12.5         1     yes\n",
    "b       Dima    9.0         3      no\n",
    "c  Katherine   16.5         2     yes\n",
    "d      James   11.5         3      no\n",
    "e      Emily    9.0         2      no\n",
    "f    Michael   20.0         3     yes\n",
    "g    Matthew   14.5         1     yes\n",
    "h      Laura    NaN         1      no\n",
    "i      Kevin    8.0         2      no\n",
    "j      Jonas   19.0         1     yes\n",
    "```"
   ]
  },
  {
   "cell_type": "markdown",
   "metadata": {},
   "source": [
    "##### 4.3) Izračun vsote `1 pts`"
   ]
  },
  {
   "cell_type": "markdown",
   "metadata": {},
   "source": [
    "Izračunajte vsoto stolpca `attempts` v `df_grade`."
   ]
  },
  {
   "cell_type": "code",
   "execution_count": 109,
   "metadata": {},
   "outputs": [
    {
     "name": "stdout",
     "output_type": "stream",
     "text": [
      "19\n"
     ]
    }
   ],
   "source": [
    "# Odgovor\n",
    "\n",
    "Total = df_grade['attempts'].sum()\n",
    "print (Total)\n"
   ]
  },
  {
   "cell_type": "markdown",
   "metadata": {},
   "source": [
    "Želen odgovor:\n",
    "\n",
    "```\n",
    "Vsota je 19\n",
    "```"
   ]
  },
  {
   "cell_type": "markdown",
   "metadata": {},
   "source": [
    "##### 4.4) Razvrščanje podatkov `2pts`"
   ]
  },
  {
   "cell_type": "markdown",
   "metadata": {},
   "source": [
    "Dataframe `df_grade` razvrstite glede na podatke v stolpcu `name`:\n",
    "- v padajočem vrstnem redu\n",
    "- v naraščajočem vrstnem redu\n"
   ]
  },
  {
   "cell_type": "code",
   "execution_count": 121,
   "metadata": {},
   "outputs": [
    {
     "name": "stdout",
     "output_type": "stream",
     "text": [
      "        name  score  attempts qualify\n",
      "a  Anastasia   12.5         1     yes\n",
      "b       Dima    9.0         3      no\n",
      "e      Emily    9.0         2      no\n",
      "d      James   11.5         3      no\n",
      "j      Jonas   19.0         1     yes\n",
      "c  Katherine   16.5         2     yes\n",
      "i      Kevin    8.0         2      no\n",
      "h      Laura    NaN         1      no\n",
      "g    Matthew   14.5         1     yes\n",
      "f    Michael   20.0         3     yes\n",
      "\n",
      "        name  score  attempts qualify\n",
      "f    Michael   20.0         3     yes\n",
      "g    Matthew   14.5         1     yes\n",
      "h      Laura    NaN         1      no\n",
      "i      Kevin    8.0         2      no\n",
      "c  Katherine   16.5         2     yes\n",
      "j      Jonas   19.0         1     yes\n",
      "d      James   11.5         3      no\n",
      "e      Emily    9.0         2      no\n",
      "b       Dima    9.0         3      no\n",
      "a  Anastasia   12.5         1     yes\n"
     ]
    }
   ],
   "source": [
    "# Odgovor\n",
    "print(df_grade.sort_values('name'))\n",
    "print()\n",
    "print(df_grade.sort_values('name', ascending=False))"
   ]
  },
  {
   "cell_type": "markdown",
   "metadata": {},
   "source": [
    "Želena rešitev:\n",
    "    \n",
    "```\n",
    "        name  score  attempts qualify\n",
    "a  Anastasia   12.5         1     yes\n",
    "b       Dima    9.0         3      no\n",
    "e      Emily    9.0         2      no\n",
    "d      James   11.5         3      no\n",
    "j      Jonas   19.0         1     yes\n",
    "c  Katherine   16.5         2     yes\n",
    "i      Kevin    8.0         2      no\n",
    "h      Laura    NaN         1      no\n",
    "g    Matthew   14.5         1     yes\n",
    "f    Michael   20.0         3     yes\n",
    "\n",
    "in\n",
    "\n",
    "        name  score  attempts qualify\n",
    "f    Michael   20.0         3     yes\n",
    "g    Matthew   14.5         1     yes\n",
    "h      Laura    NaN         1      no\n",
    "i      Kevin    8.0         2      no\n",
    "c  Katherine   16.5         2     yes\n",
    "j      Jonas   19.0         1     yes\n",
    "d      James   11.5         3      no\n",
    "e      Emily    9.0         2      no\n",
    "b       Dima    9.0         3      no\n",
    "a  Anastasia   12.5         1     yes\n",
    "```"
   ]
  },
  {
   "cell_type": "markdown",
   "metadata": {},
   "source": [
    "### 5.del - matplotlib"
   ]
  },
  {
   "cell_type": "markdown",
   "metadata": {},
   "source": [
    "`Možne točke: 5 pts`"
   ]
  },
  {
   "cell_type": "markdown",
   "metadata": {},
   "source": [
    "Podatki za naloge:"
   ]
  },
  {
   "cell_type": "code",
   "execution_count": 142,
   "metadata": {},
   "outputs": [],
   "source": [
    "x1 = [1,2,3,4,5,6,7,8,9,10]\n",
    "y1 = [3,5,6,4,5,8,7,5,8,9]\n",
    "y2 = [12,16,17,15,14,18,20,16,13,11]"
   ]
  },
  {
   "cell_type": "markdown",
   "metadata": {},
   "source": [
    "##### 5.1) Naloga 1  `1 pts`\n",
    "\n",
    "Izrišite nepovezane točke (x1, y1). Točke naj bodo **rdeče** barve.\n",
    "\n",
    "Graf naj bo poimenovan **Naloga 1**.\n",
    "\n",
    "Os x naj bo poimenovana **os x**.\n",
    "\n",
    "Os y naj bo poimenovana **os y**."
   ]
  },
  {
   "cell_type": "code",
   "execution_count": 132,
   "metadata": {},
   "outputs": [
    {
     "data": {
      "image/png": "[encoded data removed]",
      "text/plain": [
       "<Figure size 320x240 with 1 Axes>"
      ]
     },
     "metadata": {
      "needs_background": "light"
     },
     "output_type": "display_data"
    }
   ],
   "source": [
    "# Odgovor\n",
    "plt.figure(figsize=(4,3), dpi=80)\n",
    "plt.plot(x1, y1, linestyle='', marker='o', color='r')\n",
    "plt.xlabel('os x')\n",
    "plt.ylabel('os y')\n",
    "plt.title('Naloga1')\n",
    "plt.show()"
   ]
  },
  {
   "cell_type": "markdown",
   "metadata": {},
   "source": [
    "Želena rešitev:"
   ]
  },
  {
   "cell_type": "markdown",
   "metadata": {},
   "source": [
    "<img width=300 src=\"./data/slika2.png\">"
   ]
  },
  {
   "cell_type": "markdown",
   "metadata": {},
   "source": [
    "##### 5.2) Naloga 2  `1 pts`"
   ]
  },
  {
   "cell_type": "markdown",
   "metadata": {},
   "source": [
    "Ustvarite 2 grafa v isti figuri:\n",
    "- Na prvega zrišite graf povezanih točk (x1, y1). Graf naj bo **zelene barve**.\n",
    "- Na drugega izrišite graf povezanih točk (x1, y2). Graf naj bo **črne barve**."
   ]
  },
  {
   "cell_type": "code",
   "execution_count": 137,
   "metadata": {},
   "outputs": [
    {
     "data": {
      "image/png": "[encoded data removed]",
      "text/plain": [
       "<Figure size 432x288 with 2 Axes>"
      ]
     },
     "metadata": {
      "needs_background": "light"
     },
     "output_type": "display_data"
    }
   ],
   "source": [
    "# Odgovor\n",
    "plt.subplot(1,2,1)\n",
    "plt.plot(x1,y1, c='green')\n",
    "\n",
    "plt.subplot(1,2,2)\n",
    "plt.plot(x1,y2, c='black')\n",
    "\n",
    "plt.tight_layout()\n",
    "plt.show()"
   ]
  },
  {
   "cell_type": "markdown",
   "metadata": {},
   "source": [
    "Želena rešitev:"
   ]
  },
  {
   "cell_type": "markdown",
   "metadata": {},
   "source": [
    "<img width=300 src=\"./data/slika5.png\">"
   ]
  },
  {
   "cell_type": "markdown",
   "metadata": {},
   "source": [
    "##### 5.3) Naloga 3  `1 pts`"
   ]
  },
  {
   "cell_type": "markdown",
   "metadata": {},
   "source": [
    "V isti graf izrišite povezane točke (x1, y1) in (x1, y2).\n",
    "\n",
    "Omejite y os na interval **od minimalne** vrednosti izmed podatkov y1 in y2, **do maksimalne** vrednosti izmed podatkov y1 in y2."
   ]
  },
  {
   "cell_type": "code",
   "execution_count": 177,
   "metadata": {},
   "outputs": [],
   "source": [
    "x1 = [1,2,3,4,5,6,7,8,9,10]\n",
    "y1 = [3,5,6,4,5,8,7,5,8,9]\n",
    "y2 = [12,16,17,15,14,18,20,16,13,11]"
   ]
  },
  {
   "cell_type": "code",
   "execution_count": 179,
   "metadata": {},
   "outputs": [
    {
     "data": {
      "image/png": "[encoded data removed]",
      "text/plain": [
       "<Figure size 320x240 with 1 Axes>"
      ]
     },
     "metadata": {
      "needs_background": "light"
     },
     "output_type": "display_data"
    }
   ],
   "source": [
    "# Odgovor\n",
    "\n",
    "plt.figure(figsize=(4,3), dpi=80)\n",
    "\n",
    "plt.plot(x1,y1, c='blue')\n",
    "plt.plot(x1,y2, c='orange')\n",
    "\n",
    "ymin = np.min([y1,y2])\n",
    "ymax = np.max([y1,y2])\n",
    "plt.ylim(ymin, ymax)\n",
    "\n",
    "plt.tight_layout()\n",
    "plt.show()"
   ]
  },
  {
   "cell_type": "markdown",
   "metadata": {},
   "source": [
    "Želena rešitev:"
   ]
  },
  {
   "cell_type": "markdown",
   "metadata": {},
   "source": [
    "<img width=300 src=\"./data/slika3.png\">"
   ]
  },
  {
   "cell_type": "markdown",
   "metadata": {},
   "source": [
    "##### 5.4) Naloga 4  `1 pts`"
   ]
  },
  {
   "cell_type": "markdown",
   "metadata": {},
   "source": [
    "V isti graf izrišite povezane točke (x1, y1) in (x1, y2).\n",
    "\n",
    "Prvi nabor točk poimenujte **Podatki 1**, drugi nabor točk poimenujte **Podatki 2**.\n",
    "\n",
    "Na grafu prikažite legendo."
   ]
  },
  {
   "cell_type": "code",
   "execution_count": 194,
   "metadata": {},
   "outputs": [
    {
     "data": {
      "image/png": "[encoded data removed]",
      "text/plain": [
       "<Figure size 480x400 with 1 Axes>"
      ]
     },
     "metadata": {
      "needs_background": "light"
     },
     "output_type": "display_data"
    }
   ],
   "source": [
    "# Odgovor\n",
    "\n",
    "plt.figure(figsize=(6,5), dpi=80)\n",
    "\n",
    "plt.plot(x1,y1, c='blue', label='Podatki 1')\n",
    "plt.plot(x1,y2, c='orange', label='Podatki 2')\n",
    "\n",
    "plt.legend(loc='upper right')\n",
    "\n",
    "ymin = np.min([y1,y2])\n",
    "ymax = np.max([y1,y2])\n",
    "\n",
    "plt.ylim(ymin,ymax)\n",
    "\n",
    "plt.tight_layout()\n",
    "plt.show()\n",
    "\n",
    "\n"
   ]
  },
  {
   "cell_type": "markdown",
   "metadata": {},
   "source": [
    "Želena rešitev:"
   ]
  },
  {
   "cell_type": "markdown",
   "metadata": {},
   "source": [
    "<img width=300 src=\"./data/slika4.png\">"
   ]
  },
  {
   "cell_type": "markdown",
   "metadata": {},
   "source": [
    "##### 5.5) Naloga 5  `1 pts`"
   ]
  },
  {
   "cell_type": "markdown",
   "metadata": {},
   "source": [
    "V isti graf izrišite povezane točke (x1, y1) in (x1, y2).\n",
    "\n",
    "Nastavite, da graf izriše **pomožne črte** (grid).\n",
    "\n",
    "Na x osi nastavite **ticks** na **vsako drugo vrednost iz x1 seznama**."
   ]
  },
  {
   "cell_type": "code",
   "execution_count": 200,
   "metadata": {},
   "outputs": [],
   "source": [
    "x1 = [1,2,3,4,5,6,7,8,9,10]\n",
    "y1 = [3,5,6,4,5,8,7,5,8,9]\n",
    "y2 = [12,16,17,15,14,18,20,16,13,11]"
   ]
  },
  {
   "cell_type": "code",
   "execution_count": 224,
   "metadata": {},
   "outputs": [
    {
     "data": {
      "image/png": "[encoded data removed]",
      "text/plain": [
       "<Figure size 432x288 with 1 Axes>"
      ]
     },
     "metadata": {
      "needs_background": "light"
     },
     "output_type": "display_data"
    }
   ],
   "source": [
    "# Odgovor\n",
    "\n",
    "#plt.figure(figsize=(4,3), dpi=80)\n",
    "\n",
    "plt.plot(x1,y1, c='blue')\n",
    "plt.plot(x1,y2, c='orange')\n",
    "\n",
    "ymin = np.min([y1,y2])\n",
    "ymax = np.max([y1,y2])\n",
    "\n",
    "plt.ylim(ymin,ymax)\n",
    "\n",
    "plt.xticks(np.arange(x1[1], max(x1), 2))\n",
    "\n",
    "plt.grid()\n",
    "\n",
    "plt.tight_layout()\n",
    "plt.show()\n",
    "\n"
   ]
  },
  {
   "cell_type": "markdown",
   "metadata": {},
   "source": [
    "Želena rešitev:"
   ]
  },
  {
   "cell_type": "markdown",
   "metadata": {},
   "source": [
    "<img width=300 src=\"./data/slika1.png\">"
   ]
  },
  {
   "cell_type": "markdown",
   "metadata": {},
   "source": [
    "### 6.del - Webscraping "
   ]
  },
  {
   "cell_type": "markdown",
   "metadata": {},
   "source": [
    "`Možne točke: 5 pts`"
   ]
  },
  {
   "cell_type": "markdown",
   "metadata": {},
   "source": [
    "Podatki za naloge:"
   ]
  },
  {
   "cell_type": "code",
   "execution_count": 303,
   "metadata": {},
   "outputs": [],
   "source": [
    "link = \"https://en.wikipedia.org/w/index.php?title=Chernobyl_(miniseries)&direction=next&oldid=899952822\""
   ]
  },
  {
   "cell_type": "markdown",
   "metadata": {},
   "source": [
    "##### 6.1) HTTP GET  request `1 pts`"
   ]
  },
  {
   "cell_type": "markdown",
   "metadata": {},
   "source": [
    "Naredite http zahtevek na zgornjo spletno stran (spremenljivka `link`). Izpišite kodo uspešnosti zahtevka, ki vam jo vrne strežnik in html kodo strani."
   ]
  },
  {
   "cell_type": "code",
   "execution_count": 304,
   "metadata": {},
   "outputs": [
    {
     "data": {
      "text/plain": [
       "200"
      ]
     },
     "execution_count": 304,
     "metadata": {},
     "output_type": "execute_result"
    }
   ],
   "source": [
    "# Odgovor\n",
    "r = requests.get(link)\n",
    "r.status_code\n"
   ]
  },
  {
   "cell_type": "code",
   "execution_count": 242,
   "metadata": {},
   "outputs": [
    {
     "data": {
      "text/plain": [
       "'<!DOCTYPE html>\\n<html class=\"client-nojs\" lang=\"en\" dir=\"ltr\">\\n<head>\\n<meta charset=\"UTF-8\"/>\\n<title>Chernobyl (miniseries) - Wikipedia</title>\\n<script>document.documentElement.className=document.documentElement.className.replace(/(^|\\\\s)client-nojs(\\\\s|$)/,\"$1client-js$2\");RLCONF={\"wgCanonicalNamespace\":\"\",\"wgCanonicalSpecialPageName\":!1,\"wgNamespaceNumber\":0,\"wgPageName\":\"Chernobyl_(miniseries)\",\"wgTitle\":\"Chernobyl (miniseries)\",\"wgCurRevisionId\":906241639,\"wgRevisionId\":899990733,\"wgArticleId\":55876266,\"wgIsArticle\":!0,\"wgIsRedirect\":!1,\"wgAction\":\"view\",\"wgUserName\":null,\"wgUserGroups\":[\"*\"],\"wgCategories\":[\"CS1 Lithuanian-language sources (lt)\",\"Articles with short description\",\"Use mdy dates from May 2019\",\"Pages using infobox television with editor parameter\",\"Interlanguage link template existing link\",\"Interlanguage link template link number\",\"Episode lists with a non-matching set of numbered parameters\",\"Sky Atlantic television programmes\",\"2019 American television series debut'"
      ]
     },
     "execution_count": 242,
     "metadata": {},
     "output_type": "execute_result"
    }
   ],
   "source": [
    "r.text[:1000]"
   ]
  },
  {
   "cell_type": "markdown",
   "metadata": {},
   "source": [
    "Želena rešitev:\n",
    "\n",
    "```\n",
    "200\n",
    "\n",
    "<!DOCTYPE html>\n",
    "<html class=\"client-nojs\" lang=\"en\" dir=\"ltr\">\n",
    "<head>\n",
    "<meta charset=\"UTF-8\"/>\n",
    "<title>Chernobyl (miniseries) - Wikipedia</title>\n",
    "<script>document.documentElement.className=document.documentElement.className.replace(/(^|\\s)client-nojs(\\s|$)/,\"$1client-js$2\");RLCONF={\"wgCanonicalNamespace\":\"\",\"wgCanonicalSpecialPageName\":!1,\"wgNamespaceNumber\":0,\"wgPageName\":\"Chernobyl_(miniseries)\",\"wgTitle\":\"Chernobyl (miniseries)\",\"wgCurRevisionId\":899952822,\"wgRevisionId\":899952822,\"wgArticleId\":55876266,\"wgIsArticle\":!0,\"wgIsRedirect\":!1,\"wgAction\":\"view\",\"wgUserName\":null,\"wgUserGroups\":[\"*\"],\"wgCategories\":[\"CS1 Lithuanian-language sources (lt)\",\n",
    "...\n",
    "```"
   ]
  },
  {
   "cell_type": "markdown",
   "metadata": {},
   "source": [
    "##### 6.2) Izpis naslovov `2 pts`\n",
    "\n",
    "Izpišite naslove prvih štirih epizod."
   ]
  },
  {
   "cell_type": "code",
   "execution_count": 294,
   "metadata": {},
   "outputs": [
    {
     "data": {
      "text/plain": [
       "[<td class=\"summary\" rowspan=\"2\" style=\"text-align:left\">\"1:23:45\"</td>,\n",
       " <td class=\"summary\" rowspan=\"2\" style=\"text-align:left\">\"Please Remain Calm\"</td>,\n",
       " <td class=\"summary\" rowspan=\"2\" style=\"text-align:left\">\"Open Wide, O Earth\"</td>,\n",
       " <td class=\"summary\" rowspan=\"2\" style=\"text-align:left\">\"The Happiness of All Mankind\"</td>]"
      ]
     },
     "execution_count": 294,
     "metadata": {},
     "output_type": "execute_result"
    }
   ],
   "source": [
    "# Odgovor\n",
    "\n",
    "html_content = r.text\n",
    "html_soup = BeautifulSoup(html_content, 'html.parser')\n",
    "\n",
    "td_4 = html_soup.find_all('td', class_='summary', limit=4)\n",
    "td_4\n"
   ]
  },
  {
   "cell_type": "code",
   "execution_count": 301,
   "metadata": {},
   "outputs": [
    {
     "data": {
      "text/plain": [
       "['\"1:23:45\"',\n",
       " '\"Please Remain Calm\"',\n",
       " '\"Open Wide, O Earth\"',\n",
       " '\"The Happiness of All Mankind\"']"
      ]
     },
     "execution_count": 301,
     "metadata": {},
     "output_type": "execute_result"
    }
   ],
   "source": [
    "text = [e.get_text() for e in td_4]\n",
    "text[0:4]"
   ]
  },
  {
   "cell_type": "markdown",
   "metadata": {},
   "source": [
    "Za pravilno rešitev mora celica vrniti:\n",
    "```\n",
    "\"1:23:45\"\n",
    "\"Please Remain Calm\"\n",
    "\"Open Wide, O Earth\"\n",
    "\"The Happiness of All Mankind\"\n",
    "```"
   ]
  },
  {
   "cell_type": "markdown",
   "metadata": {},
   "source": [
    "##### 6.3) Imena igralcev `2 pts`"
   ]
  },
  {
   "cell_type": "markdown",
   "metadata": {},
   "source": [
    "Želimo izvedeti ime in priimek prvih treh igralcev napisanih na wikipedia povezavi (več na spodnji sliki, zanimajo nas igralci v rdečem okvirčku).\n",
    "\n",
    "Dodatno želimo za vsakega izvedeti njegov datum rojstva (datum rojstva najdemo na strani igralca)."
   ]
  },
  {
   "cell_type": "markdown",
   "metadata": {},
   "source": [
    "<img width=300 src=\"data/chenobyl.PNG\">"
   ]
  },
  {
   "cell_type": "code",
   "execution_count": 399,
   "metadata": {},
   "outputs": [
    {
     "name": "stdout",
     "output_type": "stream",
     "text": [
      "[]\n"
     ]
    }
   ],
   "source": [
    "# Odgovor\n",
    "\n",
    "html_content = r.text\n",
    "html_soup = BeautifulSoup(html_content, 'html.parser')\n",
    "\n",
    "#players = []\n",
    "\n",
    "td_3 = html_soup.find_all('td', class_='attendee', limit=10)\n",
    "links = td_3[0].find_all('ul','li')\n",
    "links\n",
    "\n",
    "actors = []\n",
    "\n",
    "for linkk in links:\n",
    "    actors.append(linkk.get('title'))\n",
    "print(actors)   \n",
    "\n",
    "#td_3\n",
    "#len(td_3)\n",
    "\n",
    "#link = td_3[1].find('li')\n",
    "#link.get_text()\n",
    "#for linkk in td_3:\n",
    "    #print(linkk.find('li'))\n",
    "#for playy in td_3[1]:\n",
    "    #headers = []\n",
    "    #rows = playy.find_all('li')\n",
    "    #print(rows[0:3])\n",
    "#text = [e.get_text() for e in td_3]\n",
    "#text[0]"
   ]
  },
  {
   "cell_type": "markdown",
   "metadata": {},
   "source": [
    "Za pravilno rešitev mora celica vrniti:\n",
    "```\n",
    "Jared Harris, rojen 1961-08-24\n",
    "Stellan Skarsgård, rojen 1951-06-13\n",
    "Paul Ritter, rojen 1966-03-05\n",
    "```"
   ]
  },
  {
   "cell_type": "markdown",
   "metadata": {},
   "source": [
    "## Oddaja"
   ]
  },
  {
   "cell_type": "markdown",
   "metadata": {},
   "source": [
    "Rešeni notebook pošljite na naslednja e-mail naslova:\n",
    "- leon.stefanic@ltfe.org \n",
    "- gregor.balkovec@ltfe.org\n",
    "\n",
    "**POMEMBNO!** Pred pošiljanjem notebook preimenujte na naslednji način:\n",
    "\n",
    "`IZPIT_TEORIJA_IME_PRIMEK`"
   ]
  }
 ],
 "metadata": {
  "kernelspec": {
   "display_name": "Python 3",
   "language": "python",
   "name": "python3"
  },
  "language_info": {
   "codemirror_mode": {
    "name": "ipython",
    "version": 3
   },
   "file_extension": ".py",
   "mimetype": "text/x-python",
   "name": "python",
   "nbconvert_exporter": "python",
   "pygments_lexer": "ipython3",
   "version": "3.7.3"
  }
 },
 "nbformat": 4,
 "nbformat_minor": 2
}
