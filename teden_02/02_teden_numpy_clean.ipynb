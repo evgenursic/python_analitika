{
 "cells": [
  {
   "cell_type": "markdown",
   "metadata": {},
   "source": [
    "# NumPy"
   ]
  },
  {
   "cell_type": "markdown",
   "metadata": {},
   "source": [
    "## Understanding Data Types in Python"
   ]
  },
  {
   "cell_type": "markdown",
   "metadata": {},
   "source": [
    "\n",
    "```C\n",
    "/* C code */\n",
    "int result = 0;\n",
    "for(int i=0; i<100; i++){\n",
    "    result += i;\n",
    "}\n",
    "```\n",
    "\n",
    "While in Python the equivalent operation could be written this way:\n",
    "```python\n",
    "# Python code\n",
    "result = 0\n",
    "for i in range(100):\n",
    "    result += i\n",
    "```\n"
   ]
  },
  {
   "cell_type": "code",
   "execution_count": 1,
   "metadata": {},
   "outputs": [],
   "source": [
    "import numpy as np\n",
    "import pandas as pd"
   ]
  },
  {
   "cell_type": "code",
   "execution_count": null,
   "metadata": {},
   "outputs": [],
   "source": []
  },
  {
   "cell_type": "markdown",
   "metadata": {},
   "source": [
    "```C\n",
    "/* C code */\n",
    "int x = 4;\n",
    "x = \"four\";  // FAILS\n",
    "```"
   ]
  },
  {
   "cell_type": "markdown",
   "metadata": {},
   "source": [
    "### A Python Integer Is More Than Just an Integer\n",
    "\n",
    "```C\n",
    "struct _longobject {\n",
    "    long ob_refcnt;\n",
    "    PyTypeObject *ob_type;\n",
    "    size_t ob_size;\n",
    "    long ob_digit[1];\n",
    "};\n",
    "```\n",
    "\n",
    "A single integer in Python 3.4 actually contains four pieces:\n",
    "- ob_refcnt, a reference count that helps Python silently handle memory allocation and deallocation\n",
    "- ob_type, which encodes the type of the variable\n",
    "- ob_size, which specifies the size of the following data members\n",
    "- ob_digit, which contains the actual integer value that we expect the Python variable to represent.\n",
    "\n",
    "<img src=\"https://jakevdp.github.io/PythonDataScienceHandbook/figures/cint_vs_pyint.png\" alt=\"Integer Memory Layout\">"
   ]
  },
  {
   "cell_type": "markdown",
   "metadata": {},
   "source": [
    "### A Python List Is More Than Just a List\n"
   ]
  },
  {
   "cell_type": "code",
   "execution_count": 3,
   "metadata": {},
   "outputs": [
    {
     "data": {
      "text/plain": [
       "4"
      ]
     },
     "execution_count": 3,
     "metadata": {},
     "output_type": "execute_result"
    }
   ],
   "source": [
    "x = 4\n",
    "x"
   ]
  },
  {
   "cell_type": "code",
   "execution_count": 4,
   "metadata": {},
   "outputs": [
    {
     "data": {
      "text/plain": [
       "'four'"
      ]
     },
     "execution_count": 4,
     "metadata": {},
     "output_type": "execute_result"
    }
   ],
   "source": [
    "x = 'four'\n",
    "x"
   ]
  },
  {
   "cell_type": "code",
   "execution_count": 3,
   "metadata": {},
   "outputs": [
    {
     "data": {
      "text/plain": [
       "[0, 1, 2, 3, 4, 5, 6, 7, 8, 9]"
      ]
     },
     "execution_count": 3,
     "metadata": {},
     "output_type": "execute_result"
    }
   ],
   "source": [
    "l = list(range(10))\n",
    "type(l)\n",
    "l"
   ]
  },
  {
   "cell_type": "code",
   "execution_count": 6,
   "metadata": {},
   "outputs": [
    {
     "data": {
      "text/plain": [
       "['0', '1', '2', '3', '4', '5', '6', '7', '8', '9']"
      ]
     },
     "execution_count": 6,
     "metadata": {},
     "output_type": "execute_result"
    }
   ],
   "source": [
    "l2 = [str(c) for c in l]\n",
    "type(l2)\n",
    "l2"
   ]
  },
  {
   "cell_type": "code",
   "execution_count": 7,
   "metadata": {},
   "outputs": [
    {
     "data": {
      "text/plain": [
       "{'2', 3.0, 4, True}"
      ]
     },
     "execution_count": 7,
     "metadata": {},
     "output_type": "execute_result"
    }
   ],
   "source": [
    "l3 = {True, \"2\", 3.0, 4}\n",
    "type(l3)\n",
    "l3"
   ]
  },
  {
   "cell_type": "code",
   "execution_count": null,
   "metadata": {},
   "outputs": [],
   "source": []
  },
  {
   "cell_type": "code",
   "execution_count": null,
   "metadata": {},
   "outputs": [],
   "source": []
  },
  {
   "cell_type": "markdown",
   "metadata": {},
   "source": [
    "\n",
    "<img src=\"https://jakevdp.github.io/PythonDataScienceHandbook/figures/array_vs_list.png\" alt=\"Array Memory Layout\">"
   ]
  },
  {
   "cell_type": "markdown",
   "metadata": {},
   "source": [
    "### Fixed-Type Arrays in Python\n"
   ]
  },
  {
   "cell_type": "code",
   "execution_count": 8,
   "metadata": {},
   "outputs": [],
   "source": [
    "import array\n"
   ]
  },
  {
   "cell_type": "code",
   "execution_count": 18,
   "metadata": {},
   "outputs": [
    {
     "data": {
      "text/plain": [
       "array('i', [0, 1, 2, 3, 4, 5, 6, 7, 8, 9])"
      ]
     },
     "execution_count": 18,
     "metadata": {},
     "output_type": "execute_result"
    }
   ],
   "source": [
    "l = list(range(10))\n",
    "a = array.array('i', l)\n",
    "a"
   ]
  },
  {
   "cell_type": "markdown",
   "metadata": {},
   "source": [
    "## How Vectorization Makes Code Faster\n",
    "\n",
    "\n",
    "\n",
    "<p><img alt=\"Translating Python code to bytecode\" src=\"https://s3.amazonaws.com/dq-content/289/bytecode.svg\"></p>\n",
    "\n",
    "\n",
    "<table>\n",
    "<thead>\n",
    "<tr>\n",
    "<th>Language Type</th>\n",
    "<th>Example</th>\n",
    "<th>Time taken to write program</th>\n",
    "<th>Control over program performance</th>\n",
    "</tr>\n",
    "</thead>\n",
    "<tbody>\n",
    "<tr>\n",
    "<td>High-Level</td>\n",
    "<td>Python</td>\n",
    "<td>Low</td>\n",
    "<td>Low</td>\n",
    "</tr>\n",
    "<tr>\n",
    "<td>Low-Level</td>\n",
    "<td>C</td>\n",
    "<td>High</td>\n",
    "<td>High</td>\n",
    "</tr>\n",
    "</tbody>\n",
    "</table>\n",
    "\n"
   ]
  },
  {
   "cell_type": "markdown",
   "metadata": {},
   "source": [
    "<p><img alt=\"For loop to sum rows\" src=\"https://s3.amazonaws.com/dq-content/289/for_loop.svg\"></p>"
   ]
  },
  {
   "cell_type": "code",
   "execution_count": 9,
   "metadata": {},
   "outputs": [
    {
     "name": "stdout",
     "output_type": "stream",
     "text": [
      "[11, 4, 11]\n"
     ]
    }
   ],
   "source": [
    "my_numbers = [[6,5],[1,3],[5,6]]\n",
    "\n",
    "sums = []\n",
    "\n",
    "for row in my_numbers:\n",
    "    row_sum = row[0] + row[1]\n",
    "    sums.append(row_sum)\n",
    "    \n",
    "print(sums)"
   ]
  },
  {
   "cell_type": "markdown",
   "metadata": {},
   "source": [
    "\n",
    "<p><img alt=\"Unvectorized operation\" src=\"https://s3.amazonaws.com/dq-content/289/unvectorized.svg\"></p>"
   ]
  },
  {
   "cell_type": "code",
   "execution_count": null,
   "metadata": {},
   "outputs": [],
   "source": []
  },
  {
   "cell_type": "code",
   "execution_count": null,
   "metadata": {},
   "outputs": [],
   "source": []
  },
  {
   "cell_type": "markdown",
   "metadata": {},
   "source": [
    "<p><img alt=\"Vectorized operation\" src=\"https://s3.amazonaws.com/dq-content/289/vectorized.svg\"></p>\n",
    "\n"
   ]
  },
  {
   "cell_type": "markdown",
   "metadata": {},
   "source": [
    "## Numpy"
   ]
  },
  {
   "cell_type": "code",
   "execution_count": 17,
   "metadata": {},
   "outputs": [
    {
     "name": "stdout",
     "output_type": "stream",
     "text": [
      "[[1 2 3]\n",
      " [4 5 6]]\n"
     ]
    }
   ],
   "source": [
    "import numpy as np\n",
    "list1 = [[1,2,3], [4,5,6]]\n",
    "arr1 = np.array(list1)\n",
    "print(arr1)"
   ]
  },
  {
   "cell_type": "code",
   "execution_count": 14,
   "metadata": {},
   "outputs": [],
   "source": [
    "import numpy as np"
   ]
  },
  {
   "cell_type": "code",
   "execution_count": null,
   "metadata": {},
   "outputs": [],
   "source": []
  },
  {
   "cell_type": "code",
   "execution_count": null,
   "metadata": {},
   "outputs": [],
   "source": []
  },
  {
   "cell_type": "code",
   "execution_count": null,
   "metadata": {},
   "outputs": [],
   "source": []
  },
  {
   "cell_type": "code",
   "execution_count": null,
   "metadata": {},
   "outputs": [],
   "source": []
  },
  {
   "cell_type": "markdown",
   "metadata": {},
   "source": [
    "### NumPy ndarrays"
   ]
  },
  {
   "cell_type": "markdown",
   "metadata": {},
   "source": [
    "\n",
    "\n",
    "<p><img alt=\"Dimensional Arrays\" src=\"https://s3.amazonaws.com/dq-content/289/dimensional_arrays.svg\"></p>\n",
    "\n"
   ]
  },
  {
   "cell_type": "markdown",
   "metadata": {},
   "source": [
    "#### Create an array\n",
    "\n"
   ]
  },
  {
   "cell_type": "code",
   "execution_count": 20,
   "metadata": {},
   "outputs": [
    {
     "data": {
      "text/plain": [
       "array([1, 2, 3])"
      ]
     },
     "execution_count": 20,
     "metadata": {},
     "output_type": "execute_result"
    }
   ],
   "source": [
    "list1 = [1,2,3]\n",
    "arr1 = np.array(list1)\n",
    "arr1"
   ]
  },
  {
   "cell_type": "code",
   "execution_count": 28,
   "metadata": {},
   "outputs": [
    {
     "data": {
      "text/plain": [
       "array([[1., 1., 1., 1., 1.],\n",
       "       [1., 1., 1., 1., 1.],\n",
       "       [1., 1., 1., 1., 1.]])"
      ]
     },
     "execution_count": 28,
     "metadata": {},
     "output_type": "execute_result"
    }
   ],
   "source": [
    "np.ones((3,5))"
   ]
  },
  {
   "cell_type": "code",
   "execution_count": 26,
   "metadata": {},
   "outputs": [
    {
     "data": {
      "text/plain": [
       "array([ 0,  2,  4,  6,  8, 10, 12, 14, 16, 18])"
      ]
     },
     "execution_count": 26,
     "metadata": {},
     "output_type": "execute_result"
    }
   ],
   "source": [
    "np.arange(0, 20, 2)"
   ]
  },
  {
   "cell_type": "code",
   "execution_count": 27,
   "metadata": {},
   "outputs": [
    {
     "data": {
      "text/plain": [
       "array([[0., 0., 0., 0., 0., 0.],\n",
       "       [0., 0., 0., 0., 0., 0.],\n",
       "       [0., 0., 0., 0., 0., 0.],\n",
       "       [0., 0., 0., 0., 0., 0.],\n",
       "       [0., 0., 0., 0., 0., 0.],\n",
       "       [0., 0., 0., 0., 0., 0.],\n",
       "       [0., 0., 0., 0., 0., 0.],\n",
       "       [0., 0., 0., 0., 0., 0.],\n",
       "       [0., 0., 0., 0., 0., 0.],\n",
       "       [0., 0., 0., 0., 0., 0.]])"
      ]
     },
     "execution_count": 27,
     "metadata": {},
     "output_type": "execute_result"
    }
   ],
   "source": [
    "np.zeros((10,6))"
   ]
  },
  {
   "cell_type": "code",
   "execution_count": 34,
   "metadata": {},
   "outputs": [
    {
     "data": {
      "text/plain": [
       "array([0.  , 0.25, 0.5 , 0.75, 1.  ])"
      ]
     },
     "execution_count": 34,
     "metadata": {},
     "output_type": "execute_result"
    }
   ],
   "source": [
    "np.linspace(0,1,5)"
   ]
  },
  {
   "cell_type": "code",
   "execution_count": 38,
   "metadata": {},
   "outputs": [
    {
     "data": {
      "text/plain": [
       "array([[6, 3, 7, 3],\n",
       "       [5, 3, 0, 7],\n",
       "       [8, 5, 7, 5],\n",
       "       [1, 2, 0, 7]])"
      ]
     },
     "execution_count": 38,
     "metadata": {},
     "output_type": "execute_result"
    }
   ],
   "source": [
    "np.random.randint(0,10, (4,4))"
   ]
  },
  {
   "cell_type": "code",
   "execution_count": 58,
   "metadata": {},
   "outputs": [
    {
     "data": {
      "text/plain": [
       "8"
      ]
     },
     "execution_count": 58,
     "metadata": {},
     "output_type": "execute_result"
    }
   ],
   "source": [
    "r = np.random.random((3,3,3))\n",
    "r.itemsize"
   ]
  },
  {
   "cell_type": "code",
   "execution_count": 45,
   "metadata": {},
   "outputs": [
    {
     "data": {
      "text/plain": [
       "array([[1., 0., 0., 0., 0.],\n",
       "       [0., 1., 0., 0., 0.],\n",
       "       [0., 0., 1., 0., 0.],\n",
       "       [0., 0., 0., 1., 0.],\n",
       "       [0., 0., 0., 0., 1.]])"
      ]
     },
     "execution_count": 45,
     "metadata": {},
     "output_type": "execute_result"
    }
   ],
   "source": [
    "np.eye(5)"
   ]
  },
  {
   "cell_type": "code",
   "execution_count": 48,
   "metadata": {},
   "outputs": [
    {
     "data": {
      "text/plain": [
       "array([[8, 8, 8, 8, 8, 8],\n",
       "       [8, 8, 8, 8, 8, 8],\n",
       "       [8, 8, 8, 8, 8, 8],\n",
       "       [8, 8, 8, 8, 8, 8],\n",
       "       [8, 8, 8, 8, 8, 8]])"
      ]
     },
     "execution_count": 48,
     "metadata": {},
     "output_type": "execute_result"
    }
   ],
   "source": [
    "np.full((5,6), 8)"
   ]
  },
  {
   "cell_type": "code",
   "execution_count": 18,
   "metadata": {},
   "outputs": [
    {
     "data": {
      "text/plain": [
       "array([[1. , 2. ],\n",
       "       [3. , 7.5]])"
      ]
     },
     "execution_count": 18,
     "metadata": {},
     "output_type": "execute_result"
    }
   ],
   "source": [
    "np.empty([2,2])"
   ]
  },
  {
   "cell_type": "code",
   "execution_count": null,
   "metadata": {},
   "outputs": [],
   "source": []
  },
  {
   "cell_type": "code",
   "execution_count": null,
   "metadata": {},
   "outputs": [],
   "source": []
  },
  {
   "cell_type": "code",
   "execution_count": null,
   "metadata": {},
   "outputs": [],
   "source": []
  },
  {
   "cell_type": "markdown",
   "metadata": {},
   "source": [
    "#### Understanding NumPy ndarrays"
   ]
  },
  {
   "cell_type": "code",
   "execution_count": 60,
   "metadata": {},
   "outputs": [
    {
     "data": {
      "text/plain": [
       "24"
      ]
     },
     "execution_count": 60,
     "metadata": {},
     "output_type": "execute_result"
    }
   ],
   "source": [
    "x = np.array([1,2,3])\n",
    "\n",
    "x.nbytes"
   ]
  },
  {
   "cell_type": "code",
   "execution_count": 64,
   "metadata": {},
   "outputs": [
    {
     "data": {
      "text/plain": [
       "array([[1, 0, 7, 9, 2, 7],\n",
       "       [7, 7, 8, 4, 9, 7],\n",
       "       [9, 5, 0, 3, 9, 9],\n",
       "       [0, 5, 7, 8, 7, 4],\n",
       "       [9, 1, 8, 0, 9, 5]])"
      ]
     },
     "execution_count": 64,
     "metadata": {},
     "output_type": "execute_result"
    }
   ],
   "source": [
    "test_arr = np.random.randint(10, size=(5,6))\n",
    "test_arr"
   ]
  },
  {
   "cell_type": "code",
   "execution_count": 82,
   "metadata": {},
   "outputs": [
    {
     "data": {
      "text/plain": [
       "1"
      ]
     },
     "execution_count": 82,
     "metadata": {},
     "output_type": "execute_result"
    }
   ],
   "source": [
    "first_row = test_arr[0,0]\n",
    "first_row"
   ]
  },
  {
   "cell_type": "code",
   "execution_count": 86,
   "metadata": {},
   "outputs": [
    {
     "data": {
      "text/plain": [
       "dtype('int64')"
      ]
     },
     "execution_count": 86,
     "metadata": {},
     "output_type": "execute_result"
    }
   ],
   "source": [
    "x = np.array([1,2])\n",
    "x.dtype"
   ]
  },
  {
   "cell_type": "code",
   "execution_count": 89,
   "metadata": {},
   "outputs": [
    {
     "data": {
      "text/plain": [
       "int"
      ]
     },
     "execution_count": 89,
     "metadata": {},
     "output_type": "execute_result"
    }
   ],
   "source": [
    "np.zeros(10)\n",
    "dtype = np.int\n",
    "dtype"
   ]
  },
  {
   "cell_type": "code",
   "execution_count": null,
   "metadata": {},
   "outputs": [],
   "source": []
  },
  {
   "cell_type": "markdown",
   "metadata": {},
   "source": [
    "#### Selecting and Slicing Rows and Items from ndarrays\n",
    "\n",
    "<p><img alt=\"Selecting rows from a 2D ndarray\" src=\"https://s3.amazonaws.com/dq-content/289/selection_rows.svg\"></p>\n",
    "\n",
    "\n",
    "\n",
    "This is how we select a single item from a 2D ndarray:\n",
    "\n",
    "<p><img alt=\"Selecting a single item from a 2D ndarray\" src=\"https://s3.amazonaws.com/dq-content/289/selection_item.svg\"></p>\n"
   ]
  },
  {
   "cell_type": "code",
   "execution_count": null,
   "metadata": {},
   "outputs": [],
   "source": []
  },
  {
   "cell_type": "code",
   "execution_count": null,
   "metadata": {},
   "outputs": [],
   "source": []
  },
  {
   "cell_type": "code",
   "execution_count": null,
   "metadata": {},
   "outputs": [],
   "source": []
  },
  {
   "cell_type": "code",
   "execution_count": 8,
   "metadata": {},
   "outputs": [],
   "source": [
    "import numpy as np\n",
    "import pandas as pd"
   ]
  },
  {
   "cell_type": "markdown",
   "metadata": {},
   "source": [
    "#### Selecting Columns and Custom Slicing ndarrays\n",
    "\n",
    "Let's continue by learning how to select one or more columns of data:\n",
    "\n",
    "<p><img alt=\"Selecting columns from a 2D ndarray\" src=\"https://s3.amazonaws.com/dq-content/289/selection_columns.svg\"></p>\n",
    "\n",
    "\n",
    "\n",
    "If we wanted to select a partial 1D slice of a row or column, we can combine a single value for one dimension with a slice for the other dimension:\n",
    "\n",
    "<p><img alt=\"Selecting partial 1D slices from a 2D ndarray\" src=\"https://s3.amazonaws.com/dq-content/289/selection_1darray.svg\"></p>\n",
    "\n",
    "Lastly, if we wanted to select a 2D slice, we can use slices for both dimensions:\n",
    "\n",
    "<p><img alt=\"Selecting a 2D slice from a 2D ndarray\" src=\"https://s3.amazonaws.com/dq-content/289/selection_2darray.svg\"></p>\n",
    "\n"
   ]
  },
  {
   "cell_type": "code",
   "execution_count": null,
   "metadata": {},
   "outputs": [],
   "source": []
  },
  {
   "cell_type": "code",
   "execution_count": null,
   "metadata": {},
   "outputs": [],
   "source": []
  },
  {
   "cell_type": "code",
   "execution_count": null,
   "metadata": {},
   "outputs": [],
   "source": []
  },
  {
   "cell_type": "code",
   "execution_count": null,
   "metadata": {},
   "outputs": [],
   "source": []
  },
  {
   "cell_type": "code",
   "execution_count": null,
   "metadata": {},
   "outputs": [],
   "source": []
  },
  {
   "cell_type": "code",
   "execution_count": null,
   "metadata": {},
   "outputs": [],
   "source": []
  },
  {
   "cell_type": "markdown",
   "metadata": {},
   "source": [
    "#### Modify values in ndarray\n",
    "\n"
   ]
  },
  {
   "cell_type": "code",
   "execution_count": 60,
   "metadata": {},
   "outputs": [
    {
     "name": "stdout",
     "output_type": "stream",
     "text": [
      "[11, 4, 11]\n"
     ]
    }
   ],
   "source": [
    "\n",
    "\n",
    "my_numbers = [[6,5],[1,3],[5,6]]\n",
    "\n",
    "sums = []\n",
    "\n",
    "for row in my_numbers:\n",
    "    row_sum = row[0] + row[1]\n",
    "    sums.append(row_sum)\n",
    "    \n",
    "print(sums)\n",
    "\n"
   ]
  },
  {
   "cell_type": "code",
   "execution_count": 61,
   "metadata": {},
   "outputs": [
    {
     "name": "stdout",
     "output_type": "stream",
     "text": [
      "[ 6.   7.5 78.  45.   9.   6.  58. ]\n"
     ]
    }
   ],
   "source": [
    "list1 = [6,7.5,78,45,9,6,58]\n",
    "arr1 = np.array(list1)\n",
    "print(arr1)"
   ]
  },
  {
   "cell_type": "code",
   "execution_count": null,
   "metadata": {},
   "outputs": [],
   "source": []
  },
  {
   "cell_type": "code",
   "execution_count": null,
   "metadata": {},
   "outputs": [],
   "source": []
  },
  {
   "cell_type": "markdown",
   "metadata": {},
   "source": [
    "#### Datatypes\n",
    "\n",
    "[Več o datatypes](https://docs.scipy.org/doc/numpy/reference/arrays.dtypes.html)\n",
    "\n",
    "[List of scalars](https://docs.scipy.org/doc/numpy/reference/arrays.scalars.html#arrays-scalars-built-in)"
   ]
  },
  {
   "cell_type": "code",
   "execution_count": null,
   "metadata": {},
   "outputs": [],
   "source": []
  },
  {
   "cell_type": "code",
   "execution_count": null,
   "metadata": {},
   "outputs": [],
   "source": []
  },
  {
   "cell_type": "code",
   "execution_count": null,
   "metadata": {},
   "outputs": [],
   "source": []
  },
  {
   "cell_type": "code",
   "execution_count": null,
   "metadata": {},
   "outputs": [],
   "source": []
  },
  {
   "cell_type": "markdown",
   "metadata": {},
   "source": [
    "<div class=\"text_cell_render border-box-sizing rendered_html\">\n",
    "<table>\n",
    "<thead><tr>\n",
    "<th>Data type</th>\n",
    "<th>Description</th>\n",
    "</tr>\n",
    "</thead>\n",
    "<tbody>\n",
    "<tr>\n",
    "<td><code>bool_</code></td>\n",
    "<td>Boolean (True or False) stored as a byte</td>\n",
    "</tr>\n",
    "<tr>\n",
    "<td><code>int_</code></td>\n",
    "<td>Default integer type (same as C <code>long</code>; normally either <code>int64</code> or <code>int32</code>)</td>\n",
    "</tr>\n",
    "<tr>\n",
    "<td><code>intc</code></td>\n",
    "<td>Identical to C <code>int</code> (normally <code>int32</code> or <code>int64</code>)</td>\n",
    "</tr>\n",
    "<tr>\n",
    "<td><code>intp</code></td>\n",
    "<td>Integer used for indexing (same as C <code>ssize_t</code>; normally either <code>int32</code> or <code>int64</code>)</td>\n",
    "</tr>\n",
    "<tr>\n",
    "<td><code>int8</code></td>\n",
    "<td>Byte (-128 to 127)</td>\n",
    "</tr>\n",
    "<tr>\n",
    "<td><code>int16</code></td>\n",
    "<td>Integer (-32768 to 32767)</td>\n",
    "</tr>\n",
    "<tr>\n",
    "<td><code>int32</code></td>\n",
    "<td>Integer (-2147483648 to 2147483647)</td>\n",
    "</tr>\n",
    "<tr>\n",
    "<td><code>int64</code></td>\n",
    "<td>Integer (-9223372036854775808 to 9223372036854775807)</td>\n",
    "</tr>\n",
    "<tr>\n",
    "<td><code>uint8</code></td>\n",
    "<td>Unsigned integer (0 to 255)</td>\n",
    "</tr>\n",
    "<tr>\n",
    "<td><code>uint16</code></td>\n",
    "<td>Unsigned integer (0 to 65535)</td>\n",
    "</tr>\n",
    "<tr>\n",
    "<td><code>uint32</code></td>\n",
    "<td>Unsigned integer (0 to 4294967295)</td>\n",
    "</tr>\n",
    "<tr>\n",
    "<td><code>uint64</code></td>\n",
    "<td>Unsigned integer (0 to 18446744073709551615)</td>\n",
    "</tr>\n",
    "<tr>\n",
    "<td><code>float_</code></td>\n",
    "<td>Shorthand for <code>float64</code>.</td>\n",
    "</tr>\n",
    "<tr>\n",
    "<td><code>float16</code></td>\n",
    "<td>Half precision float: sign bit, 5 bits exponent, 10 bits mantissa</td>\n",
    "</tr>\n",
    "<tr>\n",
    "<td><code>float32</code></td>\n",
    "<td>Single precision float: sign bit, 8 bits exponent, 23 bits mantissa</td>\n",
    "</tr>\n",
    "<tr>\n",
    "<td><code>float64</code></td>\n",
    "<td>Double precision float: sign bit, 11 bits exponent, 52 bits mantissa</td>\n",
    "</tr>\n",
    "<tr>\n",
    "<td><code>complex_</code></td>\n",
    "<td>Shorthand for <code>complex128</code>.</td>\n",
    "</tr>\n",
    "<tr>\n",
    "<td><code>complex64</code></td>\n",
    "<td>Complex number, represented by two 32-bit floats</td>\n",
    "</tr>\n",
    "<tr>\n",
    "<td><code>complex128</code></td>\n",
    "<td>Complex number, represented by two 64-bit floats</td>\n",
    "</tr>\n",
    "</tbody>\n",
    "</table>\n",
    "\n",
    "</div>"
   ]
  },
  {
   "cell_type": "markdown",
   "metadata": {},
   "source": [
    "### Computation on NumPy Arrays: Universal Functions\n"
   ]
  },
  {
   "cell_type": "markdown",
   "metadata": {},
   "source": [
    "#### The Slowness of Loops\n",
    "\n"
   ]
  },
  {
   "cell_type": "code",
   "execution_count": 63,
   "metadata": {},
   "outputs": [
    {
     "data": {
      "text/plain": [
       "array([6, 1, 4, 4, 8])"
      ]
     },
     "execution_count": 63,
     "metadata": {},
     "output_type": "execute_result"
    }
   ],
   "source": [
    "def comute_reciprocals(values):\n",
    "    output = np.empty(values)\n",
    "    for i in range(len(values)):\n",
    "        output[i] = 1.0 / values[i]\n",
    "        return output    \n",
    "\n",
    "np.random.seed(0)\n",
    "values = np.random.randint(1,10, size=5)\n",
    "values\n"
   ]
  },
  {
   "cell_type": "code",
   "execution_count": 64,
   "metadata": {},
   "outputs": [
    {
     "data": {
      "text/plain": [
       "array([[[[[ 1.66666667e-001,  1.66666667e-001,  1.66666667e-001,\n",
       "            1.66666667e-001,  1.66666667e-001,  1.66666667e-001,\n",
       "            1.66666667e-001,  1.66666667e-001],\n",
       "          [ 1.66666667e-001,  1.66666667e-001,  1.66666667e-001,\n",
       "            1.66666667e-001,  1.66666667e-001,  1.66666667e-001,\n",
       "            1.66666667e-001,  1.66666667e-001],\n",
       "          [ 1.66666667e-001,  1.66666667e-001,  1.66666667e-001,\n",
       "            1.66666667e-001,  1.66666667e-001,  1.66666667e-001,\n",
       "            1.66666667e-001,  1.66666667e-001],\n",
       "          [ 1.66666667e-001,  1.66666667e-001,  1.66666667e-001,\n",
       "            1.66666667e-001,  1.66666667e-001,  1.66666667e-001,\n",
       "            1.66666667e-001,  1.66666667e-001]],\n",
       "\n",
       "         [[ 1.66666667e-001,  1.66666667e-001,  1.66666667e-001,\n",
       "            1.66666667e-001,  1.66666667e-001,  1.66666667e-001,\n",
       "            1.66666667e-001,  1.66666667e-001],\n",
       "          [ 1.66666667e-001,  1.66666667e-001,  1.66666667e-001,\n",
       "            1.66666667e-001,  1.66666667e-001,  1.66666667e-001,\n",
       "            1.66666667e-001,  1.66666667e-001],\n",
       "          [ 1.66666667e-001,  1.66666667e-001,  1.66666667e-001,\n",
       "            1.66666667e-001,  1.66666667e-001,  1.66666667e-001,\n",
       "            1.66666667e-001,  1.66666667e-001],\n",
       "          [ 1.66666667e-001,  1.66666667e-001,  1.66666667e-001,\n",
       "            1.66666667e-001,  1.66666667e-001,  1.66666667e-001,\n",
       "            1.66666667e-001,  1.66666667e-001]],\n",
       "\n",
       "         [[ 1.66666667e-001,  1.66666667e-001,  1.66666667e-001,\n",
       "            1.66666667e-001,  1.66666667e-001,  1.66666667e-001,\n",
       "            1.66666667e-001,  1.66666667e-001],\n",
       "          [ 1.66666667e-001,  1.66666667e-001,  1.66666667e-001,\n",
       "            1.66666667e-001,  1.66666667e-001,  1.66666667e-001,\n",
       "            1.66666667e-001,  1.66666667e-001],\n",
       "          [ 1.66666667e-001,  1.66666667e-001,  1.66666667e-001,\n",
       "            1.66666667e-001,  1.66666667e-001,  1.66666667e-001,\n",
       "            1.66666667e-001,  1.66666667e-001],\n",
       "          [ 1.66666667e-001,  1.66666667e-001,  1.66666667e-001,\n",
       "            1.66666667e-001,  1.66666667e-001,  1.66666667e-001,\n",
       "            1.66666667e-001,  1.66666667e-001]],\n",
       "\n",
       "         [[ 1.66666667e-001,  1.66666667e-001,  1.66666667e-001,\n",
       "            1.66666667e-001,  1.66666667e-001,  1.66666667e-001,\n",
       "            1.66666667e-001,  1.66666667e-001],\n",
       "          [ 1.66666667e-001,  1.66666667e-001,  1.66666667e-001,\n",
       "            1.66666667e-001,  1.66666667e-001,  1.66666667e-001,\n",
       "            1.66666667e-001,  1.66666667e-001],\n",
       "          [ 1.66666667e-001,  1.66666667e-001,  1.66666667e-001,\n",
       "            1.66666667e-001,  1.66666667e-001,  1.66666667e-001,\n",
       "            1.66666667e-001,  1.66666667e-001],\n",
       "          [ 1.66666667e-001,  1.66666667e-001,  1.66666667e-001,\n",
       "            1.66666667e-001,  1.66666667e-001,  1.66666667e-001,\n",
       "            1.66666667e-001,  1.66666667e-001]]]],\n",
       "\n",
       "\n",
       "\n",
       "       [[[[ 6.95099850e-310,  6.95099850e-310,  4.58492919e-321,\n",
       "            5.43472210e-323,  6.95099850e-310,  4.66179703e-310,\n",
       "            4.94065646e-324,  0.00000000e+000],\n",
       "          [ 6.95080941e-310,  6.95100085e-310,  6.95080941e-310,\n",
       "            5.13828272e-321,  1.48219694e-323,  2.37231055e-318,\n",
       "            6.95104015e-310,  6.95104015e-310],\n",
       "          [ 0.00000000e+000,  0.00000000e+000,  3.39852221e-084,\n",
       "            4.66160035e-310,  6.95100085e-310,  6.58246945e+056,\n",
       "            6.95100085e-310,  6.95100085e-310],\n",
       "          [ 3.45845952e-323,  4.94065646e-324,  4.66179750e-310,\n",
       "            8.18374488e+300,  6.95104036e-310,  6.95080941e-310,\n",
       "           -3.35608428e-215,  3.95252517e-323]],\n",
       "\n",
       "         [[ 6.95080941e-310,  6.95103801e-310,  6.95080941e-310,\n",
       "            6.95100083e-310,  1.90979621e-313,  6.95080941e-310,\n",
       "            4.66179750e-310,  6.95103860e-310],\n",
       "          [ 6.95080941e-310,  1.90979621e-313, -1.39507393e+203,\n",
       "            4.66179750e-310,  6.95103860e-310,  4.56111286e-169,\n",
       "            1.90979621e-313,  9.88131292e-324],\n",
       "          [ 4.66179750e-310,  4.66179750e-310,  4.94065646e-324,\n",
       "            4.66179750e-310,  6.95102161e-310,  4.66179623e-310,\n",
       "           -4.19200783e+089,  6.95100083e-310],\n",
       "          [ 5.72938864e-313,  2.43551472e-194,  4.66179623e-310,\n",
       "            6.95100085e-310, -4.79285830e+145,  6.15378779e-313,\n",
       "            6.95080941e-310,  6.95104037e-310]],\n",
       "\n",
       "         [[ 6.95102161e-310,  6.95099997e-310,  7.00258611e-313,\n",
       "            6.95102161e-310,  4.66179623e-310, -4.74252929e+158,\n",
       "            6.95099998e-310,  8.06358401e-313],\n",
       "          [ 6.95104037e-310,  4.66179750e-310,  6.95080941e-310,\n",
       "            4.66179750e-310,  4.66179750e-310,  4.66179750e-310,\n",
       "            1.90979621e-313,  6.95102161e-310],\n",
       "          [ 4.66179750e-310,  4.66179750e-310,  6.95099998e-310,\n",
       "            6.95099998e-310, -1.12843551e+263,  3.95252517e-323,\n",
       "            6.95080941e-310,  6.95104036e-310],\n",
       "          [ 6.95080941e-310,  6.95100085e-310,  4.44659081e-323,\n",
       "            6.95080941e-310,  4.66179750e-310, -4.57564670e+209,\n",
       "            6.95100085e-310,  6.95103511e-310]],\n",
       "\n",
       "         [[-8.78458350e-299,  4.44659081e-323,  6.95080941e-310,\n",
       "            4.66179750e-310,  6.95103507e-310,  6.95099998e-310,\n",
       "            4.68231947e+009,  6.95099998e-310],\n",
       "          [ 6.95103511e-310,  6.66755189e+173,  6.95099998e-310,\n",
       "            6.95099998e-310, -3.29681876e+277,  2.36851612e-318,\n",
       "            6.95104015e-310,  2.36843707e-318],\n",
       "          [ 6.95104015e-310,  4.66179747e-310,  0.00000000e+000,\n",
       "            0.00000000e+000,  6.95099998e-310,  7.26860163e-279,\n",
       "            6.95099998e-310,  6.95099998e-310],\n",
       "          [-8.67245231e+240,  6.95099998e-310,  6.95099998e-310,\n",
       "            2.93661117e+223,  6.95099998e-310,  6.95100083e-310,\n",
       "            9.26138351e+084,  6.95099998e-310]]]],\n",
       "\n",
       "\n",
       "\n",
       "       [[[[ 6.95100083e-310, -2.91993647e+297,  6.95099998e-310,\n",
       "            6.95100083e-310, -2.89390528e-080,  6.95099998e-310,\n",
       "            6.95099998e-310,  3.31069112e-076],\n",
       "          [ 6.95099998e-310,  6.95100091e-310, -3.42559722e+278,\n",
       "            6.95099998e-310,  6.95099998e-310,  1.54942842e+075,\n",
       "            6.95099998e-310,  6.95099998e-310],\n",
       "          [-7.61984981e-265,  6.95099998e-310,  6.95099998e-310,\n",
       "            6.59979266e-100,  6.95099998e-310,  6.95099998e-310,\n",
       "            2.89729161e-149,  6.95099998e-310],\n",
       "          [ 6.95099998e-310,  5.33961904e-155,  6.95099998e-310,\n",
       "            6.95099998e-310, -1.05794343e-240,  6.95099998e-310,\n",
       "            6.95099998e-310, -6.71417842e+253]],\n",
       "\n",
       "         [[ 6.95099998e-310,  6.95100083e-310,  2.39239605e+011,\n",
       "            6.95099998e-310,  6.95100098e-310,  2.39646410e+114,\n",
       "            6.95099998e-310,  6.95100083e-310],\n",
       "          [ 3.02691365e-286,  6.95099998e-310,  6.95100083e-310,\n",
       "            1.25880956e-082,  6.95099998e-310,  6.95099998e-310,\n",
       "           -1.48483933e-135,  6.95102881e-310],\n",
       "          [ 4.66179623e-310,  1.71608738e-276,  6.95099998e-310,\n",
       "            6.95099998e-310,  6.40527784e+159,  6.95099998e-310,\n",
       "            6.95100083e-310,  1.80381245e-005],\n",
       "          [ 6.95099998e-310,  2.36551220e-318,  6.95104015e-310,\n",
       "            6.95104015e-310,  0.00000000e+000,  0.00000000e+000,\n",
       "            6.95099998e-310,  6.95099850e-310]],\n",
       "\n",
       "         [[-1.04538813e+084,  6.95099998e-310,  6.95099850e-310,\n",
       "           -5.61809157e-296,  6.95099998e-310,  6.95100083e-310,\n",
       "           -4.60784266e+282,  6.95099998e-310],\n",
       "          [ 6.95100083e-310,  6.32777461e-058,  6.95100085e-310,\n",
       "            6.95099998e-310, -2.88378856e+188,  6.95099998e-310,\n",
       "            6.95099850e-310, -2.23733170e+021],\n",
       "          [ 6.95099998e-310,  6.95099998e-310,  8.88765693e-234,\n",
       "            6.95099998e-310,  6.95099850e-310, -1.01060624e-211,\n",
       "            6.95099998e-310,  6.95103511e-310],\n",
       "          [ 6.96519591e-208,  6.95099998e-310,  6.95099850e-310,\n",
       "           -5.95880113e-291,  6.95099998e-310,  6.95099850e-310,\n",
       "            2.53308475e-285,  6.95103507e-310]],\n",
       "\n",
       "         [[ 6.95100088e-310,  2.17132708e+022,  6.95100083e-310,\n",
       "            6.95100083e-310,  3.10033651e-065,  6.95099998e-310,\n",
       "            4.66179623e-310,  2.01247804e+274],\n",
       "          [ 6.95099998e-310,  6.95099998e-310,  1.52733417e+181,\n",
       "            6.95102874e-310,  6.95099998e-310,  1.82246037e-248,\n",
       "            6.95102892e-310,  6.95099850e-310],\n",
       "          [ 1.15093871e-251,  6.95099998e-310,  6.95100092e-310,\n",
       "            2.41504456e-139,  6.95099998e-310,  6.95099998e-310,\n",
       "           -6.59526102e-134,  6.95104036e-310],\n",
       "          [ 6.95099998e-310,  3.13793690e+094,  6.95099998e-310,\n",
       "            6.95099998e-310,  0.00000000e+000,  0.00000000e+000,\n",
       "            0.00000000e+000,  0.00000000e+000]]]],\n",
       "\n",
       "\n",
       "\n",
       "       [[[[ 0.00000000e+000,  0.00000000e+000,  0.00000000e+000,\n",
       "            0.00000000e+000,  0.00000000e+000,  0.00000000e+000,\n",
       "            0.00000000e+000,  0.00000000e+000],\n",
       "          [ 0.00000000e+000,  0.00000000e+000,  0.00000000e+000,\n",
       "            0.00000000e+000,  0.00000000e+000,  0.00000000e+000,\n",
       "            0.00000000e+000,  0.00000000e+000],\n",
       "          [ 0.00000000e+000,  0.00000000e+000,  0.00000000e+000,\n",
       "            0.00000000e+000,  0.00000000e+000,  0.00000000e+000,\n",
       "            0.00000000e+000,  0.00000000e+000],\n",
       "          [ 0.00000000e+000,  0.00000000e+000,  0.00000000e+000,\n",
       "            0.00000000e+000,  0.00000000e+000,  0.00000000e+000,\n",
       "            0.00000000e+000,  0.00000000e+000]],\n",
       "\n",
       "         [[ 0.00000000e+000,  0.00000000e+000,  0.00000000e+000,\n",
       "            0.00000000e+000,  0.00000000e+000,  0.00000000e+000,\n",
       "            0.00000000e+000,  0.00000000e+000],\n",
       "          [ 0.00000000e+000,  0.00000000e+000,  0.00000000e+000,\n",
       "            0.00000000e+000,  0.00000000e+000,  0.00000000e+000,\n",
       "            0.00000000e+000,  0.00000000e+000],\n",
       "          [ 0.00000000e+000,  0.00000000e+000,  0.00000000e+000,\n",
       "            0.00000000e+000,  0.00000000e+000,  0.00000000e+000,\n",
       "            0.00000000e+000,  0.00000000e+000],\n",
       "          [ 0.00000000e+000,  0.00000000e+000,  0.00000000e+000,\n",
       "            0.00000000e+000,  0.00000000e+000,  0.00000000e+000,\n",
       "            0.00000000e+000,  0.00000000e+000]],\n",
       "\n",
       "         [[ 0.00000000e+000,  0.00000000e+000,  0.00000000e+000,\n",
       "            0.00000000e+000,  0.00000000e+000,  0.00000000e+000,\n",
       "            0.00000000e+000,  0.00000000e+000],\n",
       "          [ 0.00000000e+000,  0.00000000e+000,  0.00000000e+000,\n",
       "            0.00000000e+000,  0.00000000e+000,  0.00000000e+000,\n",
       "            0.00000000e+000,  0.00000000e+000],\n",
       "          [ 0.00000000e+000,  0.00000000e+000,  0.00000000e+000,\n",
       "            0.00000000e+000,  0.00000000e+000,  0.00000000e+000,\n",
       "            0.00000000e+000,  0.00000000e+000],\n",
       "          [ 0.00000000e+000,  0.00000000e+000,  0.00000000e+000,\n",
       "            0.00000000e+000,  0.00000000e+000,  0.00000000e+000,\n",
       "            0.00000000e+000,  0.00000000e+000]],\n",
       "\n",
       "         [[ 0.00000000e+000,  0.00000000e+000,  0.00000000e+000,\n",
       "            0.00000000e+000,  0.00000000e+000,  0.00000000e+000,\n",
       "            0.00000000e+000,  0.00000000e+000],\n",
       "          [ 0.00000000e+000,  0.00000000e+000,  0.00000000e+000,\n",
       "            0.00000000e+000,  0.00000000e+000,  0.00000000e+000,\n",
       "            0.00000000e+000,  0.00000000e+000],\n",
       "          [ 0.00000000e+000,  0.00000000e+000,  0.00000000e+000,\n",
       "            0.00000000e+000,  0.00000000e+000,  0.00000000e+000,\n",
       "            0.00000000e+000,  0.00000000e+000],\n",
       "          [ 0.00000000e+000,  0.00000000e+000,  0.00000000e+000,\n",
       "            0.00000000e+000,  0.00000000e+000,  2.35776525e-318,\n",
       "            6.95104015e-310,  6.95104015e-310]]]],\n",
       "\n",
       "\n",
       "\n",
       "       [[[[ 0.00000000e+000,  0.00000000e+000,  6.99190311e-077,\n",
       "            9.76199838e-120,  2.33539242e-119,  6.64259261e-120,\n",
       "            3.95252517e-322,  3.95489668e-319],\n",
       "          [ 1.00000000e-001,  1.19047619e-002,  4.54545455e-002,\n",
       "            2.70270270e-002,  1.13636364e-002,  1.40845070e-002,\n",
       "            1.12359551e-002,  1.12359551e-002],\n",
       "          [ 7.69230769e-002,  1.69491525e-002,  1.51515152e-002,\n",
       "            2.50000000e-002,  1.13636364e-002,  2.12765957e-002,\n",
       "            1.12359551e-002,  1.21951220e-002],\n",
       "          [ 2.63157895e-002,  3.84615385e-002,  1.28205128e-002,\n",
       "            1.36986301e-002,  1.00000000e-001,  4.76190476e-002,\n",
       "            1.23456790e-002,  1.42857143e-002]],\n",
       "\n",
       "         [[ 1.25000000e-002,  2.08333333e-002,  1.53846154e-002,\n",
       "            1.20481928e-002,  1.12359551e-002,  2.00000000e-002,\n",
       "            3.33333333e-002,  5.00000000e-002],\n",
       "          [ 5.00000000e-002,  6.66666667e-002,  2.50000000e-002,\n",
       "            3.03030303e-002,  1.51515152e-002,  1.00000000e-001,\n",
       "            1.72413793e-002,  3.03030303e-002],\n",
       "          [ 3.12500000e-002,  1.33333333e-002,  4.16666667e-002,\n",
       "            2.77777778e-002,  1.31578947e-002,  1.78571429e-002,\n",
       "            3.44827586e-002,  2.85714286e-002],\n",
       "          [ 1.00000000e+000,  1.00000000e+000,  2.70270270e-002,\n",
       "            1.85185185e-002,  1.66666667e-001,  2.56410256e-002,\n",
       "            5.55555556e-002,  1.25000000e-002]],\n",
       "\n",
       "         [[ 2.00000000e-001,  2.32558140e-002,  1.69491525e-002,\n",
       "            3.12500000e-002,  5.00000000e-001,  1.51515152e-002,\n",
       "            2.38095238e-002,  1.72413793e-002],\n",
       "          [ 2.77777778e-002,  8.33333333e-002,  2.12765957e-002,\n",
       "            1.20481928e-002,  1.08695652e-002,  1.00000000e+000,\n",
       "            6.66666667e-002,  1.85185185e-002],\n",
       "          [ 7.69230769e-002,  2.32558140e-002,  1.17647059e-002,\n",
       "            1.31578947e-002,  1.44927536e-002,  1.42857143e-001,\n",
       "            1.44927536e-002,  2.08333333e-002],\n",
       "          [ 2.50000000e-001,  1.29870130e-002,  1.88679245e-002,\n",
       "            1.26582278e-002,  6.25000000e-002,  4.76190476e-002,\n",
       "            1.69491525e-002,  4.16666667e-002]],\n",
       "\n",
       "         [[ 1.25000000e-002,  7.14285714e-002,  1.16279070e-002,\n",
       "            2.04081633e-002,  2.00000000e-002,  1.42857143e-002,\n",
       "            2.38095238e-002,  2.77777778e-002],\n",
       "          [ 1.53846154e-002,  1.04166667e-002,  1.42857143e-002,\n",
       "            1.05263158e-002,  1.00000000e+000,  1.96078431e-002,\n",
       "            2.70270270e-002,  2.85714286e-002],\n",
       "          [ 2.04081633e-002,  1.06382979e-002,  2.50000000e-001,\n",
       "            1.01010101e-002,  2.32558140e-002,  1.28205128e-002,\n",
       "            4.54545455e-002,  1.35135135e-002],\n",
       "          [ 1.00000000e+000,  9.09090909e-002,  2.27272727e-002,\n",
       "            1.69491525e-002,  4.16666667e-002,  1.66666667e-002,\n",
       "            3.33333333e-001,  1.01010101e-002]]]],\n",
       "\n",
       "\n",
       "\n",
       "       [[[[ 1.58730159e-002,  2.77777778e-002,  1.05263158e-002,\n",
       "            1.47058824e-002,  1.20481928e-002,  2.12765957e-002,\n",
       "            4.76190476e-002,  1.21951220e-002],\n",
       "          [ 1.96078431e-002,  3.57142857e-002,  6.66666667e-002,\n",
       "            2.38095238e-002,  1.69491525e-002,  1.51515152e-002,\n",
       "            2.70270270e-002,  9.09090909e-002],\n",
       "          [ 1.14942529e-002,  2.27272727e-002,  8.33333333e-002,\n",
       "            3.33333333e-001,  1.92307692e-002,  1.23456790e-002,\n",
       "            3.03030303e-002,  1.81818182e-002],\n",
       "          [ 1.00000000e+000,  2.56410256e-002,  5.00000000e-002,\n",
       "            2.12765957e-002,  2.32558140e-002,  1.75438596e-002,\n",
       "            1.63934426e-002,  1.28205128e-002]],\n",
       "\n",
       "         [[ 3.22580645e-002,  4.00000000e-002,  3.33333333e-001,\n",
       "            2.50000000e-001,  1.05263158e-002,  1.01010101e-002,\n",
       "            7.14285714e-002,  2.43902439e-002],\n",
       "          [ 1.36986301e-002,  5.00000000e-002,  1.04166667e-002,\n",
       "            1.36986301e-002,  3.70370370e-002,  1.49253731e-002,\n",
       "            1.88679245e-002,  1.47058824e-002],\n",
       "          [ 1.61290323e-002,  6.66666667e-002,  1.03092784e-002,\n",
       "            2.00000000e-001,  1.47058824e-002,  8.33333333e-002,\n",
       "            1.14942529e-002,  1.28205128e-002],\n",
       "          [ 1.31578947e-002,  1.75438596e-002,  5.88235294e-002,\n",
       "            4.00000000e-002,  3.33333333e-002,  4.54545455e-002,\n",
       "            3.84615385e-002,  1.23456790e-002]],\n",
       "\n",
       "         [[ 1.63934426e-002,  1.61290323e-002,  1.19047619e-002,\n",
       "            2.94117647e-002,  3.03030303e-002,  1.40845070e-002,\n",
       "            1.16279070e-002,  3.12500000e-002],\n",
       "          [ 7.14285714e-002,  1.38888889e-002,  1.75438596e-002,\n",
       "            4.00000000e-002,  1.25000000e-002,  2.38095238e-002,\n",
       "            5.26315789e-002,  2.43902439e-002],\n",
       "          [ 1.81818182e-002,  1.25000000e-002,  8.33333333e-002,\n",
       "            2.56410256e-002,  1.06382979e-002,  5.00000000e-001,\n",
       "            1.04166667e-002,  2.22222222e-002],\n",
       "          [ 1.12359551e-002,  4.00000000e-002,  1.47058824e-002,\n",
       "            1.20481928e-002,  2.50000000e-001,  1.29870130e-002,\n",
       "            2.77777778e-002,  1.14942529e-002]],\n",
       "\n",
       "         [[ 1.61290323e-002,  1.42857143e-002,  1.13636364e-002,\n",
       "            2.27272727e-002,  3.03030303e-002,  8.33333333e-002,\n",
       "            1.17647059e-002,  9.09090909e-002],\n",
       "          [ 1.81818182e-002,  2.63157895e-002,  3.44827586e-002,\n",
       "            3.33333333e-001,  3.57142857e-002,  1.19047619e-002,\n",
       "            1.11111111e-002,  4.16666667e-002],\n",
       "          [ 1.85185185e-002,  1.92307692e-002,  2.12765957e-002,\n",
       "            4.76190476e-002,  1.85185185e-002,  3.33333333e-002,\n",
       "            1.47058824e-002,  2.77777778e-002],\n",
       "          [ 2.50000000e-002,  1.00000000e-001,  1.35135135e-002,\n",
       "            2.38095238e-002,  4.16666667e-002,  2.50000000e-001,\n",
       "            2.12765957e-002,  1.09890110e-002]]]]])"
      ]
     },
     "execution_count": 64,
     "metadata": {},
     "output_type": "execute_result"
    }
   ],
   "source": [
    "comute_reciprocals(values)\n"
   ]
  },
  {
   "cell_type": "code",
   "execution_count": 65,
   "metadata": {},
   "outputs": [
    {
     "name": "stdout",
     "output_type": "stream",
     "text": [
      "20.4 µs ± 753 ns per loop (mean ± std. dev. of 7 runs, 10000 loops each)\n"
     ]
    }
   ],
   "source": [
    "big_array = np.random.randint(1,100, size=10000)\n",
    "%timeit (1.0/big_array)"
   ]
  },
  {
   "cell_type": "code",
   "execution_count": 120,
   "metadata": {},
   "outputs": [
    {
     "data": {
      "text/plain": [
       "array([0, 1, 2, 3, 4])"
      ]
     },
     "execution_count": 120,
     "metadata": {},
     "output_type": "execute_result"
    }
   ],
   "source": [
    "\n",
    "np.arange(5)"
   ]
  },
  {
   "cell_type": "code",
   "execution_count": 121,
   "metadata": {},
   "outputs": [
    {
     "data": {
      "text/plain": [
       "array([[1., 0., 0.],\n",
       "       [0., 1., 0.],\n",
       "       [0., 0., 1.]])"
      ]
     },
     "execution_count": 121,
     "metadata": {},
     "output_type": "execute_result"
    }
   ],
   "source": [
    "np.identity(3)"
   ]
  },
  {
   "cell_type": "code",
   "execution_count": 126,
   "metadata": {},
   "outputs": [
    {
     "data": {
      "text/plain": [
       "array([[0, 1, 2],\n",
       "       [3, 4, 5],\n",
       "       [6, 7, 8]])"
      ]
     },
     "execution_count": 126,
     "metadata": {},
     "output_type": "execute_result"
    }
   ],
   "source": [
    "x = np.arange(9).reshape((3,3))\n",
    "x"
   ]
  },
  {
   "cell_type": "code",
   "execution_count": null,
   "metadata": {},
   "outputs": [],
   "source": []
  },
  {
   "cell_type": "code",
   "execution_count": null,
   "metadata": {},
   "outputs": [],
   "source": []
  },
  {
   "cell_type": "code",
   "execution_count": null,
   "metadata": {},
   "outputs": [],
   "source": []
  },
  {
   "cell_type": "markdown",
   "metadata": {},
   "source": [
    "#### Introducing UFuncs (Universal functions)\n",
    "\n",
    "[Docs](https://docs.scipy.org/doc/numpy/reference/ufuncs.html())\n",
    "\n"
   ]
  },
  {
   "cell_type": "code",
   "execution_count": 3,
   "metadata": {},
   "outputs": [],
   "source": [
    "import csv"
   ]
  },
  {
   "cell_type": "code",
   "execution_count": 4,
   "metadata": {},
   "outputs": [
    {
     "name": "stdout",
     "output_type": "stream",
     "text": [
      "VendorID,lpep_pickup_datetime,lpep_dropoff_datetime,store_and_fwd_flag,RatecodeID,PULocationID,DOLocationID,passenger_count,trip_distance,fare_amount,extra,mta_tax,tip_amount,tolls_amount,ehail_fee,improvement_surcharge,total_amount,payment_type,trip_type\r",
      "\r\n",
      "\r",
      "\r\n",
      "2,2017-01-01 00:01:15,2017-01-01 00:11:05,N,1,42,166,1,1.71,9,0,0.5,0,0,,0.3,9.8,2,1\r",
      "\r\n",
      "2,2017-01-01 00:03:34,2017-01-01 00:09:00,N,1,75,74,1,1.44,6.5,0.5,0.5,0,0,,0.3,7.8,2,1\r",
      "\r\n",
      "2,2017-01-01 00:04:02,2017-01-01 00:12:55,N,1,82,70,5,3.45,12,0.5,0.5,2.66,0,,0.3,15.96,1,1\r",
      "\r\n",
      "2,2017-01-01 00:01:40,2017-01-01 00:14:23,N,1,255,232,1,2.11,10.5,0.5,0.5,0,0,,0.3,11.8,2,1\r",
      "\r\n",
      "2,2017-01-01 00:00:51,2017-01-01 00:18:55,N,1,166,239,1,2.76,11.5,0.5,0.5,0,0,,0.3,12.8,2,1\r",
      "\r\n",
      "2,2017-01-01 00:00:28,2017-01-01 00:13:31,N,1,179,226,1,4.14,15,0.5,0.5,0,0,,0.3,16.3,1,1\r",
      "\r\n",
      "2,2017-01-01 00:02:39,2017-01-01 00:26:28,N,1,74,167,1,4.22,19,0.5,0.5,0,0,,0.3,20.3,2,1\r",
      "\r\n",
      "2,2017-01-01 00:15:21,2017-01-01 00:28:06,N,1,112,37,1,2.83,11,0.5,0.5,0,0,,0.3,12.3,2,1\r",
      "\r\n"
     ]
    }
   ],
   "source": [
    "!head taxi_data.csv"
   ]
  },
  {
   "cell_type": "code",
   "execution_count": 17,
   "metadata": {},
   "outputs": [],
   "source": [
    "with open('taxi_data.csv', 'r') as f:\n",
    "    taxi_list = list(csv.reader(f))\n",
    "    \n",
    " \n"
   ]
  },
  {
   "cell_type": "code",
   "execution_count": 18,
   "metadata": {},
   "outputs": [],
   "source": [
    "taxi_list = taxi_list[2:]   "
   ]
  },
  {
   "cell_type": "code",
   "execution_count": 20,
   "metadata": {},
   "outputs": [],
   "source": [
    "#taxi_list[:3]"
   ]
  },
  {
   "cell_type": "code",
   "execution_count": 21,
   "metadata": {},
   "outputs": [
    {
     "data": {
      "text/plain": [
       "['2',\n",
       " '2017-01-01 00:00:51',\n",
       " '2017-01-01 00:18:55',\n",
       " 'N',\n",
       " '1',\n",
       " '166',\n",
       " '239',\n",
       " '1',\n",
       " '2.76',\n",
       " '11.5',\n",
       " '0.5',\n",
       " '0.5',\n",
       " '0',\n",
       " '0',\n",
       " '',\n",
       " '0.3',\n",
       " '12.8',\n",
       " '2',\n",
       " '1']"
      ]
     },
     "execution_count": 21,
     "metadata": {},
     "output_type": "execute_result"
    }
   ],
   "source": [
    "taxi_list[2]"
   ]
  },
  {
   "cell_type": "code",
   "execution_count": 26,
   "metadata": {},
   "outputs": [],
   "source": [
    "converted_taxi_list = []\n",
    "\n",
    "for row in taxi_list:\n",
    "    converted_row = []\n",
    "    for item in row:\n",
    "        try:\n",
    "            converted_row.append(float(item))\n",
    "        except:\n",
    "            continue\n",
    "    converted_taxi_list.append(converted_row)\n"
   ]
  },
  {
   "cell_type": "code",
   "execution_count": 24,
   "metadata": {},
   "outputs": [],
   "source": [
    "#converted_taxi_list[:2]    \n",
    "\n"
   ]
  },
  {
   "cell_type": "code",
   "execution_count": 27,
   "metadata": {},
   "outputs": [
    {
     "data": {
      "text/plain": [
       "array([[  2.  ,   1.  ,  82.  , ...,  15.96,   1.  ,   1.  ],\n",
       "       [  2.  ,   1.  , 255.  , ...,  11.8 ,   2.  ,   1.  ],\n",
       "       [  2.  ,   1.  , 166.  , ...,  12.8 ,   2.  ,   1.  ],\n",
       "       ...,\n",
       "       [  1.  ,   1.  , 228.  , ...,  80.3 ,   1.  ,   1.  ],\n",
       "       [  1.  ,   1.  ,   7.  , ...,  17.3 ,   1.  ,   1.  ],\n",
       "       [  1.  ,   1.  , 255.  , ...,  12.8 ,   1.  ,   1.  ]])"
      ]
     },
     "execution_count": 27,
     "metadata": {},
     "output_type": "execute_result"
    }
   ],
   "source": [
    "taxi = np.array(converted_taxi_list)\n",
    "taxi"
   ]
  },
  {
   "cell_type": "code",
   "execution_count": null,
   "metadata": {},
   "outputs": [],
   "source": []
  },
  {
   "cell_type": "code",
   "execution_count": null,
   "metadata": {},
   "outputs": [],
   "source": []
  },
  {
   "cell_type": "code",
   "execution_count": 9,
   "metadata": {},
   "outputs": [
    {
     "data": {
      "text/plain": [
       "array([[ 4,  5,  6],\n",
       "       [16, 25, 36]])"
      ]
     },
     "execution_count": 9,
     "metadata": {},
     "output_type": "execute_result"
    }
   ],
   "source": [
    "x = np.array([1,2,3])\n",
    "y = np.array([4,5,6])\n",
    "\n",
    "x.dot(y)\n",
    "\n",
    "z = np.array([y, y**2])\n",
    "z"
   ]
  },
  {
   "cell_type": "code",
   "execution_count": 10,
   "metadata": {},
   "outputs": [
    {
     "data": {
      "text/plain": [
       "array([[ 4, 16],\n",
       "       [ 5, 25],\n",
       "       [ 6, 36]])"
      ]
     },
     "execution_count": 10,
     "metadata": {},
     "output_type": "execute_result"
    }
   ],
   "source": [
    "z.T"
   ]
  },
  {
   "cell_type": "code",
   "execution_count": 11,
   "metadata": {},
   "outputs": [
    {
     "data": {
      "text/plain": [
       "(2, 3)"
      ]
     },
     "execution_count": 11,
     "metadata": {},
     "output_type": "execute_result"
    }
   ],
   "source": [
    "z.shape"
   ]
  },
  {
   "cell_type": "code",
   "execution_count": 12,
   "metadata": {},
   "outputs": [
    {
     "data": {
      "text/plain": [
       "<function ndarray.sort>"
      ]
     },
     "execution_count": 12,
     "metadata": {},
     "output_type": "execute_result"
    }
   ],
   "source": [
    "z.sort"
   ]
  },
  {
   "cell_type": "code",
   "execution_count": 31,
   "metadata": {},
   "outputs": [
    {
     "data": {
      "text/plain": [
       "array([12.8, 11.3, 12.3, ..., 61.8, 15.3, 10.8])"
      ]
     },
     "execution_count": 31,
     "metadata": {},
     "output_type": "execute_result"
    }
   ],
   "source": [
    "col1 = taxi[:, 6]\n",
    "col2 = taxi[:, 8]\n",
    "col3 = taxi[:, 11]\n",
    "sums  = col1 + col2 + col3\n",
    "sums"
   ]
  },
  {
   "cell_type": "code",
   "execution_count": 32,
   "metadata": {},
   "outputs": [
    {
     "ename": "ValueError",
     "evalue": "operands could not be broadcast together with shapes (3,) (4,) ",
     "output_type": "error",
     "traceback": [
      "\u001b[0;31m---------------------------------------------------------------------------\u001b[0m",
      "\u001b[0;31mValueError\u001b[0m                                Traceback (most recent call last)",
      "\u001b[0;32m<ipython-input-32-fb27528f727a>\u001b[0m in \u001b[0;36m<module>\u001b[0;34m\u001b[0m\n\u001b[0;32m----> 1\u001b[0;31m \u001b[0mnp\u001b[0m\u001b[0;34m.\u001b[0m\u001b[0marange\u001b[0m\u001b[0;34m(\u001b[0m\u001b[0;36m3\u001b[0m\u001b[0;34m)\u001b[0m \u001b[0;34m+\u001b[0m \u001b[0mnp\u001b[0m\u001b[0;34m.\u001b[0m\u001b[0marange\u001b[0m\u001b[0;34m(\u001b[0m\u001b[0;36m4\u001b[0m\u001b[0;34m)\u001b[0m\u001b[0;34m\u001b[0m\u001b[0;34m\u001b[0m\u001b[0m\n\u001b[0m",
      "\u001b[0;31mValueError\u001b[0m: operands could not be broadcast together with shapes (3,) (4,) "
     ]
    }
   ],
   "source": [
    "np.arange(3) + np.arange(4)"
   ]
  },
  {
   "cell_type": "code",
   "execution_count": 33,
   "metadata": {},
   "outputs": [
    {
     "data": {
      "text/plain": [
       "(19996, 15)"
      ]
     },
     "execution_count": 33,
     "metadata": {},
     "output_type": "execute_result"
    }
   ],
   "source": [
    "taxi.shape"
   ]
  },
  {
   "cell_type": "code",
   "execution_count": 51,
   "metadata": {},
   "outputs": [
    {
     "data": {
      "text/plain": [
       "1"
      ]
     },
     "execution_count": 51,
     "metadata": {},
     "output_type": "execute_result"
    }
   ],
   "source": [
    "taxi.ndim"
   ]
  },
  {
   "cell_type": "code",
   "execution_count": 34,
   "metadata": {},
   "outputs": [
    {
     "name": "stderr",
     "output_type": "stream",
     "text": [
      "/home/evgenursic/anaconda3/lib/python3.7/site-packages/ipykernel_launcher.py:3: RuntimeWarning: divide by zero encountered in true_divide\n",
      "  This is separate from the ipykernel package so we can avoid doing imports until\n",
      "/home/evgenursic/anaconda3/lib/python3.7/site-packages/ipykernel_launcher.py:3: RuntimeWarning: invalid value encountered in true_divide\n",
      "  This is separate from the ipykernel package so we can avoid doing imports until\n"
     ]
    },
    {
     "data": {
      "text/plain": [
       "array([4.62608696, 5.59241706, 4.63768116, ..., 3.70046083, 4.11904762,\n",
       "       5.12      ])"
      ]
     },
     "execution_count": 34,
     "metadata": {},
     "output_type": "execute_result"
    }
   ],
   "source": [
    "trip_distance = taxi[:,5]\n",
    "trip_price = taxi[:,12]\n",
    "price_per_mile = trip_price / trip_distance\n",
    "price_per_mile"
   ]
  },
  {
   "cell_type": "code",
   "execution_count": 35,
   "metadata": {},
   "outputs": [
    {
     "name": "stderr",
     "output_type": "stream",
     "text": [
      "/home/evgenursic/anaconda3/lib/python3.7/site-packages/ipykernel_launcher.py:1: RuntimeWarning: divide by zero encountered in true_divide\n",
      "  \"\"\"Entry point for launching an IPython kernel.\n"
     ]
    },
    {
     "data": {
      "text/plain": [
       "array([inf, inf, inf])"
      ]
     },
     "execution_count": 35,
     "metadata": {},
     "output_type": "execute_result"
    }
   ],
   "source": [
    "np.array([1,2,3]) / 0"
   ]
  },
  {
   "cell_type": "code",
   "execution_count": 36,
   "metadata": {},
   "outputs": [
    {
     "name": "stderr",
     "output_type": "stream",
     "text": [
      "/home/evgenursic/anaconda3/lib/python3.7/site-packages/ipykernel_launcher.py:1: RuntimeWarning: divide by zero encountered in true_divide\n",
      "  \"\"\"Entry point for launching an IPython kernel.\n",
      "/home/evgenursic/anaconda3/lib/python3.7/site-packages/ipykernel_launcher.py:1: RuntimeWarning: invalid value encountered in true_divide\n",
      "  \"\"\"Entry point for launching an IPython kernel.\n"
     ]
    },
    {
     "data": {
      "text/plain": [
       "array([4.62608696, 5.59241706, 4.63768116, ..., 3.70046083, 4.11904762,\n",
       "       5.12      ])"
      ]
     },
     "execution_count": 36,
     "metadata": {},
     "output_type": "execute_result"
    }
   ],
   "source": [
    "price_per_mile2 = np.divide(trip_price, trip_distance)\n",
    "price_per_mile2"
   ]
  },
  {
   "cell_type": "code",
   "execution_count": 38,
   "metadata": {},
   "outputs": [
    {
     "data": {
      "text/plain": [
       "-60.0"
      ]
     },
     "execution_count": 38,
     "metadata": {},
     "output_type": "execute_result"
    }
   ],
   "source": [
    "price_min = taxi[:,12].min()\n",
    "price_min"
   ]
  },
  {
   "cell_type": "code",
   "execution_count": 40,
   "metadata": {},
   "outputs": [
    {
     "data": {
      "text/plain": [
       "240.0"
      ]
     },
     "execution_count": 40,
     "metadata": {},
     "output_type": "execute_result"
    }
   ],
   "source": [
    "price_max = taxi[:,12].max()\n",
    "price_max"
   ]
  },
  {
   "cell_type": "code",
   "execution_count": 41,
   "metadata": {},
   "outputs": [
    {
     "data": {
      "text/plain": [
       "240.0"
      ]
     },
     "execution_count": 41,
     "metadata": {},
     "output_type": "execute_result"
    }
   ],
   "source": [
    "np.max(taxi[:,12])"
   ]
  },
  {
   "cell_type": "code",
   "execution_count": 42,
   "metadata": {},
   "outputs": [
    {
     "data": {
      "text/plain": [
       "240.0"
      ]
     },
     "execution_count": 42,
     "metadata": {},
     "output_type": "execute_result"
    }
   ],
   "source": [
    "taxi[:,12].max()"
   ]
  },
  {
   "cell_type": "code",
   "execution_count": 43,
   "metadata": {},
   "outputs": [
    {
     "data": {
      "text/plain": [
       "15.861171234246854"
      ]
     },
     "execution_count": 43,
     "metadata": {},
     "output_type": "execute_result"
    }
   ],
   "source": [
    "taxi[:,12].mean()"
   ]
  },
  {
   "cell_type": "code",
   "execution_count": 45,
   "metadata": {},
   "outputs": [
    {
     "data": {
      "text/plain": [
       "array([[  2.  ,   1.  ,  82.  ,  70.  ,   5.  ,   3.45,  12.  ,   0.5 ,\n",
       "          0.5 ,   2.66,   0.  ,   0.3 ,  15.96,   1.  ,   1.  ],\n",
       "       [  2.  ,   1.  , 255.  , 232.  ,   1.  ,   2.11,  10.5 ,   0.5 ,\n",
       "          0.5 ,   0.  ,   0.  ,   0.3 ,  11.8 ,   2.  ,   1.  ],\n",
       "       [  2.  ,   1.  , 166.  , 239.  ,   1.  ,   2.76,  11.5 ,   0.5 ,\n",
       "          0.5 ,   0.  ,   0.  ,   0.3 ,  12.8 ,   2.  ,   1.  ],\n",
       "       [  2.  ,   1.  , 179.  , 226.  ,   1.  ,   4.14,  15.  ,   0.5 ,\n",
       "          0.5 ,   0.  ,   0.  ,   0.3 ,  16.3 ,   1.  ,   1.  ],\n",
       "       [  2.  ,   1.  ,  74.  , 167.  ,   1.  ,   4.22,  19.  ,   0.5 ,\n",
       "          0.5 ,   0.  ,   0.  ,   0.3 ,  20.3 ,   2.  ,   1.  ],\n",
       "       [  2.  ,   1.  , 112.  ,  37.  ,   1.  ,   2.83,  11.  ,   0.5 ,\n",
       "          0.5 ,   0.  ,   0.  ,   0.3 ,  12.3 ,   2.  ,   1.  ],\n",
       "       [  2.  ,   1.  ,  36.  ,  37.  ,   1.  ,   0.78,   5.  ,   0.5 ,\n",
       "          0.5 ,   0.  ,   0.  ,   0.3 ,   6.3 ,   2.  ,   1.  ],\n",
       "       [  2.  ,   1.  , 127.  , 174.  ,   5.  ,   3.49,  13.5 ,   0.5 ,\n",
       "          0.5 ,   0.  ,   0.  ,   0.3 ,  14.8 ,   2.  ,   1.  ],\n",
       "       [  2.  ,   1.  ,  41.  , 238.  ,   1.  ,   1.61,   8.5 ,   0.5 ,\n",
       "          0.5 ,   1.96,   0.  ,   0.3 ,  11.76,   1.  ,   1.  ],\n",
       "       [  2.  ,   1.  ,  97.  , 228.  ,   1.  ,   5.63,  21.  ,   0.5 ,\n",
       "          0.5 ,   1.  ,   0.  ,   0.3 ,  23.3 ,   1.  ,   1.  ],\n",
       "       [  2.  ,   1.  , 255.  ,  26.  ,   5.  ,  10.24,  30.  ,   0.5 ,\n",
       "          0.5 ,   0.  ,   0.  ,   0.3 ,  31.3 ,   2.  ,   1.  ],\n",
       "       [  2.  ,   1.  ,  70.  , 173.  ,   1.  ,   0.97,   7.  ,   0.5 ,\n",
       "          0.5 ,   0.  ,   0.  ,   0.3 ,   8.3 ,   1.  ,   1.  ],\n",
       "       [  2.  ,   1.  , 255.  ,  40.  ,   1.  ,   5.56,  18.5 ,   0.5 ,\n",
       "          0.5 ,   5.94,   0.  ,   0.3 ,  25.74,   1.  ,   1.  ],\n",
       "       [  2.  ,   1.  ,  82.  , 260.  ,   1.  ,   1.75,  10.  ,   0.5 ,\n",
       "          0.5 ,   0.  ,   0.  ,   0.3 ,  11.3 ,   2.  ,   1.  ],\n",
       "       [  2.  ,   5.  ,  36.  ,  36.  ,   1.  ,   0.  ,   3.  ,   0.  ,\n",
       "          0.  ,   0.  ,   0.  ,   0.  ,   3.  ,   1.  ,   2.  ],\n",
       "       [  2.  ,   1.  ,   7.  , 223.  ,   1.  ,   2.  ,   9.  ,   0.5 ,\n",
       "          0.5 ,   2.06,   0.  ,   0.3 ,  12.36,   1.  ,   1.  ],\n",
       "       [  2.  ,   1.  , 256.  , 106.  ,   1.  ,   5.48,  17.  ,   0.5 ,\n",
       "          0.5 ,   3.29,   0.  ,   0.3 ,  21.59,   1.  ,   1.  ],\n",
       "       [  2.  ,   1.  , 181.  , 228.  ,   1.  ,   2.  ,  10.5 ,   0.5 ,\n",
       "          0.5 ,   0.  ,   0.  ,   0.3 ,  11.8 ,   2.  ,   1.  ],\n",
       "       [  2.  ,   1.  , 112.  , 107.  ,   2.  ,   6.03,  21.5 ,   0.5 ,\n",
       "          0.5 ,   4.56,   0.  ,   0.3 ,  27.36,   1.  ,   1.  ],\n",
       "       [  2.  ,   1.  , 129.  ,  56.  ,   2.  ,   2.41,  10.5 ,   0.5 ,\n",
       "          0.5 ,   0.  ,   0.  ,   0.3 ,  11.8 ,   2.  ,   1.  ]])"
      ]
     },
     "execution_count": 45,
     "metadata": {},
     "output_type": "execute_result"
    }
   ],
   "source": [
    "taxi_first_20 = taxi[:20]\n",
    "taxi_first_20"
   ]
  },
  {
   "cell_type": "code",
   "execution_count": 47,
   "metadata": {},
   "outputs": [
    {
     "data": {
      "text/plain": [
       "array([[12.  ,  0.5 ,  0.5 ,  2.66,  0.  ,  0.3 ],\n",
       "       [10.5 ,  0.5 ,  0.5 ,  0.  ,  0.  ,  0.3 ],\n",
       "       [11.5 ,  0.5 ,  0.5 ,  0.  ,  0.  ,  0.3 ],\n",
       "       [15.  ,  0.5 ,  0.5 ,  0.  ,  0.  ,  0.3 ],\n",
       "       [19.  ,  0.5 ,  0.5 ,  0.  ,  0.  ,  0.3 ],\n",
       "       [11.  ,  0.5 ,  0.5 ,  0.  ,  0.  ,  0.3 ],\n",
       "       [ 5.  ,  0.5 ,  0.5 ,  0.  ,  0.  ,  0.3 ],\n",
       "       [13.5 ,  0.5 ,  0.5 ,  0.  ,  0.  ,  0.3 ],\n",
       "       [ 8.5 ,  0.5 ,  0.5 ,  1.96,  0.  ,  0.3 ],\n",
       "       [21.  ,  0.5 ,  0.5 ,  1.  ,  0.  ,  0.3 ],\n",
       "       [30.  ,  0.5 ,  0.5 ,  0.  ,  0.  ,  0.3 ],\n",
       "       [ 7.  ,  0.5 ,  0.5 ,  0.  ,  0.  ,  0.3 ],\n",
       "       [18.5 ,  0.5 ,  0.5 ,  5.94,  0.  ,  0.3 ],\n",
       "       [10.  ,  0.5 ,  0.5 ,  0.  ,  0.  ,  0.3 ],\n",
       "       [ 3.  ,  0.  ,  0.  ,  0.  ,  0.  ,  0.  ],\n",
       "       [ 9.  ,  0.5 ,  0.5 ,  2.06,  0.  ,  0.3 ],\n",
       "       [17.  ,  0.5 ,  0.5 ,  3.29,  0.  ,  0.3 ],\n",
       "       [10.5 ,  0.5 ,  0.5 ,  0.  ,  0.  ,  0.3 ],\n",
       "       [21.5 ,  0.5 ,  0.5 ,  4.56,  0.  ,  0.3 ],\n",
       "       [10.5 ,  0.5 ,  0.5 ,  0.  ,  0.  ,  0.3 ]])"
      ]
     },
     "execution_count": 47,
     "metadata": {},
     "output_type": "execute_result"
    }
   ],
   "source": [
    "cene_skupaj = taxi_first_20[:,6:12]\n",
    "cene_skupaj"
   ]
  },
  {
   "cell_type": "code",
   "execution_count": 50,
   "metadata": {},
   "outputs": [
    {
     "data": {
      "text/plain": [
       "array([15.96, 11.8 , 12.8 , 16.3 , 20.3 , 12.3 ,  6.3 , 14.8 , 11.76,\n",
       "       23.3 , 31.3 ,  8.3 , 25.74, 11.3 ,  3.  , 12.36, 21.59, 11.8 ,\n",
       "       27.36, 11.8 ])"
      ]
     },
     "execution_count": 50,
     "metadata": {},
     "output_type": "execute_result"
    }
   ],
   "source": [
    "\n",
    "cene_skupaj_preracunano = taxi_first_20[:,12]\n",
    "cene_skupaj_preracunano"
   ]
  },
  {
   "cell_type": "code",
   "execution_count": 52,
   "metadata": {},
   "outputs": [
    {
     "data": {
      "text/plain": [
       "array([16., 12., 13., 16., 20., 12.,  6., 15., 12., 23., 31.,  8., 26.,\n",
       "       11.,  3., 12., 22., 12., 27., 12.])"
      ]
     },
     "execution_count": 52,
     "metadata": {},
     "output_type": "execute_result"
    }
   ],
   "source": [
    "cena_sestevek = cene_skupaj.sum(axis=1)\n",
    "cena_sestevek.round()"
   ]
  },
  {
   "cell_type": "code",
   "execution_count": 53,
   "metadata": {},
   "outputs": [
    {
     "data": {
      "text/plain": [
       "array([16., 12., 13., 16., 20., 12.,  6., 15., 12., 23., 31.,  8., 26.,\n",
       "       11.,  3., 12., 22., 12., 27., 12.])"
      ]
     },
     "execution_count": 53,
     "metadata": {},
     "output_type": "execute_result"
    }
   ],
   "source": [
    "cene_skupaj_preracunano.round()"
   ]
  },
  {
   "cell_type": "code",
   "execution_count": 55,
   "metadata": {},
   "outputs": [
    {
     "data": {
      "text/plain": [
       "array([[1., 1., 1.],\n",
       "       [1., 1., 1.]])"
      ]
     },
     "execution_count": 55,
     "metadata": {},
     "output_type": "execute_result"
    }
   ],
   "source": [
    "ones = np.ones ((2,3))\n",
    "ones"
   ]
  },
  {
   "cell_type": "code",
   "execution_count": 56,
   "metadata": {},
   "outputs": [
    {
     "data": {
      "text/plain": [
       "array([0., 0., 0.])"
      ]
     },
     "execution_count": 56,
     "metadata": {},
     "output_type": "execute_result"
    }
   ],
   "source": [
    "zeros = np.zeros(3)\n",
    "zeros"
   ]
  },
  {
   "cell_type": "code",
   "execution_count": 59,
   "metadata": {},
   "outputs": [
    {
     "ename": "ValueError",
     "evalue": "all the input arrays must have same number of dimensions",
     "output_type": "error",
     "traceback": [
      "\u001b[0;31m---------------------------------------------------------------------------\u001b[0m",
      "\u001b[0;31mValueError\u001b[0m                                Traceback (most recent call last)",
      "\u001b[0;32m<ipython-input-59-4dc690807eb3>\u001b[0m in \u001b[0;36m<module>\u001b[0;34m\u001b[0m\n\u001b[0;32m----> 1\u001b[0;31m \u001b[0mcombined\u001b[0m \u001b[0;34m=\u001b[0m \u001b[0mnp\u001b[0m\u001b[0;34m.\u001b[0m\u001b[0mconcatenate\u001b[0m\u001b[0;34m(\u001b[0m\u001b[0;34m[\u001b[0m\u001b[0mones\u001b[0m\u001b[0;34m,\u001b[0m\u001b[0mzeros\u001b[0m\u001b[0;34m]\u001b[0m\u001b[0;34m,\u001b[0m \u001b[0maxis\u001b[0m\u001b[0;34m=\u001b[0m\u001b[0;36m0\u001b[0m\u001b[0;34m)\u001b[0m\u001b[0;34m\u001b[0m\u001b[0;34m\u001b[0m\u001b[0m\n\u001b[0m",
      "\u001b[0;31mValueError\u001b[0m: all the input arrays must have same number of dimensions"
     ]
    }
   ],
   "source": [
    "combined = np.concatenate([ones,zeros], axis=0)"
   ]
  },
  {
   "cell_type": "code",
   "execution_count": 60,
   "metadata": {},
   "outputs": [
    {
     "data": {
      "text/plain": [
       "(2, 3)"
      ]
     },
     "execution_count": 60,
     "metadata": {},
     "output_type": "execute_result"
    }
   ],
   "source": [
    "ones.shape"
   ]
  },
  {
   "cell_type": "code",
   "execution_count": 61,
   "metadata": {},
   "outputs": [
    {
     "data": {
      "text/plain": [
       "(3,)"
      ]
     },
     "execution_count": 61,
     "metadata": {},
     "output_type": "execute_result"
    }
   ],
   "source": [
    "zeros.shape"
   ]
  },
  {
   "cell_type": "code",
   "execution_count": 65,
   "metadata": {},
   "outputs": [
    {
     "data": {
      "text/plain": [
       "array([[0., 0., 0.]])"
      ]
     },
     "execution_count": 65,
     "metadata": {},
     "output_type": "execute_result"
    }
   ],
   "source": [
    "zeros_2d = np.expand_dims(zeros, axis=0)\n",
    "zeros_2d\n"
   ]
  },
  {
   "cell_type": "code",
   "execution_count": 66,
   "metadata": {},
   "outputs": [
    {
     "data": {
      "text/plain": [
       "(1, 3)"
      ]
     },
     "execution_count": 66,
     "metadata": {},
     "output_type": "execute_result"
    }
   ],
   "source": [
    "zeros_2d.shape"
   ]
  },
  {
   "cell_type": "code",
   "execution_count": 68,
   "metadata": {},
   "outputs": [
    {
     "data": {
      "text/plain": [
       "array([[1., 1., 1.],\n",
       "       [1., 1., 1.],\n",
       "       [0., 0., 0.]])"
      ]
     },
     "execution_count": 68,
     "metadata": {},
     "output_type": "execute_result"
    }
   ],
   "source": [
    "combined = np.concatenate([ones, zeros_2d], axis=0)\n",
    "combined"
   ]
  },
  {
   "cell_type": "code",
   "execution_count": 69,
   "metadata": {},
   "outputs": [
    {
     "data": {
      "text/plain": [
       "(19996,)"
      ]
     },
     "execution_count": 69,
     "metadata": {},
     "output_type": "execute_result"
    }
   ],
   "source": [
    "price_per_mile.shape"
   ]
  },
  {
   "cell_type": "code",
   "execution_count": 71,
   "metadata": {},
   "outputs": [
    {
     "data": {
      "text/plain": [
       "array([[4.62608696],\n",
       "       [5.59241706],\n",
       "       [4.63768116],\n",
       "       ...,\n",
       "       [3.70046083],\n",
       "       [4.11904762],\n",
       "       [5.12      ]])"
      ]
     },
     "execution_count": 71,
     "metadata": {},
     "output_type": "execute_result"
    }
   ],
   "source": [
    "price_per_mile_2d = np.expand_dims(price_per_mile, axis=1)\n",
    "price_per_mile_2d"
   ]
  },
  {
   "cell_type": "code",
   "execution_count": 72,
   "metadata": {},
   "outputs": [
    {
     "data": {
      "text/plain": [
       "(19996, 1)"
      ]
     },
     "execution_count": 72,
     "metadata": {},
     "output_type": "execute_result"
    }
   ],
   "source": [
    "price_per_mile_2d.shape"
   ]
  },
  {
   "cell_type": "code",
   "execution_count": 75,
   "metadata": {},
   "outputs": [
    {
     "data": {
      "text/plain": [
       "array([4.62608696, 5.59241706, 4.63768116, ..., 3.70046083, 4.11904762,\n",
       "       5.12      ])"
      ]
     },
     "execution_count": 75,
     "metadata": {},
     "output_type": "execute_result"
    }
   ],
   "source": [
    "taxi = np.concatenate([taxi, price_per_mile_2d], axis=1)\n",
    "taxi[:,-1]"
   ]
  },
  {
   "cell_type": "code",
   "execution_count": 77,
   "metadata": {},
   "outputs": [
    {
     "data": {
      "text/plain": [
       "array(['pomaranca', 'banana', 'jabolka', 'grozdje', 'cesnja'], dtype='<U9')"
      ]
     },
     "execution_count": 77,
     "metadata": {},
     "output_type": "execute_result"
    }
   ],
   "source": [
    "sadje = np.array(['pomaranca', 'banana', 'jabolka', 'grozdje', 'cesnja'])\n",
    "sadje"
   ]
  },
  {
   "cell_type": "code",
   "execution_count": 78,
   "metadata": {},
   "outputs": [
    {
     "data": {
      "text/plain": [
       "'jabolka'"
      ]
     },
     "execution_count": 78,
     "metadata": {},
     "output_type": "execute_result"
    }
   ],
   "source": [
    "sadje[2]"
   ]
  },
  {
   "cell_type": "code",
   "execution_count": 80,
   "metadata": {},
   "outputs": [
    {
     "data": {
      "text/plain": [
       "array(['jabolka', 'banana'], dtype='<U9')"
      ]
     },
     "execution_count": 80,
     "metadata": {},
     "output_type": "execute_result"
    }
   ],
   "source": [
    "sadje[[2,1]]"
   ]
  },
  {
   "cell_type": "code",
   "execution_count": 82,
   "metadata": {},
   "outputs": [
    {
     "data": {
      "text/plain": [
       "array([1, 4, 3, 2, 0])"
      ]
     },
     "execution_count": 82,
     "metadata": {},
     "output_type": "execute_result"
    }
   ],
   "source": [
    "sorted_order = np.argsort(sadje)\n",
    "sorted_order"
   ]
  },
  {
   "cell_type": "code",
   "execution_count": 84,
   "metadata": {},
   "outputs": [
    {
     "data": {
      "text/plain": [
       "array(['banana', 'cesnja', 'grozdje', 'jabolka', 'pomaranca'], dtype='<U9')"
      ]
     },
     "execution_count": 84,
     "metadata": {},
     "output_type": "execute_result"
    }
   ],
   "source": [
    "sortirano_sadje = sadje[sorted_order]\n",
    "sortirano_sadje"
   ]
  },
  {
   "cell_type": "code",
   "execution_count": 86,
   "metadata": {},
   "outputs": [
    {
     "data": {
      "text/plain": [
       "array([[0, 1, 6, 1, 6],\n",
       "       [1, 2, 6, 0, 5],\n",
       "       [7, 8, 7, 0, 3],\n",
       "       [9, 8, 9, 4, 1],\n",
       "       [0, 6, 4, 3, 4]])"
      ]
     },
     "execution_count": 86,
     "metadata": {},
     "output_type": "execute_result"
    }
   ],
   "source": [
    "int_square = np.random.randint(10, size=(5,5))\n",
    "int_square"
   ]
  },
  {
   "cell_type": "code",
   "execution_count": 88,
   "metadata": {},
   "outputs": [
    {
     "data": {
      "text/plain": [
       "array([6, 5, 3, 1, 4])"
      ]
     },
     "execution_count": 88,
     "metadata": {},
     "output_type": "execute_result"
    }
   ],
   "source": [
    "last_column = int_square[:,4]\n",
    "last_column"
   ]
  },
  {
   "cell_type": "code",
   "execution_count": 91,
   "metadata": {},
   "outputs": [
    {
     "data": {
      "text/plain": [
       "array([3, 2, 4, 1, 0])"
      ]
     },
     "execution_count": 91,
     "metadata": {},
     "output_type": "execute_result"
    }
   ],
   "source": [
    "sorted_order = np.argsort(last_column)\n",
    "sorted_order"
   ]
  },
  {
   "cell_type": "code",
   "execution_count": 93,
   "metadata": {},
   "outputs": [
    {
     "data": {
      "text/plain": [
       "array([1, 3, 4, 5, 6])"
      ]
     },
     "execution_count": 93,
     "metadata": {},
     "output_type": "execute_result"
    }
   ],
   "source": [
    "last_column_sorted = last_column[sorted_order]\n",
    "last_column_sorted"
   ]
  },
  {
   "cell_type": "code",
   "execution_count": 95,
   "metadata": {},
   "outputs": [
    {
     "data": {
      "text/plain": [
       "array([[9, 8, 9, 4, 1],\n",
       "       [7, 8, 7, 0, 3],\n",
       "       [0, 6, 4, 3, 4],\n",
       "       [1, 2, 6, 0, 5],\n",
       "       [0, 1, 6, 1, 6]])"
      ]
     },
     "execution_count": 95,
     "metadata": {},
     "output_type": "execute_result"
    }
   ],
   "source": [
    "int_square_sorted = int_square[sorted_order]\n",
    "int_square_sorted"
   ]
  },
  {
   "cell_type": "code",
   "execution_count": 97,
   "metadata": {},
   "outputs": [
    {
     "data": {
      "text/plain": [
       "array([[9, 8, 9, 4, 1],\n",
       "       [7, 8, 7, 0, 3],\n",
       "       [0, 6, 4, 3, 4],\n",
       "       [1, 2, 6, 0, 5],\n",
       "       [0, 1, 6, 1, 6]])"
      ]
     },
     "execution_count": 97,
     "metadata": {},
     "output_type": "execute_result"
    }
   ],
   "source": [
    "int_square_sorted = int_square[np.argsort(int_square[:,4])]\n",
    "int_square_sorted "
   ]
  },
  {
   "cell_type": "code",
   "execution_count": 99,
   "metadata": {},
   "outputs": [
    {
     "data": {
      "text/plain": [
       "array([    0, 13229, 13228, ...,  5603,  4739, 19125])"
      ]
     },
     "execution_count": 99,
     "metadata": {},
     "output_type": "execute_result"
    }
   ],
   "source": [
    "sorted_order = np.argsort(taxi[:,1])\n",
    "sorted_order"
   ]
  },
  {
   "cell_type": "code",
   "execution_count": 101,
   "metadata": {},
   "outputs": [
    {
     "data": {
      "text/plain": [
       "array([[  2.        ,   1.        ,  82.        , ...,   4.62608696,\n",
       "          4.62608696,   4.62608696],\n",
       "       [  2.        ,   1.        ,  97.        , ...,   6.13445378,\n",
       "          6.13445378,   6.13445378],\n",
       "       [  2.        ,   1.        ,  61.        , ...,   8.        ,\n",
       "          8.        ,   8.        ],\n",
       "       ...,\n",
       "       [  2.        ,   5.        , 228.        , ...,   7.53295669,\n",
       "          7.53295669,   7.53295669],\n",
       "       [  2.        ,   5.        , 181.        , ...,   7.68667643,\n",
       "          7.68667643,   7.68667643],\n",
       "       [  2.        ,   5.        , 256.        , ...,  32.65306122,\n",
       "         32.65306122,  32.65306122]])"
      ]
     },
     "execution_count": 101,
     "metadata": {},
     "output_type": "execute_result"
    }
   ],
   "source": [
    "taxi_sorted = taxi[sorted_order]\n",
    "taxi_sorted"
   ]
  },
  {
   "cell_type": "code",
   "execution_count": 102,
   "metadata": {},
   "outputs": [
    {
     "data": {
      "text/plain": [
       "array([ 4.62608696,  6.13445378,  8.        , 12.        ,  5.08051948,\n",
       "        3.40625   ,  8.29268293,  4.69658887,  5.07317073,  5.98130841,\n",
       "        4.47129909,  2.85714286,  6.88888889,  6.86868687,  4.03258656,\n",
       "        4.40816327,  6.24242424,  6.24      ,  3.63302752,  6.50526316])"
      ]
     },
     "execution_count": 102,
     "metadata": {},
     "output_type": "execute_result"
    }
   ],
   "source": [
    "taxi_sorted[:20,-1]"
   ]
  },
  {
   "cell_type": "code",
   "execution_count": 103,
   "metadata": {},
   "outputs": [
    {
     "name": "stdout",
     "output_type": "stream",
     "text": [
      "VendorID,lpep_pickup_datetime,lpep_dropoff_datetime,store_and_fwd_flag,RatecodeID,PULocationID,DOLocationID,passenger_count,trip_distance,fare_amount,extra,mta_tax,tip_amount,tolls_amount,ehail_fee,improvement_surcharge,total_amount,payment_type,trip_type\r",
      "\r\n",
      "\r",
      "\r\n",
      "2,2017-01-01 00:01:15,2017-01-01 00:11:05,N,1,42,166,1,1.71,9,0,0.5,0,0,,0.3,9.8,2,1\r",
      "\r\n",
      "2,2017-01-01 00:03:34,2017-01-01 00:09:00,N,1,75,74,1,1.44,6.5,0.5,0.5,0,0,,0.3,7.8,2,1\r",
      "\r\n",
      "2,2017-01-01 00:04:02,2017-01-01 00:12:55,N,1,82,70,5,3.45,12,0.5,0.5,2.66,0,,0.3,15.96,1,1\r",
      "\r\n",
      "2,2017-01-01 00:01:40,2017-01-01 00:14:23,N,1,255,232,1,2.11,10.5,0.5,0.5,0,0,,0.3,11.8,2,1\r",
      "\r\n",
      "2,2017-01-01 00:00:51,2017-01-01 00:18:55,N,1,166,239,1,2.76,11.5,0.5,0.5,0,0,,0.3,12.8,2,1\r",
      "\r\n",
      "2,2017-01-01 00:00:28,2017-01-01 00:13:31,N,1,179,226,1,4.14,15,0.5,0.5,0,0,,0.3,16.3,1,1\r",
      "\r\n",
      "2,2017-01-01 00:02:39,2017-01-01 00:26:28,N,1,74,167,1,4.22,19,0.5,0.5,0,0,,0.3,20.3,2,1\r",
      "\r\n",
      "2,2017-01-01 00:15:21,2017-01-01 00:28:06,N,1,112,37,1,2.83,11,0.5,0.5,0,0,,0.3,12.3,2,1\r",
      "\r\n"
     ]
    }
   ],
   "source": [
    "!head taxi_data.csv"
   ]
  },
  {
   "cell_type": "code",
   "execution_count": 106,
   "metadata": {},
   "outputs": [
    {
     "data": {
      "text/plain": [
       "array([[ 2.  ,   nan,   nan, ...,  9.8 ,  2.  ,  1.  ],\n",
       "       [ 2.  ,   nan,   nan, ...,  7.8 ,  2.  ,  1.  ],\n",
       "       [ 2.  ,   nan,   nan, ..., 15.96,  1.  ,  1.  ],\n",
       "       ...,\n",
       "       [ 1.  ,   nan,   nan, ..., 80.3 ,  1.  ,  1.  ],\n",
       "       [ 1.  ,   nan,   nan, ..., 17.3 ,  1.  ,  1.  ],\n",
       "       [ 1.  ,   nan,   nan, ..., 12.8 ,  1.  ,  1.  ]])"
      ]
     },
     "execution_count": 106,
     "metadata": {},
     "output_type": "execute_result"
    }
   ],
   "source": [
    "taxi = np.genfromtxt('taxi_data.csv',\n",
    "                    delimiter=',',\n",
    "                    skip_header=2)\n",
    "taxi"
   ]
  },
  {
   "cell_type": "code",
   "execution_count": 107,
   "metadata": {},
   "outputs": [
    {
     "data": {
      "text/plain": [
       "(19998, 19)"
      ]
     },
     "execution_count": 107,
     "metadata": {},
     "output_type": "execute_result"
    }
   ],
   "source": [
    "taxi.shape"
   ]
  },
  {
   "cell_type": "code",
   "execution_count": 108,
   "metadata": {},
   "outputs": [
    {
     "data": {
      "text/plain": [
       "75.0"
      ]
     },
     "execution_count": 108,
     "metadata": {},
     "output_type": "execute_result"
    }
   ],
   "source": [
    "taxi[1,5]\n"
   ]
  },
  {
   "cell_type": "code",
   "execution_count": 109,
   "metadata": {},
   "outputs": [
    {
     "data": {
      "text/plain": [
       "array([[ 2.  ,   nan,   nan, ...,  9.8 ,  2.  ,  1.  ],\n",
       "       [ 2.  ,   nan,   nan, ...,  7.8 ,  2.  ,  1.  ],\n",
       "       [ 2.  ,   nan,   nan, ..., 15.96,  1.  ,  1.  ],\n",
       "       ...,\n",
       "       [ 1.  ,   nan,   nan, ..., 80.3 ,  1.  ,  1.  ],\n",
       "       [ 1.  ,   nan,   nan, ..., 17.3 ,  1.  ,  1.  ],\n",
       "       [ 1.  ,   nan,   nan, ..., 12.8 ,  1.  ,  1.  ]])"
      ]
     },
     "execution_count": 109,
     "metadata": {},
     "output_type": "execute_result"
    }
   ],
   "source": [
    "taxi"
   ]
  },
  {
   "cell_type": "code",
   "execution_count": 110,
   "metadata": {},
   "outputs": [
    {
     "data": {
      "text/plain": [
       "array([11, 12, 13, 14])"
      ]
     },
     "execution_count": 110,
     "metadata": {},
     "output_type": "execute_result"
    }
   ],
   "source": [
    "np.array([1,2,3,4]) + 10"
   ]
  },
  {
   "cell_type": "code",
   "execution_count": 111,
   "metadata": {},
   "outputs": [
    {
     "data": {
      "text/plain": [
       "array([ True,  True, False, False])"
      ]
     },
     "execution_count": 111,
     "metadata": {},
     "output_type": "execute_result"
    }
   ],
   "source": [
    "np.array([2,4,6,8,]) < 5"
   ]
  },
  {
   "cell_type": "code",
   "execution_count": 114,
   "metadata": {},
   "outputs": [
    {
     "data": {
      "text/plain": [
       "array([1, 2, 3, 4, 5])"
      ]
     },
     "execution_count": 114,
     "metadata": {},
     "output_type": "execute_result"
    }
   ],
   "source": [
    "a = np.array([1,2,3,4,5])\n",
    "a"
   ]
  },
  {
   "cell_type": "code",
   "execution_count": 116,
   "metadata": {},
   "outputs": [
    {
     "data": {
      "text/plain": [
       "array([ True,  True, False, False, False])"
      ]
     },
     "execution_count": 116,
     "metadata": {},
     "output_type": "execute_result"
    }
   ],
   "source": [
    "a_bool = a < 3\n",
    "a_bool"
   ]
  },
  {
   "cell_type": "code",
   "execution_count": 118,
   "metadata": {},
   "outputs": [
    {
     "data": {
      "text/plain": [
       "array(['blue', 'red', 'black'], dtype='<U5')"
      ]
     },
     "execution_count": 118,
     "metadata": {},
     "output_type": "execute_result"
    }
   ],
   "source": [
    "b = np.array(['blue', 'red', 'black'])\n",
    "b"
   ]
  },
  {
   "cell_type": "code",
   "execution_count": 120,
   "metadata": {},
   "outputs": [
    {
     "data": {
      "text/plain": [
       "array([False,  True, False])"
      ]
     },
     "execution_count": 120,
     "metadata": {},
     "output_type": "execute_result"
    }
   ],
   "source": [
    "b_bool = b == 'red'\n",
    "b_bool"
   ]
  },
  {
   "cell_type": "code",
   "execution_count": 122,
   "metadata": {},
   "outputs": [
    {
     "data": {
      "text/plain": [
       "array([1., 1., 5., ..., 2., 1., 1.])"
      ]
     },
     "execution_count": 122,
     "metadata": {},
     "output_type": "execute_result"
    }
   ],
   "source": [
    "passenger_count = taxi[:,7]\n",
    "passenger_count"
   ]
  },
  {
   "cell_type": "code",
   "execution_count": 123,
   "metadata": {},
   "outputs": [
    {
     "data": {
      "text/plain": [
       "(19998,)"
      ]
     },
     "execution_count": 123,
     "metadata": {},
     "output_type": "execute_result"
    }
   ],
   "source": [
    "passenger_count.shape"
   ]
  },
  {
   "cell_type": "code",
   "execution_count": 125,
   "metadata": {},
   "outputs": [
    {
     "data": {
      "text/plain": [
       "array([False, False, False, ...,  True, False, False])"
      ]
     },
     "execution_count": 125,
     "metadata": {},
     "output_type": "execute_result"
    }
   ],
   "source": [
    "two_pass_bool = passenger_count == 2\n",
    "two_pass_bool\n"
   ]
  },
  {
   "cell_type": "code",
   "execution_count": 127,
   "metadata": {},
   "outputs": [
    {
     "data": {
      "text/plain": [
       "array([2., 2., 2., ..., 2., 2., 2.])"
      ]
     },
     "execution_count": 127,
     "metadata": {},
     "output_type": "execute_result"
    }
   ],
   "source": [
    "two_passengers = passenger_count[two_pass_bool]\n",
    "two_passengers"
   ]
  },
  {
   "cell_type": "code",
   "execution_count": 128,
   "metadata": {},
   "outputs": [
    {
     "data": {
      "text/plain": [
       "(1801,)"
      ]
     },
     "execution_count": 128,
     "metadata": {},
     "output_type": "execute_result"
    }
   ],
   "source": [
    "two_passengers.shape"
   ]
  },
  {
   "cell_type": "code",
   "execution_count": 130,
   "metadata": {},
   "outputs": [
    {
     "data": {
      "text/plain": [
       "array([[1, 7, 3],\n",
       "       [7, 6, 0],\n",
       "       [5, 7, 6],\n",
       "       [5, 0, 3]])"
      ]
     },
     "execution_count": 130,
     "metadata": {},
     "output_type": "execute_result"
    }
   ],
   "source": [
    "arr = np.random.randint(10, size=(4,3))\n",
    "arr"
   ]
  },
  {
   "cell_type": "code",
   "execution_count": 135,
   "metadata": {},
   "outputs": [],
   "source": [
    "bool_1 = [True, False, True, True]\n",
    "bool_2 = [True, False, True]"
   ]
  },
  {
   "cell_type": "code",
   "execution_count": 133,
   "metadata": {},
   "outputs": [
    {
     "ename": "IndexError",
     "evalue": "boolean index did not match indexed array along dimension 1; dimension is 3 but corresponding boolean dimension is 4",
     "output_type": "error",
     "traceback": [
      "\u001b[0;31m---------------------------------------------------------------------------\u001b[0m",
      "\u001b[0;31mIndexError\u001b[0m                                Traceback (most recent call last)",
      "\u001b[0;32m<ipython-input-133-389c7be67776>\u001b[0m in \u001b[0;36m<module>\u001b[0;34m\u001b[0m\n\u001b[0;32m----> 1\u001b[0;31m \u001b[0marr\u001b[0m\u001b[0;34m[\u001b[0m\u001b[0;34m:\u001b[0m\u001b[0;34m,\u001b[0m\u001b[0mbool_1\u001b[0m\u001b[0;34m]\u001b[0m\u001b[0;34m\u001b[0m\u001b[0;34m\u001b[0m\u001b[0m\n\u001b[0m",
      "\u001b[0;31mIndexError\u001b[0m: boolean index did not match indexed array along dimension 1; dimension is 3 but corresponding boolean dimension is 4"
     ]
    }
   ],
   "source": [
    "arr[:,bool_1]"
   ]
  },
  {
   "cell_type": "code",
   "execution_count": 136,
   "metadata": {},
   "outputs": [
    {
     "data": {
      "text/plain": [
       "array([[1, 3],\n",
       "       [7, 0],\n",
       "       [5, 6],\n",
       "       [5, 3]])"
      ]
     },
     "execution_count": 136,
     "metadata": {},
     "output_type": "execute_result"
    }
   ],
   "source": [
    "arr[:,bool_2]"
   ]
  },
  {
   "cell_type": "code",
   "execution_count": 138,
   "metadata": {},
   "outputs": [
    {
     "data": {
      "text/plain": [
       "array(['blue', 'red', 'black'], dtype='<U5')"
      ]
     },
     "execution_count": 138,
     "metadata": {},
     "output_type": "execute_result"
    }
   ],
   "source": [
    "b = np.array(['blue', 'red', 'black'])\n",
    "b"
   ]
  },
  {
   "cell_type": "code",
   "execution_count": 141,
   "metadata": {},
   "outputs": [
    {
     "data": {
      "text/plain": [
       "array(['blue', 'orang', 'black'], dtype='<U5')"
      ]
     },
     "execution_count": 141,
     "metadata": {},
     "output_type": "execute_result"
    }
   ],
   "source": [
    "b[1] = 'orange'\n",
    "b"
   ]
  },
  {
   "cell_type": "code",
   "execution_count": 143,
   "metadata": {},
   "outputs": [
    {
     "data": {
      "text/plain": [
       "array(['blue', 'pink', 'pink'], dtype='<U5')"
      ]
     },
     "execution_count": 143,
     "metadata": {},
     "output_type": "execute_result"
    }
   ],
   "source": [
    "b[1:] = 'pink'\n",
    "b"
   ]
  },
  {
   "cell_type": "code",
   "execution_count": 145,
   "metadata": {},
   "outputs": [
    {
     "data": {
      "text/plain": [
       "array([[1., 1., 1., 1., 1.],\n",
       "       [1., 1., 1., 1., 1.],\n",
       "       [1., 1., 1., 1., 1.]])"
      ]
     },
     "execution_count": 145,
     "metadata": {},
     "output_type": "execute_result"
    }
   ],
   "source": [
    "ones = np.ones((3,5))\n",
    "ones"
   ]
  },
  {
   "cell_type": "code",
   "execution_count": 147,
   "metadata": {},
   "outputs": [
    {
     "data": {
      "text/plain": [
       "array([[ 1.,  1.,  1.,  1.,  1.],\n",
       "       [ 1.,  1., 99.,  1.,  1.],\n",
       "       [ 1.,  1.,  1.,  1.,  1.]])"
      ]
     },
     "execution_count": 147,
     "metadata": {},
     "output_type": "execute_result"
    }
   ],
   "source": [
    "ones[1,2] = 99\n",
    "ones"
   ]
  },
  {
   "cell_type": "code",
   "execution_count": 149,
   "metadata": {},
   "outputs": [
    {
     "data": {
      "text/plain": [
       "array([[42., 42., 42., 42., 42.],\n",
       "       [ 1.,  1., 99.,  1.,  1.],\n",
       "       [ 1.,  1.,  1.,  1.,  1.]])"
      ]
     },
     "execution_count": 149,
     "metadata": {},
     "output_type": "execute_result"
    }
   ],
   "source": [
    "ones[0] = 42\n",
    "ones"
   ]
  },
  {
   "cell_type": "code",
   "execution_count": 151,
   "metadata": {},
   "outputs": [
    {
     "data": {
      "text/plain": [
       "array([[1., 1., 1., 1.],\n",
       "       [1., 1., 1., 1.],\n",
       "       [1., 1., 1., 1.],\n",
       "       [1., 1., 1., 1.]])"
      ]
     },
     "execution_count": 151,
     "metadata": {},
     "output_type": "execute_result"
    }
   ],
   "source": [
    "r = np.ones((4,4))\n",
    "r"
   ]
  },
  {
   "cell_type": "code",
   "execution_count": 153,
   "metadata": {},
   "outputs": [
    {
     "data": {
      "text/plain": [
       "array([[1., 1.],\n",
       "       [1., 1.]])"
      ]
     },
     "execution_count": 153,
     "metadata": {},
     "output_type": "execute_result"
    }
   ],
   "source": [
    "r2 = r[:2, :2]\n",
    "r2"
   ]
  },
  {
   "cell_type": "code",
   "execution_count": 155,
   "metadata": {},
   "outputs": [
    {
     "data": {
      "text/plain": [
       "array([[0., 0.],\n",
       "       [0., 0.]])"
      ]
     },
     "execution_count": 155,
     "metadata": {},
     "output_type": "execute_result"
    }
   ],
   "source": [
    "r2[:] = 0\n",
    "r2"
   ]
  },
  {
   "cell_type": "code",
   "execution_count": 156,
   "metadata": {},
   "outputs": [
    {
     "data": {
      "text/plain": [
       "140364762213072"
      ]
     },
     "execution_count": 156,
     "metadata": {},
     "output_type": "execute_result"
    }
   ],
   "source": [
    "id(r2)"
   ]
  },
  {
   "cell_type": "code",
   "execution_count": 157,
   "metadata": {},
   "outputs": [
    {
     "data": {
      "text/plain": [
       "array([[0., 0., 1., 1.],\n",
       "       [0., 0., 1., 1.],\n",
       "       [1., 1., 1., 1.],\n",
       "       [1., 1., 1., 1.]])"
      ]
     },
     "execution_count": 157,
     "metadata": {},
     "output_type": "execute_result"
    }
   ],
   "source": [
    "r"
   ]
  },
  {
   "cell_type": "code",
   "execution_count": 160,
   "metadata": {},
   "outputs": [
    {
     "data": {
      "text/plain": [
       "array([[3, 2, 6, 5, 3],\n",
       "       [9, 6, 8, 2, 8],\n",
       "       [8, 0, 6, 8, 7],\n",
       "       [5, 3, 1, 2, 1],\n",
       "       [5, 4, 9, 2, 9]])"
      ]
     },
     "execution_count": 160,
     "metadata": {},
     "output_type": "execute_result"
    }
   ],
   "source": [
    "r3 = np.random.randint(10, size=(5,5))\n",
    "r3"
   ]
  },
  {
   "cell_type": "code",
   "execution_count": 162,
   "metadata": {},
   "outputs": [
    {
     "data": {
      "text/plain": [
       "array([[3, 2],\n",
       "       [9, 6]])"
      ]
     },
     "execution_count": 162,
     "metadata": {},
     "output_type": "execute_result"
    }
   ],
   "source": [
    "r3_sub_copy = r3[:2, :2].copy()\n",
    "r3_sub_copy"
   ]
  },
  {
   "cell_type": "code",
   "execution_count": 165,
   "metadata": {},
   "outputs": [
    {
     "data": {
      "text/plain": [
       "array([[0, 0],\n",
       "       [0, 0]])"
      ]
     },
     "execution_count": 165,
     "metadata": {},
     "output_type": "execute_result"
    }
   ],
   "source": [
    "r3_sub_copy[:] = 0\n",
    "r3_sub_copy"
   ]
  },
  {
   "cell_type": "code",
   "execution_count": null,
   "metadata": {},
   "outputs": [],
   "source": []
  },
  {
   "cell_type": "code",
   "execution_count": null,
   "metadata": {},
   "outputs": [],
   "source": []
  },
  {
   "cell_type": "code",
   "execution_count": null,
   "metadata": {},
   "outputs": [],
   "source": []
  },
  {
   "cell_type": "code",
   "execution_count": null,
   "metadata": {},
   "outputs": [],
   "source": []
  },
  {
   "cell_type": "markdown",
   "metadata": {},
   "source": [
    "### Uvoz realnih podatkov\n"
   ]
  },
  {
   "cell_type": "code",
   "execution_count": null,
   "metadata": {},
   "outputs": [],
   "source": []
  },
  {
   "cell_type": "code",
   "execution_count": null,
   "metadata": {},
   "outputs": [],
   "source": []
  },
  {
   "cell_type": "code",
   "execution_count": null,
   "metadata": {},
   "outputs": [],
   "source": []
  },
  {
   "cell_type": "code",
   "execution_count": null,
   "metadata": {},
   "outputs": [],
   "source": []
  },
  {
   "cell_type": "code",
   "execution_count": null,
   "metadata": {},
   "outputs": [],
   "source": []
  },
  {
   "cell_type": "code",
   "execution_count": null,
   "metadata": {},
   "outputs": [],
   "source": []
  },
  {
   "cell_type": "markdown",
   "metadata": {},
   "source": [
    "- Row 1 is RatecodeID\n",
    "- Row 2 is PULocationID\n",
    "- Row 3 is DOLocationID\n",
    "- Row 4 is passenger_count\n",
    "- Row 5 is trip_distance\n",
    "- Row 6 is fare_amount\n",
    "- Row 7 is extra\n",
    "- Row 8 is mta_tax\n",
    "- Row 9 is tip_amount\n",
    "- Row 10 is tolls_amount\n",
    "- Row 11 is improvement_surcharge\n",
    "- Row 12 is total_amount\n",
    "- Row 13 is payment_type\n",
    "- Row 14 is trip_type"
   ]
  },
  {
   "cell_type": "markdown",
   "metadata": {},
   "source": [
    "### Vector Math\n",
    "\n"
   ]
  },
  {
   "cell_type": "code",
   "execution_count": null,
   "metadata": {},
   "outputs": [],
   "source": []
  },
  {
   "cell_type": "code",
   "execution_count": null,
   "metadata": {},
   "outputs": [],
   "source": []
  },
  {
   "cell_type": "code",
   "execution_count": null,
   "metadata": {},
   "outputs": [],
   "source": []
  },
  {
   "cell_type": "code",
   "execution_count": null,
   "metadata": {},
   "outputs": [],
   "source": []
  },
  {
   "cell_type": "code",
   "execution_count": null,
   "metadata": {},
   "outputs": [],
   "source": []
  },
  {
   "cell_type": "markdown",
   "metadata": {},
   "source": [
    "\n",
    "Here's what happened behind the scenes:\n",
    "\n",
    "<p><img alt=\"Vectorized Addition\" src=\"https://s3.amazonaws.com/dq-content/289/vectorized_addition.svg\"></p>\n",
    "\n",
    "\n",
    "- `vector_a + vector_b` - Addition\n",
    "- `vector_a - vector_b7` - Subtraction\n",
    "- `vector_a * vector_b` - Multiplication (this is unrelated to the vector multiplication used in linear algebra).\n",
    "- `vector_a / vector_b` - Division\n",
    "- `vector_a % vector_b` - Modulus (find the remainder when vector_a is divided by vector_b)\n",
    "- `vector_a ** vector_b` - Exponent (raise vector_a to the power of vector_b)\n",
    "- `vector_a // vector_b` - Floor Division (divide vector_a by vector_b, rounding down to the nearest integer)"
   ]
  },
  {
   "cell_type": "code",
   "execution_count": null,
   "metadata": {},
   "outputs": [],
   "source": []
  },
  {
   "cell_type": "code",
   "execution_count": null,
   "metadata": {},
   "outputs": [],
   "source": []
  },
  {
   "cell_type": "code",
   "execution_count": null,
   "metadata": {},
   "outputs": [],
   "source": []
  },
  {
   "cell_type": "code",
   "execution_count": null,
   "metadata": {},
   "outputs": [],
   "source": []
  },
  {
   "cell_type": "code",
   "execution_count": null,
   "metadata": {},
   "outputs": [],
   "source": []
  },
  {
   "cell_type": "markdown",
   "metadata": {},
   "source": [
    "\n",
    "<div class=\"inner_cell\">\n",
    "<div class=\"text_cell_render border-box-sizing rendered_html\">\n",
    "<p>The following table lists the arithmetic operators implemented in NumPy:</p>\n",
    "<table>\n",
    "<thead><tr>\n",
    "<th>Operator</th>\n",
    "<th>Equivalent ufunc</th>\n",
    "<th>Description</th>\n",
    "</tr>\n",
    "</thead>\n",
    "<tbody>\n",
    "<tr>\n",
    "<td><code>+</code></td>\n",
    "<td><code>np.add</code></td>\n",
    "<td>Addition (e.g., <code>1 + 1 = 2</code>)</td>\n",
    "</tr>\n",
    "<tr>\n",
    "<td><code>-</code></td>\n",
    "<td><code>np.subtract</code></td>\n",
    "<td>Subtraction (e.g., <code>3 - 2 = 1</code>)</td>\n",
    "</tr>\n",
    "<tr>\n",
    "<td><code>-</code></td>\n",
    "<td><code>np.negative</code></td>\n",
    "<td>Unary negation (e.g., <code>-2</code>)</td>\n",
    "</tr>\n",
    "<tr>\n",
    "<td><code>*</code></td>\n",
    "<td><code>np.multiply</code></td>\n",
    "<td>Multiplication (e.g., <code>2 * 3 = 6</code>)</td>\n",
    "</tr>\n",
    "<tr>\n",
    "<td><code>/</code></td>\n",
    "<td><code>np.divide</code></td>\n",
    "<td>Division (e.g., <code>3 / 2 = 1.5</code>)</td>\n",
    "</tr>\n",
    "<tr>\n",
    "<td><code>//</code></td>\n",
    "<td><code>np.floor_divide</code></td>\n",
    "<td>Floor division (e.g., <code>3 // 2 = 1</code>)</td>\n",
    "</tr>\n",
    "<tr>\n",
    "<td><code>**</code></td>\n",
    "<td><code>np.power</code></td>\n",
    "<td>Exponentiation (e.g., <code>2 ** 3 = 8</code>)</td>\n",
    "</tr>\n",
    "<tr>\n",
    "<td><code>%</code></td>\n",
    "<td><code>np.mod</code></td>\n",
    "<td>Modulus/remainder (e.g., <code>9 % 4 = 1</code>)</td>\n",
    "</tr>\n",
    "</tbody>\n",
    "</table>\n",
    "<p>Additionally there are Boolean/bitwise operators; we will explore these in <a href=\"02.06-boolean-arrays-and-masks.html\">Comparisons, Masks, and Boolean Logic</a>.</p>\n",
    "\n",
    "</div>\n",
    "</div>\n",
    "\n",
    "[Mathematical expressions](https://docs.scipy.org/doc/numpy-1.14.0/reference/routines.math.html#arithmetic-operations)"
   ]
  },
  {
   "cell_type": "markdown",
   "metadata": {},
   "source": [
    "### Calculating Statistics For 1D ndarrays\n",
    "\n"
   ]
  },
  {
   "cell_type": "code",
   "execution_count": null,
   "metadata": {},
   "outputs": [],
   "source": []
  },
  {
   "cell_type": "code",
   "execution_count": null,
   "metadata": {},
   "outputs": [],
   "source": []
  },
  {
   "cell_type": "code",
   "execution_count": null,
   "metadata": {},
   "outputs": [],
   "source": []
  },
  {
   "cell_type": "code",
   "execution_count": null,
   "metadata": {},
   "outputs": [],
   "source": []
  },
  {
   "cell_type": "code",
   "execution_count": null,
   "metadata": {},
   "outputs": [],
   "source": []
  },
  {
   "cell_type": "code",
   "execution_count": null,
   "metadata": {},
   "outputs": [],
   "source": []
  },
  {
   "cell_type": "markdown",
   "metadata": {},
   "source": [
    "### Calculating Statistics For 2D ndarrays\n",
    "\n",
    "For now, we're going to look at how we can calculate statistics for two-dimensional ndarrays. If we use the arrays without additional parameters, they will return a single value, just like they do with a 1D array:\n",
    "\n",
    "<p><img alt=\"Array method without axis parameter\" src=\"https://s3.amazonaws.com/dq-content/289/array_method_axis_none.svg\"></p>\n",
    "\n",
    "But what if we wanted to find the maximum value of each row? For that, we need to use the axis parameter, and specify a value of 1, which indicates we want to calculate values for each row.\n",
    "\n",
    "<p><img alt=\"Array method without axis 1\" src=\"https://s3.amazonaws.com/dq-content/289/array_method_axis_1.svg\"></p>\n",
    "\n",
    "If we want to find the maximum value of each column, we use an axis value of 0:\n",
    "\n",
    "<p><img alt=\"Array method without axis 1\" src=\"https://s3.amazonaws.com/dq-content/289/array_method_axis_0.svg\"></p>\n",
    "\n",
    "To help you remember which is which, you can think of the first axis as rows, and the second axis as columns, just in the same way as when we're indexing a 2D NumPy array we use ndarray[row,column]. Then you think about which axis you want to apply the method along. The tricky part is to remember that when you apply the method along one axis, you get results in the other axis. Here is an illustration of that:\n",
    "\n",
    "<p><img alt=\"The axis parameter\" src=\"https://s3.amazonaws.com/dq-content/289/axis_param.svg\"></p>\n",
    "\n"
   ]
  },
  {
   "cell_type": "code",
   "execution_count": 5,
   "metadata": {},
   "outputs": [],
   "source": [
    "import numpy as np"
   ]
  },
  {
   "cell_type": "code",
   "execution_count": 6,
   "metadata": {},
   "outputs": [],
   "source": [
    "def comute_reciprocals(values):\n",
    "    output = np.empty(values)\n",
    "    for i in range(len(values)):\n",
    "        output[i] = 1.0 / values[i]\n",
    "    return output    "
   ]
  },
  {
   "cell_type": "code",
   "execution_count": 9,
   "metadata": {},
   "outputs": [
    {
     "name": "stdout",
     "output_type": "stream",
     "text": [
      "None\n"
     ]
    }
   ],
   "source": [
    "print(np.random.seed(0))"
   ]
  },
  {
   "cell_type": "code",
   "execution_count": 10,
   "metadata": {},
   "outputs": [
    {
     "name": "stdout",
     "output_type": "stream",
     "text": [
      "[6 1 4 4 8]\n"
     ]
    }
   ],
   "source": [
    "values = np.random.randint(1,10, size = 5)\n",
    "print(values)"
   ]
  },
  {
   "cell_type": "raw",
   "metadata": {},
   "source": [
    "print(comute_reciprocals(values))"
   ]
  },
  {
   "cell_type": "code",
   "execution_count": 15,
   "metadata": {},
   "outputs": [],
   "source": [
    "big_array = np.random.randint(1,10,size = 100000)"
   ]
  },
  {
   "cell_type": "code",
   "execution_count": 16,
   "metadata": {},
   "outputs": [
    {
     "ename": "ValueError",
     "evalue": "sequence too large; cannot be greater than 32",
     "output_type": "error",
     "traceback": [
      "\u001b[0;31m---------------------------------------------------------------------------\u001b[0m",
      "\u001b[0;31mValueError\u001b[0m                                Traceback (most recent call last)",
      "\u001b[0;32m<ipython-input-16-d54fadc9203d>\u001b[0m in \u001b[0;36m<module>\u001b[0;34m\u001b[0m\n\u001b[0;32m----> 1\u001b[0;31m \u001b[0mget_ipython\u001b[0m\u001b[0;34m(\u001b[0m\u001b[0;34m)\u001b[0m\u001b[0;34m.\u001b[0m\u001b[0mrun_line_magic\u001b[0m\u001b[0;34m(\u001b[0m\u001b[0;34m'timeit'\u001b[0m\u001b[0;34m,\u001b[0m \u001b[0;34m'comute_reciprocals(big_array)'\u001b[0m\u001b[0;34m)\u001b[0m\u001b[0;34m\u001b[0m\u001b[0;34m\u001b[0m\u001b[0m\n\u001b[0m",
      "\u001b[0;32m~/anaconda3/lib/python3.7/site-packages/IPython/core/interactiveshell.py\u001b[0m in \u001b[0;36mrun_line_magic\u001b[0;34m(self, magic_name, line, _stack_depth)\u001b[0m\n\u001b[1;32m   2305\u001b[0m                 \u001b[0mkwargs\u001b[0m\u001b[0;34m[\u001b[0m\u001b[0;34m'local_ns'\u001b[0m\u001b[0;34m]\u001b[0m \u001b[0;34m=\u001b[0m \u001b[0msys\u001b[0m\u001b[0;34m.\u001b[0m\u001b[0m_getframe\u001b[0m\u001b[0;34m(\u001b[0m\u001b[0mstack_depth\u001b[0m\u001b[0;34m)\u001b[0m\u001b[0;34m.\u001b[0m\u001b[0mf_locals\u001b[0m\u001b[0;34m\u001b[0m\u001b[0;34m\u001b[0m\u001b[0m\n\u001b[1;32m   2306\u001b[0m             \u001b[0;32mwith\u001b[0m \u001b[0mself\u001b[0m\u001b[0;34m.\u001b[0m\u001b[0mbuiltin_trap\u001b[0m\u001b[0;34m:\u001b[0m\u001b[0;34m\u001b[0m\u001b[0;34m\u001b[0m\u001b[0m\n\u001b[0;32m-> 2307\u001b[0;31m                 \u001b[0mresult\u001b[0m \u001b[0;34m=\u001b[0m \u001b[0mfn\u001b[0m\u001b[0;34m(\u001b[0m\u001b[0;34m*\u001b[0m\u001b[0margs\u001b[0m\u001b[0;34m,\u001b[0m \u001b[0;34m**\u001b[0m\u001b[0mkwargs\u001b[0m\u001b[0;34m)\u001b[0m\u001b[0;34m\u001b[0m\u001b[0;34m\u001b[0m\u001b[0m\n\u001b[0m\u001b[1;32m   2308\u001b[0m             \u001b[0;32mreturn\u001b[0m \u001b[0mresult\u001b[0m\u001b[0;34m\u001b[0m\u001b[0;34m\u001b[0m\u001b[0m\n\u001b[1;32m   2309\u001b[0m \u001b[0;34m\u001b[0m\u001b[0m\n",
      "\u001b[0;32m</home/evgenursic/anaconda3/lib/python3.7/site-packages/decorator.py:decorator-gen-60>\u001b[0m in \u001b[0;36mtimeit\u001b[0;34m(self, line, cell, local_ns)\u001b[0m\n",
      "\u001b[0;32m~/anaconda3/lib/python3.7/site-packages/IPython/core/magic.py\u001b[0m in \u001b[0;36m<lambda>\u001b[0;34m(f, *a, **k)\u001b[0m\n\u001b[1;32m    185\u001b[0m     \u001b[0;31m# but it's overkill for just that one bit of state.\u001b[0m\u001b[0;34m\u001b[0m\u001b[0;34m\u001b[0m\u001b[0;34m\u001b[0m\u001b[0m\n\u001b[1;32m    186\u001b[0m     \u001b[0;32mdef\u001b[0m \u001b[0mmagic_deco\u001b[0m\u001b[0;34m(\u001b[0m\u001b[0marg\u001b[0m\u001b[0;34m)\u001b[0m\u001b[0;34m:\u001b[0m\u001b[0;34m\u001b[0m\u001b[0;34m\u001b[0m\u001b[0m\n\u001b[0;32m--> 187\u001b[0;31m         \u001b[0mcall\u001b[0m \u001b[0;34m=\u001b[0m \u001b[0;32mlambda\u001b[0m \u001b[0mf\u001b[0m\u001b[0;34m,\u001b[0m \u001b[0;34m*\u001b[0m\u001b[0ma\u001b[0m\u001b[0;34m,\u001b[0m \u001b[0;34m**\u001b[0m\u001b[0mk\u001b[0m\u001b[0;34m:\u001b[0m \u001b[0mf\u001b[0m\u001b[0;34m(\u001b[0m\u001b[0;34m*\u001b[0m\u001b[0ma\u001b[0m\u001b[0;34m,\u001b[0m \u001b[0;34m**\u001b[0m\u001b[0mk\u001b[0m\u001b[0;34m)\u001b[0m\u001b[0;34m\u001b[0m\u001b[0;34m\u001b[0m\u001b[0m\n\u001b[0m\u001b[1;32m    188\u001b[0m \u001b[0;34m\u001b[0m\u001b[0m\n\u001b[1;32m    189\u001b[0m         \u001b[0;32mif\u001b[0m \u001b[0mcallable\u001b[0m\u001b[0;34m(\u001b[0m\u001b[0marg\u001b[0m\u001b[0;34m)\u001b[0m\u001b[0;34m:\u001b[0m\u001b[0;34m\u001b[0m\u001b[0;34m\u001b[0m\u001b[0m\n",
      "\u001b[0;32m~/anaconda3/lib/python3.7/site-packages/IPython/core/magics/execution.py\u001b[0m in \u001b[0;36mtimeit\u001b[0;34m(self, line, cell, local_ns)\u001b[0m\n\u001b[1;32m   1145\u001b[0m             \u001b[0;32mfor\u001b[0m \u001b[0mindex\u001b[0m \u001b[0;32min\u001b[0m \u001b[0mrange\u001b[0m\u001b[0;34m(\u001b[0m\u001b[0;36m0\u001b[0m\u001b[0;34m,\u001b[0m \u001b[0;36m10\u001b[0m\u001b[0;34m)\u001b[0m\u001b[0;34m:\u001b[0m\u001b[0;34m\u001b[0m\u001b[0;34m\u001b[0m\u001b[0m\n\u001b[1;32m   1146\u001b[0m                 \u001b[0mnumber\u001b[0m \u001b[0;34m=\u001b[0m \u001b[0;36m10\u001b[0m \u001b[0;34m**\u001b[0m \u001b[0mindex\u001b[0m\u001b[0;34m\u001b[0m\u001b[0;34m\u001b[0m\u001b[0m\n\u001b[0;32m-> 1147\u001b[0;31m                 \u001b[0mtime_number\u001b[0m \u001b[0;34m=\u001b[0m \u001b[0mtimer\u001b[0m\u001b[0;34m.\u001b[0m\u001b[0mtimeit\u001b[0m\u001b[0;34m(\u001b[0m\u001b[0mnumber\u001b[0m\u001b[0;34m)\u001b[0m\u001b[0;34m\u001b[0m\u001b[0;34m\u001b[0m\u001b[0m\n\u001b[0m\u001b[1;32m   1148\u001b[0m                 \u001b[0;32mif\u001b[0m \u001b[0mtime_number\u001b[0m \u001b[0;34m>=\u001b[0m \u001b[0;36m0.2\u001b[0m\u001b[0;34m:\u001b[0m\u001b[0;34m\u001b[0m\u001b[0;34m\u001b[0m\u001b[0m\n\u001b[1;32m   1149\u001b[0m                     \u001b[0;32mbreak\u001b[0m\u001b[0;34m\u001b[0m\u001b[0;34m\u001b[0m\u001b[0m\n",
      "\u001b[0;32m~/anaconda3/lib/python3.7/site-packages/IPython/core/magics/execution.py\u001b[0m in \u001b[0;36mtimeit\u001b[0;34m(self, number)\u001b[0m\n\u001b[1;32m    159\u001b[0m         \u001b[0mgc\u001b[0m\u001b[0;34m.\u001b[0m\u001b[0mdisable\u001b[0m\u001b[0;34m(\u001b[0m\u001b[0;34m)\u001b[0m\u001b[0;34m\u001b[0m\u001b[0;34m\u001b[0m\u001b[0m\n\u001b[1;32m    160\u001b[0m         \u001b[0;32mtry\u001b[0m\u001b[0;34m:\u001b[0m\u001b[0;34m\u001b[0m\u001b[0;34m\u001b[0m\u001b[0m\n\u001b[0;32m--> 161\u001b[0;31m             \u001b[0mtiming\u001b[0m \u001b[0;34m=\u001b[0m \u001b[0mself\u001b[0m\u001b[0;34m.\u001b[0m\u001b[0minner\u001b[0m\u001b[0;34m(\u001b[0m\u001b[0mit\u001b[0m\u001b[0;34m,\u001b[0m \u001b[0mself\u001b[0m\u001b[0;34m.\u001b[0m\u001b[0mtimer\u001b[0m\u001b[0;34m)\u001b[0m\u001b[0;34m\u001b[0m\u001b[0;34m\u001b[0m\u001b[0m\n\u001b[0m\u001b[1;32m    162\u001b[0m         \u001b[0;32mfinally\u001b[0m\u001b[0;34m:\u001b[0m\u001b[0;34m\u001b[0m\u001b[0;34m\u001b[0m\u001b[0m\n\u001b[1;32m    163\u001b[0m             \u001b[0;32mif\u001b[0m \u001b[0mgcold\u001b[0m\u001b[0;34m:\u001b[0m\u001b[0;34m\u001b[0m\u001b[0;34m\u001b[0m\u001b[0m\n",
      "\u001b[0;32m<magic-timeit>\u001b[0m in \u001b[0;36minner\u001b[0;34m(_it, _timer)\u001b[0m\n",
      "\u001b[0;32m<ipython-input-6-336c25bad930>\u001b[0m in \u001b[0;36mcomute_reciprocals\u001b[0;34m(values)\u001b[0m\n\u001b[1;32m      1\u001b[0m \u001b[0;32mdef\u001b[0m \u001b[0mcomute_reciprocals\u001b[0m\u001b[0;34m(\u001b[0m\u001b[0mvalues\u001b[0m\u001b[0;34m)\u001b[0m\u001b[0;34m:\u001b[0m\u001b[0;34m\u001b[0m\u001b[0;34m\u001b[0m\u001b[0m\n\u001b[0;32m----> 2\u001b[0;31m     \u001b[0moutput\u001b[0m \u001b[0;34m=\u001b[0m \u001b[0mnp\u001b[0m\u001b[0;34m.\u001b[0m\u001b[0mempty\u001b[0m\u001b[0;34m(\u001b[0m\u001b[0mvalues\u001b[0m\u001b[0;34m)\u001b[0m\u001b[0;34m\u001b[0m\u001b[0;34m\u001b[0m\u001b[0m\n\u001b[0m\u001b[1;32m      3\u001b[0m     \u001b[0;32mfor\u001b[0m \u001b[0mi\u001b[0m \u001b[0;32min\u001b[0m \u001b[0mrange\u001b[0m\u001b[0;34m(\u001b[0m\u001b[0mlen\u001b[0m\u001b[0;34m(\u001b[0m\u001b[0mvalues\u001b[0m\u001b[0;34m)\u001b[0m\u001b[0;34m)\u001b[0m\u001b[0;34m:\u001b[0m\u001b[0;34m\u001b[0m\u001b[0;34m\u001b[0m\u001b[0m\n\u001b[1;32m      4\u001b[0m         \u001b[0moutput\u001b[0m\u001b[0;34m[\u001b[0m\u001b[0mi\u001b[0m\u001b[0;34m]\u001b[0m \u001b[0;34m=\u001b[0m \u001b[0;36m1.0\u001b[0m \u001b[0;34m/\u001b[0m \u001b[0mvalues\u001b[0m\u001b[0;34m[\u001b[0m\u001b[0mi\u001b[0m\u001b[0;34m]\u001b[0m\u001b[0;34m\u001b[0m\u001b[0;34m\u001b[0m\u001b[0m\n\u001b[1;32m      5\u001b[0m     \u001b[0;32mreturn\u001b[0m \u001b[0moutput\u001b[0m\u001b[0;34m\u001b[0m\u001b[0;34m\u001b[0m\u001b[0m\n",
      "\u001b[0;31mValueError\u001b[0m: sequence too large; cannot be greater than 32"
     ]
    }
   ],
   "source": [
    "%timeit comute_reciprocals(big_array)"
   ]
  },
  {
   "cell_type": "code",
   "execution_count": 23,
   "metadata": {},
   "outputs": [
    {
     "name": "stdout",
     "output_type": "stream",
     "text": [
      "VendorID,lpep_pickup_datetime,lpep_dropoff_datetime,store_and_fwd_flag,RatecodeID,PULocationID,DOLocationID,passenger_count,trip_distance,fare_amount,extra,mta_tax,tip_amount,tolls_amount,ehail_fee,improvement_surcharge,total_amount,payment_type,trip_type\r",
      "\r\n",
      "\r",
      "\r\n",
      "2,2017-01-01 00:01:15,2017-01-01 00:11:05,N,1,42,166,1,1.71,9,0,0.5,0,0,,0.3,9.8,2,1\r",
      "\r\n",
      "2,2017-01-01 00:03:34,2017-01-01 00:09:00,N,1,75,74,1,1.44,6.5,0.5,0.5,0,0,,0.3,7.8,2,1\r",
      "\r\n",
      "2,2017-01-01 00:04:02,2017-01-01 00:12:55,N,1,82,70,5,3.45,12,0.5,0.5,2.66,0,,0.3,15.96,1,1\r",
      "\r\n",
      "2,2017-01-01 00:01:40,2017-01-01 00:14:23,N,1,255,232,1,2.11,10.5,0.5,0.5,0,0,,0.3,11.8,2,1\r",
      "\r\n",
      "2,2017-01-01 00:00:51,2017-01-01 00:18:55,N,1,166,239,1,2.76,11.5,0.5,0.5,0,0,,0.3,12.8,2,1\r",
      "\r\n",
      "2,2017-01-01 00:00:28,2017-01-01 00:13:31,N,1,179,226,1,4.14,15,0.5,0.5,0,0,,0.3,16.3,1,1\r",
      "\r\n",
      "2,2017-01-01 00:02:39,2017-01-01 00:26:28,N,1,74,167,1,4.22,19,0.5,0.5,0,0,,0.3,20.3,2,1\r",
      "\r\n",
      "2,2017-01-01 00:15:21,2017-01-01 00:28:06,N,1,112,37,1,2.83,11,0.5,0.5,0,0,,0.3,12.3,2,1\r",
      "\r\n"
     ]
    }
   ],
   "source": [
    "!head taxi_data.csv"
   ]
  },
  {
   "cell_type": "code",
   "execution_count": 22,
   "metadata": {},
   "outputs": [
    {
     "ename": "SyntaxError",
     "evalue": "invalid syntax (<ipython-input-22-9b0f77e74a0b>, line 3)",
     "output_type": "error",
     "traceback": [
      "\u001b[0;36m  File \u001b[0;32m\"<ipython-input-22-9b0f77e74a0b>\"\u001b[0;36m, line \u001b[0;32m3\u001b[0m\n\u001b[0;31m    import csv x+y\u001b[0m\n\u001b[0m               ^\u001b[0m\n\u001b[0;31mSyntaxError\u001b[0m\u001b[0;31m:\u001b[0m invalid syntax\n"
     ]
    }
   ],
   "source": [
    "x = np.array([1,2,3])\n",
    "y = np.array([4,5,6])\n",
    " x+y"
   ]
  },
  {
   "cell_type": "code",
   "execution_count": 30,
   "metadata": {},
   "outputs": [],
   "source": [
    "import csv\n",
    "\n",
    "\n",
    "\n"
   ]
  },
  {
   "cell_type": "code",
   "execution_count": 31,
   "metadata": {},
   "outputs": [
    {
     "ename": "NameError",
     "evalue": "name 'taxi' is not defined",
     "output_type": "error",
     "traceback": [
      "\u001b[0;31m---------------------------------------------------------------------------\u001b[0m",
      "\u001b[0;31mNameError\u001b[0m                                 Traceback (most recent call last)",
      "\u001b[0;32m<ipython-input-31-8bea9980c4b9>\u001b[0m in \u001b[0;36m<module>\u001b[0;34m\u001b[0m\n\u001b[0;32m----> 1\u001b[0;31m \u001b[0mprice_min\u001b[0m \u001b[0;34m=\u001b[0m \u001b[0mtaxi\u001b[0m\u001b[0;34m[\u001b[0m\u001b[0;34m:\u001b[0m\u001b[0;34m,\u001b[0m \u001b[0;36m12\u001b[0m\u001b[0;34m]\u001b[0m\u001b[0;34m.\u001b[0m\u001b[0mmin\u001b[0m\u001b[0;34m(\u001b[0m\u001b[0;34m)\u001b[0m\u001b[0;34m\u001b[0m\u001b[0;34m\u001b[0m\u001b[0m\n\u001b[0m\u001b[1;32m      2\u001b[0m \u001b[0mprice_min\u001b[0m\u001b[0;34m\u001b[0m\u001b[0;34m\u001b[0m\u001b[0m\n",
      "\u001b[0;31mNameError\u001b[0m: name 'taxi' is not defined"
     ]
    }
   ],
   "source": [
    "price_min = taxi[:, 12].min()\n",
    "price_min"
   ]
  },
  {
   "cell_type": "code",
   "execution_count": 25,
   "metadata": {},
   "outputs": [],
   "source": [
    "import csv"
   ]
  },
  {
   "cell_type": "code",
   "execution_count": 32,
   "metadata": {},
   "outputs": [
    {
     "ename": "TypeError",
     "evalue": "expected str, bytes or os.PathLike object, not tuple",
     "output_type": "error",
     "traceback": [
      "\u001b[0;31m---------------------------------------------------------------------------\u001b[0m",
      "\u001b[0;31mTypeError\u001b[0m                                 Traceback (most recent call last)",
      "\u001b[0;32m<ipython-input-32-25942c65b499>\u001b[0m in \u001b[0;36m<module>\u001b[0;34m\u001b[0m\n\u001b[0;32m----> 1\u001b[0;31m \u001b[0;32mwith\u001b[0m \u001b[0mopen\u001b[0m\u001b[0;34m(\u001b[0m\u001b[0;34m(\u001b[0m\u001b[0;34m'taxi_data.csv'\u001b[0m\u001b[0;34m,\u001b[0m \u001b[0;34m'r'\u001b[0m\u001b[0;34m)\u001b[0m\u001b[0;34m)\u001b[0m \u001b[0;32mas\u001b[0m \u001b[0mf\u001b[0m\u001b[0;34m:\u001b[0m\u001b[0;34m\u001b[0m\u001b[0;34m\u001b[0m\u001b[0m\n\u001b[0m\u001b[1;32m      2\u001b[0m     \u001b[0mtaxi_list\u001b[0m \u001b[0;34m=\u001b[0m \u001b[0mlist\u001b[0m\u001b[0;34m(\u001b[0m\u001b[0mcsv\u001b[0m\u001b[0;34m.\u001b[0m\u001b[0mreader\u001b[0m\u001b[0;34m(\u001b[0m\u001b[0mf\u001b[0m\u001b[0;34m)\u001b[0m\u001b[0;34m)\u001b[0m\u001b[0;34m\u001b[0m\u001b[0;34m\u001b[0m\u001b[0m\n\u001b[1;32m      3\u001b[0m \u001b[0;34m\u001b[0m\u001b[0m\n\u001b[1;32m      4\u001b[0m \u001b[0mtaxi_list\u001b[0m\u001b[0;34m[\u001b[0m\u001b[0;34m:\u001b[0m\u001b[0;36m4\u001b[0m\u001b[0;34m]\u001b[0m\u001b[0;34m\u001b[0m\u001b[0;34m\u001b[0m\u001b[0m\n",
      "\u001b[0;31mTypeError\u001b[0m: expected str, bytes or os.PathLike object, not tuple"
     ]
    }
   ],
   "source": [
    "with open(('taxi_data.csv', 'r')) as f:\n",
    "    taxi_list = list(csv.reader(f))\n",
    "    \n",
    "taxi_list[:4]    "
   ]
  },
  {
   "cell_type": "code",
   "execution_count": 27,
   "metadata": {},
   "outputs": [],
   "source": [
    "ones = np.ones((2,3))"
   ]
  },
  {
   "cell_type": "code",
   "execution_count": 28,
   "metadata": {},
   "outputs": [
    {
     "data": {
      "text/plain": [
       "array([[1., 1., 1.],\n",
       "       [1., 1., 1.]])"
      ]
     },
     "execution_count": 28,
     "metadata": {},
     "output_type": "execute_result"
    }
   ],
   "source": [
    "ones"
   ]
  },
  {
   "cell_type": "code",
   "execution_count": 29,
   "metadata": {},
   "outputs": [
    {
     "data": {
      "text/plain": [
       "array([0., 0., 0.])"
      ]
     },
     "execution_count": 29,
     "metadata": {},
     "output_type": "execute_result"
    }
   ],
   "source": [
    "zeros = np.zeros(3)\n",
    "zeros"
   ]
  },
  {
   "cell_type": "code",
   "execution_count": 33,
   "metadata": {},
   "outputs": [
    {
     "data": {
      "text/plain": [
       "True"
      ]
     },
     "execution_count": 33,
     "metadata": {},
     "output_type": "execute_result"
    }
   ],
   "source": [
    "3<10"
   ]
  },
  {
   "cell_type": "code",
   "execution_count": null,
   "metadata": {},
   "outputs": [],
   "source": []
  },
  {
   "cell_type": "code",
   "execution_count": null,
   "metadata": {},
   "outputs": [],
   "source": []
  },
  {
   "cell_type": "code",
   "execution_count": null,
   "metadata": {},
   "outputs": [],
   "source": []
  },
  {
   "cell_type": "code",
   "execution_count": null,
   "metadata": {},
   "outputs": [],
   "source": []
  },
  {
   "cell_type": "code",
   "execution_count": null,
   "metadata": {},
   "outputs": [],
   "source": []
  },
  {
   "cell_type": "code",
   "execution_count": null,
   "metadata": {},
   "outputs": [],
   "source": []
  },
  {
   "cell_type": "code",
   "execution_count": null,
   "metadata": {},
   "outputs": [],
   "source": []
  },
  {
   "cell_type": "code",
   "execution_count": null,
   "metadata": {},
   "outputs": [],
   "source": []
  },
  {
   "cell_type": "code",
   "execution_count": null,
   "metadata": {},
   "outputs": [],
   "source": []
  },
  {
   "cell_type": "code",
   "execution_count": null,
   "metadata": {},
   "outputs": [],
   "source": []
  },
  {
   "cell_type": "markdown",
   "metadata": {},
   "source": [
    "### Adding Rows and Columns to ndarrays\n"
   ]
  },
  {
   "cell_type": "code",
   "execution_count": null,
   "metadata": {},
   "outputs": [],
   "source": []
  },
  {
   "cell_type": "code",
   "execution_count": null,
   "metadata": {},
   "outputs": [],
   "source": []
  },
  {
   "cell_type": "code",
   "execution_count": null,
   "metadata": {},
   "outputs": [],
   "source": []
  },
  {
   "cell_type": "code",
   "execution_count": null,
   "metadata": {},
   "outputs": [],
   "source": []
  },
  {
   "cell_type": "markdown",
   "metadata": {},
   "source": [
    "### Sorting ndarrays\n"
   ]
  },
  {
   "cell_type": "code",
   "execution_count": null,
   "metadata": {},
   "outputs": [],
   "source": []
  },
  {
   "cell_type": "code",
   "execution_count": null,
   "metadata": {},
   "outputs": [],
   "source": []
  },
  {
   "cell_type": "code",
   "execution_count": null,
   "metadata": {},
   "outputs": [],
   "source": []
  },
  {
   "cell_type": "code",
   "execution_count": null,
   "metadata": {},
   "outputs": [],
   "source": []
  },
  {
   "cell_type": "code",
   "execution_count": null,
   "metadata": {},
   "outputs": [],
   "source": []
  },
  {
   "cell_type": "code",
   "execution_count": null,
   "metadata": {},
   "outputs": [],
   "source": []
  },
  {
   "cell_type": "code",
   "execution_count": null,
   "metadata": {},
   "outputs": [],
   "source": []
  },
  {
   "cell_type": "code",
   "execution_count": null,
   "metadata": {},
   "outputs": [],
   "source": []
  },
  {
   "cell_type": "markdown",
   "metadata": {},
   "source": [
    "###  Reading CSV files with NumPy"
   ]
  },
  {
   "cell_type": "code",
   "execution_count": null,
   "metadata": {},
   "outputs": [],
   "source": []
  },
  {
   "cell_type": "code",
   "execution_count": null,
   "metadata": {},
   "outputs": [],
   "source": []
  },
  {
   "cell_type": "code",
   "execution_count": null,
   "metadata": {},
   "outputs": [],
   "source": []
  },
  {
   "cell_type": "code",
   "execution_count": null,
   "metadata": {},
   "outputs": [],
   "source": []
  },
  {
   "cell_type": "code",
   "execution_count": null,
   "metadata": {},
   "outputs": [],
   "source": []
  },
  {
   "cell_type": "markdown",
   "metadata": {},
   "source": [
    "###  Boolean Arrays\n",
    "\n",
    "\n",
    "\n"
   ]
  },
  {
   "cell_type": "code",
   "execution_count": null,
   "metadata": {},
   "outputs": [],
   "source": []
  },
  {
   "cell_type": "code",
   "execution_count": null,
   "metadata": {},
   "outputs": [],
   "source": []
  },
  {
   "cell_type": "code",
   "execution_count": null,
   "metadata": {},
   "outputs": [],
   "source": []
  },
  {
   "cell_type": "code",
   "execution_count": null,
   "metadata": {},
   "outputs": [],
   "source": []
  },
  {
   "cell_type": "code",
   "execution_count": null,
   "metadata": {},
   "outputs": [],
   "source": []
  },
  {
   "cell_type": "markdown",
   "metadata": {},
   "source": [
    "A similar pattern occurs– the 'less than five' operation is applied to each value in the array. The diagram below shows this step by step:\n",
    "\n",
    "<p><img alt=\"Vectorized boolean operation\" src=\"https://s3.amazonaws.com/dq-content/290/vectorized_bool.svg\"></p>"
   ]
  },
  {
   "cell_type": "markdown",
   "metadata": {},
   "source": [
    "### Boolean Indexing with 1D ndarrays"
   ]
  },
  {
   "cell_type": "markdown",
   "metadata": {},
   "source": [
    "\n",
    "\n",
    "\n",
    "<p><img alt=\"Boolean indexing 1D ndarrays 1\" src=\"https://s3.amazonaws.com/dq-content/290/1d_bool_1.svg\"></p>\n",
    "\n",
    "\n",
    "\n",
    "<p><img alt=\"Boolean indexing 1D ndarrays 2\" src=\"https://s3.amazonaws.com/dq-content/290/1d_bool_2.svg\"></p>\n",
    "\n",
    "\n"
   ]
  },
  {
   "cell_type": "code",
   "execution_count": null,
   "metadata": {},
   "outputs": [],
   "source": []
  },
  {
   "cell_type": "code",
   "execution_count": null,
   "metadata": {},
   "outputs": [],
   "source": []
  },
  {
   "cell_type": "code",
   "execution_count": null,
   "metadata": {},
   "outputs": [],
   "source": []
  },
  {
   "cell_type": "code",
   "execution_count": null,
   "metadata": {},
   "outputs": [],
   "source": []
  },
  {
   "cell_type": "code",
   "execution_count": null,
   "metadata": {},
   "outputs": [],
   "source": []
  },
  {
   "cell_type": "markdown",
   "metadata": {},
   "source": [
    "### Boolean Indexing with 2D ndarrays\n",
    "\n",
    "\n",
    "<p><img alt=\"Boolean indexing 1D ndarrays 2\" src=\"https://s3.amazonaws.com/dq-content/290/bool_dims.svg\"></p>\n"
   ]
  },
  {
   "cell_type": "code",
   "execution_count": null,
   "metadata": {},
   "outputs": [],
   "source": []
  },
  {
   "cell_type": "code",
   "execution_count": null,
   "metadata": {},
   "outputs": [],
   "source": []
  },
  {
   "cell_type": "code",
   "execution_count": null,
   "metadata": {},
   "outputs": [],
   "source": []
  },
  {
   "cell_type": "code",
   "execution_count": null,
   "metadata": {},
   "outputs": [],
   "source": []
  },
  {
   "cell_type": "code",
   "execution_count": null,
   "metadata": {},
   "outputs": [],
   "source": []
  },
  {
   "cell_type": "code",
   "execution_count": null,
   "metadata": {},
   "outputs": [],
   "source": []
  },
  {
   "cell_type": "code",
   "execution_count": null,
   "metadata": {},
   "outputs": [],
   "source": []
  },
  {
   "cell_type": "markdown",
   "metadata": {},
   "source": [
    "### Assigning Values in ndarrays"
   ]
  },
  {
   "cell_type": "code",
   "execution_count": null,
   "metadata": {},
   "outputs": [],
   "source": []
  },
  {
   "cell_type": "code",
   "execution_count": null,
   "metadata": {},
   "outputs": [],
   "source": []
  },
  {
   "cell_type": "code",
   "execution_count": null,
   "metadata": {},
   "outputs": [],
   "source": []
  },
  {
   "cell_type": "code",
   "execution_count": null,
   "metadata": {},
   "outputs": [],
   "source": []
  },
  {
   "cell_type": "code",
   "execution_count": null,
   "metadata": {},
   "outputs": [],
   "source": []
  },
  {
   "cell_type": "markdown",
   "metadata": {},
   "source": [
    "### Subarrays as no-copy views\n",
    "\n"
   ]
  },
  {
   "cell_type": "code",
   "execution_count": null,
   "metadata": {},
   "outputs": [],
   "source": []
  },
  {
   "cell_type": "code",
   "execution_count": null,
   "metadata": {},
   "outputs": [],
   "source": []
  },
  {
   "cell_type": "code",
   "execution_count": null,
   "metadata": {},
   "outputs": [],
   "source": []
  },
  {
   "cell_type": "code",
   "execution_count": null,
   "metadata": {},
   "outputs": [],
   "source": []
  },
  {
   "cell_type": "code",
   "execution_count": null,
   "metadata": {},
   "outputs": [],
   "source": []
  },
  {
   "cell_type": "markdown",
   "metadata": {},
   "source": [
    "### Copying Data\n"
   ]
  },
  {
   "cell_type": "code",
   "execution_count": null,
   "metadata": {},
   "outputs": [],
   "source": []
  },
  {
   "cell_type": "code",
   "execution_count": null,
   "metadata": {},
   "outputs": [],
   "source": []
  },
  {
   "cell_type": "code",
   "execution_count": null,
   "metadata": {},
   "outputs": [],
   "source": []
  }
 ],
 "metadata": {
  "kernelspec": {
   "display_name": "Python 3",
   "language": "python",
   "name": "python3"
  },
  "language_info": {
   "codemirror_mode": {
    "name": "ipython",
    "version": 3
   },
   "file_extension": ".py",
   "mimetype": "text/x-python",
   "name": "python",
   "nbconvert_exporter": "python",
   "pygments_lexer": "ipython3",
   "version": "3.7.3"
  }
 },
 "nbformat": 4,
 "nbformat_minor": 2
}
