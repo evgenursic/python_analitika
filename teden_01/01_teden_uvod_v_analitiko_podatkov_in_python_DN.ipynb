{
 "cells": [
  {
   "cell_type": "markdown",
   "metadata": {},
   "source": [
    "# Termin_01: Uvod v analitiko podatkov in priprava okolja: Domača naloga"
   ]
  },
  {
   "cell_type": "markdown",
   "metadata": {},
   "source": [
    "**1) What is 3 to the power of 5?**"
   ]
  },
  {
   "cell_type": "code",
   "execution_count": 1,
   "metadata": {},
   "outputs": [
    {
     "name": "stdout",
     "output_type": "stream",
     "text": [
      "243\n"
     ]
    }
   ],
   "source": [
    "def na_(x,y):\n",
    "    return (x**y)\n",
    "\n",
    "print(na_(3,5)) "
   ]
  },
  {
   "cell_type": "markdown",
   "metadata": {},
   "source": [
    "**2) Given the variables height and mountain, use .format() to print the following string:**\n",
    "\n",
    "`The height of Mt. Everest is 8848 meters.`"
   ]
  },
  {
   "cell_type": "code",
   "execution_count": 2,
   "metadata": {},
   "outputs": [
    {
     "name": "stdout",
     "output_type": "stream",
     "text": [
      "The height of Mt. Everest is 8848 meters.\n"
     ]
    }
   ],
   "source": [
    "mountain = \"Mt. Everest\"\n",
    "height = 8848\n",
    "\n",
    "print(\"The height of {} is {} meters.\".format(mountain, height))"
   ]
  },
  {
   "cell_type": "code",
   "execution_count": 3,
   "metadata": {},
   "outputs": [
    {
     "name": "stdout",
     "output_type": "stream",
     "text": [
      "The height of mont blanc is 8848 meters.\n"
     ]
    }
   ],
   "source": [
    "def mont_(a,b):\n",
    "    return(f'The height of {a} is {8848} meters.')\n",
    "\n",
    "print(mont_(\"mont blanc\", 8333))   "
   ]
  },
  {
   "cell_type": "markdown",
   "metadata": {},
   "source": [
    "**3) Create a variable, s, containing the string \"This course is amazing!\". Using the variable, split the string into a list.**"
   ]
  },
  {
   "cell_type": "code",
   "execution_count": 4,
   "metadata": {},
   "outputs": [
    {
     "name": "stdout",
     "output_type": "stream",
     "text": [
      "['This', 'course', 'is', 'amazing!']\n"
     ]
    }
   ],
   "source": [
    "s = \"This course is amazing!\"\n",
    "\n",
    "print(s.split())"
   ]
  },
  {
   "cell_type": "markdown",
   "metadata": {},
   "source": [
    "**4) Given the following nested list, use indexing to grab the word \"this\".**"
   ]
  },
  {
   "cell_type": "code",
   "execution_count": 7,
   "metadata": {},
   "outputs": [],
   "source": [
    "lst = ['a','b',[4,10,11],['c',[1,66,['this']],2,111],'e',7]"
   ]
  },
  {
   "cell_type": "code",
   "execution_count": 7,
   "metadata": {},
   "outputs": [
    {
     "name": "stdout",
     "output_type": "stream",
     "text": [
      "['this']\n"
     ]
    }
   ],
   "source": [
    "print(lst[3][1][2])"
   ]
  },
  {
   "cell_type": "markdown",
   "metadata": {},
   "source": [
    "**5) Given the following nested dictionary, grab the word \"that\". This exercise is a little more difficult.**"
   ]
  },
  {
   "cell_type": "code",
   "execution_count": 10,
   "metadata": {},
   "outputs": [],
   "source": [
    "d = {'k1':['val1','val2','val3',{'we':['need','to','go',{'deeper':[1,2,3,'that']}]}]}"
   ]
  },
  {
   "cell_type": "code",
   "execution_count": 12,
   "metadata": {},
   "outputs": [
    {
     "name": "stdout",
     "output_type": "stream",
     "text": [
      "that\n"
     ]
    }
   ],
   "source": [
    "print(d[\"k1\"][3][\"we\"][3][\"deeper\"][3])"
   ]
  },
  {
   "cell_type": "markdown",
   "metadata": {},
   "source": [
    "**6) Create a function, GetDomain(), that grabs the email website domain from a string in the form: `user@domain.com`.**\n",
    "\n",
    "*So for example, passing \"user@domain.com\" would return: domain.com*"
   ]
  },
  {
   "cell_type": "code",
   "execution_count": 53,
   "metadata": {},
   "outputs": [
    {
     "name": "stdout",
     "output_type": "stream",
     "text": [
      "hotmail.com\n"
     ]
    }
   ],
   "source": [
    "def GetDomain(s):\n",
    "    dom_ = s.split(\"@\")\n",
    "    return dom_[1]    #(return s.split(\"@\")[1])\n",
    "\n",
    "print(GetDomain(\"evgen.ursic@hotmail.com\"))   "
   ]
  },
  {
   "cell_type": "code",
   "execution_count": 25,
   "metadata": {},
   "outputs": [
    {
     "name": "stdout",
     "output_type": "stream",
     "text": [
      "domain.com\n"
     ]
    }
   ],
   "source": [
    "s = \"user@domain.com\"\n",
    "brez = s.split(\"@\")\n",
    "\n",
    "print(brez[1])"
   ]
  },
  {
   "cell_type": "markdown",
   "metadata": {},
   "source": [
    "**7) Create a basic function, findInternet(), that returns True if the word 'Internet' is contained in the input string.**\n",
    "\n",
    "*Don't worry about edge cases like punctuation being attached to the word, but account for capitalization.*"
   ]
  },
  {
   "cell_type": "code",
   "execution_count": 23,
   "metadata": {},
   "outputs": [
    {
     "name": "stdout",
     "output_type": "stream",
     "text": [
      "True\n"
     ]
    }
   ],
   "source": [
    "def findInternet(st):\n",
    "    return 'internet' in st.lower().split()\n",
    "print(findInternet('The Internet Engineering Task Force was created in 1986'))"
   ]
  },
  {
   "cell_type": "code",
   "execution_count": 52,
   "metadata": {},
   "outputs": [
    {
     "name": "stdout",
     "output_type": "stream",
     "text": [
      "True\n"
     ]
    }
   ],
   "source": [
    "def findInternet(x):\n",
    "    spl_ = x.lower().split()\n",
    "    for i in spl_:\n",
    "        if i == \"internet\":\n",
    "            return True\n",
    "            pass   \n",
    "\n",
    "print(findInternet('The internet Engineering Task Force was created in 1986'))  \n"
   ]
  },
  {
   "cell_type": "markdown",
   "metadata": {},
   "source": [
    "**8) Create a function, countIoT(), that counts the number of times the word \"IoT\" occurs in a string.**\n",
    "\n",
    "*Ignore edge cases but take into account capitalization*"
   ]
  },
  {
   "cell_type": "code",
   "execution_count": 46,
   "metadata": {},
   "outputs": [],
   "source": [
    "def countIoT(str_):\n",
    "    spl_ = str_.lower().split()\n",
    "    wor_ = []\n",
    "    for x in spl_:\n",
    "        if x == \"iot\":\n",
    "            wor_.append(x)\n",
    "    dol_ = len(wor_)\n",
    "    return dol_\n",
    "pass  "
   ]
  },
  {
   "cell_type": "code",
   "execution_count": 47,
   "metadata": {},
   "outputs": [
    {
     "data": {
      "text/plain": [
       "4"
      ]
     },
     "execution_count": 47,
     "metadata": {},
     "output_type": "execute_result"
    }
   ],
   "source": [
    "countIoT('I don\\'t know how to spell IoT ! Is it IoT or iot ? What does iot mean anyway?')"
   ]
  },
  {
   "cell_type": "code",
   "execution_count": 56,
   "metadata": {},
   "outputs": [
    {
     "name": "stdout",
     "output_type": "stream",
     "text": [
      "4\n"
     ]
    }
   ],
   "source": [
    "str_ = 'I don\\'t know how to spell IoT ! Is it IoT or iot ? What does iot mean anyway?'\n",
    "spl_ = str_.lower().split()\n",
    "wor_ = []\n",
    "for x in spl_:\n",
    "    if x == \"iot\":\n",
    "        wor_.append(x)\n",
    "dol_ = len(wor_)   \n",
    "print(dol_) "
   ]
  },
  {
   "cell_type": "markdown",
   "metadata": {},
   "source": [
    "**9) Imagine a smart thermostat that is connected to the door, so that it can detect, in addition to the temperature, when people enter or leave the house.**\n",
    "\n",
    "*Write a function that, if the temperature is lower than 20 degrees Celsius, and there are people in the house (encoded as a boolean value to be passed as a parameter to the function), turns on the heating by returning the string \"Heating on\". When the temperature reaches 23 degrees or there are no people in the house, it returns the string \"Heating off\". When none of these conditions are met, the function returns \"Do nothing\".*"
   ]
  },
  {
   "cell_type": "code",
   "execution_count": 39,
   "metadata": {},
   "outputs": [],
   "source": [
    " def smart_thermostat(temp, people_in):\n",
    "    if temp < 20 and people_in == True:\n",
    "        return \"Heating on\"\n",
    "    elif temp >= 23 or people_in == False:\n",
    "        return \"Heating off\"\n",
    "    else:\n",
    "        return \"Do nothing\"\n",
    "    pass"
   ]
  },
  {
   "cell_type": "code",
   "execution_count": 41,
   "metadata": {},
   "outputs": [
    {
     "data": {
      "text/plain": [
       "'Heating off'"
      ]
     },
     "execution_count": 41,
     "metadata": {},
     "output_type": "execute_result"
    }
   ],
   "source": [
    "smart_thermostat(21,True)\n",
    "smart_thermostat(21,False)"
   ]
  }
 ],
 "metadata": {
  "kernelspec": {
   "display_name": "Python 3",
   "language": "python",
   "name": "python3"
  },
  "language_info": {
   "codemirror_mode": {
    "name": "ipython",
    "version": 3
   },
   "file_extension": ".py",
   "mimetype": "text/x-python",
   "name": "python",
   "nbconvert_exporter": "python",
   "pygments_lexer": "ipython3",
   "version": "3.7.3"
  }
 },
 "nbformat": 4,
 "nbformat_minor": 2
}
