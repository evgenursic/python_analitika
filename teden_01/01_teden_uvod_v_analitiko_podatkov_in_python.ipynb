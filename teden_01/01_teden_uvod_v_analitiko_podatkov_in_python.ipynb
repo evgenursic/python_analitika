{
 "cells": [
  {
   "cell_type": "markdown",
   "metadata": {},
   "source": [
    "# Uvod v tečaj: IoT Fundamentals: Analitika podatkov v Python-u\n",
    "\n",
    "### Vsebina\n",
    "- Teden 1 (15.4.): Uvod v analitiko podatkov in Python\n",
    "- Teden 2 (17.4. - sreda): Uvod v Numpy\n",
    "- Rezerven termin 6.5.2019\n",
    "- Teden 3 (13.5.):  Uvod v Pandas\n",
    "- Teden 4 (20.5.): Shranjevanje podatkov\n",
    "- Teden 5 (22.5. - sreda): Web scraping - pridobivanje podatkov s spleta\n",
    "- Teden 6 (27.5.): Prikazovanje podatkov - Matplotlib\n",
    "- Teden 7 (29.5. - sreda): Obdelava podatkov 1.del\n",
    "- Teden 8 (3.6.): Obdelava podatkov 2.del\n",
    "- Teden 9 (5.6.-sreda): Izpit\n",
    "\n",
    "\n",
    "### Cilji\n",
    "- uporabiti programski jezik Python pri obdelavi in prikazovanju podatkov\n",
    "- Spoznati korake podatkovne analize na praktičnih primerih z uporabo različnih Python knjižnic (pandas, NumPy, matplotlib…)\n",
    "\n",
    "### Ciljna skupina\n",
    "- vsi, ki jih zanima področje obdelave podatkov in Big Data\n",
    "- vsi, ki želijo razviti kariero na področju obdelave podatkov\n",
    "\n",
    "### Priporočeno predznanje\n",
    "Udeležba na tečaju Osnove programiranja: Python oz. poznavanje programskega jezika Python (podatkovni tipi, operatorji, for, while, if stavki, funkcije, errors, principi objektnega programiranja).\n",
    "\n",
    "### Ocenjevanje\n",
    "- **+ 20%** Domače naloge (dodatne točke) \n",
    "- **30%** Teoretičen del izpita\n",
    "- **70%** Praktičen del\n",
    "\n",
    "Meja za uspešno opravljen tečaj je 80%\n",
    "\n",
    "\n"
   ]
  },
  {
   "cell_type": "code",
   "execution_count": null,
   "metadata": {},
   "outputs": [],
   "source": []
  },
  {
   "cell_type": "markdown",
   "metadata": {},
   "source": [
    "# Priprava okolja"
   ]
  },
  {
   "cell_type": "markdown",
   "metadata": {},
   "source": [
    "## Namestitev VirtualBox in OS\n",
    "\n",
    "- Prenesemo VitualBox -> https://www.virtualbox.org/\n",
    "- Prenesemo operacijski sistem Ubuntu -> https://www.ubuntu.com/download/desktop\n",
    "- Namestimo VirtualBox -> sledimo navdilom na zaslonu in sprejmemo privzete nastavitve\n",
    "- Odpremo VirtualBox\n",
    "    - Izberemo New\n",
    "    - Name, Type (Linux), Version (Ubuntu 64-bit) – vklop Intel VT-x or AMD-v v BIOS-u\n",
    "    - Memory size: priporočljivo med 4 in 8 GB, glede na količino RAMa v računalniku\n",
    "    - Hard Disk: Create a virtual hard disk now, VDI, Fixed size, 20-40GB\n",
    "    - Izberemo Create\n",
    "- Izberemo naš OS, desni klik, izberemo Nastavitve\n",
    "- System -> Processor Tab -> Procesors -> max. Zelenega\n",
    "- Display -> Screen -> Video Memory -> 80 MB, enable 3D acceleration\n",
    "- Dvokliknemo na naš virtualen OS\n",
    "- Izberemo start-up disk (naš Ubuntu sistem) -> Start\n",
    "- Sledimo namestitvi Ubuntu sistema\n",
    "- Install Ubuntu\n",
    "- Tipkovnica: po želji\n",
    "- Izberemo: Downloads updates while install Ubuntu -> Continue\n",
    "- Erase Disk and install Ubuntu -> Install Now -> Continue\n",
    "- Izberemo želene nastavitve sistema\n",
    "- Ponovni zagon"
   ]
  },
  {
   "cell_type": "markdown",
   "metadata": {},
   "source": [
    "# Learning the basics of the Unix shell"
   ]
  },
  {
   "cell_type": "code",
   "execution_count": null,
   "metadata": {},
   "outputs": [],
   "source": []
  },
  {
   "cell_type": "code",
   "execution_count": null,
   "metadata": {},
   "outputs": [],
   "source": []
  },
  {
   "cell_type": "markdown",
   "metadata": {},
   "source": [
    "### Dodatni viri\n",
    "\n",
    "- [Linux tutorial](https://ryanstutorials.net/linuxtutorial/)\n",
    "- [Learn the shell interactively](http://www.learnshell.org/)\n",
    "- [Brezplačen on-line tečaj: NDG Linux Unhatched](http://www.ict-academy.eu/sl/blog/brezplacen-on-line-tecaj-ndg-linux-unhatched-cisco-networking-academy)"
   ]
  },
  {
   "cell_type": "markdown",
   "metadata": {},
   "source": [
    "# Python in Linux\n",
    "\n",
    "## Zakaj Python?"
   ]
  },
  {
   "cell_type": "markdown",
   "metadata": {},
   "source": [
    "# Anaconda"
   ]
  },
  {
   "cell_type": "markdown",
   "metadata": {},
   "source": [
    "# Jupyter Notebooks"
   ]
  },
  {
   "cell_type": "code",
   "execution_count": null,
   "metadata": {},
   "outputs": [],
   "source": []
  },
  {
   "cell_type": "code",
   "execution_count": null,
   "metadata": {},
   "outputs": [],
   "source": []
  },
  {
   "cell_type": "code",
   "execution_count": null,
   "metadata": {},
   "outputs": [],
   "source": []
  },
  {
   "cell_type": "code",
   "execution_count": null,
   "metadata": {},
   "outputs": [],
   "source": []
  },
  {
   "cell_type": "markdown",
   "metadata": {},
   "source": [
    "\n",
    "## Starting the Jupyter Notebook Server\n",
    "\n",
    "`$ jupyter notebook`\n"
   ]
  },
  {
   "cell_type": "markdown",
   "metadata": {},
   "source": [
    "Normalen tekst\n"
   ]
  },
  {
   "cell_type": "markdown",
   "metadata": {},
   "source": [
    "*posevno*, **krepko** #Naslov1 ##Naslov2"
   ]
  },
  {
   "cell_type": "markdown",
   "metadata": {},
   "source": [
    "#naslov1"
   ]
  },
  {
   "cell_type": "markdown",
   "metadata": {},
   "source": [
    "- seznam\n",
    "    - seznam\n",
    "- seznam "
   ]
  },
  {
   "cell_type": "markdown",
   "metadata": {},
   "source": [
    "`mkdir nova_mapa`"
   ]
  },
  {
   "cell_type": "code",
   "execution_count": 7,
   "metadata": {},
   "outputs": [
    {
     "ename": "SyntaxError",
     "evalue": "invalid syntax (<ipython-input-7-8cd16aa1a1fe>, line 1)",
     "output_type": "error",
     "traceback": [
      "\u001b[0;36m  File \u001b[0;32m\"<ipython-input-7-8cd16aa1a1fe>\"\u001b[0;36m, line \u001b[0;32m1\u001b[0m\n\u001b[0;31m    ```python\u001b[0m\n\u001b[0m    ^\u001b[0m\n\u001b[0;31mSyntaxError\u001b[0m\u001b[0;31m:\u001b[0m invalid syntax\n"
     ]
    }
   ],
   "source": [
    "```python\n",
    "print('dsa')\n",
    "def(dsf):\n",
    "    pass\n",
    "```"
   ]
  },
  {
   "cell_type": "code",
   "execution_count": null,
   "metadata": {},
   "outputs": [],
   "source": [
    "sdsdsdsdsd"
   ]
  },
  {
   "cell_type": "markdown",
   "metadata": {},
   "source": [
    "x = {\n",
    "    'one'\n",
    "    'two'\n",
    "    }"
   ]
  },
  {
   "cell_type": "code",
   "execution_count": 8,
   "metadata": {},
   "outputs": [
    {
     "data": {
      "application/json": {
       "cell": {
        "!": "OSMagics",
        "HTML": "Other",
        "SVG": "Other",
        "bash": "Other",
        "capture": "ExecutionMagics",
        "debug": "ExecutionMagics",
        "file": "Other",
        "html": "DisplayMagics",
        "javascript": "DisplayMagics",
        "js": "DisplayMagics",
        "latex": "DisplayMagics",
        "markdown": "DisplayMagics",
        "perl": "Other",
        "prun": "ExecutionMagics",
        "pypy": "Other",
        "python": "Other",
        "python2": "Other",
        "python3": "Other",
        "ruby": "Other",
        "script": "ScriptMagics",
        "sh": "Other",
        "svg": "DisplayMagics",
        "sx": "OSMagics",
        "system": "OSMagics",
        "time": "ExecutionMagics",
        "timeit": "ExecutionMagics",
        "writefile": "OSMagics"
       },
       "line": {
        "alias": "OSMagics",
        "alias_magic": "BasicMagics",
        "autoawait": "AsyncMagics",
        "autocall": "AutoMagics",
        "automagic": "AutoMagics",
        "autosave": "KernelMagics",
        "bookmark": "OSMagics",
        "cat": "Other",
        "cd": "OSMagics",
        "clear": "KernelMagics",
        "colors": "BasicMagics",
        "conda": "PackagingMagics",
        "config": "ConfigMagics",
        "connect_info": "KernelMagics",
        "cp": "Other",
        "debug": "ExecutionMagics",
        "dhist": "OSMagics",
        "dirs": "OSMagics",
        "doctest_mode": "BasicMagics",
        "ed": "Other",
        "edit": "KernelMagics",
        "env": "OSMagics",
        "gui": "BasicMagics",
        "hist": "Other",
        "history": "HistoryMagics",
        "killbgscripts": "ScriptMagics",
        "ldir": "Other",
        "less": "KernelMagics",
        "lf": "Other",
        "lk": "Other",
        "ll": "Other",
        "load": "CodeMagics",
        "load_ext": "ExtensionMagics",
        "loadpy": "CodeMagics",
        "logoff": "LoggingMagics",
        "logon": "LoggingMagics",
        "logstart": "LoggingMagics",
        "logstate": "LoggingMagics",
        "logstop": "LoggingMagics",
        "ls": "Other",
        "lsmagic": "BasicMagics",
        "lx": "Other",
        "macro": "ExecutionMagics",
        "magic": "BasicMagics",
        "man": "KernelMagics",
        "matplotlib": "PylabMagics",
        "mkdir": "Other",
        "more": "KernelMagics",
        "mv": "Other",
        "notebook": "BasicMagics",
        "page": "BasicMagics",
        "pastebin": "CodeMagics",
        "pdb": "ExecutionMagics",
        "pdef": "NamespaceMagics",
        "pdoc": "NamespaceMagics",
        "pfile": "NamespaceMagics",
        "pinfo": "NamespaceMagics",
        "pinfo2": "NamespaceMagics",
        "pip": "PackagingMagics",
        "popd": "OSMagics",
        "pprint": "BasicMagics",
        "precision": "BasicMagics",
        "prun": "ExecutionMagics",
        "psearch": "NamespaceMagics",
        "psource": "NamespaceMagics",
        "pushd": "OSMagics",
        "pwd": "OSMagics",
        "pycat": "OSMagics",
        "pylab": "PylabMagics",
        "qtconsole": "KernelMagics",
        "quickref": "BasicMagics",
        "recall": "HistoryMagics",
        "rehashx": "OSMagics",
        "reload_ext": "ExtensionMagics",
        "rep": "Other",
        "rerun": "HistoryMagics",
        "reset": "NamespaceMagics",
        "reset_selective": "NamespaceMagics",
        "rm": "Other",
        "rmdir": "Other",
        "run": "ExecutionMagics",
        "save": "CodeMagics",
        "sc": "OSMagics",
        "set_env": "OSMagics",
        "store": "StoreMagics",
        "sx": "OSMagics",
        "system": "OSMagics",
        "tb": "ExecutionMagics",
        "time": "ExecutionMagics",
        "timeit": "ExecutionMagics",
        "unalias": "OSMagics",
        "unload_ext": "ExtensionMagics",
        "who": "NamespaceMagics",
        "who_ls": "NamespaceMagics",
        "whos": "NamespaceMagics",
        "xdel": "NamespaceMagics",
        "xmode": "BasicMagics"
       }
      },
      "text/plain": [
       "Available line magics:\n",
       "%alias  %alias_magic  %autoawait  %autocall  %automagic  %autosave  %bookmark  %cat  %cd  %clear  %colors  %conda  %config  %connect_info  %cp  %debug  %dhist  %dirs  %doctest_mode  %ed  %edit  %env  %gui  %hist  %history  %killbgscripts  %ldir  %less  %lf  %lk  %ll  %load  %load_ext  %loadpy  %logoff  %logon  %logstart  %logstate  %logstop  %ls  %lsmagic  %lx  %macro  %magic  %man  %matplotlib  %mkdir  %more  %mv  %notebook  %page  %pastebin  %pdb  %pdef  %pdoc  %pfile  %pinfo  %pinfo2  %pip  %popd  %pprint  %precision  %prun  %psearch  %psource  %pushd  %pwd  %pycat  %pylab  %qtconsole  %quickref  %recall  %rehashx  %reload_ext  %rep  %rerun  %reset  %reset_selective  %rm  %rmdir  %run  %save  %sc  %set_env  %store  %sx  %system  %tb  %time  %timeit  %unalias  %unload_ext  %who  %who_ls  %whos  %xdel  %xmode\n",
       "\n",
       "Available cell magics:\n",
       "%%!  %%HTML  %%SVG  %%bash  %%capture  %%debug  %%file  %%html  %%javascript  %%js  %%latex  %%markdown  %%perl  %%prun  %%pypy  %%python  %%python2  %%python3  %%ruby  %%script  %%sh  %%svg  %%sx  %%system  %%time  %%timeit  %%writefile\n",
       "\n",
       "Automagic is ON, % prefix IS NOT needed for line magics."
      ]
     },
     "execution_count": 8,
     "metadata": {},
     "output_type": "execute_result"
    }
   ],
   "source": [
    "%lsmagic"
   ]
  },
  {
   "cell_type": "code",
   "execution_count": 11,
   "metadata": {},
   "outputs": [],
   "source": [
    "?range"
   ]
  },
  {
   "cell_type": "markdown",
   "metadata": {},
   "source": [
    "%%latex\n"
   ]
  },
  {
   "cell_type": "code",
   "execution_count": 12,
   "metadata": {},
   "outputs": [
    {
     "name": "stdout",
     "output_type": "stream",
     "text": [
      "01_teden_uvod_v_analitiko_podatkov_in_python_DN.ipynb  hello_jupyter.ipynb\r\n",
      "01_teden_uvod_v_analitiko_podatkov_in_python.ipynb     vaja\r\n"
     ]
    }
   ],
   "source": [
    "!ls"
   ]
  },
  {
   "cell_type": "code",
   "execution_count": null,
   "metadata": {},
   "outputs": [],
   "source": [
    "PROFILING"
   ]
  },
  {
   "cell_type": "code",
   "execution_count": null,
   "metadata": {},
   "outputs": [],
   "source": []
  },
  {
   "cell_type": "code",
   "execution_count": null,
   "metadata": {},
   "outputs": [],
   "source": []
  },
  {
   "cell_type": "code",
   "execution_count": null,
   "metadata": {},
   "outputs": [],
   "source": []
  },
  {
   "cell_type": "markdown",
   "metadata": {},
   "source": [
    "# Uporabne strani\n",
    "\n",
    "- Stack Overflow\n",
    "- [kaggle](https://www.kaggle.com/datasets)\n",
    "- [Dataquest Blog](https://www.dataquest.io/blog/)\n",
    "- [Data Flair Blog](https://data-flair.training/blogs/)\n",
    "- [Towards Data Science](https://towardsdatascience.com/)\n",
    "- [DataCamp](https://www.datacamp.com/community/tutorials)"
   ]
  },
  {
   "cell_type": "markdown",
   "metadata": {},
   "source": [
    "[Python Data Science Handbook](https://github.com/jakevdp/PythonDataScienceHandbook)"
   ]
  }
 ],
 "metadata": {
  "kernelspec": {
   "display_name": "Python 3",
   "language": "python",
   "name": "python3"
  },
  "language_info": {
   "codemirror_mode": {
    "name": "ipython",
    "version": 3
   },
   "file_extension": ".py",
   "mimetype": "text/x-python",
   "name": "python",
   "nbconvert_exporter": "python",
   "pygments_lexer": "ipython3",
   "version": "3.7.3"
  }
 },
 "nbformat": 4,
 "nbformat_minor": 2
}
