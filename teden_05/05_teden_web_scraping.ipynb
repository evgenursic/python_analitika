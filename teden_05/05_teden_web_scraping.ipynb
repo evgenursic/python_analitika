{
 "cells": [
  {
   "cell_type": "code",
   "execution_count": 1,
   "metadata": {},
   "outputs": [],
   "source": [
    "import pandas as pd\n",
    "import requests\n",
    "from bs4 import BeautifulSoup"
   ]
  },
  {
   "cell_type": "markdown",
   "metadata": {},
   "source": [
    "# Web scraping - pridobivanje podatkov s spleta\n"
   ]
  },
  {
   "cell_type": "markdown",
   "metadata": {},
   "source": [
    "## What Is Web Scraping?"
   ]
  },
  {
   "cell_type": "markdown",
   "metadata": {},
   "source": [
    "<img class=\"progressiveMedia-image js-progressiveMedia-image\" data-src=\"https://cdn-images-1.medium.com/max/1600/1*GOyqaID2x1N5lD_rhTDKVQ.png\" src=\"https://cdn-images-1.medium.com/max/1600/1*GOyqaID2x1N5lD_rhTDKVQ.png\">"
   ]
  },
  {
   "cell_type": "markdown",
   "metadata": {},
   "source": [
    "### Why Web Scraping for Data Science?"
   ]
  },
  {
   "cell_type": "markdown",
   "metadata": {},
   "source": [
    "## Network complexity"
   ]
  },
  {
   "cell_type": "markdown",
   "metadata": {},
   "source": [
    "## HTTP"
   ]
  },
  {
   "cell_type": "markdown",
   "metadata": {},
   "source": [
    "## HTTP in Python: The Requests Library"
   ]
  },
  {
   "cell_type": "markdown",
   "metadata": {},
   "source": [
    "[Requests: HTTP for Humans](https://2.python-requests.org/en/master/)"
   ]
  },
  {
   "cell_type": "code",
   "execution_count": 2,
   "metadata": {},
   "outputs": [],
   "source": [
    "import requests"
   ]
  },
  {
   "cell_type": "code",
   "execution_count": 3,
   "metadata": {},
   "outputs": [],
   "source": [
    "url = 'http://example.com/'"
   ]
  },
  {
   "cell_type": "code",
   "execution_count": 4,
   "metadata": {},
   "outputs": [],
   "source": [
    "r = requests.get(url)"
   ]
  },
  {
   "cell_type": "code",
   "execution_count": 5,
   "metadata": {},
   "outputs": [
    {
     "data": {
      "text/plain": [
       "<Response [200]>"
      ]
     },
     "execution_count": 5,
     "metadata": {},
     "output_type": "execute_result"
    }
   ],
   "source": [
    "r"
   ]
  },
  {
   "cell_type": "code",
   "execution_count": 6,
   "metadata": {},
   "outputs": [
    {
     "data": {
      "text/plain": [
       "requests.models.Response"
      ]
     },
     "execution_count": 6,
     "metadata": {},
     "output_type": "execute_result"
    }
   ],
   "source": [
    "type(r)"
   ]
  },
  {
   "cell_type": "code",
   "execution_count": 7,
   "metadata": {},
   "outputs": [
    {
     "data": {
      "text/plain": [
       "'<!doctype html>\\n<html>\\n<head>\\n    <title>Example Domain</title>\\n\\n    <meta charset=\"utf-8\" />\\n    <meta http-equiv=\"Content-type\" content=\"text/html; charset=utf-8\" />\\n    <meta name=\"viewport\" content=\"width=device-width, initial-scale=1\" />\\n    <style type=\"text/css\">\\n    body {\\n        background-color: #f0f0f2;\\n        margin: 0;\\n        padding: 0;\\n        font-family: \"Open Sans\", \"Helvetica Neue\", Helvetica, Arial, sans-serif;\\n        \\n    }\\n    div {\\n        width: 600px;\\n        margin: 5em auto;\\n        padding: 50px;\\n        background-color: #fff;\\n        border-radius: 1em;\\n    }\\n    a:link, a:visited {\\n        color: #38488f;\\n        text-decoration: none;\\n    }\\n    @media (max-width: 700px) {\\n        body {\\n            background-color: #fff;\\n        }\\n        div {\\n            width: auto;\\n            margin: 0 auto;\\n            border-radius: 0;\\n            padding: 1em;\\n        }\\n    }\\n    </style>    \\n</head>\\n\\n<body>\\n<div>\\n    <h1>Example Domain</h1>\\n    <p>This domain is established to be used for illustrative examples in documents. You may use this\\n    domain in examples without prior coordination or asking for permission.</p>\\n    <p><a href=\"http://www.iana.org/domains/example\">More information...</a></p>\\n</div>\\n</body>\\n</html>\\n'"
      ]
     },
     "execution_count": 7,
     "metadata": {},
     "output_type": "execute_result"
    }
   ],
   "source": [
    "r.text"
   ]
  },
  {
   "cell_type": "code",
   "execution_count": 8,
   "metadata": {},
   "outputs": [
    {
     "data": {
      "text/plain": [
       "200"
      ]
     },
     "execution_count": 8,
     "metadata": {},
     "output_type": "execute_result"
    }
   ],
   "source": [
    "r.status_code"
   ]
  },
  {
   "cell_type": "code",
   "execution_count": 9,
   "metadata": {},
   "outputs": [
    {
     "data": {
      "text/plain": [
       "'OK'"
      ]
     },
     "execution_count": 9,
     "metadata": {},
     "output_type": "execute_result"
    }
   ],
   "source": [
    "r.reason"
   ]
  },
  {
   "cell_type": "code",
   "execution_count": 10,
   "metadata": {},
   "outputs": [
    {
     "data": {
      "text/plain": [
       "{'Content-Encoding': 'gzip', 'Cache-Control': 'max-age=604800', 'Content-Type': 'text/html; charset=UTF-8', 'Date': 'Mon, 17 Jun 2019 18:46:40 GMT', 'Etag': '\"1541025663+gzip+ident+gzip\"', 'Expires': 'Mon, 24 Jun 2019 18:46:40 GMT', 'Last-Modified': 'Fri, 09 Aug 2013 23:54:35 GMT', 'Server': 'ECS (nyb/1D1E)', 'Vary': 'Accept-Encoding', 'X-Cache': 'HIT', 'Content-Length': '606'}"
      ]
     },
     "execution_count": 10,
     "metadata": {},
     "output_type": "execute_result"
    }
   ],
   "source": [
    "r.headers"
   ]
  },
  {
   "cell_type": "code",
   "execution_count": 11,
   "metadata": {},
   "outputs": [
    {
     "data": {
      "text/plain": [
       "<PreparedRequest [GET]>"
      ]
     },
     "execution_count": 11,
     "metadata": {},
     "output_type": "execute_result"
    }
   ],
   "source": [
    "r.request"
   ]
  },
  {
   "cell_type": "code",
   "execution_count": 12,
   "metadata": {},
   "outputs": [
    {
     "data": {
      "text/plain": [
       "{'User-Agent': 'python-requests/2.21.0', 'Accept-Encoding': 'gzip, deflate', 'Accept': '*/*', 'Connection': 'keep-alive'}"
      ]
     },
     "execution_count": 12,
     "metadata": {},
     "output_type": "execute_result"
    }
   ],
   "source": [
    "r.request.headers"
   ]
  },
  {
   "cell_type": "code",
   "execution_count": 14,
   "metadata": {},
   "outputs": [
    {
     "data": {
      "text/plain": [
       "'<!doctype html>\\n<html>\\n<head>\\n    <title>Example Domain</title>\\n\\n    <meta charset=\"utf-8\" />\\n    <m'"
      ]
     },
     "execution_count": 14,
     "metadata": {},
     "output_type": "execute_result"
    }
   ],
   "source": [
    "r.text[:100]"
   ]
  },
  {
   "cell_type": "markdown",
   "metadata": {},
   "source": [
    "## HTML and CSS"
   ]
  },
  {
   "cell_type": "markdown",
   "metadata": {},
   "source": [
    "<img class=\"progressiveMedia-image js-progressiveMedia-image\" data-src=\"https://cdn-images-1.medium.com/max/1600/1*x9mxFBXnLU05iPy19dGj7g.png\" src=\"https://cdn-images-1.medium.com/max/1600/1*x9mxFBXnLU05iPy19dGj7g.png\">"
   ]
  },
  {
   "cell_type": "markdown",
   "metadata": {},
   "source": [
    "### Hypertext Markup Language: HTML"
   ]
  },
  {
   "cell_type": "markdown",
   "metadata": {},
   "source": [
    "Link strani: https://en.wikipedia.org/w/index.php?title=List_of_Game_of_Thrones_episodes&oldid=802553687"
   ]
  },
  {
   "cell_type": "code",
   "execution_count": 22,
   "metadata": {},
   "outputs": [],
   "source": [
    "url_got = 'https://en.wikipedia.org/w/index.php?title=List_of_Game_of_Thrones_episodes&oldid=802553687'"
   ]
  },
  {
   "cell_type": "code",
   "execution_count": 23,
   "metadata": {},
   "outputs": [],
   "source": [
    "r = requests.get(url_got)"
   ]
  },
  {
   "cell_type": "code",
   "execution_count": 24,
   "metadata": {},
   "outputs": [
    {
     "data": {
      "text/plain": [
       "'<!DOCTYPE html>\\n<html class=\"client-nojs\" lang=\"en\" dir=\"ltr\">\\n<head>\\n<meta charset=\"UTF-8\"/>\\n<title>List of Game of Thrones episodes - Wikipedia</title>\\n<script>document.documentElement.className=document.documentElement.className.replace(/(^|\\\\s)client-nojs(\\\\s|$)/,\"$1client-js$2\");RLCONF={\"wgCanonicalNamespace\":\"\",\"wgCanonicalSpecialPageName\":!1,\"wgNamespaceNumber\":0,\"wgPageName\":\"List_of_Game_of_Thrones_episodes\",\"wgTitle\":\"List of Game of Thrones episodes\",\"wgCurRevisionId\":901322644,\"wgRevisionId\":802553687,\"wgArticleId\":31120069,\"wgIsArticle\":!0,\"wgIsRedirect\":!1,\"wgAction\":\"view\",\"wgUserName\":null,\"wgUserGroups\":[\"*\"],\"wgCategories\":[\"Articles containing potentially dated statements from August 2017\",\"All articles containing potentially dated statements\",\"Official website not in Wikidata\",\"Featured lists\",\"Game of Thrones episodes\",\"Lists of American drama television series episodes\",\"Lists of fantasy television series episodes\"],\"wgBreakFrames\":!1,\"wgPageContentLanguage\":\"en\",\"w'"
      ]
     },
     "execution_count": 24,
     "metadata": {},
     "output_type": "execute_result"
    }
   ],
   "source": [
    "r.text[:1000]"
   ]
  },
  {
   "cell_type": "code",
   "execution_count": 16,
   "metadata": {},
   "outputs": [],
   "source": [
    "from bs4 import BeautifulSoup"
   ]
  },
  {
   "cell_type": "code",
   "execution_count": 20,
   "metadata": {},
   "outputs": [],
   "source": [
    "html_content = r.text"
   ]
  },
  {
   "cell_type": "code",
   "execution_count": 21,
   "metadata": {},
   "outputs": [],
   "source": [
    "html_soup = BeautifulSoup(html_content, 'html.parser')"
   ]
  },
  {
   "cell_type": "code",
   "execution_count": 25,
   "metadata": {},
   "outputs": [
    {
     "data": {
      "text/plain": [
       "<h1 class=\"firstHeading\" id=\"firstHeading\" lang=\"en\">List of <i>Game of Thrones</i> episodes</h1>"
      ]
     },
     "execution_count": 25,
     "metadata": {},
     "output_type": "execute_result"
    }
   ],
   "source": [
    "html_soup.find('h1')"
   ]
  },
  {
   "cell_type": "code",
   "execution_count": 26,
   "metadata": {},
   "outputs": [
    {
     "data": {
      "text/plain": [
       "<h1 class=\"firstHeading\" id=\"firstHeading\" lang=\"en\">List of <i>Game of Thrones</i> episodes</h1>"
      ]
     },
     "execution_count": 26,
     "metadata": {},
     "output_type": "execute_result"
    }
   ],
   "source": [
    "html_soup.find('', {'id' : 'firstHeading'})"
   ]
  },
  {
   "cell_type": "code",
   "execution_count": 16,
   "metadata": {},
   "outputs": [],
   "source": []
  },
  {
   "cell_type": "code",
   "execution_count": null,
   "metadata": {},
   "outputs": [],
   "source": []
  },
  {
   "cell_type": "code",
   "execution_count": null,
   "metadata": {},
   "outputs": [],
   "source": []
  },
  {
   "cell_type": "code",
   "execution_count": null,
   "metadata": {},
   "outputs": [],
   "source": []
  },
  {
   "cell_type": "markdown",
   "metadata": {},
   "source": [
    "- `<p>...</p>` to enclose a paragraph;\n",
    "- `<br>` to set a line break;\n",
    "- `<table>...</table>` to start a table block, inside; `<tr>...<tr/>` is used for the rows; and `<td>...</td>` cells;\n",
    "- `<img>` for images;\n",
    "- `<h1>...</h1> to <h6>...</h6>` for headers;\n",
    "- `<div>...</div>` to indicate a “division” in an HTML document, basically used to group a set of elements;\n",
    "- `<a>...</a>` for hyperlinks;\n",
    "- `<ul>...</ul>, <ol>...</ol>` for unordered and ordered lists respectively; inside of these, `<li>...</li>` is used for each list item."
   ]
  },
  {
   "cell_type": "markdown",
   "metadata": {},
   "source": [
    "## Using Your Browser as a Development Tool"
   ]
  },
  {
   "cell_type": "markdown",
   "metadata": {},
   "source": [
    "## The Beautiful Soup Library"
   ]
  },
  {
   "cell_type": "code",
   "execution_count": 8,
   "metadata": {},
   "outputs": [],
   "source": [
    "html_content = r.text"
   ]
  },
  {
   "cell_type": "code",
   "execution_count": null,
   "metadata": {},
   "outputs": [],
   "source": []
  },
  {
   "cell_type": "code",
   "execution_count": null,
   "metadata": {},
   "outputs": [],
   "source": []
  },
  {
   "cell_type": "code",
   "execution_count": 11,
   "metadata": {},
   "outputs": [],
   "source": [
    "import pandas as pd"
   ]
  },
  {
   "cell_type": "markdown",
   "metadata": {},
   "source": [
    "> **[beautifulsoup4](https://www.crummy.com/software/BeautifulSoup/bs4/doc/)**: Beautiful Soup tries to organize complexity: it helps to parse, structure and organize the oftentimes very messy web by fixing bad HTML and presenting us with an easy-to-work-with Python structure."
   ]
  },
  {
   "cell_type": "code",
   "execution_count": 9,
   "metadata": {},
   "outputs": [],
   "source": [
    "from bs4 import BeautifulSoup"
   ]
  },
  {
   "cell_type": "code",
   "execution_count": 17,
   "metadata": {},
   "outputs": [],
   "source": [
    "html_soup = BeautifulSoup(html_content, 'html.parser')"
   ]
  },
  {
   "cell_type": "markdown",
   "metadata": {},
   "source": [
    "In Python, multiple parsers exist to do so:\n",
    "- `html.parser`: a built-in Python parser that is decent (especially when using recent versions of Python 3) and requires no extra installation.\n",
    "- `lxml`: which is very fast but requires an extra installation.\n",
    "- `html5lib`: which aims to parse web page in exactly the same way as a web browser does, but is a bit slower."
   ]
  },
  {
   "cell_type": "markdown",
   "metadata": {},
   "source": [
    "- `find(name, attrs, recursive, string, **keywords)`\n",
    "- `find_all(name, attrs, recursive, string, limit, **keywords)`"
   ]
  },
  {
   "cell_type": "code",
   "execution_count": 18,
   "metadata": {},
   "outputs": [
    {
     "data": {
      "text/plain": [
       "<h1 class=\"firstHeading\" id=\"firstHeading\" lang=\"en\">List of <i>Game of Thrones</i> episodes</h1>"
      ]
     },
     "execution_count": 18,
     "metadata": {},
     "output_type": "execute_result"
    }
   ],
   "source": [
    "html_soup.find('h1')"
   ]
  },
  {
   "cell_type": "code",
   "execution_count": 19,
   "metadata": {},
   "outputs": [
    {
     "data": {
      "text/plain": [
       "<h1 class=\"firstHeading\" id=\"firstHeading\" lang=\"en\">List of <i>Game of Thrones</i> episodes</h1>"
      ]
     },
     "execution_count": 19,
     "metadata": {},
     "output_type": "execute_result"
    }
   ],
   "source": [
    "html_soup.find('', {'id': 'firstHeading'})"
   ]
  },
  {
   "cell_type": "code",
   "execution_count": 27,
   "metadata": {},
   "outputs": [],
   "source": [
    "all_h2 = html_soup.find_all('h2', limit=3)"
   ]
  },
  {
   "cell_type": "code",
   "execution_count": 28,
   "metadata": {},
   "outputs": [
    {
     "data": {
      "text/plain": [
       "[<h2>Contents</h2>,\n",
       " <h2><span class=\"mw-headline\" id=\"Series_overview\">Series overview</span></h2>,\n",
       " <h2><span class=\"mw-headline\" id=\"Episodes\">Episodes</span></h2>]"
      ]
     },
     "execution_count": 28,
     "metadata": {},
     "output_type": "execute_result"
    }
   ],
   "source": [
    "all_h2"
   ]
  },
  {
   "cell_type": "code",
   "execution_count": 30,
   "metadata": {},
   "outputs": [
    {
     "data": {
      "text/plain": [
       "3"
      ]
     },
     "execution_count": 30,
     "metadata": {},
     "output_type": "execute_result"
    }
   ],
   "source": [
    "len (all_h2)"
   ]
  },
  {
   "cell_type": "code",
   "execution_count": 31,
   "metadata": {},
   "outputs": [
    {
     "data": {
      "text/plain": [
       "[<h2>Contents</h2>,\n",
       " <h2><span class=\"mw-headline\" id=\"Series_overview\">Series overview</span></h2>,\n",
       " <h2><span class=\"mw-headline\" id=\"Episodes\">Episodes</span></h2>]"
      ]
     },
     "execution_count": 31,
     "metadata": {},
     "output_type": "execute_result"
    }
   ],
   "source": [
    "all_h2"
   ]
  },
  {
   "cell_type": "code",
   "execution_count": 32,
   "metadata": {},
   "outputs": [
    {
     "name": "stdout",
     "output_type": "stream",
     "text": [
      "<h2>Contents</h2>\n",
      "<h2><span class=\"mw-headline\" id=\"Series_overview\">Series overview</span></h2>\n",
      "<h2><span class=\"mw-headline\" id=\"Episodes\">Episodes</span></h2>\n",
      "<h2><span class=\"mw-headline\" id=\"Home_media_releases\">Home media releases</span></h2>\n",
      "<h2><span class=\"mw-headline\" id=\"Ratings\">Ratings</span></h2>\n",
      "<h2><span class=\"mw-headline\" id=\"References\">References</span></h2>\n",
      "<h2><span class=\"mw-headline\" id=\"External_links\">External links</span></h2>\n",
      "<h2>Navigation menu</h2>\n"
     ]
    }
   ],
   "source": [
    "for found in html_soup.find_all('h2'):\n",
    "    print(found)"
   ]
  },
  {
   "cell_type": "code",
   "execution_count": 33,
   "metadata": {},
   "outputs": [],
   "source": [
    "first_h1 = html_soup.find('h1')"
   ]
  },
  {
   "cell_type": "code",
   "execution_count": 34,
   "metadata": {},
   "outputs": [
    {
     "data": {
      "text/plain": [
       "<h1 class=\"firstHeading\" id=\"firstHeading\" lang=\"en\">List of <i>Game of Thrones</i> episodes</h1>"
      ]
     },
     "execution_count": 34,
     "metadata": {},
     "output_type": "execute_result"
    }
   ],
   "source": [
    "first_h1"
   ]
  },
  {
   "cell_type": "code",
   "execution_count": 25,
   "metadata": {},
   "outputs": [
    {
     "data": {
      "text/plain": [
       "'h1'"
      ]
     },
     "execution_count": 25,
     "metadata": {},
     "output_type": "execute_result"
    }
   ],
   "source": [
    "first_h1.name"
   ]
  },
  {
   "cell_type": "code",
   "execution_count": 35,
   "metadata": {},
   "outputs": [
    {
     "data": {
      "text/plain": [
       "['List of ', <i>Game of Thrones</i>, ' episodes']"
      ]
     },
     "execution_count": 35,
     "metadata": {},
     "output_type": "execute_result"
    }
   ],
   "source": [
    "first_h1.contents"
   ]
  },
  {
   "cell_type": "code",
   "execution_count": 37,
   "metadata": {},
   "outputs": [
    {
     "data": {
      "text/plain": [
       "'<h1 class=\"firstHeading\" id=\"firstHeading\" lang=\"en\">List of <i>Game of Thrones</i> episodes</h1>'"
      ]
     },
     "execution_count": 37,
     "metadata": {},
     "output_type": "execute_result"
    }
   ],
   "source": [
    "str(first_h1)"
   ]
  },
  {
   "cell_type": "code",
   "execution_count": 36,
   "metadata": {},
   "outputs": [
    {
     "data": {
      "text/plain": [
       "'List of Game of Thrones episodes'"
      ]
     },
     "execution_count": 36,
     "metadata": {},
     "output_type": "execute_result"
    }
   ],
   "source": [
    "first_h1.text"
   ]
  },
  {
   "cell_type": "code",
   "execution_count": 39,
   "metadata": {},
   "outputs": [
    {
     "data": {
      "text/plain": [
       "'List of---Game of Thrones---episodes'"
      ]
     },
     "execution_count": 39,
     "metadata": {},
     "output_type": "execute_result"
    }
   ],
   "source": [
    "first_h1.get_text('---', strip=True)"
   ]
  },
  {
   "cell_type": "code",
   "execution_count": 40,
   "metadata": {},
   "outputs": [
    {
     "data": {
      "text/plain": [
       "{'id': 'firstHeading', 'class': ['firstHeading'], 'lang': 'en'}"
      ]
     },
     "execution_count": 40,
     "metadata": {},
     "output_type": "execute_result"
    }
   ],
   "source": [
    "first_h1.attrs"
   ]
  },
  {
   "cell_type": "code",
   "execution_count": 41,
   "metadata": {},
   "outputs": [
    {
     "data": {
      "text/plain": [
       "'firstHeading'"
      ]
     },
     "execution_count": 41,
     "metadata": {},
     "output_type": "execute_result"
    }
   ],
   "source": [
    "first_h1.attrs['id']"
   ]
  },
  {
   "cell_type": "code",
   "execution_count": 42,
   "metadata": {},
   "outputs": [
    {
     "data": {
      "text/plain": [
       "'firstHeading'"
      ]
     },
     "execution_count": 42,
     "metadata": {},
     "output_type": "execute_result"
    }
   ],
   "source": [
    "first_h1['id']"
   ]
  },
  {
   "cell_type": "code",
   "execution_count": 43,
   "metadata": {},
   "outputs": [
    {
     "data": {
      "text/plain": [
       "'firstHeading'"
      ]
     },
     "execution_count": 43,
     "metadata": {},
     "output_type": "execute_result"
    }
   ],
   "source": [
    "first_h1.get('id')"
   ]
  },
  {
   "cell_type": "code",
   "execution_count": 44,
   "metadata": {},
   "outputs": [],
   "source": [
    "cites = html_soup.find_all('cite', class_='citation', limit=4)"
   ]
  },
  {
   "cell_type": "code",
   "execution_count": 46,
   "metadata": {},
   "outputs": [
    {
     "data": {
      "text/plain": [
       "[<cite class=\"citation web\">Fowler, Matt (April 8, 2011). <a class=\"external text\" href=\"http://tv.ign.com/articles/116/1160215p1.html\" rel=\"nofollow\">\"Game of Thrones: \"Winter is Coming\" Review\"</a>. <a href=\"/wiki/IGN\" title=\"IGN\">IGN</a>. <a class=\"external text\" href=\"https://web.archive.org/web/20120817073932/http://tv.ign.com/articles/116/1160215p1.html\" rel=\"nofollow\">Archived</a> from the original on August 17, 2012<span class=\"reference-accessdate\">. Retrieved <span class=\"nowrap\">September 22,</span> 2016</span>.</cite>,\n",
       " <cite class=\"citation news\">Fleming, Michael (January 16, 2007). <a class=\"external text\" href=\"http://www.variety.com/article/VR1117957532.html?categoryid=14&amp;cs=1\" rel=\"nofollow\">\"HBO turns <i>Fire</i> into fantasy series\"</a>. <i><a href=\"/wiki/Variety_(magazine)\" title=\"Variety (magazine)\">Variety</a></i>. <a class=\"external text\" href=\"https://web.archive.org/web/20120516224747/http://www.variety.com/article/VR1117957532?refCatId=14\" rel=\"nofollow\">Archived</a> from the original on May 16, 2012<span class=\"reference-accessdate\">. Retrieved <span class=\"nowrap\">September 3,</span> 2016</span>.</cite>,\n",
       " <cite class=\"citation web\"><a class=\"external text\" href=\"http://www.emmys.com/shows/game-thrones\" rel=\"nofollow\">\"Game of Thrones\"</a>. <a href=\"/wiki/Emmy_Award\" title=\"Emmy Award\">Emmys.com</a><span class=\"reference-accessdate\">. Retrieved <span class=\"nowrap\">September 17,</span> 2016</span>.</cite>,\n",
       " <cite class=\"citation news\">Roberts, Josh (April 1, 2012). <a class=\"external text\" href=\"https://web.archive.org/web/20120401123724/http://travel.usatoday.com/destinations/story/2012-04-01/Where-the-HBO-hit-Game-of-Thrones-was-filmed/53876876/1\" rel=\"nofollow\">\"Where HBO's hit 'Game of Thrones' was filmed\"</a>. <i><a href=\"/wiki/USA_Today\" title=\"USA Today\">USA Today</a></i>. Archived from <a class=\"external text\" href=\"http://travel.usatoday.com/destinations/story/2012-04-01/Where-the-HBO-hit-Game-of-Thrones-was-filmed/53876876/1\" rel=\"nofollow\">the original</a> on April 1, 2012<span class=\"reference-accessdate\">. Retrieved <span class=\"nowrap\">March 8,</span> 2013</span>.</cite>]"
      ]
     },
     "execution_count": 46,
     "metadata": {},
     "output_type": "execute_result"
    }
   ],
   "source": [
    "cites"
   ]
  },
  {
   "cell_type": "code",
   "execution_count": 30,
   "metadata": {},
   "outputs": [
    {
     "data": {
      "text/plain": [
       "4"
      ]
     },
     "execution_count": 30,
     "metadata": {},
     "output_type": "execute_result"
    }
   ],
   "source": [
    "len(cites)"
   ]
  },
  {
   "cell_type": "code",
   "execution_count": 43,
   "metadata": {},
   "outputs": [
    {
     "data": {
      "text/plain": [
       "<cite class=\"citation web\">Fowler, Matt (April 8, 2011). <a class=\"external text\" href=\"http://tv.ign.com/articles/116/1160215p1.html\" rel=\"nofollow\">\"Game of Thrones: \"Winter is Coming\" Review\"</a>. <a href=\"/wiki/IGN\" title=\"IGN\">IGN</a>. <a class=\"external text\" href=\"https://web.archive.org/web/20120817073932/http://tv.ign.com/articles/116/1160215p1.html\" rel=\"nofollow\">Archived</a> from the original on August 17, 2012<span class=\"reference-accessdate\">. Retrieved <span class=\"nowrap\">September 22,</span> 2016</span>.</cite>"
      ]
     },
     "execution_count": 43,
     "metadata": {},
     "output_type": "execute_result"
    }
   ],
   "source": [
    "cites[0]"
   ]
  },
  {
   "cell_type": "code",
   "execution_count": 44,
   "metadata": {},
   "outputs": [
    {
     "data": {
      "text/plain": [
       "[<cite class=\"citation web\">Fowler, Matt (April 8, 2011). <a class=\"external text\" href=\"http://tv.ign.com/articles/116/1160215p1.html\" rel=\"nofollow\">\"Game of Thrones: \"Winter is Coming\" Review\"</a>. <a href=\"/wiki/IGN\" title=\"IGN\">IGN</a>. <a class=\"external text\" href=\"https://web.archive.org/web/20120817073932/http://tv.ign.com/articles/116/1160215p1.html\" rel=\"nofollow\">Archived</a> from the original on August 17, 2012<span class=\"reference-accessdate\">. Retrieved <span class=\"nowrap\">September 22,</span> 2016</span>.</cite>,\n",
       " <cite class=\"citation news\">Fleming, Michael (January 16, 2007). <a class=\"external text\" href=\"http://www.variety.com/article/VR1117957532.html?categoryid=14&amp;cs=1\" rel=\"nofollow\">\"HBO turns <i>Fire</i> into fantasy series\"</a>. <i><a href=\"/wiki/Variety_(magazine)\" title=\"Variety (magazine)\">Variety</a></i>. <a class=\"external text\" href=\"https://web.archive.org/web/20120516224747/http://www.variety.com/article/VR1117957532?refCatId=14\" rel=\"nofollow\">Archived</a> from the original on May 16, 2012<span class=\"reference-accessdate\">. Retrieved <span class=\"nowrap\">September 3,</span> 2016</span>.</cite>,\n",
       " <cite class=\"citation web\"><a class=\"external text\" href=\"http://www.emmys.com/shows/game-thrones\" rel=\"nofollow\">\"Game of Thrones\"</a>. <a href=\"/wiki/Emmy_Award\" title=\"Emmy Award\">Emmys.com</a><span class=\"reference-accessdate\">. Retrieved <span class=\"nowrap\">September 17,</span> 2016</span>.</cite>,\n",
       " <cite class=\"citation news\">Roberts, Josh (April 1, 2012). <a class=\"external text\" href=\"https://web.archive.org/web/20120401123724/http://travel.usatoday.com/destinations/story/2012-04-01/Where-the-HBO-hit-Game-of-Thrones-was-filmed/53876876/1\" rel=\"nofollow\">\"Where HBO's hit 'Game of Thrones' was filmed\"</a>. <i><a href=\"/wiki/USA_Today\" title=\"USA Today\">USA Today</a></i>. Archived from <a class=\"external text\" href=\"http://travel.usatoday.com/destinations/story/2012-04-01/Where-the-HBO-hit-Game-of-Thrones-was-filmed/53876876/1\" rel=\"nofollow\">the original</a> on April 1, 2012<span class=\"reference-accessdate\">. Retrieved <span class=\"nowrap\">March 8,</span> 2013</span>.</cite>]"
      ]
     },
     "execution_count": 44,
     "metadata": {},
     "output_type": "execute_result"
    }
   ],
   "source": [
    "cites"
   ]
  },
  {
   "cell_type": "code",
   "execution_count": 47,
   "metadata": {},
   "outputs": [
    {
     "data": {
      "text/plain": [
       "'Fowler, Matt (April 8, 2011). \"Game of Thrones: \"Winter is Coming\" Review\". IGN. Archived from the original on August 17, 2012. Retrieved September 22, 2016.'"
      ]
     },
     "execution_count": 47,
     "metadata": {},
     "output_type": "execute_result"
    }
   ],
   "source": [
    "cites[0].get_text()"
   ]
  },
  {
   "cell_type": "code",
   "execution_count": 48,
   "metadata": {},
   "outputs": [],
   "source": [
    "link = cites[0].find('a').get('href')"
   ]
  },
  {
   "cell_type": "code",
   "execution_count": 49,
   "metadata": {},
   "outputs": [
    {
     "data": {
      "text/plain": [
       "'http://tv.ign.com/articles/116/1160215p1.html'"
      ]
     },
     "execution_count": 49,
     "metadata": {},
     "output_type": "execute_result"
    }
   ],
   "source": [
    "link"
   ]
  },
  {
   "cell_type": "code",
   "execution_count": 53,
   "metadata": {},
   "outputs": [
    {
     "name": "stdout",
     "output_type": "stream",
     "text": [
      "----> Fowler, Matt (April 8, 2011). \"Game of Thrones: \"Winter is Coming\" Review\". IGN. Archived from the original on August 17, 2012. Retrieved September 22, 2016.\n",
      "http://tv.ign.com/articles/116/1160215p1.html\n",
      "\n",
      "----> Fleming, Michael (January 16, 2007). \"HBO turns Fire into fantasy series\". Variety. Archived from the original on May 16, 2012. Retrieved September 3, 2016.\n",
      "http://www.variety.com/article/VR1117957532.html?categoryid=14&cs=1\n",
      "\n",
      "----> \"Game of Thrones\". Emmys.com. Retrieved September 17, 2016.\n",
      "http://www.emmys.com/shows/game-thrones\n",
      "\n",
      "----> Roberts, Josh (April 1, 2012). \"Where HBO's hit 'Game of Thrones' was filmed\". USA Today. Archived from the original on April 1, 2012. Retrieved March 8, 2013.\n",
      "https://web.archive.org/web/20120401123724/http://travel.usatoday.com/destinations/story/2012-04-01/Where-the-HBO-hit-Game-of-Thrones-was-filmed/53876876/1\n",
      "\n"
     ]
    }
   ],
   "source": [
    "for citation in cites:\n",
    "    print('---->', citation.get_text())\n",
    "    print(citation.find('a').get('href'))\n",
    "    print()"
   ]
  },
  {
   "cell_type": "code",
   "execution_count": 54,
   "metadata": {},
   "outputs": [
    {
     "data": {
      "text/plain": [
       "'\\n\\n\\n\\nList of Game of Thrones episodes - Wikipedia\\ndocument.documentElement.className=document.documentElement.className.replace(/(^|\\\\s)client-nojs(\\\\s|$)/,\"$1client-js$2\");RLCONF={\"wgCanonicalNamespace\":\"\",\"wgCanonicalSpecialPageName\":!1,\"wgNamespaceNumber\":0,\"wgPageName\":\"List_of_Game_of_Thrones_episodes\",\"wgTitle\":\"List of Game of Thrones episodes\",\"wgCurRevisionId\":901322644,\"wgRevisionId\":802553687,\"wgArticleId\":31120069,\"wgIsArticle\":!0,\"wgIsRedirect\":!1,\"wgAction\":\"view\",\"wgUserName\":null,\"wgUserGroups\":[\"*\"],\"wgCategories\":[\"Articles containing potentially dated statements from August 2017\",\"All articles containing potentially dated statements\",\"Official website not in Wikidata\",\"Featured lists\",\"Game of Thrones episodes\",\"Lists of American drama television series episodes\",\"Lists of fantasy television series episodes\"],\"wgBreakFrames\":!1,\"wgPageContentLanguage\":\"en\",\"wgPageContentModel\":\"wikitext\",\"wgSeparatorTransformTable\":[\"\",\"\"],\"wgDigitTransformTable\":[\"\",\"\"],\"wgDefaultDateF'"
      ]
     },
     "execution_count": 54,
     "metadata": {},
     "output_type": "execute_result"
    }
   ],
   "source": [
    "html_soup.text[:1000]"
   ]
  },
  {
   "cell_type": "code",
   "execution_count": 55,
   "metadata": {},
   "outputs": [],
   "source": [
    "episodes = []"
   ]
  },
  {
   "cell_type": "code",
   "execution_count": 56,
   "metadata": {},
   "outputs": [],
   "source": [
    "ep_tables = html_soup.find_all('table', class_='wikiepisodetable')"
   ]
  },
  {
   "cell_type": "code",
   "execution_count": 58,
   "metadata": {},
   "outputs": [
    {
     "data": {
      "text/plain": [
       "<table class=\"wikitable plainrowheaders wikiepisodetable\" style=\"width:100%\"><tbody><tr style=\"color:white;text-align:center\"><th scope=\"col\" style=\"background:#295354;width:5%\"><abbr title=\"Number\">No.</abbr><br/>overall</th><th scope=\"col\" style=\"background:#295354;width:5%\"><abbr title=\"Number\">No.</abbr> in<br/>season</th><th scope=\"col\" style=\"background:#295354;width:23%\">Title</th><th scope=\"col\" style=\"background:#295354;width:17%\">Directed by</th><th scope=\"col\" style=\"background:#295354;width:27%\">Written by</th><th scope=\"col\" style=\"background:#295354;width:12%\">Original air date</th><th scope=\"col\" style=\"background:#295354;width:10%\">U.S. viewers<br/>(millions)</th></tr><tr class=\"vevent\" style=\"text-align:center;background:inherit\"><th id=\"ep1\" rowspan=\"1\" scope=\"row\" style=\"text-align:center\">1</th><td style=\"text-align:center\">1</td><td class=\"summary\" style=\"text-align:left\">\"<a href=\"/wiki/Winter_Is_Coming\" title=\"Winter Is Coming\">Winter Is Coming</a>\"</td><td style=\"text-align:center\"><a href=\"/wiki/Tim_Van_Patten\" title=\"Tim Van Patten\">Tim Van Patten</a></td><td style=\"text-align:center\"><a href=\"/wiki/David_Benioff\" title=\"David Benioff\">David Benioff</a> &amp; <a href=\"/wiki/D._B._Weiss\" title=\"D. B. Weiss\">D. B. Weiss</a></td><td style=\"text-align:center\">April 17, 2011<span style=\"display:none\"> (<span class=\"bday dtstart published updated\">2011-04-17</span>)</span></td><td style=\"text-align:center\">2.22<sup class=\"reference\" id=\"cite_ref-20\"><a href=\"#cite_note-20\">[20]</a></sup></td></tr>\n",
       "<tr class=\"vevent\" style=\"text-align:center;background:inherit\"><th id=\"ep2\" rowspan=\"1\" scope=\"row\" style=\"text-align:center\">2</th><td style=\"text-align:center\">2</td><td class=\"summary\" style=\"text-align:left\">\"<a href=\"/wiki/The_Kingsroad\" title=\"The Kingsroad\">The Kingsroad</a>\"</td><td style=\"text-align:center\">Tim Van Patten</td><td style=\"text-align:center\">David Benioff &amp; D. B. Weiss</td><td style=\"text-align:center\">April 24, 2011<span style=\"display:none\"> (<span class=\"bday dtstart published updated\">2011-04-24</span>)</span></td><td style=\"text-align:center\">2.20<sup class=\"reference\" id=\"cite_ref-21\"><a href=\"#cite_note-21\">[21]</a></sup></td></tr>\n",
       "<tr class=\"vevent\" style=\"text-align:center;background:inherit\"><th id=\"ep3\" rowspan=\"1\" scope=\"row\" style=\"text-align:center\">3</th><td style=\"text-align:center\">3</td><td class=\"summary\" style=\"text-align:left\">\"<a href=\"/wiki/Lord_Snow\" title=\"Lord Snow\">Lord Snow</a>\"</td><td style=\"text-align:center\"><a href=\"/wiki/Brian_Kirk\" title=\"Brian Kirk\">Brian Kirk</a></td><td style=\"text-align:center\">David Benioff &amp; D. B. Weiss</td><td style=\"text-align:center\">May 1, 2011<span style=\"display:none\"> (<span class=\"bday dtstart published updated\">2011-05-01</span>)</span></td><td style=\"text-align:center\">2.44<sup class=\"reference\" id=\"cite_ref-22\"><a href=\"#cite_note-22\">[22]</a></sup></td></tr>\n",
       "<tr class=\"vevent\" style=\"text-align:center;background:inherit\"><th id=\"ep4\" rowspan=\"1\" scope=\"row\" style=\"text-align:center\">4</th><td style=\"text-align:center\">4</td><td class=\"summary\" style=\"text-align:left\">\"<a href=\"/wiki/Cripples,_Bastards,_and_Broken_Things\" title=\"Cripples, Bastards, and Broken Things\">Cripples, Bastards, and Broken Things</a>\"</td><td style=\"text-align:center\">Brian Kirk</td><td style=\"text-align:center\"><a href=\"/wiki/Bryan_Cogman\" title=\"Bryan Cogman\">Bryan Cogman</a></td><td style=\"text-align:center\">May 8, 2011<span style=\"display:none\"> (<span class=\"bday dtstart published updated\">2011-05-08</span>)</span></td><td style=\"text-align:center\">2.45<sup class=\"reference\" id=\"cite_ref-23\"><a href=\"#cite_note-23\">[23]</a></sup></td></tr>\n",
       "<tr class=\"vevent\" style=\"text-align:center;background:inherit\"><th id=\"ep5\" rowspan=\"1\" scope=\"row\" style=\"text-align:center\">5</th><td style=\"text-align:center\">5</td><td class=\"summary\" style=\"text-align:left\">\"<a href=\"/wiki/The_Wolf_and_the_Lion\" title=\"The Wolf and the Lion\">The Wolf and the Lion</a>\"</td><td style=\"text-align:center\">Brian Kirk</td><td style=\"text-align:center\">David Benioff &amp; D. B. Weiss</td><td style=\"text-align:center\">May 15, 2011<span style=\"display:none\"> (<span class=\"bday dtstart published updated\">2011-05-15</span>)</span></td><td style=\"text-align:center\">2.58<sup class=\"reference\" id=\"cite_ref-24\"><a href=\"#cite_note-24\">[24]</a></sup></td></tr>\n",
       "<tr class=\"vevent\" style=\"text-align:center;background:inherit\"><th id=\"ep6\" rowspan=\"1\" scope=\"row\" style=\"text-align:center\">6</th><td style=\"text-align:center\">6</td><td class=\"summary\" style=\"text-align:left\">\"<a href=\"/wiki/A_Golden_Crown\" title=\"A Golden Crown\">A Golden Crown</a>\"</td><td style=\"text-align:center\"><a href=\"/wiki/Daniel_Minahan\" title=\"Daniel Minahan\">Daniel Minahan</a></td><td style=\"text-align:center\"><i>Story by</i> : David Benioff &amp; D. B. Weiss <br/><i>Teleplay by</i> : <a href=\"/wiki/Jane_Espenson\" title=\"Jane Espenson\">Jane Espenson</a> and David Benioff &amp; D. B. Weiss</td><td style=\"text-align:center\">May 22, 2011<span style=\"display:none\"> (<span class=\"bday dtstart published updated\">2011-05-22</span>)</span></td><td style=\"text-align:center\">2.44<sup class=\"reference\" id=\"cite_ref-25\"><a href=\"#cite_note-25\">[25]</a></sup></td></tr>\n",
       "<tr class=\"vevent\" style=\"text-align:center;background:inherit\"><th id=\"ep7\" rowspan=\"1\" scope=\"row\" style=\"text-align:center\">7</th><td style=\"text-align:center\">7</td><td class=\"summary\" style=\"text-align:left\">\"<a href=\"/wiki/You_Win_or_You_Die\" title=\"You Win or You Die\">You Win or You Die</a>\"</td><td style=\"text-align:center\"><span class=\"nowrap\">Daniel Minahan</span></td><td style=\"text-align:center\">David Benioff &amp; D. B. Weiss</td><td style=\"text-align:center\">May 29, 2011<span style=\"display:none\"> (<span class=\"bday dtstart published updated\">2011-05-29</span>)</span></td><td style=\"text-align:center\">2.40<sup class=\"reference\" id=\"cite_ref-26\"><a href=\"#cite_note-26\">[26]</a></sup></td></tr>\n",
       "<tr class=\"vevent\" style=\"text-align:center;background:inherit\"><th id=\"ep8\" rowspan=\"1\" scope=\"row\" style=\"text-align:center\">8</th><td style=\"text-align:center\">8</td><td class=\"summary\" style=\"text-align:left\">\"<a href=\"/wiki/The_Pointy_End\" title=\"The Pointy End\">The Pointy End</a>\"</td><td style=\"text-align:center\">Daniel Minahan</td><td style=\"text-align:center\"><a href=\"/wiki/George_R._R._Martin\" title=\"George R. R. Martin\">George R. R. Martin</a></td><td style=\"text-align:center\">June 5, 2011<span style=\"display:none\"> (<span class=\"bday dtstart published updated\">2011-06-05</span>)</span></td><td style=\"text-align:center\">2.72<sup class=\"reference\" id=\"cite_ref-27\"><a href=\"#cite_note-27\">[27]</a></sup></td></tr>\n",
       "<tr class=\"vevent\" style=\"text-align:center;background:inherit\"><th id=\"ep9\" rowspan=\"1\" scope=\"row\" style=\"text-align:center\">9</th><td style=\"text-align:center\">9</td><td class=\"summary\" style=\"text-align:left\">\"<a href=\"/wiki/Baelor\" title=\"Baelor\">Baelor</a>\"</td><td style=\"text-align:center\"><a href=\"/wiki/Alan_Taylor_(director)\" title=\"Alan Taylor (director)\">Alan Taylor</a></td><td style=\"text-align:center\">David Benioff &amp; D. B. Weiss</td><td style=\"text-align:center\">June 12, 2011<span style=\"display:none\"> (<span class=\"bday dtstart published updated\">2011-06-12</span>)</span></td><td style=\"text-align:center\">2.66<sup class=\"reference\" id=\"cite_ref-28\"><a href=\"#cite_note-28\">[28]</a></sup></td></tr>\n",
       "<tr class=\"vevent\" style=\"text-align:center;background:inherit\"><th id=\"ep10\" rowspan=\"1\" scope=\"row\" style=\"text-align:center\">10</th><td style=\"text-align:center\">10</td><td class=\"summary\" style=\"text-align:left\">\"<a href=\"/wiki/Fire_and_Blood_(Game_of_Thrones)\" title=\"Fire and Blood (Game of Thrones)\">Fire and Blood</a>\"</td><td style=\"text-align:center\">Alan Taylor</td><td style=\"text-align:center\">David Benioff &amp; D. B. Weiss</td><td style=\"text-align:center\">June 19, 2011<span style=\"display:none\"> (<span class=\"bday dtstart published updated\">2011-06-19</span>)</span></td><td style=\"text-align:center\">3.04<sup class=\"reference\" id=\"cite_ref-29\"><a href=\"#cite_note-29\">[29]</a></sup></td></tr></tbody></table>"
      ]
     },
     "execution_count": 58,
     "metadata": {},
     "output_type": "execute_result"
    }
   ],
   "source": [
    "ep_tables[0]"
   ]
  },
  {
   "cell_type": "code",
   "execution_count": 59,
   "metadata": {},
   "outputs": [
    {
     "data": {
      "text/plain": [
       "7"
      ]
     },
     "execution_count": 59,
     "metadata": {},
     "output_type": "execute_result"
    }
   ],
   "source": [
    "len(ep_tables)"
   ]
  },
  {
   "cell_type": "code",
   "execution_count": 60,
   "metadata": {},
   "outputs": [],
   "source": [
    "for table in ep_tables[0]:\n",
    "    headers = []\n",
    "    rows = table.find_all('tr')\n",
    "    for header in table.find('tr').find_all('th'):\n",
    "        headers.append(header.text)\n",
    "    for row in rows[1:]:\n",
    "        values = []\n",
    "        for col in row.find_all(['th', 'td']):\n",
    "            values.append(col.text)\n",
    "        if values:\n",
    "            episode_dict = {headers[i]: values[i] for i in range(len(values))}\n",
    "            episodes.append(episode_dict)"
   ]
  },
  {
   "cell_type": "code",
   "execution_count": 61,
   "metadata": {},
   "outputs": [
    {
     "data": {
      "text/plain": [
       "{'No.overall': '1',\n",
       " 'No. inseason': '1',\n",
       " 'Title': '\"Winter Is Coming\"',\n",
       " 'Directed by': 'Tim Van Patten',\n",
       " 'Written by': 'David Benioff & D. B. Weiss',\n",
       " 'Original air date': 'April\\xa017,\\xa02011\\xa0(2011-04-17)',\n",
       " 'U.S. viewers(millions)': '2.22[20]'}"
      ]
     },
     "execution_count": 61,
     "metadata": {},
     "output_type": "execute_result"
    }
   ],
   "source": [
    "episodes[0]"
   ]
  },
  {
   "cell_type": "code",
   "execution_count": 62,
   "metadata": {},
   "outputs": [
    {
     "name": "stdout",
     "output_type": "stream",
     "text": [
      "{'No.overall': '1', 'No. inseason': '1', 'Title': '\"Winter Is Coming\"', 'Directed by': 'Tim Van Patten', 'Written by': 'David Benioff & D. B. Weiss', 'Original air date': 'April\\xa017,\\xa02011\\xa0(2011-04-17)', 'U.S. viewers(millions)': '2.22[20]'}\n",
      "{'No.overall': '2', 'No. inseason': '2', 'Title': '\"The Kingsroad\"', 'Directed by': 'Tim Van Patten', 'Written by': 'David Benioff & D. B. Weiss', 'Original air date': 'April\\xa024,\\xa02011\\xa0(2011-04-24)', 'U.S. viewers(millions)': '2.20[21]'}\n",
      "{'No.overall': '3', 'No. inseason': '3', 'Title': '\"Lord Snow\"', 'Directed by': 'Brian Kirk', 'Written by': 'David Benioff & D. B. Weiss', 'Original air date': 'May\\xa01,\\xa02011\\xa0(2011-05-01)', 'U.S. viewers(millions)': '2.44[22]'}\n"
     ]
    }
   ],
   "source": [
    "for epsiode in episodes[:3]:\n",
    "    print(epsiode)"
   ]
  },
  {
   "cell_type": "code",
   "execution_count": 63,
   "metadata": {},
   "outputs": [
    {
     "data": {
      "text/html": [
       "<div>\n",
       "<style scoped>\n",
       "    .dataframe tbody tr th:only-of-type {\n",
       "        vertical-align: middle;\n",
       "    }\n",
       "\n",
       "    .dataframe tbody tr th {\n",
       "        vertical-align: top;\n",
       "    }\n",
       "\n",
       "    .dataframe thead th {\n",
       "        text-align: right;\n",
       "    }\n",
       "</style>\n",
       "<table border=\"1\" class=\"dataframe\">\n",
       "  <thead>\n",
       "    <tr style=\"text-align: right;\">\n",
       "      <th></th>\n",
       "      <th>Directed by</th>\n",
       "      <th>No. inseason</th>\n",
       "      <th>No.overall</th>\n",
       "      <th>Original air date</th>\n",
       "      <th>Title</th>\n",
       "      <th>U.S. viewers(millions)</th>\n",
       "      <th>Written by</th>\n",
       "    </tr>\n",
       "  </thead>\n",
       "  <tbody>\n",
       "    <tr>\n",
       "      <th>0</th>\n",
       "      <td>Tim Van Patten</td>\n",
       "      <td>1</td>\n",
       "      <td>1</td>\n",
       "      <td>April 17, 2011 (2011-04-17)</td>\n",
       "      <td>\"Winter Is Coming\"</td>\n",
       "      <td>2.22[20]</td>\n",
       "      <td>David Benioff &amp; D. B. Weiss</td>\n",
       "    </tr>\n",
       "    <tr>\n",
       "      <th>1</th>\n",
       "      <td>Tim Van Patten</td>\n",
       "      <td>2</td>\n",
       "      <td>2</td>\n",
       "      <td>April 24, 2011 (2011-04-24)</td>\n",
       "      <td>\"The Kingsroad\"</td>\n",
       "      <td>2.20[21]</td>\n",
       "      <td>David Benioff &amp; D. B. Weiss</td>\n",
       "    </tr>\n",
       "    <tr>\n",
       "      <th>2</th>\n",
       "      <td>Brian Kirk</td>\n",
       "      <td>3</td>\n",
       "      <td>3</td>\n",
       "      <td>May 1, 2011 (2011-05-01)</td>\n",
       "      <td>\"Lord Snow\"</td>\n",
       "      <td>2.44[22]</td>\n",
       "      <td>David Benioff &amp; D. B. Weiss</td>\n",
       "    </tr>\n",
       "    <tr>\n",
       "      <th>3</th>\n",
       "      <td>Brian Kirk</td>\n",
       "      <td>4</td>\n",
       "      <td>4</td>\n",
       "      <td>May 8, 2011 (2011-05-08)</td>\n",
       "      <td>\"Cripples, Bastards, and Broken Things\"</td>\n",
       "      <td>2.45[23]</td>\n",
       "      <td>Bryan Cogman</td>\n",
       "    </tr>\n",
       "    <tr>\n",
       "      <th>4</th>\n",
       "      <td>Brian Kirk</td>\n",
       "      <td>5</td>\n",
       "      <td>5</td>\n",
       "      <td>May 15, 2011 (2011-05-15)</td>\n",
       "      <td>\"The Wolf and the Lion\"</td>\n",
       "      <td>2.58[24]</td>\n",
       "      <td>David Benioff &amp; D. B. Weiss</td>\n",
       "    </tr>\n",
       "  </tbody>\n",
       "</table>\n",
       "</div>"
      ],
      "text/plain": [
       "      Directed by No. inseason No.overall            Original air date  \\\n",
       "0  Tim Van Patten            1          1  April 17, 2011 (2011-04-17)   \n",
       "1  Tim Van Patten            2          2  April 24, 2011 (2011-04-24)   \n",
       "2      Brian Kirk            3          3     May 1, 2011 (2011-05-01)   \n",
       "3      Brian Kirk            4          4     May 8, 2011 (2011-05-08)   \n",
       "4      Brian Kirk            5          5    May 15, 2011 (2011-05-15)   \n",
       "\n",
       "                                     Title U.S. viewers(millions)  \\\n",
       "0                       \"Winter Is Coming\"               2.22[20]   \n",
       "1                          \"The Kingsroad\"               2.20[21]   \n",
       "2                              \"Lord Snow\"               2.44[22]   \n",
       "3  \"Cripples, Bastards, and Broken Things\"               2.45[23]   \n",
       "4                  \"The Wolf and the Lion\"               2.58[24]   \n",
       "\n",
       "                    Written by  \n",
       "0  David Benioff & D. B. Weiss  \n",
       "1  David Benioff & D. B. Weiss  \n",
       "2  David Benioff & D. B. Weiss  \n",
       "3                 Bryan Cogman  \n",
       "4  David Benioff & D. B. Weiss  "
      ]
     },
     "execution_count": 63,
     "metadata": {},
     "output_type": "execute_result"
    }
   ],
   "source": [
    "pd.DataFrame(episodes).head(5)"
   ]
  },
  {
   "cell_type": "code",
   "execution_count": null,
   "metadata": {},
   "outputs": [],
   "source": []
  },
  {
   "cell_type": "markdown",
   "metadata": {},
   "source": [
    "## Web APIs"
   ]
  },
  {
   "cell_type": "markdown",
   "metadata": {},
   "source": [
    "### Primer uporabe APIja"
   ]
  },
  {
   "cell_type": "markdown",
   "metadata": {},
   "source": [
    "https://github.com/HackerNews/API"
   ]
  },
  {
   "cell_type": "code",
   "execution_count": 64,
   "metadata": {},
   "outputs": [],
   "source": [
    "articles = []"
   ]
  },
  {
   "cell_type": "code",
   "execution_count": 69,
   "metadata": {},
   "outputs": [],
   "source": [
    "url = 'https://hacker-news.firebaseio.com/v0'"
   ]
  },
  {
   "cell_type": "code",
   "execution_count": 70,
   "metadata": {},
   "outputs": [],
   "source": [
    "top_stories = requests.get(url + '/topstories.json')"
   ]
  },
  {
   "cell_type": "code",
   "execution_count": 71,
   "metadata": {},
   "outputs": [
    {
     "data": {
      "text/plain": [
       "'[20206686,20205566,20203707,20200335,201'"
      ]
     },
     "execution_count": 71,
     "metadata": {},
     "output_type": "execute_result"
    }
   ],
   "source": [
    "top_stories.text[:40]"
   ]
  },
  {
   "cell_type": "code",
   "execution_count": 72,
   "metadata": {},
   "outputs": [],
   "source": [
    "top_stories = top_stories.json()"
   ]
  },
  {
   "cell_type": "code",
   "execution_count": 74,
   "metadata": {},
   "outputs": [
    {
     "data": {
      "text/plain": [
       "[20206686, 20205566, 20203707, 20200335, 20172745]"
      ]
     },
     "execution_count": 74,
     "metadata": {},
     "output_type": "execute_result"
    }
   ],
   "source": [
    "top_stories[:5]"
   ]
  },
  {
   "cell_type": "code",
   "execution_count": 75,
   "metadata": {},
   "outputs": [
    {
     "name": "stdout",
     "output_type": "stream",
     "text": [
      "Prenos:  https://hacker-news.firebaseio.com/v0/item/20206686.json\n",
      "Prenos:  https://hacker-news.firebaseio.com/v0/item/20205566.json\n",
      "Prenos:  https://hacker-news.firebaseio.com/v0/item/20203707.json\n",
      "Prenos:  https://hacker-news.firebaseio.com/v0/item/20200335.json\n",
      "Prenos:  https://hacker-news.firebaseio.com/v0/item/20172745.json\n"
     ]
    }
   ],
   "source": [
    "for story_id in top_stories[:5]:\n",
    "    story_url = url + f'/item/{story_id}.json'\n",
    "    print('Prenos: ', story_url)\n",
    "    r = requests.get(story_url)\n",
    "    story_dict = r.json()\n",
    "    articles.append(story_dict)"
   ]
  },
  {
   "cell_type": "code",
   "execution_count": 76,
   "metadata": {},
   "outputs": [
    {
     "data": {
      "text/plain": [
       "{'by': 'anastalaz',\n",
       " 'descendants': 68,\n",
       " 'id': 20206686,\n",
       " 'kids': [20206996,\n",
       "  20206901,\n",
       "  20206789,\n",
       "  20206791,\n",
       "  20206815,\n",
       "  20206869,\n",
       "  20206904,\n",
       "  20207067,\n",
       "  20206927,\n",
       "  20207023,\n",
       "  20206876,\n",
       "  20207024,\n",
       "  20206746,\n",
       "  20207048,\n",
       "  20206914,\n",
       "  20206823,\n",
       "  20206984,\n",
       "  20207009,\n",
       "  20206993,\n",
       "  20206925,\n",
       "  20206903],\n",
       " 'score': 110,\n",
       " 'time': 1560801331,\n",
       " 'title': 'We launched an app with $500k annual revenue, and then Apple copied it',\n",
       " 'type': 'story',\n",
       " 'url': 'https://gopractice.io/blog/sense-story/'}"
      ]
     },
     "execution_count": 76,
     "metadata": {},
     "output_type": "execute_result"
    }
   ],
   "source": [
    "articles[0]"
   ]
  },
  {
   "cell_type": "code",
   "execution_count": 77,
   "metadata": {},
   "outputs": [
    {
     "data": {
      "text/plain": [
       "'SACK Panic – Multiple TCP-based remote denial-of-service issues'"
      ]
     },
     "execution_count": 77,
     "metadata": {},
     "output_type": "execute_result"
    }
   ],
   "source": [
    "articles[1]['title']"
   ]
  },
  {
   "cell_type": "code",
   "execution_count": 78,
   "metadata": {},
   "outputs": [
    {
     "name": "stdout",
     "output_type": "stream",
     "text": [
      "We launched an app with $500k annual revenue, and then Apple copied it\n",
      "SACK Panic – Multiple TCP-based remote denial-of-service issues\n",
      "Mathematician Disproves Hedetniemi’s Graph Theory Conjecture\n",
      "Mazda is purging touchscreens from its vehicles\n",
      "The New Wilderness\n"
     ]
    }
   ],
   "source": [
    "for article in articles:\n",
    "    print(article['title'])"
   ]
  },
  {
   "cell_type": "code",
   "execution_count": null,
   "metadata": {},
   "outputs": [],
   "source": []
  },
  {
   "cell_type": "code",
   "execution_count": null,
   "metadata": {},
   "outputs": [],
   "source": []
  },
  {
   "cell_type": "markdown",
   "metadata": {},
   "source": [
    "### Import data from web - pandas"
   ]
  },
  {
   "cell_type": "markdown",
   "metadata": {},
   "source": [
    "##### [Odprti podatki Slovenije](https://podatki.gov.si/)\n",
    "\n",
    "\n",
    "Na portalu OPSI boste našli vse od podatkov, orodij, do koristnih virov, s katerimi boste lahko razvijali spletne in mobilne aplikacije, oblikovali lastne infografike in drugo"
   ]
  },
  {
   "cell_type": "code",
   "execution_count": 91,
   "metadata": {},
   "outputs": [
    {
     "data": {
      "text/html": [
       "<div>\n",
       "<style scoped>\n",
       "    .dataframe tbody tr th:only-of-type {\n",
       "        vertical-align: middle;\n",
       "    }\n",
       "\n",
       "    .dataframe tbody tr th {\n",
       "        vertical-align: top;\n",
       "    }\n",
       "\n",
       "    .dataframe thead th {\n",
       "        text-align: right;\n",
       "    }\n",
       "</style>\n",
       "<table border=\"1\" class=\"dataframe\">\n",
       "  <thead>\n",
       "    <tr style=\"text-align: right;\">\n",
       "      <th></th>\n",
       "      <th>{\"INFO\": \"\"</th>\n",
       "      <th>\"user_id\": \"69\"</th>\n",
       "      <th>\"DESCRIPTION\": \"Zaposleni po dejavnosti in spolu</th>\n",
       "      <th>statisti\\u010dne regije</th>\n",
       "      <th>Slovenija</th>\n",
       "      <th>ve\\u010dletno\"</th>\n",
       "      <th>\"metadata_modified_date\": \"2019-01-31\"</th>\n",
       "      <th>\"CONTACT_MAIL\": \"danilo.dolenc@gov.si\"</th>\n",
       "      <th>\"PXNAME\": \"05G3060S.PX\"</th>\n",
       "      <th>\"podrocje\": \"Sociala in zaposlovanje\"</th>\n",
       "      <th>\"CONTACT_NAME\": \"DANILO DOLENC\"</th>\n",
       "      <th>\"guid\": \"05g3060s.px\"</th>\n",
       "      <th>\"publisher_id\": \"5022932000\"</th>\n",
       "      <th>\"LAST-UPDATED\": \"20190131 10:30\"</th>\n",
       "      <th>\"name\": \"surs05g3060s\"}</th>\n",
       "    </tr>\n",
       "  </thead>\n",
       "  <tbody>\n",
       "  </tbody>\n",
       "</table>\n",
       "</div>"
      ],
      "text/plain": [
       "Empty DataFrame\n",
       "Columns: [{\"INFO\": \"\",  \"user_id\": \"69\",  \"DESCRIPTION\": \"Zaposleni po dejavnosti in spolu,  statisti\\u010dne regije,  Slovenija,  ve\\u010dletno\",  \"metadata_modified_date\": \"2019-01-31\",  \"CONTACT_MAIL\": \"danilo.dolenc@gov.si\",  \"PXNAME\": \"05G3060S.PX\",  \"podrocje\": \"Sociala in zaposlovanje\",  \"CONTACT_NAME\": \"DANILO DOLENC\",  \"guid\": \"05g3060s.px\",  \"publisher_id\": \"5022932000\",  \"LAST-UPDATED\": \"20190131 10:30\",  \"name\": \"surs05g3060s\"}]\n",
       "Index: []"
      ]
     },
     "execution_count": 91,
     "metadata": {},
     "output_type": "execute_result"
    }
   ],
   "source": [
    "opsi = pd.read_csv('https://podatki.gov.si/harvest/json-object/eb674637-7251-4264-bcab-5e3355b81990')\n",
    "opsi.head()"
   ]
  },
  {
   "cell_type": "markdown",
   "metadata": {},
   "source": [
    "Primer: https://support.spatialkey.com/spatialkey-sample-csv-data/"
   ]
  },
  {
   "cell_type": "code",
   "execution_count": 79,
   "metadata": {},
   "outputs": [],
   "source": [
    "data = pd.read_csv('http://samplecsvs.s3.amazonaws.com/Sacramentorealestatetransactions.csv')"
   ]
  },
  {
   "cell_type": "code",
   "execution_count": 80,
   "metadata": {},
   "outputs": [
    {
     "data": {
      "text/html": [
       "<div>\n",
       "<style scoped>\n",
       "    .dataframe tbody tr th:only-of-type {\n",
       "        vertical-align: middle;\n",
       "    }\n",
       "\n",
       "    .dataframe tbody tr th {\n",
       "        vertical-align: top;\n",
       "    }\n",
       "\n",
       "    .dataframe thead th {\n",
       "        text-align: right;\n",
       "    }\n",
       "</style>\n",
       "<table border=\"1\" class=\"dataframe\">\n",
       "  <thead>\n",
       "    <tr style=\"text-align: right;\">\n",
       "      <th></th>\n",
       "      <th>street</th>\n",
       "      <th>city</th>\n",
       "      <th>zip</th>\n",
       "      <th>state</th>\n",
       "      <th>beds</th>\n",
       "      <th>baths</th>\n",
       "      <th>sq__ft</th>\n",
       "      <th>type</th>\n",
       "      <th>sale_date</th>\n",
       "      <th>price</th>\n",
       "      <th>latitude</th>\n",
       "      <th>longitude</th>\n",
       "    </tr>\n",
       "  </thead>\n",
       "  <tbody>\n",
       "    <tr>\n",
       "      <th>0</th>\n",
       "      <td>3526 HIGH ST</td>\n",
       "      <td>SACRAMENTO</td>\n",
       "      <td>95838</td>\n",
       "      <td>CA</td>\n",
       "      <td>2</td>\n",
       "      <td>1</td>\n",
       "      <td>836</td>\n",
       "      <td>Residential</td>\n",
       "      <td>Wed May 21 00:00:00 EDT 2008</td>\n",
       "      <td>59222</td>\n",
       "      <td>38.631913</td>\n",
       "      <td>-121.434879</td>\n",
       "    </tr>\n",
       "    <tr>\n",
       "      <th>1</th>\n",
       "      <td>51 OMAHA CT</td>\n",
       "      <td>SACRAMENTO</td>\n",
       "      <td>95823</td>\n",
       "      <td>CA</td>\n",
       "      <td>3</td>\n",
       "      <td>1</td>\n",
       "      <td>1167</td>\n",
       "      <td>Residential</td>\n",
       "      <td>Wed May 21 00:00:00 EDT 2008</td>\n",
       "      <td>68212</td>\n",
       "      <td>38.478902</td>\n",
       "      <td>-121.431028</td>\n",
       "    </tr>\n",
       "    <tr>\n",
       "      <th>2</th>\n",
       "      <td>2796 BRANCH ST</td>\n",
       "      <td>SACRAMENTO</td>\n",
       "      <td>95815</td>\n",
       "      <td>CA</td>\n",
       "      <td>2</td>\n",
       "      <td>1</td>\n",
       "      <td>796</td>\n",
       "      <td>Residential</td>\n",
       "      <td>Wed May 21 00:00:00 EDT 2008</td>\n",
       "      <td>68880</td>\n",
       "      <td>38.618305</td>\n",
       "      <td>-121.443839</td>\n",
       "    </tr>\n",
       "    <tr>\n",
       "      <th>3</th>\n",
       "      <td>2805 JANETTE WAY</td>\n",
       "      <td>SACRAMENTO</td>\n",
       "      <td>95815</td>\n",
       "      <td>CA</td>\n",
       "      <td>2</td>\n",
       "      <td>1</td>\n",
       "      <td>852</td>\n",
       "      <td>Residential</td>\n",
       "      <td>Wed May 21 00:00:00 EDT 2008</td>\n",
       "      <td>69307</td>\n",
       "      <td>38.616835</td>\n",
       "      <td>-121.439146</td>\n",
       "    </tr>\n",
       "    <tr>\n",
       "      <th>4</th>\n",
       "      <td>6001 MCMAHON DR</td>\n",
       "      <td>SACRAMENTO</td>\n",
       "      <td>95824</td>\n",
       "      <td>CA</td>\n",
       "      <td>2</td>\n",
       "      <td>1</td>\n",
       "      <td>797</td>\n",
       "      <td>Residential</td>\n",
       "      <td>Wed May 21 00:00:00 EDT 2008</td>\n",
       "      <td>81900</td>\n",
       "      <td>38.519470</td>\n",
       "      <td>-121.435768</td>\n",
       "    </tr>\n",
       "  </tbody>\n",
       "</table>\n",
       "</div>"
      ],
      "text/plain": [
       "             street        city    zip state  beds  baths  sq__ft  \\\n",
       "0      3526 HIGH ST  SACRAMENTO  95838    CA     2      1     836   \n",
       "1       51 OMAHA CT  SACRAMENTO  95823    CA     3      1    1167   \n",
       "2    2796 BRANCH ST  SACRAMENTO  95815    CA     2      1     796   \n",
       "3  2805 JANETTE WAY  SACRAMENTO  95815    CA     2      1     852   \n",
       "4   6001 MCMAHON DR  SACRAMENTO  95824    CA     2      1     797   \n",
       "\n",
       "          type                     sale_date  price   latitude   longitude  \n",
       "0  Residential  Wed May 21 00:00:00 EDT 2008  59222  38.631913 -121.434879  \n",
       "1  Residential  Wed May 21 00:00:00 EDT 2008  68212  38.478902 -121.431028  \n",
       "2  Residential  Wed May 21 00:00:00 EDT 2008  68880  38.618305 -121.443839  \n",
       "3  Residential  Wed May 21 00:00:00 EDT 2008  69307  38.616835 -121.439146  \n",
       "4  Residential  Wed May 21 00:00:00 EDT 2008  81900  38.519470 -121.435768  "
      ]
     },
     "execution_count": 80,
     "metadata": {},
     "output_type": "execute_result"
    }
   ],
   "source": [
    "data.head()"
   ]
  },
  {
   "cell_type": "code",
   "execution_count": null,
   "metadata": {},
   "outputs": [],
   "source": []
  },
  {
   "cell_type": "code",
   "execution_count": null,
   "metadata": {},
   "outputs": [],
   "source": []
  },
  {
   "cell_type": "code",
   "execution_count": null,
   "metadata": {},
   "outputs": [],
   "source": []
  },
  {
   "cell_type": "code",
   "execution_count": null,
   "metadata": {},
   "outputs": [],
   "source": []
  },
  {
   "cell_type": "markdown",
   "metadata": {},
   "source": [
    "## Web Scraping using pandas"
   ]
  },
  {
   "cell_type": "markdown",
   "metadata": {},
   "source": [
    "> Spletna stran: https://www.fdic.gov/bank/individual/failed/banklist.html"
   ]
  },
  {
   "cell_type": "markdown",
   "metadata": {},
   "source": [
    "`pandas.read_html: ` Read HTML tables into a list of DataFrame objects. -> [Dokumentacija](https://pandas.pydata.org/pandas-docs/version/0.23.4/generated/pandas.read_html.html)\n",
    "\n"
   ]
  },
  {
   "cell_type": "code",
   "execution_count": 92,
   "metadata": {},
   "outputs": [],
   "source": [
    "tables = pd.read_html('https://www.fdic.gov/bank/individual/failed/banklist.html')"
   ]
  },
  {
   "cell_type": "code",
   "execution_count": 93,
   "metadata": {},
   "outputs": [
    {
     "data": {
      "text/plain": [
       "1"
      ]
     },
     "execution_count": 93,
     "metadata": {},
     "output_type": "execute_result"
    }
   ],
   "source": [
    "len(tables)"
   ]
  },
  {
   "cell_type": "code",
   "execution_count": 94,
   "metadata": {},
   "outputs": [],
   "source": [
    "banks = tables[0]"
   ]
  },
  {
   "cell_type": "code",
   "execution_count": 95,
   "metadata": {},
   "outputs": [
    {
     "name": "stdout",
     "output_type": "stream",
     "text": [
      "<class 'pandas.core.frame.DataFrame'>\n",
      "RangeIndex: 556 entries, 0 to 555\n",
      "Data columns (total 7 columns):\n",
      "Bank Name                556 non-null object\n",
      "City                     556 non-null object\n",
      "ST                       556 non-null object\n",
      "CERT                     556 non-null int64\n",
      "Acquiring Institution    556 non-null object\n",
      "Closing Date             556 non-null object\n",
      "Updated Date             556 non-null object\n",
      "dtypes: int64(1), object(6)\n",
      "memory usage: 30.5+ KB\n"
     ]
    }
   ],
   "source": [
    "banks.info()"
   ]
  },
  {
   "cell_type": "code",
   "execution_count": 96,
   "metadata": {},
   "outputs": [
    {
     "data": {
      "text/html": [
       "<div>\n",
       "<style scoped>\n",
       "    .dataframe tbody tr th:only-of-type {\n",
       "        vertical-align: middle;\n",
       "    }\n",
       "\n",
       "    .dataframe tbody tr th {\n",
       "        vertical-align: top;\n",
       "    }\n",
       "\n",
       "    .dataframe thead th {\n",
       "        text-align: right;\n",
       "    }\n",
       "</style>\n",
       "<table border=\"1\" class=\"dataframe\">\n",
       "  <thead>\n",
       "    <tr style=\"text-align: right;\">\n",
       "      <th></th>\n",
       "      <th>Bank Name</th>\n",
       "      <th>City</th>\n",
       "      <th>ST</th>\n",
       "      <th>CERT</th>\n",
       "      <th>Acquiring Institution</th>\n",
       "      <th>Closing Date</th>\n",
       "      <th>Updated Date</th>\n",
       "    </tr>\n",
       "  </thead>\n",
       "  <tbody>\n",
       "    <tr>\n",
       "      <th>0</th>\n",
       "      <td>The Enloe State Bank</td>\n",
       "      <td>Cooper</td>\n",
       "      <td>TX</td>\n",
       "      <td>10716</td>\n",
       "      <td>Legend Bank, N. A.</td>\n",
       "      <td>May 31, 2019</td>\n",
       "      <td>June 5, 2019</td>\n",
       "    </tr>\n",
       "    <tr>\n",
       "      <th>1</th>\n",
       "      <td>Washington Federal Bank for Savings</td>\n",
       "      <td>Chicago</td>\n",
       "      <td>IL</td>\n",
       "      <td>30570</td>\n",
       "      <td>Royal Savings Bank</td>\n",
       "      <td>December 15, 2017</td>\n",
       "      <td>February 1, 2019</td>\n",
       "    </tr>\n",
       "    <tr>\n",
       "      <th>2</th>\n",
       "      <td>The Farmers and Merchants State Bank of Argonia</td>\n",
       "      <td>Argonia</td>\n",
       "      <td>KS</td>\n",
       "      <td>17719</td>\n",
       "      <td>Conway Bank</td>\n",
       "      <td>October 13, 2017</td>\n",
       "      <td>February 21, 2018</td>\n",
       "    </tr>\n",
       "    <tr>\n",
       "      <th>3</th>\n",
       "      <td>Fayette County Bank</td>\n",
       "      <td>Saint Elmo</td>\n",
       "      <td>IL</td>\n",
       "      <td>1802</td>\n",
       "      <td>United Fidelity Bank, fsb</td>\n",
       "      <td>May 26, 2017</td>\n",
       "      <td>January 29, 2019</td>\n",
       "    </tr>\n",
       "    <tr>\n",
       "      <th>4</th>\n",
       "      <td>Guaranty Bank, (d/b/a BestBank in Georgia &amp; Mi...</td>\n",
       "      <td>Milwaukee</td>\n",
       "      <td>WI</td>\n",
       "      <td>30003</td>\n",
       "      <td>First-Citizens Bank &amp; Trust Company</td>\n",
       "      <td>May 5, 2017</td>\n",
       "      <td>March 22, 2018</td>\n",
       "    </tr>\n",
       "  </tbody>\n",
       "</table>\n",
       "</div>"
      ],
      "text/plain": [
       "                                           Bank Name        City  ST   CERT  \\\n",
       "0                               The Enloe State Bank      Cooper  TX  10716   \n",
       "1                Washington Federal Bank for Savings     Chicago  IL  30570   \n",
       "2    The Farmers and Merchants State Bank of Argonia     Argonia  KS  17719   \n",
       "3                                Fayette County Bank  Saint Elmo  IL   1802   \n",
       "4  Guaranty Bank, (d/b/a BestBank in Georgia & Mi...   Milwaukee  WI  30003   \n",
       "\n",
       "                 Acquiring Institution       Closing Date       Updated Date  \n",
       "0                   Legend Bank, N. A.       May 31, 2019       June 5, 2019  \n",
       "1                   Royal Savings Bank  December 15, 2017   February 1, 2019  \n",
       "2                          Conway Bank   October 13, 2017  February 21, 2018  \n",
       "3            United Fidelity Bank, fsb       May 26, 2017   January 29, 2019  \n",
       "4  First-Citizens Bank & Trust Company        May 5, 2017     March 22, 2018  "
      ]
     },
     "execution_count": 96,
     "metadata": {},
     "output_type": "execute_result"
    }
   ],
   "source": [
    "banks.head()"
   ]
  },
  {
   "cell_type": "code",
   "execution_count": 98,
   "metadata": {},
   "outputs": [],
   "source": [
    "close_timestamps = pd.to_datetime(banks['Closing Date'])"
   ]
  },
  {
   "cell_type": "code",
   "execution_count": 99,
   "metadata": {},
   "outputs": [
    {
     "data": {
      "text/plain": [
       "2010    157\n",
       "2009    140\n",
       "2011     92\n",
       "2012     51\n",
       "2008     25\n",
       "2013     24\n",
       "2014     18\n",
       "2002     11\n",
       "2015      8\n",
       "2017      8\n",
       "2016      5\n",
       "2001      4\n",
       "2004      4\n",
       "2007      3\n",
       "2003      3\n",
       "2000      2\n",
       "2019      1\n",
       "Name: Closing Date, dtype: int64"
      ]
     },
     "execution_count": 99,
     "metadata": {},
     "output_type": "execute_result"
    }
   ],
   "source": [
    "close_timestamps.dt.year.value_counts()"
   ]
  },
  {
   "cell_type": "code",
   "execution_count": null,
   "metadata": {},
   "outputs": [],
   "source": []
  },
  {
   "cell_type": "code",
   "execution_count": null,
   "metadata": {},
   "outputs": [],
   "source": []
  },
  {
   "cell_type": "markdown",
   "metadata": {},
   "source": [
    "## Primeri"
   ]
  },
  {
   "cell_type": "markdown",
   "metadata": {},
   "source": [
    "### Scraping and Visualizing IMDB Ratings"
   ]
  },
  {
   "cell_type": "markdown",
   "metadata": {},
   "source": [
    "Stran: http://www.imdb.com/title/tt0944947/episodes"
   ]
  },
  {
   "cell_type": "code",
   "execution_count": 71,
   "metadata": {},
   "outputs": [],
   "source": [
    "import requests\n",
    "from bs4 import BeautifulSoup\n",
    "url = 'http://www.imdb.com/title/tt0944947/episodes'"
   ]
  },
  {
   "cell_type": "code",
   "execution_count": null,
   "metadata": {},
   "outputs": [],
   "source": []
  },
  {
   "cell_type": "code",
   "execution_count": null,
   "metadata": {},
   "outputs": [],
   "source": []
  },
  {
   "cell_type": "code",
   "execution_count": null,
   "metadata": {},
   "outputs": [],
   "source": []
  },
  {
   "cell_type": "code",
   "execution_count": null,
   "metadata": {},
   "outputs": [],
   "source": []
  },
  {
   "cell_type": "code",
   "execution_count": null,
   "metadata": {},
   "outputs": [],
   "source": []
  },
  {
   "cell_type": "code",
   "execution_count": null,
   "metadata": {},
   "outputs": [],
   "source": []
  },
  {
   "cell_type": "code",
   "execution_count": null,
   "metadata": {},
   "outputs": [],
   "source": []
  },
  {
   "cell_type": "code",
   "execution_count": null,
   "metadata": {},
   "outputs": [],
   "source": []
  },
  {
   "cell_type": "markdown",
   "metadata": {},
   "source": [
    "### Scraping Fast Track data"
   ]
  },
  {
   "cell_type": "markdown",
   "metadata": {},
   "source": [
    "Stran: https://www.fasttrack.co.uk/league-tables/tech-track-100/league-table/"
   ]
  },
  {
   "cell_type": "code",
   "execution_count": 76,
   "metadata": {},
   "outputs": [],
   "source": [
    "# import libraries\n",
    "from bs4 import BeautifulSoup\n",
    "import requests\n",
    "import csv"
   ]
  },
  {
   "cell_type": "code",
   "execution_count": 73,
   "metadata": {},
   "outputs": [],
   "source": [
    "# specify the url\n",
    "urlpage =  'http://www.fasttrack.co.uk/league-tables/tech-track-100/league-table/'"
   ]
  },
  {
   "cell_type": "code",
   "execution_count": 74,
   "metadata": {},
   "outputs": [],
   "source": [
    "page = requests.get(urlpage)"
   ]
  },
  {
   "cell_type": "code",
   "execution_count": 78,
   "metadata": {},
   "outputs": [],
   "source": [
    "soup = BeautifulSoup(page.text, 'html.parser')"
   ]
  },
  {
   "cell_type": "code",
   "execution_count": null,
   "metadata": {},
   "outputs": [],
   "source": []
  },
  {
   "cell_type": "code",
   "execution_count": null,
   "metadata": {},
   "outputs": [],
   "source": []
  },
  {
   "cell_type": "code",
   "execution_count": null,
   "metadata": {},
   "outputs": [],
   "source": []
  },
  {
   "cell_type": "code",
   "execution_count": null,
   "metadata": {},
   "outputs": [],
   "source": []
  },
  {
   "cell_type": "code",
   "execution_count": null,
   "metadata": {},
   "outputs": [],
   "source": []
  },
  {
   "cell_type": "code",
   "execution_count": null,
   "metadata": {},
   "outputs": [],
   "source": []
  },
  {
   "cell_type": "code",
   "execution_count": null,
   "metadata": {},
   "outputs": [],
   "source": []
  },
  {
   "cell_type": "code",
   "execution_count": 79,
   "metadata": {},
   "outputs": [
    {
     "ename": "KeyError",
     "evalue": "0",
     "output_type": "error",
     "traceback": [
      "\u001b[0;31m---------------------------------------------------------------------------\u001b[0m",
      "\u001b[0;31mKeyError\u001b[0m                                  Traceback (most recent call last)",
      "\u001b[0;32m~/anaconda3/lib/python3.7/site-packages/pandas/core/indexes/base.py\u001b[0m in \u001b[0;36mget_loc\u001b[0;34m(self, key, method, tolerance)\u001b[0m\n\u001b[1;32m   2656\u001b[0m             \u001b[0;32mtry\u001b[0m\u001b[0;34m:\u001b[0m\u001b[0;34m\u001b[0m\u001b[0;34m\u001b[0m\u001b[0m\n\u001b[0;32m-> 2657\u001b[0;31m                 \u001b[0;32mreturn\u001b[0m \u001b[0mself\u001b[0m\u001b[0;34m.\u001b[0m\u001b[0m_engine\u001b[0m\u001b[0;34m.\u001b[0m\u001b[0mget_loc\u001b[0m\u001b[0;34m(\u001b[0m\u001b[0mkey\u001b[0m\u001b[0;34m)\u001b[0m\u001b[0;34m\u001b[0m\u001b[0;34m\u001b[0m\u001b[0m\n\u001b[0m\u001b[1;32m   2658\u001b[0m             \u001b[0;32mexcept\u001b[0m \u001b[0mKeyError\u001b[0m\u001b[0;34m:\u001b[0m\u001b[0;34m\u001b[0m\u001b[0;34m\u001b[0m\u001b[0m\n",
      "\u001b[0;32mpandas/_libs/index.pyx\u001b[0m in \u001b[0;36mpandas._libs.index.IndexEngine.get_loc\u001b[0;34m()\u001b[0m\n",
      "\u001b[0;32mpandas/_libs/index.pyx\u001b[0m in \u001b[0;36mpandas._libs.index.IndexEngine.get_loc\u001b[0;34m()\u001b[0m\n",
      "\u001b[0;32mpandas/_libs/hashtable_class_helper.pxi\u001b[0m in \u001b[0;36mpandas._libs.hashtable.PyObjectHashTable.get_item\u001b[0;34m()\u001b[0m\n",
      "\u001b[0;32mpandas/_libs/hashtable_class_helper.pxi\u001b[0m in \u001b[0;36mpandas._libs.hashtable.PyObjectHashTable.get_item\u001b[0;34m()\u001b[0m\n",
      "\u001b[0;31mKeyError\u001b[0m: 0",
      "\nDuring handling of the above exception, another exception occurred:\n",
      "\u001b[0;31mKeyError\u001b[0m                                  Traceback (most recent call last)",
      "\u001b[0;32m<ipython-input-79-c85a7a3dd596>\u001b[0m in \u001b[0;36m<module>\u001b[0;34m\u001b[0m\n\u001b[1;32m      1\u001b[0m \u001b[0;31m# write columns to variables\u001b[0m\u001b[0;34m\u001b[0m\u001b[0;34m\u001b[0m\u001b[0;34m\u001b[0m\u001b[0m\n\u001b[0;32m----> 2\u001b[0;31m \u001b[0mrank\u001b[0m \u001b[0;34m=\u001b[0m \u001b[0mdata\u001b[0m\u001b[0;34m[\u001b[0m\u001b[0;36m0\u001b[0m\u001b[0;34m]\u001b[0m\u001b[0;34m.\u001b[0m\u001b[0mgetText\u001b[0m\u001b[0;34m(\u001b[0m\u001b[0;34m)\u001b[0m\u001b[0;34m\u001b[0m\u001b[0;34m\u001b[0m\u001b[0m\n\u001b[0m\u001b[1;32m      3\u001b[0m \u001b[0mcompany\u001b[0m \u001b[0;34m=\u001b[0m \u001b[0mdata\u001b[0m\u001b[0;34m[\u001b[0m\u001b[0;36m1\u001b[0m\u001b[0;34m]\u001b[0m\u001b[0;34m.\u001b[0m\u001b[0mgetText\u001b[0m\u001b[0;34m(\u001b[0m\u001b[0;34m)\u001b[0m\u001b[0;34m\u001b[0m\u001b[0;34m\u001b[0m\u001b[0m\n\u001b[1;32m      4\u001b[0m \u001b[0mlocation\u001b[0m \u001b[0;34m=\u001b[0m \u001b[0mdata\u001b[0m\u001b[0;34m[\u001b[0m\u001b[0;36m2\u001b[0m\u001b[0;34m]\u001b[0m\u001b[0;34m.\u001b[0m\u001b[0mgetText\u001b[0m\u001b[0;34m(\u001b[0m\u001b[0;34m)\u001b[0m\u001b[0;34m\u001b[0m\u001b[0;34m\u001b[0m\u001b[0m\n\u001b[1;32m      5\u001b[0m \u001b[0myearend\u001b[0m \u001b[0;34m=\u001b[0m \u001b[0mdata\u001b[0m\u001b[0;34m[\u001b[0m\u001b[0;36m3\u001b[0m\u001b[0;34m]\u001b[0m\u001b[0;34m.\u001b[0m\u001b[0mgetText\u001b[0m\u001b[0;34m(\u001b[0m\u001b[0;34m)\u001b[0m\u001b[0;34m\u001b[0m\u001b[0;34m\u001b[0m\u001b[0m\n",
      "\u001b[0;32m~/anaconda3/lib/python3.7/site-packages/pandas/core/frame.py\u001b[0m in \u001b[0;36m__getitem__\u001b[0;34m(self, key)\u001b[0m\n\u001b[1;32m   2925\u001b[0m             \u001b[0;32mif\u001b[0m \u001b[0mself\u001b[0m\u001b[0;34m.\u001b[0m\u001b[0mcolumns\u001b[0m\u001b[0;34m.\u001b[0m\u001b[0mnlevels\u001b[0m \u001b[0;34m>\u001b[0m \u001b[0;36m1\u001b[0m\u001b[0;34m:\u001b[0m\u001b[0;34m\u001b[0m\u001b[0;34m\u001b[0m\u001b[0m\n\u001b[1;32m   2926\u001b[0m                 \u001b[0;32mreturn\u001b[0m \u001b[0mself\u001b[0m\u001b[0;34m.\u001b[0m\u001b[0m_getitem_multilevel\u001b[0m\u001b[0;34m(\u001b[0m\u001b[0mkey\u001b[0m\u001b[0;34m)\u001b[0m\u001b[0;34m\u001b[0m\u001b[0;34m\u001b[0m\u001b[0m\n\u001b[0;32m-> 2927\u001b[0;31m             \u001b[0mindexer\u001b[0m \u001b[0;34m=\u001b[0m \u001b[0mself\u001b[0m\u001b[0;34m.\u001b[0m\u001b[0mcolumns\u001b[0m\u001b[0;34m.\u001b[0m\u001b[0mget_loc\u001b[0m\u001b[0;34m(\u001b[0m\u001b[0mkey\u001b[0m\u001b[0;34m)\u001b[0m\u001b[0;34m\u001b[0m\u001b[0;34m\u001b[0m\u001b[0m\n\u001b[0m\u001b[1;32m   2928\u001b[0m             \u001b[0;32mif\u001b[0m \u001b[0mis_integer\u001b[0m\u001b[0;34m(\u001b[0m\u001b[0mindexer\u001b[0m\u001b[0;34m)\u001b[0m\u001b[0;34m:\u001b[0m\u001b[0;34m\u001b[0m\u001b[0;34m\u001b[0m\u001b[0m\n\u001b[1;32m   2929\u001b[0m                 \u001b[0mindexer\u001b[0m \u001b[0;34m=\u001b[0m \u001b[0;34m[\u001b[0m\u001b[0mindexer\u001b[0m\u001b[0;34m]\u001b[0m\u001b[0;34m\u001b[0m\u001b[0;34m\u001b[0m\u001b[0m\n",
      "\u001b[0;32m~/anaconda3/lib/python3.7/site-packages/pandas/core/indexes/base.py\u001b[0m in \u001b[0;36mget_loc\u001b[0;34m(self, key, method, tolerance)\u001b[0m\n\u001b[1;32m   2657\u001b[0m                 \u001b[0;32mreturn\u001b[0m \u001b[0mself\u001b[0m\u001b[0;34m.\u001b[0m\u001b[0m_engine\u001b[0m\u001b[0;34m.\u001b[0m\u001b[0mget_loc\u001b[0m\u001b[0;34m(\u001b[0m\u001b[0mkey\u001b[0m\u001b[0;34m)\u001b[0m\u001b[0;34m\u001b[0m\u001b[0;34m\u001b[0m\u001b[0m\n\u001b[1;32m   2658\u001b[0m             \u001b[0;32mexcept\u001b[0m \u001b[0mKeyError\u001b[0m\u001b[0;34m:\u001b[0m\u001b[0;34m\u001b[0m\u001b[0;34m\u001b[0m\u001b[0m\n\u001b[0;32m-> 2659\u001b[0;31m                 \u001b[0;32mreturn\u001b[0m \u001b[0mself\u001b[0m\u001b[0;34m.\u001b[0m\u001b[0m_engine\u001b[0m\u001b[0;34m.\u001b[0m\u001b[0mget_loc\u001b[0m\u001b[0;34m(\u001b[0m\u001b[0mself\u001b[0m\u001b[0;34m.\u001b[0m\u001b[0m_maybe_cast_indexer\u001b[0m\u001b[0;34m(\u001b[0m\u001b[0mkey\u001b[0m\u001b[0;34m)\u001b[0m\u001b[0;34m)\u001b[0m\u001b[0;34m\u001b[0m\u001b[0;34m\u001b[0m\u001b[0m\n\u001b[0m\u001b[1;32m   2660\u001b[0m         \u001b[0mindexer\u001b[0m \u001b[0;34m=\u001b[0m \u001b[0mself\u001b[0m\u001b[0;34m.\u001b[0m\u001b[0mget_indexer\u001b[0m\u001b[0;34m(\u001b[0m\u001b[0;34m[\u001b[0m\u001b[0mkey\u001b[0m\u001b[0;34m]\u001b[0m\u001b[0;34m,\u001b[0m \u001b[0mmethod\u001b[0m\u001b[0;34m=\u001b[0m\u001b[0mmethod\u001b[0m\u001b[0;34m,\u001b[0m \u001b[0mtolerance\u001b[0m\u001b[0;34m=\u001b[0m\u001b[0mtolerance\u001b[0m\u001b[0;34m)\u001b[0m\u001b[0;34m\u001b[0m\u001b[0;34m\u001b[0m\u001b[0m\n\u001b[1;32m   2661\u001b[0m         \u001b[0;32mif\u001b[0m \u001b[0mindexer\u001b[0m\u001b[0;34m.\u001b[0m\u001b[0mndim\u001b[0m \u001b[0;34m>\u001b[0m \u001b[0;36m1\u001b[0m \u001b[0;32mor\u001b[0m \u001b[0mindexer\u001b[0m\u001b[0;34m.\u001b[0m\u001b[0msize\u001b[0m \u001b[0;34m>\u001b[0m \u001b[0;36m1\u001b[0m\u001b[0;34m:\u001b[0m\u001b[0;34m\u001b[0m\u001b[0;34m\u001b[0m\u001b[0m\n",
      "\u001b[0;32mpandas/_libs/index.pyx\u001b[0m in \u001b[0;36mpandas._libs.index.IndexEngine.get_loc\u001b[0;34m()\u001b[0m\n",
      "\u001b[0;32mpandas/_libs/index.pyx\u001b[0m in \u001b[0;36mpandas._libs.index.IndexEngine.get_loc\u001b[0;34m()\u001b[0m\n",
      "\u001b[0;32mpandas/_libs/hashtable_class_helper.pxi\u001b[0m in \u001b[0;36mpandas._libs.hashtable.PyObjectHashTable.get_item\u001b[0;34m()\u001b[0m\n",
      "\u001b[0;32mpandas/_libs/hashtable_class_helper.pxi\u001b[0m in \u001b[0;36mpandas._libs.hashtable.PyObjectHashTable.get_item\u001b[0;34m()\u001b[0m\n",
      "\u001b[0;31mKeyError\u001b[0m: 0"
     ]
    }
   ],
   "source": [
    "# write columns to variables\n",
    "rank = data[0].getText()\n",
    "company = data[1].getText()\n",
    "location = data[2].getText()\n",
    "yearend = data[3].getText()\n",
    "salesrise = data[4].getText()\n",
    "sales = data[5].getText()\n",
    "staff = data[6].getText()\n",
    "comments = data[7].getText()"
   ]
  },
  {
   "cell_type": "code",
   "execution_count": null,
   "metadata": {},
   "outputs": [],
   "source": []
  },
  {
   "cell_type": "code",
   "execution_count": null,
   "metadata": {},
   "outputs": [],
   "source": []
  },
  {
   "cell_type": "code",
   "execution_count": null,
   "metadata": {},
   "outputs": [],
   "source": []
  },
  {
   "cell_type": "code",
   "execution_count": null,
   "metadata": {},
   "outputs": [],
   "source": []
  },
  {
   "cell_type": "code",
   "execution_count": null,
   "metadata": {},
   "outputs": [],
   "source": []
  },
  {
   "cell_type": "code",
   "execution_count": null,
   "metadata": {},
   "outputs": [],
   "source": []
  },
  {
   "cell_type": "code",
   "execution_count": null,
   "metadata": {},
   "outputs": [],
   "source": []
  },
  {
   "cell_type": "code",
   "execution_count": null,
   "metadata": {},
   "outputs": [],
   "source": []
  },
  {
   "cell_type": "code",
   "execution_count": null,
   "metadata": {},
   "outputs": [],
   "source": []
  },
  {
   "cell_type": "code",
   "execution_count": null,
   "metadata": {},
   "outputs": [],
   "source": []
  },
  {
   "cell_type": "markdown",
   "metadata": {},
   "source": [
    "#### Celotni program skupaj"
   ]
  },
  {
   "cell_type": "code",
   "execution_count": null,
   "metadata": {},
   "outputs": [],
   "source": []
  },
  {
   "cell_type": "code",
   "execution_count": null,
   "metadata": {},
   "outputs": [],
   "source": []
  },
  {
   "cell_type": "code",
   "execution_count": null,
   "metadata": {},
   "outputs": [],
   "source": []
  },
  {
   "cell_type": "code",
   "execution_count": null,
   "metadata": {},
   "outputs": [],
   "source": []
  },
  {
   "cell_type": "code",
   "execution_count": null,
   "metadata": {},
   "outputs": [],
   "source": []
  },
  {
   "cell_type": "code",
   "execution_count": null,
   "metadata": {},
   "outputs": [],
   "source": []
  },
  {
   "cell_type": "code",
   "execution_count": null,
   "metadata": {},
   "outputs": [],
   "source": []
  },
  {
   "cell_type": "code",
   "execution_count": null,
   "metadata": {},
   "outputs": [],
   "source": []
  },
  {
   "cell_type": "code",
   "execution_count": null,
   "metadata": {},
   "outputs": [],
   "source": []
  },
  {
   "cell_type": "code",
   "execution_count": null,
   "metadata": {},
   "outputs": [],
   "source": []
  },
  {
   "cell_type": "code",
   "execution_count": null,
   "metadata": {},
   "outputs": [],
   "source": []
  },
  {
   "cell_type": "code",
   "execution_count": null,
   "metadata": {},
   "outputs": [],
   "source": []
  },
  {
   "cell_type": "code",
   "execution_count": null,
   "metadata": {},
   "outputs": [],
   "source": []
  }
 ],
 "metadata": {
  "kernelspec": {
   "display_name": "Python 3",
   "language": "python",
   "name": "python3"
  },
  "language_info": {
   "codemirror_mode": {
    "name": "ipython",
    "version": 3
   },
   "file_extension": ".py",
   "mimetype": "text/x-python",
   "name": "python",
   "nbconvert_exporter": "python",
   "pygments_lexer": "ipython3",
   "version": "3.7.3"
  }
 },
 "nbformat": 4,
 "nbformat_minor": 2
}
