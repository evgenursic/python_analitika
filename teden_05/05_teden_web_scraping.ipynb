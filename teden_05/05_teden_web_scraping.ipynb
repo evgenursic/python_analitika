{
 "cells": [
  {
   "cell_type": "code",
   "execution_count": 1,
   "metadata": {},
   "outputs": [],
   "source": [
    "import pandas as pd\n",
    "import requests\n",
    "from bs4 import BeautifulSoup"
   ]
  },
  {
   "cell_type": "markdown",
   "metadata": {},
   "source": [
    "# Web scraping - pridobivanje podatkov s spleta\n"
   ]
  },
  {
   "cell_type": "markdown",
   "metadata": {},
   "source": [
    "## What Is Web Scraping?"
   ]
  },
  {
   "cell_type": "markdown",
   "metadata": {},
   "source": [
    "<img class=\"progressiveMedia-image js-progressiveMedia-image\" data-src=\"https://cdn-images-1.medium.com/max/1600/1*GOyqaID2x1N5lD_rhTDKVQ.png\" src=\"https://cdn-images-1.medium.com/max/1600/1*GOyqaID2x1N5lD_rhTDKVQ.png\">"
   ]
  },
  {
   "cell_type": "markdown",
   "metadata": {},
   "source": [
    "### Why Web Scraping for Data Science?"
   ]
  },
  {
   "cell_type": "markdown",
   "metadata": {},
   "source": [
    "## Network complexity"
   ]
  },
  {
   "cell_type": "markdown",
   "metadata": {},
   "source": [
    "## HTTP"
   ]
  },
  {
   "cell_type": "markdown",
   "metadata": {},
   "source": [
    "## HTTP in Python: The Requests Library"
   ]
  },
  {
   "cell_type": "markdown",
   "metadata": {},
   "source": [
    "[Requests: HTTP for Humans](https://2.python-requests.org/en/master/)"
   ]
  },
  {
   "cell_type": "code",
   "execution_count": 2,
   "metadata": {},
   "outputs": [],
   "source": [
    "import requests"
   ]
  },
  {
   "cell_type": "code",
   "execution_count": 3,
   "metadata": {},
   "outputs": [],
   "source": [
    "url = 'http://example.com/'"
   ]
  },
  {
   "cell_type": "code",
   "execution_count": 4,
   "metadata": {},
   "outputs": [],
   "source": [
    "r = requests.get(url)"
   ]
  },
  {
   "cell_type": "code",
   "execution_count": 5,
   "metadata": {},
   "outputs": [
    {
     "data": {
      "text/plain": [
       "<Response [200]>"
      ]
     },
     "execution_count": 5,
     "metadata": {},
     "output_type": "execute_result"
    }
   ],
   "source": [
    "r"
   ]
  },
  {
   "cell_type": "code",
   "execution_count": 6,
   "metadata": {},
   "outputs": [
    {
     "data": {
      "text/plain": [
       "requests.models.Response"
      ]
     },
     "execution_count": 6,
     "metadata": {},
     "output_type": "execute_result"
    }
   ],
   "source": [
    "type(r)"
   ]
  },
  {
   "cell_type": "code",
   "execution_count": 7,
   "metadata": {},
   "outputs": [
    {
     "data": {
      "text/plain": [
       "'<!doctype html>\\n<html>\\n<head>\\n    <title>Example Domain</title>\\n\\n    <meta charset=\"utf-8\" />\\n    <meta http-equiv=\"Content-type\" content=\"text/html; charset=utf-8\" />\\n    <meta name=\"viewport\" content=\"width=device-width, initial-scale=1\" />\\n    <style type=\"text/css\">\\n    body {\\n        background-color: #f0f0f2;\\n        margin: 0;\\n        padding: 0;\\n        font-family: \"Open Sans\", \"Helvetica Neue\", Helvetica, Arial, sans-serif;\\n        \\n    }\\n    div {\\n        width: 600px;\\n        margin: 5em auto;\\n        padding: 50px;\\n        background-color: #fff;\\n        border-radius: 1em;\\n    }\\n    a:link, a:visited {\\n        color: #38488f;\\n        text-decoration: none;\\n    }\\n    @media (max-width: 700px) {\\n        body {\\n            background-color: #fff;\\n        }\\n        div {\\n            width: auto;\\n            margin: 0 auto;\\n            border-radius: 0;\\n            padding: 1em;\\n        }\\n    }\\n    </style>    \\n</head>\\n\\n<body>\\n<div>\\n    <h1>Example Domain</h1>\\n    <p>This domain is established to be used for illustrative examples in documents. You may use this\\n    domain in examples without prior coordination or asking for permission.</p>\\n    <p><a href=\"http://www.iana.org/domains/example\">More information...</a></p>\\n</div>\\n</body>\\n</html>\\n'"
      ]
     },
     "execution_count": 7,
     "metadata": {},
     "output_type": "execute_result"
    }
   ],
   "source": [
    "r.text"
   ]
  },
  {
   "cell_type": "code",
   "execution_count": 8,
   "metadata": {},
   "outputs": [
    {
     "data": {
      "text/plain": [
       "200"
      ]
     },
     "execution_count": 8,
     "metadata": {},
     "output_type": "execute_result"
    }
   ],
   "source": [
    "r.status_code"
   ]
  },
  {
   "cell_type": "code",
   "execution_count": 9,
   "metadata": {},
   "outputs": [
    {
     "data": {
      "text/plain": [
       "'OK'"
      ]
     },
     "execution_count": 9,
     "metadata": {},
     "output_type": "execute_result"
    }
   ],
   "source": [
    "r.reason"
   ]
  },
  {
   "cell_type": "code",
   "execution_count": 10,
   "metadata": {},
   "outputs": [
    {
     "data": {
      "text/plain": [
       "{'Content-Encoding': 'gzip', 'Accept-Ranges': 'bytes', 'Cache-Control': 'max-age=604800', 'Content-Type': 'text/html; charset=UTF-8', 'Date': 'Thu, 20 Jun 2019 19:44:51 GMT', 'Etag': '\"1541025663\"', 'Expires': 'Thu, 27 Jun 2019 19:44:51 GMT', 'Last-Modified': 'Fri, 09 Aug 2013 23:54:35 GMT', 'Server': 'ECS (nyb/1D13)', 'Vary': 'Accept-Encoding', 'X-Cache': 'HIT', 'Content-Length': '606'}"
      ]
     },
     "execution_count": 10,
     "metadata": {},
     "output_type": "execute_result"
    }
   ],
   "source": [
    "r.headers"
   ]
  },
  {
   "cell_type": "code",
   "execution_count": 11,
   "metadata": {},
   "outputs": [
    {
     "data": {
      "text/plain": [
       "<PreparedRequest [GET]>"
      ]
     },
     "execution_count": 11,
     "metadata": {},
     "output_type": "execute_result"
    }
   ],
   "source": [
    "r.request"
   ]
  },
  {
   "cell_type": "code",
   "execution_count": 12,
   "metadata": {},
   "outputs": [
    {
     "data": {
      "text/plain": [
       "{'User-Agent': 'python-requests/2.21.0', 'Accept-Encoding': 'gzip, deflate', 'Accept': '*/*', 'Connection': 'keep-alive'}"
      ]
     },
     "execution_count": 12,
     "metadata": {},
     "output_type": "execute_result"
    }
   ],
   "source": [
    "r.request.headers"
   ]
  },
  {
   "cell_type": "code",
   "execution_count": 13,
   "metadata": {},
   "outputs": [
    {
     "data": {
      "text/plain": [
       "'<!doctype html>\\n<html>\\n<head>\\n    <title>Example Domain</title>\\n\\n    <meta charset=\"utf-8\" />\\n    <m'"
      ]
     },
     "execution_count": 13,
     "metadata": {},
     "output_type": "execute_result"
    }
   ],
   "source": [
    "r.text[:100]"
   ]
  },
  {
   "cell_type": "markdown",
   "metadata": {},
   "source": [
    "## HTML and CSS"
   ]
  },
  {
   "cell_type": "markdown",
   "metadata": {},
   "source": [
    "<img class=\"progressiveMedia-image js-progressiveMedia-image\" data-src=\"https://cdn-images-1.medium.com/max/1600/1*x9mxFBXnLU05iPy19dGj7g.png\" src=\"https://cdn-images-1.medium.com/max/1600/1*x9mxFBXnLU05iPy19dGj7g.png\">"
   ]
  },
  {
   "cell_type": "markdown",
   "metadata": {},
   "source": [
    "### Hypertext Markup Language: HTML"
   ]
  },
  {
   "cell_type": "markdown",
   "metadata": {},
   "source": [
    "Link strani: https://en.wikipedia.org/w/index.php?title=List_of_Game_of_Thrones_episodes&oldid=802553687"
   ]
  },
  {
   "cell_type": "code",
   "execution_count": 14,
   "metadata": {},
   "outputs": [],
   "source": [
    "url_got = 'https://en.wikipedia.org/w/index.php?title=List_of_Game_of_Thrones_episodes&oldid=802553687'"
   ]
  },
  {
   "cell_type": "code",
   "execution_count": 15,
   "metadata": {},
   "outputs": [],
   "source": [
    "r = requests.get(url_got)"
   ]
  },
  {
   "cell_type": "code",
   "execution_count": 16,
   "metadata": {},
   "outputs": [
    {
     "data": {
      "text/plain": [
       "'<!DOCTYPE html>\\n<html class=\"client-nojs\" lang=\"en\" dir=\"ltr\">\\n<head>\\n<meta charset=\"UTF-8\"/>\\n<title>List of Game of Thrones episodes - Wikipedia</title>\\n<script>document.documentElement.className=document.documentElement.className.replace(/(^|\\\\s)client-nojs(\\\\s|$)/,\"$1client-js$2\");RLCONF={\"wgCanonicalNamespace\":\"\",\"wgCanonicalSpecialPageName\":!1,\"wgNamespaceNumber\":0,\"wgPageName\":\"List_of_Game_of_Thrones_episodes\",\"wgTitle\":\"List of Game of Thrones episodes\",\"wgCurRevisionId\":902691464,\"wgRevisionId\":802553687,\"wgArticleId\":31120069,\"wgIsArticle\":!0,\"wgIsRedirect\":!1,\"wgAction\":\"view\",\"wgUserName\":null,\"wgUserGroups\":[\"*\"],\"wgCategories\":[\"Articles containing potentially dated statements from August 2017\",\"All articles containing potentially dated statements\",\"Official website not in Wikidata\",\"Featured lists\",\"Game of Thrones episodes\",\"Lists of American drama television series episodes\",\"Lists of fantasy television series episodes\"],\"wgBreakFrames\":!1,\"wgPageContentLanguage\":\"en\",\"w'"
      ]
     },
     "execution_count": 16,
     "metadata": {},
     "output_type": "execute_result"
    }
   ],
   "source": [
    "r.text[:1000]"
   ]
  },
  {
   "cell_type": "code",
   "execution_count": 17,
   "metadata": {},
   "outputs": [],
   "source": [
    "from bs4 import BeautifulSoup"
   ]
  },
  {
   "cell_type": "code",
   "execution_count": 18,
   "metadata": {},
   "outputs": [],
   "source": [
    "html_content = r.text"
   ]
  },
  {
   "cell_type": "code",
   "execution_count": 19,
   "metadata": {},
   "outputs": [],
   "source": [
    "html_soup = BeautifulSoup(html_content, 'html.parser')"
   ]
  },
  {
   "cell_type": "code",
   "execution_count": 20,
   "metadata": {},
   "outputs": [
    {
     "data": {
      "text/plain": [
       "<h1 class=\"firstHeading\" id=\"firstHeading\" lang=\"en\">List of <i>Game of Thrones</i> episodes</h1>"
      ]
     },
     "execution_count": 20,
     "metadata": {},
     "output_type": "execute_result"
    }
   ],
   "source": [
    "html_soup.find('h1')"
   ]
  },
  {
   "cell_type": "code",
   "execution_count": 21,
   "metadata": {},
   "outputs": [
    {
     "data": {
      "text/plain": [
       "<h1 class=\"firstHeading\" id=\"firstHeading\" lang=\"en\">List of <i>Game of Thrones</i> episodes</h1>"
      ]
     },
     "execution_count": 21,
     "metadata": {},
     "output_type": "execute_result"
    }
   ],
   "source": [
    "html_soup.find('', {'id' : 'firstHeading'})"
   ]
  },
  {
   "cell_type": "code",
   "execution_count": null,
   "metadata": {},
   "outputs": [],
   "source": []
  },
  {
   "cell_type": "code",
   "execution_count": null,
   "metadata": {},
   "outputs": [],
   "source": []
  },
  {
   "cell_type": "code",
   "execution_count": null,
   "metadata": {},
   "outputs": [],
   "source": []
  },
  {
   "cell_type": "code",
   "execution_count": null,
   "metadata": {},
   "outputs": [],
   "source": []
  },
  {
   "cell_type": "markdown",
   "metadata": {},
   "source": [
    "- `<p>...</p>` to enclose a paragraph;\n",
    "- `<br>` to set a line break;\n",
    "- `<table>...</table>` to start a table block, inside; `<tr>...<tr/>` is used for the rows; and `<td>...</td>` cells;\n",
    "- `<img>` for images;\n",
    "- `<h1>...</h1> to <h6>...</h6>` for headers;\n",
    "- `<div>...</div>` to indicate a “division” in an HTML document, basically used to group a set of elements;\n",
    "- `<a>...</a>` for hyperlinks;\n",
    "- `<ul>...</ul>, <ol>...</ol>` for unordered and ordered lists respectively; inside of these, `<li>...</li>` is used for each list item."
   ]
  },
  {
   "cell_type": "markdown",
   "metadata": {},
   "source": [
    "## Using Your Browser as a Development Tool"
   ]
  },
  {
   "cell_type": "markdown",
   "metadata": {},
   "source": [
    "## The Beautiful Soup Library"
   ]
  },
  {
   "cell_type": "code",
   "execution_count": 22,
   "metadata": {},
   "outputs": [],
   "source": [
    "html_content = r.text"
   ]
  },
  {
   "cell_type": "code",
   "execution_count": null,
   "metadata": {},
   "outputs": [],
   "source": []
  },
  {
   "cell_type": "code",
   "execution_count": null,
   "metadata": {},
   "outputs": [],
   "source": []
  },
  {
   "cell_type": "code",
   "execution_count": 23,
   "metadata": {},
   "outputs": [],
   "source": [
    "import pandas as pd"
   ]
  },
  {
   "cell_type": "markdown",
   "metadata": {},
   "source": [
    "> **[beautifulsoup4](https://www.crummy.com/software/BeautifulSoup/bs4/doc/)**: Beautiful Soup tries to organize complexity: it helps to parse, structure and organize the oftentimes very messy web by fixing bad HTML and presenting us with an easy-to-work-with Python structure."
   ]
  },
  {
   "cell_type": "code",
   "execution_count": 24,
   "metadata": {},
   "outputs": [],
   "source": [
    "from bs4 import BeautifulSoup"
   ]
  },
  {
   "cell_type": "code",
   "execution_count": 25,
   "metadata": {},
   "outputs": [],
   "source": [
    "html_soup = BeautifulSoup(html_content, 'html.parser')"
   ]
  },
  {
   "cell_type": "markdown",
   "metadata": {},
   "source": [
    "In Python, multiple parsers exist to do so:\n",
    "- `html.parser`: a built-in Python parser that is decent (especially when using recent versions of Python 3) and requires no extra installation.\n",
    "- `lxml`: which is very fast but requires an extra installation.\n",
    "- `html5lib`: which aims to parse web page in exactly the same way as a web browser does, but is a bit slower."
   ]
  },
  {
   "cell_type": "markdown",
   "metadata": {},
   "source": [
    "- `find(name, attrs, recursive, string, **keywords)`\n",
    "- `find_all(name, attrs, recursive, string, limit, **keywords)`"
   ]
  },
  {
   "cell_type": "code",
   "execution_count": 26,
   "metadata": {},
   "outputs": [
    {
     "data": {
      "text/plain": [
       "<h1 class=\"firstHeading\" id=\"firstHeading\" lang=\"en\">List of <i>Game of Thrones</i> episodes</h1>"
      ]
     },
     "execution_count": 26,
     "metadata": {},
     "output_type": "execute_result"
    }
   ],
   "source": [
    "html_soup.find('h1')"
   ]
  },
  {
   "cell_type": "code",
   "execution_count": 27,
   "metadata": {},
   "outputs": [
    {
     "data": {
      "text/plain": [
       "<h1 class=\"firstHeading\" id=\"firstHeading\" lang=\"en\">List of <i>Game of Thrones</i> episodes</h1>"
      ]
     },
     "execution_count": 27,
     "metadata": {},
     "output_type": "execute_result"
    }
   ],
   "source": [
    "html_soup.find('', {'id': 'firstHeading'})"
   ]
  },
  {
   "cell_type": "code",
   "execution_count": 28,
   "metadata": {},
   "outputs": [],
   "source": [
    "all_h2 = html_soup.find_all('h2', limit=3)"
   ]
  },
  {
   "cell_type": "code",
   "execution_count": 29,
   "metadata": {},
   "outputs": [
    {
     "data": {
      "text/plain": [
       "[<h2>Contents</h2>,\n",
       " <h2><span class=\"mw-headline\" id=\"Series_overview\">Series overview</span></h2>,\n",
       " <h2><span class=\"mw-headline\" id=\"Episodes\">Episodes</span></h2>]"
      ]
     },
     "execution_count": 29,
     "metadata": {},
     "output_type": "execute_result"
    }
   ],
   "source": [
    "all_h2"
   ]
  },
  {
   "cell_type": "code",
   "execution_count": 30,
   "metadata": {},
   "outputs": [
    {
     "data": {
      "text/plain": [
       "3"
      ]
     },
     "execution_count": 30,
     "metadata": {},
     "output_type": "execute_result"
    }
   ],
   "source": [
    "len (all_h2)"
   ]
  },
  {
   "cell_type": "code",
   "execution_count": 31,
   "metadata": {},
   "outputs": [
    {
     "data": {
      "text/plain": [
       "[<h2>Contents</h2>,\n",
       " <h2><span class=\"mw-headline\" id=\"Series_overview\">Series overview</span></h2>,\n",
       " <h2><span class=\"mw-headline\" id=\"Episodes\">Episodes</span></h2>]"
      ]
     },
     "execution_count": 31,
     "metadata": {},
     "output_type": "execute_result"
    }
   ],
   "source": [
    "all_h2"
   ]
  },
  {
   "cell_type": "code",
   "execution_count": 32,
   "metadata": {},
   "outputs": [
    {
     "name": "stdout",
     "output_type": "stream",
     "text": [
      "<h2>Contents</h2>\n",
      "<h2><span class=\"mw-headline\" id=\"Series_overview\">Series overview</span></h2>\n",
      "<h2><span class=\"mw-headline\" id=\"Episodes\">Episodes</span></h2>\n",
      "<h2><span class=\"mw-headline\" id=\"Home_media_releases\">Home media releases</span></h2>\n",
      "<h2><span class=\"mw-headline\" id=\"Ratings\">Ratings</span></h2>\n",
      "<h2><span class=\"mw-headline\" id=\"References\">References</span></h2>\n",
      "<h2><span class=\"mw-headline\" id=\"External_links\">External links</span></h2>\n",
      "<h2>Navigation menu</h2>\n"
     ]
    }
   ],
   "source": [
    "for found in html_soup.find_all('h2'):\n",
    "    print(found)"
   ]
  },
  {
   "cell_type": "code",
   "execution_count": 33,
   "metadata": {},
   "outputs": [],
   "source": [
    "first_h1 = html_soup.find('h1')"
   ]
  },
  {
   "cell_type": "code",
   "execution_count": 34,
   "metadata": {},
   "outputs": [
    {
     "data": {
      "text/plain": [
       "<h1 class=\"firstHeading\" id=\"firstHeading\" lang=\"en\">List of <i>Game of Thrones</i> episodes</h1>"
      ]
     },
     "execution_count": 34,
     "metadata": {},
     "output_type": "execute_result"
    }
   ],
   "source": [
    "first_h1"
   ]
  },
  {
   "cell_type": "code",
   "execution_count": 35,
   "metadata": {},
   "outputs": [
    {
     "data": {
      "text/plain": [
       "'h1'"
      ]
     },
     "execution_count": 35,
     "metadata": {},
     "output_type": "execute_result"
    }
   ],
   "source": [
    "first_h1.name"
   ]
  },
  {
   "cell_type": "code",
   "execution_count": 36,
   "metadata": {},
   "outputs": [
    {
     "data": {
      "text/plain": [
       "['List of ', <i>Game of Thrones</i>, ' episodes']"
      ]
     },
     "execution_count": 36,
     "metadata": {},
     "output_type": "execute_result"
    }
   ],
   "source": [
    "first_h1.contents"
   ]
  },
  {
   "cell_type": "code",
   "execution_count": 37,
   "metadata": {},
   "outputs": [
    {
     "data": {
      "text/plain": [
       "'<h1 class=\"firstHeading\" id=\"firstHeading\" lang=\"en\">List of <i>Game of Thrones</i> episodes</h1>'"
      ]
     },
     "execution_count": 37,
     "metadata": {},
     "output_type": "execute_result"
    }
   ],
   "source": [
    "str(first_h1)"
   ]
  },
  {
   "cell_type": "code",
   "execution_count": 38,
   "metadata": {},
   "outputs": [
    {
     "data": {
      "text/plain": [
       "'List of Game of Thrones episodes'"
      ]
     },
     "execution_count": 38,
     "metadata": {},
     "output_type": "execute_result"
    }
   ],
   "source": [
    "first_h1.text"
   ]
  },
  {
   "cell_type": "code",
   "execution_count": 39,
   "metadata": {},
   "outputs": [
    {
     "data": {
      "text/plain": [
       "'List of---Game of Thrones---episodes'"
      ]
     },
     "execution_count": 39,
     "metadata": {},
     "output_type": "execute_result"
    }
   ],
   "source": [
    "first_h1.get_text('---', strip=True)"
   ]
  },
  {
   "cell_type": "code",
   "execution_count": 40,
   "metadata": {},
   "outputs": [
    {
     "data": {
      "text/plain": [
       "{'id': 'firstHeading', 'class': ['firstHeading'], 'lang': 'en'}"
      ]
     },
     "execution_count": 40,
     "metadata": {},
     "output_type": "execute_result"
    }
   ],
   "source": [
    "first_h1.attrs"
   ]
  },
  {
   "cell_type": "code",
   "execution_count": 41,
   "metadata": {},
   "outputs": [
    {
     "data": {
      "text/plain": [
       "'firstHeading'"
      ]
     },
     "execution_count": 41,
     "metadata": {},
     "output_type": "execute_result"
    }
   ],
   "source": [
    "first_h1.attrs['id']"
   ]
  },
  {
   "cell_type": "code",
   "execution_count": 42,
   "metadata": {},
   "outputs": [
    {
     "data": {
      "text/plain": [
       "'firstHeading'"
      ]
     },
     "execution_count": 42,
     "metadata": {},
     "output_type": "execute_result"
    }
   ],
   "source": [
    "first_h1['id']"
   ]
  },
  {
   "cell_type": "code",
   "execution_count": 43,
   "metadata": {},
   "outputs": [
    {
     "data": {
      "text/plain": [
       "'firstHeading'"
      ]
     },
     "execution_count": 43,
     "metadata": {},
     "output_type": "execute_result"
    }
   ],
   "source": [
    "first_h1.get('id')"
   ]
  },
  {
   "cell_type": "code",
   "execution_count": 44,
   "metadata": {},
   "outputs": [],
   "source": [
    "cites = html_soup.find_all('cite', class_='citation', limit=4)"
   ]
  },
  {
   "cell_type": "code",
   "execution_count": 45,
   "metadata": {},
   "outputs": [
    {
     "data": {
      "text/plain": [
       "[<cite class=\"citation web\">Fowler, Matt (April 8, 2011). <a class=\"external text\" href=\"http://tv.ign.com/articles/116/1160215p1.html\" rel=\"nofollow\">\"Game of Thrones: \"Winter is Coming\" Review\"</a>. <a href=\"/wiki/IGN\" title=\"IGN\">IGN</a>. <a class=\"external text\" href=\"https://web.archive.org/web/20120817073932/http://tv.ign.com/articles/116/1160215p1.html\" rel=\"nofollow\">Archived</a> from the original on August 17, 2012<span class=\"reference-accessdate\">. Retrieved <span class=\"nowrap\">September 22,</span> 2016</span>.</cite>,\n",
       " <cite class=\"citation news\">Fleming, Michael (January 16, 2007). <a class=\"external text\" href=\"http://www.variety.com/article/VR1117957532.html?categoryid=14&amp;cs=1\" rel=\"nofollow\">\"HBO turns <i>Fire</i> into fantasy series\"</a>. <i><a href=\"/wiki/Variety_(magazine)\" title=\"Variety (magazine)\">Variety</a></i>. <a class=\"external text\" href=\"https://web.archive.org/web/20120516224747/http://www.variety.com/article/VR1117957532?refCatId=14\" rel=\"nofollow\">Archived</a> from the original on May 16, 2012<span class=\"reference-accessdate\">. Retrieved <span class=\"nowrap\">September 3,</span> 2016</span>.</cite>,\n",
       " <cite class=\"citation web\"><a class=\"external text\" href=\"http://www.emmys.com/shows/game-thrones\" rel=\"nofollow\">\"Game of Thrones\"</a>. <a href=\"/wiki/Emmy_Award\" title=\"Emmy Award\">Emmys.com</a><span class=\"reference-accessdate\">. Retrieved <span class=\"nowrap\">September 17,</span> 2016</span>.</cite>,\n",
       " <cite class=\"citation news\">Roberts, Josh (April 1, 2012). <a class=\"external text\" href=\"https://web.archive.org/web/20120401123724/http://travel.usatoday.com/destinations/story/2012-04-01/Where-the-HBO-hit-Game-of-Thrones-was-filmed/53876876/1\" rel=\"nofollow\">\"Where HBO's hit 'Game of Thrones' was filmed\"</a>. <i><a href=\"/wiki/USA_Today\" title=\"USA Today\">USA Today</a></i>. Archived from <a class=\"external text\" href=\"http://travel.usatoday.com/destinations/story/2012-04-01/Where-the-HBO-hit-Game-of-Thrones-was-filmed/53876876/1\" rel=\"nofollow\">the original</a> on April 1, 2012<span class=\"reference-accessdate\">. Retrieved <span class=\"nowrap\">March 8,</span> 2013</span>.</cite>]"
      ]
     },
     "execution_count": 45,
     "metadata": {},
     "output_type": "execute_result"
    }
   ],
   "source": [
    "cites"
   ]
  },
  {
   "cell_type": "code",
   "execution_count": 46,
   "metadata": {},
   "outputs": [
    {
     "data": {
      "text/plain": [
       "4"
      ]
     },
     "execution_count": 46,
     "metadata": {},
     "output_type": "execute_result"
    }
   ],
   "source": [
    "len(cites)"
   ]
  },
  {
   "cell_type": "code",
   "execution_count": 47,
   "metadata": {},
   "outputs": [
    {
     "data": {
      "text/plain": [
       "<cite class=\"citation web\">Fowler, Matt (April 8, 2011). <a class=\"external text\" href=\"http://tv.ign.com/articles/116/1160215p1.html\" rel=\"nofollow\">\"Game of Thrones: \"Winter is Coming\" Review\"</a>. <a href=\"/wiki/IGN\" title=\"IGN\">IGN</a>. <a class=\"external text\" href=\"https://web.archive.org/web/20120817073932/http://tv.ign.com/articles/116/1160215p1.html\" rel=\"nofollow\">Archived</a> from the original on August 17, 2012<span class=\"reference-accessdate\">. Retrieved <span class=\"nowrap\">September 22,</span> 2016</span>.</cite>"
      ]
     },
     "execution_count": 47,
     "metadata": {},
     "output_type": "execute_result"
    }
   ],
   "source": [
    "cites[0]"
   ]
  },
  {
   "cell_type": "code",
   "execution_count": 48,
   "metadata": {},
   "outputs": [
    {
     "data": {
      "text/plain": [
       "[<cite class=\"citation web\">Fowler, Matt (April 8, 2011). <a class=\"external text\" href=\"http://tv.ign.com/articles/116/1160215p1.html\" rel=\"nofollow\">\"Game of Thrones: \"Winter is Coming\" Review\"</a>. <a href=\"/wiki/IGN\" title=\"IGN\">IGN</a>. <a class=\"external text\" href=\"https://web.archive.org/web/20120817073932/http://tv.ign.com/articles/116/1160215p1.html\" rel=\"nofollow\">Archived</a> from the original on August 17, 2012<span class=\"reference-accessdate\">. Retrieved <span class=\"nowrap\">September 22,</span> 2016</span>.</cite>,\n",
       " <cite class=\"citation news\">Fleming, Michael (January 16, 2007). <a class=\"external text\" href=\"http://www.variety.com/article/VR1117957532.html?categoryid=14&amp;cs=1\" rel=\"nofollow\">\"HBO turns <i>Fire</i> into fantasy series\"</a>. <i><a href=\"/wiki/Variety_(magazine)\" title=\"Variety (magazine)\">Variety</a></i>. <a class=\"external text\" href=\"https://web.archive.org/web/20120516224747/http://www.variety.com/article/VR1117957532?refCatId=14\" rel=\"nofollow\">Archived</a> from the original on May 16, 2012<span class=\"reference-accessdate\">. Retrieved <span class=\"nowrap\">September 3,</span> 2016</span>.</cite>,\n",
       " <cite class=\"citation web\"><a class=\"external text\" href=\"http://www.emmys.com/shows/game-thrones\" rel=\"nofollow\">\"Game of Thrones\"</a>. <a href=\"/wiki/Emmy_Award\" title=\"Emmy Award\">Emmys.com</a><span class=\"reference-accessdate\">. Retrieved <span class=\"nowrap\">September 17,</span> 2016</span>.</cite>,\n",
       " <cite class=\"citation news\">Roberts, Josh (April 1, 2012). <a class=\"external text\" href=\"https://web.archive.org/web/20120401123724/http://travel.usatoday.com/destinations/story/2012-04-01/Where-the-HBO-hit-Game-of-Thrones-was-filmed/53876876/1\" rel=\"nofollow\">\"Where HBO's hit 'Game of Thrones' was filmed\"</a>. <i><a href=\"/wiki/USA_Today\" title=\"USA Today\">USA Today</a></i>. Archived from <a class=\"external text\" href=\"http://travel.usatoday.com/destinations/story/2012-04-01/Where-the-HBO-hit-Game-of-Thrones-was-filmed/53876876/1\" rel=\"nofollow\">the original</a> on April 1, 2012<span class=\"reference-accessdate\">. Retrieved <span class=\"nowrap\">March 8,</span> 2013</span>.</cite>]"
      ]
     },
     "execution_count": 48,
     "metadata": {},
     "output_type": "execute_result"
    }
   ],
   "source": [
    "cites"
   ]
  },
  {
   "cell_type": "code",
   "execution_count": 49,
   "metadata": {},
   "outputs": [
    {
     "data": {
      "text/plain": [
       "'Fowler, Matt (April 8, 2011). \"Game of Thrones: \"Winter is Coming\" Review\". IGN. Archived from the original on August 17, 2012. Retrieved September 22, 2016.'"
      ]
     },
     "execution_count": 49,
     "metadata": {},
     "output_type": "execute_result"
    }
   ],
   "source": [
    "cites[0].get_text()"
   ]
  },
  {
   "cell_type": "code",
   "execution_count": 50,
   "metadata": {},
   "outputs": [],
   "source": [
    "link = cites[0].find('a').get('href')"
   ]
  },
  {
   "cell_type": "code",
   "execution_count": 51,
   "metadata": {},
   "outputs": [
    {
     "data": {
      "text/plain": [
       "'http://tv.ign.com/articles/116/1160215p1.html'"
      ]
     },
     "execution_count": 51,
     "metadata": {},
     "output_type": "execute_result"
    }
   ],
   "source": [
    "link"
   ]
  },
  {
   "cell_type": "code",
   "execution_count": 52,
   "metadata": {},
   "outputs": [
    {
     "name": "stdout",
     "output_type": "stream",
     "text": [
      "----> Fowler, Matt (April 8, 2011). \"Game of Thrones: \"Winter is Coming\" Review\". IGN. Archived from the original on August 17, 2012. Retrieved September 22, 2016.\n",
      "http://tv.ign.com/articles/116/1160215p1.html\n",
      "\n",
      "----> Fleming, Michael (January 16, 2007). \"HBO turns Fire into fantasy series\". Variety. Archived from the original on May 16, 2012. Retrieved September 3, 2016.\n",
      "http://www.variety.com/article/VR1117957532.html?categoryid=14&cs=1\n",
      "\n",
      "----> \"Game of Thrones\". Emmys.com. Retrieved September 17, 2016.\n",
      "http://www.emmys.com/shows/game-thrones\n",
      "\n",
      "----> Roberts, Josh (April 1, 2012). \"Where HBO's hit 'Game of Thrones' was filmed\". USA Today. Archived from the original on April 1, 2012. Retrieved March 8, 2013.\n",
      "https://web.archive.org/web/20120401123724/http://travel.usatoday.com/destinations/story/2012-04-01/Where-the-HBO-hit-Game-of-Thrones-was-filmed/53876876/1\n",
      "\n"
     ]
    }
   ],
   "source": [
    "for citation in cites:\n",
    "    print('---->', citation.get_text())\n",
    "    print(citation.find('a').get('href'))\n",
    "    print()"
   ]
  },
  {
   "cell_type": "code",
   "execution_count": 53,
   "metadata": {},
   "outputs": [
    {
     "data": {
      "text/plain": [
       "'\\n\\n\\n\\nList of Game of Thrones episodes - Wikipedia\\ndocument.documentElement.className=document.documentElement.className.replace(/(^|\\\\s)client-nojs(\\\\s|$)/,\"$1client-js$2\");RLCONF={\"wgCanonicalNamespace\":\"\",\"wgCanonicalSpecialPageName\":!1,\"wgNamespaceNumber\":0,\"wgPageName\":\"List_of_Game_of_Thrones_episodes\",\"wgTitle\":\"List of Game of Thrones episodes\",\"wgCurRevisionId\":902691464,\"wgRevisionId\":802553687,\"wgArticleId\":31120069,\"wgIsArticle\":!0,\"wgIsRedirect\":!1,\"wgAction\":\"view\",\"wgUserName\":null,\"wgUserGroups\":[\"*\"],\"wgCategories\":[\"Articles containing potentially dated statements from August 2017\",\"All articles containing potentially dated statements\",\"Official website not in Wikidata\",\"Featured lists\",\"Game of Thrones episodes\",\"Lists of American drama television series episodes\",\"Lists of fantasy television series episodes\"],\"wgBreakFrames\":!1,\"wgPageContentLanguage\":\"en\",\"wgPageContentModel\":\"wikitext\",\"wgSeparatorTransformTable\":[\"\",\"\"],\"wgDigitTransformTable\":[\"\",\"\"],\"wgDefaultDateF'"
      ]
     },
     "execution_count": 53,
     "metadata": {},
     "output_type": "execute_result"
    }
   ],
   "source": [
    "html_soup.text[:1000]"
   ]
  },
  {
   "cell_type": "code",
   "execution_count": 54,
   "metadata": {},
   "outputs": [],
   "source": [
    "episodes = []"
   ]
  },
  {
   "cell_type": "code",
   "execution_count": 55,
   "metadata": {},
   "outputs": [],
   "source": [
    "ep_tables = html_soup.find_all('table', class_='wikiepisodetable')"
   ]
  },
  {
   "cell_type": "code",
   "execution_count": 56,
   "metadata": {},
   "outputs": [
    {
     "data": {
      "text/plain": [
       "<table class=\"wikitable plainrowheaders wikiepisodetable\" style=\"width:100%\"><tbody><tr style=\"color:white;text-align:center\"><th scope=\"col\" style=\"background:#295354;width:5%\"><abbr title=\"Number\">No.</abbr><br/>overall</th><th scope=\"col\" style=\"background:#295354;width:5%\"><abbr title=\"Number\">No.</abbr> in<br/>season</th><th scope=\"col\" style=\"background:#295354;width:23%\">Title</th><th scope=\"col\" style=\"background:#295354;width:17%\">Directed by</th><th scope=\"col\" style=\"background:#295354;width:27%\">Written by</th><th scope=\"col\" style=\"background:#295354;width:12%\">Original air date</th><th scope=\"col\" style=\"background:#295354;width:10%\">U.S. viewers<br/>(millions)</th></tr><tr class=\"vevent\" style=\"text-align:center;background:inherit\"><th id=\"ep1\" rowspan=\"1\" scope=\"row\" style=\"text-align:center\">1</th><td style=\"text-align:center\">1</td><td class=\"summary\" style=\"text-align:left\">\"<a href=\"/wiki/Winter_Is_Coming\" title=\"Winter Is Coming\">Winter Is Coming</a>\"</td><td style=\"text-align:center\"><a href=\"/wiki/Tim_Van_Patten\" title=\"Tim Van Patten\">Tim Van Patten</a></td><td style=\"text-align:center\"><a href=\"/wiki/David_Benioff\" title=\"David Benioff\">David Benioff</a> &amp; <a href=\"/wiki/D._B._Weiss\" title=\"D. B. Weiss\">D. B. Weiss</a></td><td style=\"text-align:center\">April 17, 2011<span style=\"display:none\"> (<span class=\"bday dtstart published updated\">2011-04-17</span>)</span></td><td style=\"text-align:center\">2.22<sup class=\"reference\" id=\"cite_ref-20\"><a href=\"#cite_note-20\">[20]</a></sup></td></tr>\n",
       "<tr class=\"vevent\" style=\"text-align:center;background:inherit\"><th id=\"ep2\" rowspan=\"1\" scope=\"row\" style=\"text-align:center\">2</th><td style=\"text-align:center\">2</td><td class=\"summary\" style=\"text-align:left\">\"<a href=\"/wiki/The_Kingsroad\" title=\"The Kingsroad\">The Kingsroad</a>\"</td><td style=\"text-align:center\">Tim Van Patten</td><td style=\"text-align:center\">David Benioff &amp; D. B. Weiss</td><td style=\"text-align:center\">April 24, 2011<span style=\"display:none\"> (<span class=\"bday dtstart published updated\">2011-04-24</span>)</span></td><td style=\"text-align:center\">2.20<sup class=\"reference\" id=\"cite_ref-21\"><a href=\"#cite_note-21\">[21]</a></sup></td></tr>\n",
       "<tr class=\"vevent\" style=\"text-align:center;background:inherit\"><th id=\"ep3\" rowspan=\"1\" scope=\"row\" style=\"text-align:center\">3</th><td style=\"text-align:center\">3</td><td class=\"summary\" style=\"text-align:left\">\"<a href=\"/wiki/Lord_Snow\" title=\"Lord Snow\">Lord Snow</a>\"</td><td style=\"text-align:center\"><a href=\"/wiki/Brian_Kirk\" title=\"Brian Kirk\">Brian Kirk</a></td><td style=\"text-align:center\">David Benioff &amp; D. B. Weiss</td><td style=\"text-align:center\">May 1, 2011<span style=\"display:none\"> (<span class=\"bday dtstart published updated\">2011-05-01</span>)</span></td><td style=\"text-align:center\">2.44<sup class=\"reference\" id=\"cite_ref-22\"><a href=\"#cite_note-22\">[22]</a></sup></td></tr>\n",
       "<tr class=\"vevent\" style=\"text-align:center;background:inherit\"><th id=\"ep4\" rowspan=\"1\" scope=\"row\" style=\"text-align:center\">4</th><td style=\"text-align:center\">4</td><td class=\"summary\" style=\"text-align:left\">\"<a href=\"/wiki/Cripples,_Bastards,_and_Broken_Things\" title=\"Cripples, Bastards, and Broken Things\">Cripples, Bastards, and Broken Things</a>\"</td><td style=\"text-align:center\">Brian Kirk</td><td style=\"text-align:center\"><a href=\"/wiki/Bryan_Cogman\" title=\"Bryan Cogman\">Bryan Cogman</a></td><td style=\"text-align:center\">May 8, 2011<span style=\"display:none\"> (<span class=\"bday dtstart published updated\">2011-05-08</span>)</span></td><td style=\"text-align:center\">2.45<sup class=\"reference\" id=\"cite_ref-23\"><a href=\"#cite_note-23\">[23]</a></sup></td></tr>\n",
       "<tr class=\"vevent\" style=\"text-align:center;background:inherit\"><th id=\"ep5\" rowspan=\"1\" scope=\"row\" style=\"text-align:center\">5</th><td style=\"text-align:center\">5</td><td class=\"summary\" style=\"text-align:left\">\"<a href=\"/wiki/The_Wolf_and_the_Lion\" title=\"The Wolf and the Lion\">The Wolf and the Lion</a>\"</td><td style=\"text-align:center\">Brian Kirk</td><td style=\"text-align:center\">David Benioff &amp; D. B. Weiss</td><td style=\"text-align:center\">May 15, 2011<span style=\"display:none\"> (<span class=\"bday dtstart published updated\">2011-05-15</span>)</span></td><td style=\"text-align:center\">2.58<sup class=\"reference\" id=\"cite_ref-24\"><a href=\"#cite_note-24\">[24]</a></sup></td></tr>\n",
       "<tr class=\"vevent\" style=\"text-align:center;background:inherit\"><th id=\"ep6\" rowspan=\"1\" scope=\"row\" style=\"text-align:center\">6</th><td style=\"text-align:center\">6</td><td class=\"summary\" style=\"text-align:left\">\"<a href=\"/wiki/A_Golden_Crown\" title=\"A Golden Crown\">A Golden Crown</a>\"</td><td style=\"text-align:center\"><a href=\"/wiki/Daniel_Minahan\" title=\"Daniel Minahan\">Daniel Minahan</a></td><td style=\"text-align:center\"><i>Story by</i> : David Benioff &amp; D. B. Weiss <br/><i>Teleplay by</i> : <a href=\"/wiki/Jane_Espenson\" title=\"Jane Espenson\">Jane Espenson</a> and David Benioff &amp; D. B. Weiss</td><td style=\"text-align:center\">May 22, 2011<span style=\"display:none\"> (<span class=\"bday dtstart published updated\">2011-05-22</span>)</span></td><td style=\"text-align:center\">2.44<sup class=\"reference\" id=\"cite_ref-25\"><a href=\"#cite_note-25\">[25]</a></sup></td></tr>\n",
       "<tr class=\"vevent\" style=\"text-align:center;background:inherit\"><th id=\"ep7\" rowspan=\"1\" scope=\"row\" style=\"text-align:center\">7</th><td style=\"text-align:center\">7</td><td class=\"summary\" style=\"text-align:left\">\"<a href=\"/wiki/You_Win_or_You_Die\" title=\"You Win or You Die\">You Win or You Die</a>\"</td><td style=\"text-align:center\"><span class=\"nowrap\">Daniel Minahan</span></td><td style=\"text-align:center\">David Benioff &amp; D. B. Weiss</td><td style=\"text-align:center\">May 29, 2011<span style=\"display:none\"> (<span class=\"bday dtstart published updated\">2011-05-29</span>)</span></td><td style=\"text-align:center\">2.40<sup class=\"reference\" id=\"cite_ref-26\"><a href=\"#cite_note-26\">[26]</a></sup></td></tr>\n",
       "<tr class=\"vevent\" style=\"text-align:center;background:inherit\"><th id=\"ep8\" rowspan=\"1\" scope=\"row\" style=\"text-align:center\">8</th><td style=\"text-align:center\">8</td><td class=\"summary\" style=\"text-align:left\">\"<a href=\"/wiki/The_Pointy_End\" title=\"The Pointy End\">The Pointy End</a>\"</td><td style=\"text-align:center\">Daniel Minahan</td><td style=\"text-align:center\"><a href=\"/wiki/George_R._R._Martin\" title=\"George R. R. Martin\">George R. R. Martin</a></td><td style=\"text-align:center\">June 5, 2011<span style=\"display:none\"> (<span class=\"bday dtstart published updated\">2011-06-05</span>)</span></td><td style=\"text-align:center\">2.72<sup class=\"reference\" id=\"cite_ref-27\"><a href=\"#cite_note-27\">[27]</a></sup></td></tr>\n",
       "<tr class=\"vevent\" style=\"text-align:center;background:inherit\"><th id=\"ep9\" rowspan=\"1\" scope=\"row\" style=\"text-align:center\">9</th><td style=\"text-align:center\">9</td><td class=\"summary\" style=\"text-align:left\">\"<a href=\"/wiki/Baelor\" title=\"Baelor\">Baelor</a>\"</td><td style=\"text-align:center\"><a href=\"/wiki/Alan_Taylor_(director)\" title=\"Alan Taylor (director)\">Alan Taylor</a></td><td style=\"text-align:center\">David Benioff &amp; D. B. Weiss</td><td style=\"text-align:center\">June 12, 2011<span style=\"display:none\"> (<span class=\"bday dtstart published updated\">2011-06-12</span>)</span></td><td style=\"text-align:center\">2.66<sup class=\"reference\" id=\"cite_ref-28\"><a href=\"#cite_note-28\">[28]</a></sup></td></tr>\n",
       "<tr class=\"vevent\" style=\"text-align:center;background:inherit\"><th id=\"ep10\" rowspan=\"1\" scope=\"row\" style=\"text-align:center\">10</th><td style=\"text-align:center\">10</td><td class=\"summary\" style=\"text-align:left\">\"<a href=\"/wiki/Fire_and_Blood_(Game_of_Thrones)\" title=\"Fire and Blood (Game of Thrones)\">Fire and Blood</a>\"</td><td style=\"text-align:center\">Alan Taylor</td><td style=\"text-align:center\">David Benioff &amp; D. B. Weiss</td><td style=\"text-align:center\">June 19, 2011<span style=\"display:none\"> (<span class=\"bday dtstart published updated\">2011-06-19</span>)</span></td><td style=\"text-align:center\">3.04<sup class=\"reference\" id=\"cite_ref-29\"><a href=\"#cite_note-29\">[29]</a></sup></td></tr></tbody></table>"
      ]
     },
     "execution_count": 56,
     "metadata": {},
     "output_type": "execute_result"
    }
   ],
   "source": [
    "ep_tables[0]"
   ]
  },
  {
   "cell_type": "code",
   "execution_count": 57,
   "metadata": {},
   "outputs": [
    {
     "data": {
      "text/plain": [
       "7"
      ]
     },
     "execution_count": 57,
     "metadata": {},
     "output_type": "execute_result"
    }
   ],
   "source": [
    "len(ep_tables)"
   ]
  },
  {
   "cell_type": "code",
   "execution_count": 58,
   "metadata": {},
   "outputs": [],
   "source": [
    "for table in ep_tables[0]:\n",
    "    headers = []\n",
    "    rows = table.find_all('tr')\n",
    "    for header in table.find('tr').find_all('th'):\n",
    "        headers.append(header.text)\n",
    "    for row in rows[1:]:\n",
    "        values = []\n",
    "        for col in row.find_all(['th', 'td']):\n",
    "            values.append(col.text)\n",
    "        if values:\n",
    "            episode_dict = {headers[i]: values[i] for i in range(len(values))}\n",
    "            episodes.append(episode_dict)"
   ]
  },
  {
   "cell_type": "code",
   "execution_count": 59,
   "metadata": {},
   "outputs": [
    {
     "data": {
      "text/plain": [
       "{'No.overall': '1',\n",
       " 'No. inseason': '1',\n",
       " 'Title': '\"Winter Is Coming\"',\n",
       " 'Directed by': 'Tim Van Patten',\n",
       " 'Written by': 'David Benioff & D. B. Weiss',\n",
       " 'Original air date': 'April\\xa017,\\xa02011\\xa0(2011-04-17)',\n",
       " 'U.S. viewers(millions)': '2.22[20]'}"
      ]
     },
     "execution_count": 59,
     "metadata": {},
     "output_type": "execute_result"
    }
   ],
   "source": [
    "episodes[0]"
   ]
  },
  {
   "cell_type": "code",
   "execution_count": 60,
   "metadata": {},
   "outputs": [
    {
     "name": "stdout",
     "output_type": "stream",
     "text": [
      "{'No.overall': '1', 'No. inseason': '1', 'Title': '\"Winter Is Coming\"', 'Directed by': 'Tim Van Patten', 'Written by': 'David Benioff & D. B. Weiss', 'Original air date': 'April\\xa017,\\xa02011\\xa0(2011-04-17)', 'U.S. viewers(millions)': '2.22[20]'}\n",
      "{'No.overall': '2', 'No. inseason': '2', 'Title': '\"The Kingsroad\"', 'Directed by': 'Tim Van Patten', 'Written by': 'David Benioff & D. B. Weiss', 'Original air date': 'April\\xa024,\\xa02011\\xa0(2011-04-24)', 'U.S. viewers(millions)': '2.20[21]'}\n",
      "{'No.overall': '3', 'No. inseason': '3', 'Title': '\"Lord Snow\"', 'Directed by': 'Brian Kirk', 'Written by': 'David Benioff & D. B. Weiss', 'Original air date': 'May\\xa01,\\xa02011\\xa0(2011-05-01)', 'U.S. viewers(millions)': '2.44[22]'}\n"
     ]
    }
   ],
   "source": [
    "for epsiode in episodes[:3]:\n",
    "    print(epsiode)"
   ]
  },
  {
   "cell_type": "code",
   "execution_count": 61,
   "metadata": {},
   "outputs": [
    {
     "data": {
      "text/html": [
       "<div>\n",
       "<style scoped>\n",
       "    .dataframe tbody tr th:only-of-type {\n",
       "        vertical-align: middle;\n",
       "    }\n",
       "\n",
       "    .dataframe tbody tr th {\n",
       "        vertical-align: top;\n",
       "    }\n",
       "\n",
       "    .dataframe thead th {\n",
       "        text-align: right;\n",
       "    }\n",
       "</style>\n",
       "<table border=\"1\" class=\"dataframe\">\n",
       "  <thead>\n",
       "    <tr style=\"text-align: right;\">\n",
       "      <th></th>\n",
       "      <th>Directed by</th>\n",
       "      <th>No. inseason</th>\n",
       "      <th>No.overall</th>\n",
       "      <th>Original air date</th>\n",
       "      <th>Title</th>\n",
       "      <th>U.S. viewers(millions)</th>\n",
       "      <th>Written by</th>\n",
       "    </tr>\n",
       "  </thead>\n",
       "  <tbody>\n",
       "    <tr>\n",
       "      <th>0</th>\n",
       "      <td>Tim Van Patten</td>\n",
       "      <td>1</td>\n",
       "      <td>1</td>\n",
       "      <td>April 17, 2011 (2011-04-17)</td>\n",
       "      <td>\"Winter Is Coming\"</td>\n",
       "      <td>2.22[20]</td>\n",
       "      <td>David Benioff &amp; D. B. Weiss</td>\n",
       "    </tr>\n",
       "    <tr>\n",
       "      <th>1</th>\n",
       "      <td>Tim Van Patten</td>\n",
       "      <td>2</td>\n",
       "      <td>2</td>\n",
       "      <td>April 24, 2011 (2011-04-24)</td>\n",
       "      <td>\"The Kingsroad\"</td>\n",
       "      <td>2.20[21]</td>\n",
       "      <td>David Benioff &amp; D. B. Weiss</td>\n",
       "    </tr>\n",
       "    <tr>\n",
       "      <th>2</th>\n",
       "      <td>Brian Kirk</td>\n",
       "      <td>3</td>\n",
       "      <td>3</td>\n",
       "      <td>May 1, 2011 (2011-05-01)</td>\n",
       "      <td>\"Lord Snow\"</td>\n",
       "      <td>2.44[22]</td>\n",
       "      <td>David Benioff &amp; D. B. Weiss</td>\n",
       "    </tr>\n",
       "    <tr>\n",
       "      <th>3</th>\n",
       "      <td>Brian Kirk</td>\n",
       "      <td>4</td>\n",
       "      <td>4</td>\n",
       "      <td>May 8, 2011 (2011-05-08)</td>\n",
       "      <td>\"Cripples, Bastards, and Broken Things\"</td>\n",
       "      <td>2.45[23]</td>\n",
       "      <td>Bryan Cogman</td>\n",
       "    </tr>\n",
       "    <tr>\n",
       "      <th>4</th>\n",
       "      <td>Brian Kirk</td>\n",
       "      <td>5</td>\n",
       "      <td>5</td>\n",
       "      <td>May 15, 2011 (2011-05-15)</td>\n",
       "      <td>\"The Wolf and the Lion\"</td>\n",
       "      <td>2.58[24]</td>\n",
       "      <td>David Benioff &amp; D. B. Weiss</td>\n",
       "    </tr>\n",
       "  </tbody>\n",
       "</table>\n",
       "</div>"
      ],
      "text/plain": [
       "      Directed by No. inseason No.overall            Original air date  \\\n",
       "0  Tim Van Patten            1          1  April 17, 2011 (2011-04-17)   \n",
       "1  Tim Van Patten            2          2  April 24, 2011 (2011-04-24)   \n",
       "2      Brian Kirk            3          3     May 1, 2011 (2011-05-01)   \n",
       "3      Brian Kirk            4          4     May 8, 2011 (2011-05-08)   \n",
       "4      Brian Kirk            5          5    May 15, 2011 (2011-05-15)   \n",
       "\n",
       "                                     Title U.S. viewers(millions)  \\\n",
       "0                       \"Winter Is Coming\"               2.22[20]   \n",
       "1                          \"The Kingsroad\"               2.20[21]   \n",
       "2                              \"Lord Snow\"               2.44[22]   \n",
       "3  \"Cripples, Bastards, and Broken Things\"               2.45[23]   \n",
       "4                  \"The Wolf and the Lion\"               2.58[24]   \n",
       "\n",
       "                    Written by  \n",
       "0  David Benioff & D. B. Weiss  \n",
       "1  David Benioff & D. B. Weiss  \n",
       "2  David Benioff & D. B. Weiss  \n",
       "3                 Bryan Cogman  \n",
       "4  David Benioff & D. B. Weiss  "
      ]
     },
     "execution_count": 61,
     "metadata": {},
     "output_type": "execute_result"
    }
   ],
   "source": [
    "pd.DataFrame(episodes).head(5)"
   ]
  },
  {
   "cell_type": "code",
   "execution_count": null,
   "metadata": {},
   "outputs": [],
   "source": []
  },
  {
   "cell_type": "markdown",
   "metadata": {},
   "source": [
    "## Web APIs"
   ]
  },
  {
   "cell_type": "markdown",
   "metadata": {},
   "source": [
    "### Primer uporabe APIja"
   ]
  },
  {
   "cell_type": "markdown",
   "metadata": {},
   "source": [
    "https://github.com/HackerNews/API"
   ]
  },
  {
   "cell_type": "code",
   "execution_count": 62,
   "metadata": {},
   "outputs": [],
   "source": [
    "articles = []"
   ]
  },
  {
   "cell_type": "code",
   "execution_count": 63,
   "metadata": {},
   "outputs": [],
   "source": [
    "url = 'https://hacker-news.firebaseio.com/v0'"
   ]
  },
  {
   "cell_type": "code",
   "execution_count": 64,
   "metadata": {},
   "outputs": [],
   "source": [
    "top_stories = requests.get(url + '/topstories.json')"
   ]
  },
  {
   "cell_type": "code",
   "execution_count": 65,
   "metadata": {},
   "outputs": [
    {
     "data": {
      "text/plain": [
       "'[20235527,20236137,20236296,20232318,202'"
      ]
     },
     "execution_count": 65,
     "metadata": {},
     "output_type": "execute_result"
    }
   ],
   "source": [
    "top_stories.text[:40]"
   ]
  },
  {
   "cell_type": "code",
   "execution_count": 66,
   "metadata": {},
   "outputs": [],
   "source": [
    "top_stories = top_stories.json()"
   ]
  },
  {
   "cell_type": "code",
   "execution_count": 67,
   "metadata": {},
   "outputs": [
    {
     "data": {
      "text/plain": [
       "[20235527, 20236137, 20236296, 20232318, 20236066]"
      ]
     },
     "execution_count": 67,
     "metadata": {},
     "output_type": "execute_result"
    }
   ],
   "source": [
    "top_stories[:5]"
   ]
  },
  {
   "cell_type": "code",
   "execution_count": 68,
   "metadata": {},
   "outputs": [
    {
     "name": "stdout",
     "output_type": "stream",
     "text": [
      "Prenos:  https://hacker-news.firebaseio.com/v0/item/20235527.json\n",
      "Prenos:  https://hacker-news.firebaseio.com/v0/item/20236137.json\n",
      "Prenos:  https://hacker-news.firebaseio.com/v0/item/20236296.json\n",
      "Prenos:  https://hacker-news.firebaseio.com/v0/item/20232318.json\n",
      "Prenos:  https://hacker-news.firebaseio.com/v0/item/20236066.json\n"
     ]
    }
   ],
   "source": [
    "for story_id in top_stories[:5]:\n",
    "    story_url = url + f'/item/{story_id}.json'\n",
    "    print('Prenos: ', story_url)\n",
    "    r = requests.get(story_url)\n",
    "    story_dict = r.json()\n",
    "    articles.append(story_dict)"
   ]
  },
  {
   "cell_type": "code",
   "execution_count": 69,
   "metadata": {},
   "outputs": [
    {
     "data": {
      "text/plain": [
       "{'by': 'abhorrence',\n",
       " 'descendants': 16,\n",
       " 'id': 20235527,\n",
       " 'kids': [20236483,\n",
       "  20235947,\n",
       "  20236524,\n",
       "  20236525,\n",
       "  20236426,\n",
       "  20235978,\n",
       "  20236172,\n",
       "  20236158],\n",
       " 'score': 157,\n",
       " 'time': 1561054055,\n",
       " 'title': 'Open-sourcing Sorbet: a fast, powerful type checker for Ruby',\n",
       " 'type': 'story',\n",
       " 'url': 'https://sorbet.org/blog/2019/06/20/open-sourcing-sorbet'}"
      ]
     },
     "execution_count": 69,
     "metadata": {},
     "output_type": "execute_result"
    }
   ],
   "source": [
    "articles[0]"
   ]
  },
  {
   "cell_type": "code",
   "execution_count": 70,
   "metadata": {},
   "outputs": [
    {
     "data": {
      "text/plain": [
       "'Song of the Rarest Large Whale on Earth Recorded for the First Time'"
      ]
     },
     "execution_count": 70,
     "metadata": {},
     "output_type": "execute_result"
    }
   ],
   "source": [
    "articles[1]['title']"
   ]
  },
  {
   "cell_type": "code",
   "execution_count": 71,
   "metadata": {},
   "outputs": [
    {
     "name": "stdout",
     "output_type": "stream",
     "text": [
      "Open-sourcing Sorbet: a fast, powerful type checker for Ruby\n",
      "Song of the Rarest Large Whale on Earth Recorded for the First Time\n",
      "Desjardins announces personal data of 2.9M members improperly shared\n",
      "Support for right-to-repair laws slowly grows\n",
      "Gryphon: An open-source framework for algorithmic trading in cryptocurrency\n"
     ]
    }
   ],
   "source": [
    "for article in articles:\n",
    "    print(article['title'])"
   ]
  },
  {
   "cell_type": "code",
   "execution_count": null,
   "metadata": {},
   "outputs": [],
   "source": []
  },
  {
   "cell_type": "code",
   "execution_count": null,
   "metadata": {},
   "outputs": [],
   "source": []
  },
  {
   "cell_type": "markdown",
   "metadata": {},
   "source": [
    "### Import data from web - pandas"
   ]
  },
  {
   "cell_type": "markdown",
   "metadata": {},
   "source": [
    "##### [Odprti podatki Slovenije](https://podatki.gov.si/)\n",
    "\n",
    "\n",
    "Na portalu OPSI boste našli vse od podatkov, orodij, do koristnih virov, s katerimi boste lahko razvijali spletne in mobilne aplikacije, oblikovali lastne infografike in drugo"
   ]
  },
  {
   "cell_type": "code",
   "execution_count": 72,
   "metadata": {},
   "outputs": [
    {
     "data": {
      "text/html": [
       "<div>\n",
       "<style scoped>\n",
       "    .dataframe tbody tr th:only-of-type {\n",
       "        vertical-align: middle;\n",
       "    }\n",
       "\n",
       "    .dataframe tbody tr th {\n",
       "        vertical-align: top;\n",
       "    }\n",
       "\n",
       "    .dataframe thead th {\n",
       "        text-align: right;\n",
       "    }\n",
       "</style>\n",
       "<table border=\"1\" class=\"dataframe\">\n",
       "  <thead>\n",
       "    <tr style=\"text-align: right;\">\n",
       "      <th></th>\n",
       "      <th>{\"INFO\": \"\"</th>\n",
       "      <th>\"user_id\": \"69\"</th>\n",
       "      <th>\"DESCRIPTION\": \"Zaposleni po dejavnosti in spolu</th>\n",
       "      <th>statisti\\u010dne regije</th>\n",
       "      <th>Slovenija</th>\n",
       "      <th>ve\\u010dletno\"</th>\n",
       "      <th>\"metadata_modified_date\": \"2019-01-31\"</th>\n",
       "      <th>\"CONTACT_MAIL\": \"danilo.dolenc@gov.si\"</th>\n",
       "      <th>\"PXNAME\": \"05G3060S.PX\"</th>\n",
       "      <th>\"podrocje\": \"Sociala in zaposlovanje\"</th>\n",
       "      <th>\"CONTACT_NAME\": \"DANILO DOLENC\"</th>\n",
       "      <th>\"guid\": \"05g3060s.px\"</th>\n",
       "      <th>\"publisher_id\": \"5022932000\"</th>\n",
       "      <th>\"LAST-UPDATED\": \"20190131 10:30\"</th>\n",
       "      <th>\"name\": \"surs05g3060s\"}</th>\n",
       "    </tr>\n",
       "  </thead>\n",
       "  <tbody>\n",
       "  </tbody>\n",
       "</table>\n",
       "</div>"
      ],
      "text/plain": [
       "Empty DataFrame\n",
       "Columns: [{\"INFO\": \"\",  \"user_id\": \"69\",  \"DESCRIPTION\": \"Zaposleni po dejavnosti in spolu,  statisti\\u010dne regije,  Slovenija,  ve\\u010dletno\",  \"metadata_modified_date\": \"2019-01-31\",  \"CONTACT_MAIL\": \"danilo.dolenc@gov.si\",  \"PXNAME\": \"05G3060S.PX\",  \"podrocje\": \"Sociala in zaposlovanje\",  \"CONTACT_NAME\": \"DANILO DOLENC\",  \"guid\": \"05g3060s.px\",  \"publisher_id\": \"5022932000\",  \"LAST-UPDATED\": \"20190131 10:30\",  \"name\": \"surs05g3060s\"}]\n",
       "Index: []"
      ]
     },
     "execution_count": 72,
     "metadata": {},
     "output_type": "execute_result"
    }
   ],
   "source": [
    "opsi = pd.read_csv('https://podatki.gov.si/harvest/json-object/eb674637-7251-4264-bcab-5e3355b81990')\n",
    "opsi.head()"
   ]
  },
  {
   "cell_type": "markdown",
   "metadata": {},
   "source": [
    "Primer: https://support.spatialkey.com/spatialkey-sample-csv-data/"
   ]
  },
  {
   "cell_type": "code",
   "execution_count": 73,
   "metadata": {},
   "outputs": [],
   "source": [
    "data = pd.read_csv('http://samplecsvs.s3.amazonaws.com/Sacramentorealestatetransactions.csv')"
   ]
  },
  {
   "cell_type": "code",
   "execution_count": 74,
   "metadata": {},
   "outputs": [
    {
     "data": {
      "text/html": [
       "<div>\n",
       "<style scoped>\n",
       "    .dataframe tbody tr th:only-of-type {\n",
       "        vertical-align: middle;\n",
       "    }\n",
       "\n",
       "    .dataframe tbody tr th {\n",
       "        vertical-align: top;\n",
       "    }\n",
       "\n",
       "    .dataframe thead th {\n",
       "        text-align: right;\n",
       "    }\n",
       "</style>\n",
       "<table border=\"1\" class=\"dataframe\">\n",
       "  <thead>\n",
       "    <tr style=\"text-align: right;\">\n",
       "      <th></th>\n",
       "      <th>street</th>\n",
       "      <th>city</th>\n",
       "      <th>zip</th>\n",
       "      <th>state</th>\n",
       "      <th>beds</th>\n",
       "      <th>baths</th>\n",
       "      <th>sq__ft</th>\n",
       "      <th>type</th>\n",
       "      <th>sale_date</th>\n",
       "      <th>price</th>\n",
       "      <th>latitude</th>\n",
       "      <th>longitude</th>\n",
       "    </tr>\n",
       "  </thead>\n",
       "  <tbody>\n",
       "    <tr>\n",
       "      <th>0</th>\n",
       "      <td>3526 HIGH ST</td>\n",
       "      <td>SACRAMENTO</td>\n",
       "      <td>95838</td>\n",
       "      <td>CA</td>\n",
       "      <td>2</td>\n",
       "      <td>1</td>\n",
       "      <td>836</td>\n",
       "      <td>Residential</td>\n",
       "      <td>Wed May 21 00:00:00 EDT 2008</td>\n",
       "      <td>59222</td>\n",
       "      <td>38.631913</td>\n",
       "      <td>-121.434879</td>\n",
       "    </tr>\n",
       "    <tr>\n",
       "      <th>1</th>\n",
       "      <td>51 OMAHA CT</td>\n",
       "      <td>SACRAMENTO</td>\n",
       "      <td>95823</td>\n",
       "      <td>CA</td>\n",
       "      <td>3</td>\n",
       "      <td>1</td>\n",
       "      <td>1167</td>\n",
       "      <td>Residential</td>\n",
       "      <td>Wed May 21 00:00:00 EDT 2008</td>\n",
       "      <td>68212</td>\n",
       "      <td>38.478902</td>\n",
       "      <td>-121.431028</td>\n",
       "    </tr>\n",
       "    <tr>\n",
       "      <th>2</th>\n",
       "      <td>2796 BRANCH ST</td>\n",
       "      <td>SACRAMENTO</td>\n",
       "      <td>95815</td>\n",
       "      <td>CA</td>\n",
       "      <td>2</td>\n",
       "      <td>1</td>\n",
       "      <td>796</td>\n",
       "      <td>Residential</td>\n",
       "      <td>Wed May 21 00:00:00 EDT 2008</td>\n",
       "      <td>68880</td>\n",
       "      <td>38.618305</td>\n",
       "      <td>-121.443839</td>\n",
       "    </tr>\n",
       "    <tr>\n",
       "      <th>3</th>\n",
       "      <td>2805 JANETTE WAY</td>\n",
       "      <td>SACRAMENTO</td>\n",
       "      <td>95815</td>\n",
       "      <td>CA</td>\n",
       "      <td>2</td>\n",
       "      <td>1</td>\n",
       "      <td>852</td>\n",
       "      <td>Residential</td>\n",
       "      <td>Wed May 21 00:00:00 EDT 2008</td>\n",
       "      <td>69307</td>\n",
       "      <td>38.616835</td>\n",
       "      <td>-121.439146</td>\n",
       "    </tr>\n",
       "    <tr>\n",
       "      <th>4</th>\n",
       "      <td>6001 MCMAHON DR</td>\n",
       "      <td>SACRAMENTO</td>\n",
       "      <td>95824</td>\n",
       "      <td>CA</td>\n",
       "      <td>2</td>\n",
       "      <td>1</td>\n",
       "      <td>797</td>\n",
       "      <td>Residential</td>\n",
       "      <td>Wed May 21 00:00:00 EDT 2008</td>\n",
       "      <td>81900</td>\n",
       "      <td>38.519470</td>\n",
       "      <td>-121.435768</td>\n",
       "    </tr>\n",
       "  </tbody>\n",
       "</table>\n",
       "</div>"
      ],
      "text/plain": [
       "             street        city    zip state  beds  baths  sq__ft  \\\n",
       "0      3526 HIGH ST  SACRAMENTO  95838    CA     2      1     836   \n",
       "1       51 OMAHA CT  SACRAMENTO  95823    CA     3      1    1167   \n",
       "2    2796 BRANCH ST  SACRAMENTO  95815    CA     2      1     796   \n",
       "3  2805 JANETTE WAY  SACRAMENTO  95815    CA     2      1     852   \n",
       "4   6001 MCMAHON DR  SACRAMENTO  95824    CA     2      1     797   \n",
       "\n",
       "          type                     sale_date  price   latitude   longitude  \n",
       "0  Residential  Wed May 21 00:00:00 EDT 2008  59222  38.631913 -121.434879  \n",
       "1  Residential  Wed May 21 00:00:00 EDT 2008  68212  38.478902 -121.431028  \n",
       "2  Residential  Wed May 21 00:00:00 EDT 2008  68880  38.618305 -121.443839  \n",
       "3  Residential  Wed May 21 00:00:00 EDT 2008  69307  38.616835 -121.439146  \n",
       "4  Residential  Wed May 21 00:00:00 EDT 2008  81900  38.519470 -121.435768  "
      ]
     },
     "execution_count": 74,
     "metadata": {},
     "output_type": "execute_result"
    }
   ],
   "source": [
    "data.head()"
   ]
  },
  {
   "cell_type": "code",
   "execution_count": null,
   "metadata": {},
   "outputs": [],
   "source": []
  },
  {
   "cell_type": "code",
   "execution_count": null,
   "metadata": {},
   "outputs": [],
   "source": []
  },
  {
   "cell_type": "code",
   "execution_count": null,
   "metadata": {},
   "outputs": [],
   "source": []
  },
  {
   "cell_type": "code",
   "execution_count": null,
   "metadata": {},
   "outputs": [],
   "source": []
  },
  {
   "cell_type": "markdown",
   "metadata": {},
   "source": [
    "## Web Scraping using pandas"
   ]
  },
  {
   "cell_type": "markdown",
   "metadata": {},
   "source": [
    "> Spletna stran: https://www.fdic.gov/bank/individual/failed/banklist.html"
   ]
  },
  {
   "cell_type": "markdown",
   "metadata": {},
   "source": [
    "`pandas.read_html: ` Read HTML tables into a list of DataFrame objects. -> [Dokumentacija](https://pandas.pydata.org/pandas-docs/version/0.23.4/generated/pandas.read_html.html)\n",
    "\n"
   ]
  },
  {
   "cell_type": "code",
   "execution_count": 75,
   "metadata": {},
   "outputs": [],
   "source": [
    "tables = pd.read_html('https://www.fdic.gov/bank/individual/failed/banklist.html')"
   ]
  },
  {
   "cell_type": "code",
   "execution_count": 76,
   "metadata": {},
   "outputs": [
    {
     "data": {
      "text/plain": [
       "1"
      ]
     },
     "execution_count": 76,
     "metadata": {},
     "output_type": "execute_result"
    }
   ],
   "source": [
    "len(tables)"
   ]
  },
  {
   "cell_type": "code",
   "execution_count": 77,
   "metadata": {},
   "outputs": [],
   "source": [
    "banks = tables[0]"
   ]
  },
  {
   "cell_type": "code",
   "execution_count": 78,
   "metadata": {},
   "outputs": [
    {
     "name": "stdout",
     "output_type": "stream",
     "text": [
      "<class 'pandas.core.frame.DataFrame'>\n",
      "RangeIndex: 556 entries, 0 to 555\n",
      "Data columns (total 7 columns):\n",
      "Bank Name                556 non-null object\n",
      "City                     556 non-null object\n",
      "ST                       556 non-null object\n",
      "CERT                     556 non-null int64\n",
      "Acquiring Institution    556 non-null object\n",
      "Closing Date             556 non-null object\n",
      "Updated Date             556 non-null object\n",
      "dtypes: int64(1), object(6)\n",
      "memory usage: 30.5+ KB\n"
     ]
    }
   ],
   "source": [
    "banks.info()"
   ]
  },
  {
   "cell_type": "code",
   "execution_count": 79,
   "metadata": {},
   "outputs": [
    {
     "data": {
      "text/html": [
       "<div>\n",
       "<style scoped>\n",
       "    .dataframe tbody tr th:only-of-type {\n",
       "        vertical-align: middle;\n",
       "    }\n",
       "\n",
       "    .dataframe tbody tr th {\n",
       "        vertical-align: top;\n",
       "    }\n",
       "\n",
       "    .dataframe thead th {\n",
       "        text-align: right;\n",
       "    }\n",
       "</style>\n",
       "<table border=\"1\" class=\"dataframe\">\n",
       "  <thead>\n",
       "    <tr style=\"text-align: right;\">\n",
       "      <th></th>\n",
       "      <th>Bank Name</th>\n",
       "      <th>City</th>\n",
       "      <th>ST</th>\n",
       "      <th>CERT</th>\n",
       "      <th>Acquiring Institution</th>\n",
       "      <th>Closing Date</th>\n",
       "      <th>Updated Date</th>\n",
       "    </tr>\n",
       "  </thead>\n",
       "  <tbody>\n",
       "    <tr>\n",
       "      <th>0</th>\n",
       "      <td>The Enloe State Bank</td>\n",
       "      <td>Cooper</td>\n",
       "      <td>TX</td>\n",
       "      <td>10716</td>\n",
       "      <td>Legend Bank, N. A.</td>\n",
       "      <td>May 31, 2019</td>\n",
       "      <td>June 18, 2019</td>\n",
       "    </tr>\n",
       "    <tr>\n",
       "      <th>1</th>\n",
       "      <td>Washington Federal Bank for Savings</td>\n",
       "      <td>Chicago</td>\n",
       "      <td>IL</td>\n",
       "      <td>30570</td>\n",
       "      <td>Royal Savings Bank</td>\n",
       "      <td>December 15, 2017</td>\n",
       "      <td>February 1, 2019</td>\n",
       "    </tr>\n",
       "    <tr>\n",
       "      <th>2</th>\n",
       "      <td>The Farmers and Merchants State Bank of Argonia</td>\n",
       "      <td>Argonia</td>\n",
       "      <td>KS</td>\n",
       "      <td>17719</td>\n",
       "      <td>Conway Bank</td>\n",
       "      <td>October 13, 2017</td>\n",
       "      <td>February 21, 2018</td>\n",
       "    </tr>\n",
       "    <tr>\n",
       "      <th>3</th>\n",
       "      <td>Fayette County Bank</td>\n",
       "      <td>Saint Elmo</td>\n",
       "      <td>IL</td>\n",
       "      <td>1802</td>\n",
       "      <td>United Fidelity Bank, fsb</td>\n",
       "      <td>May 26, 2017</td>\n",
       "      <td>January 29, 2019</td>\n",
       "    </tr>\n",
       "    <tr>\n",
       "      <th>4</th>\n",
       "      <td>Guaranty Bank, (d/b/a BestBank in Georgia &amp; Mi...</td>\n",
       "      <td>Milwaukee</td>\n",
       "      <td>WI</td>\n",
       "      <td>30003</td>\n",
       "      <td>First-Citizens Bank &amp; Trust Company</td>\n",
       "      <td>May 5, 2017</td>\n",
       "      <td>March 22, 2018</td>\n",
       "    </tr>\n",
       "  </tbody>\n",
       "</table>\n",
       "</div>"
      ],
      "text/plain": [
       "                                           Bank Name        City  ST   CERT  \\\n",
       "0                               The Enloe State Bank      Cooper  TX  10716   \n",
       "1                Washington Federal Bank for Savings     Chicago  IL  30570   \n",
       "2    The Farmers and Merchants State Bank of Argonia     Argonia  KS  17719   \n",
       "3                                Fayette County Bank  Saint Elmo  IL   1802   \n",
       "4  Guaranty Bank, (d/b/a BestBank in Georgia & Mi...   Milwaukee  WI  30003   \n",
       "\n",
       "                 Acquiring Institution       Closing Date       Updated Date  \n",
       "0                   Legend Bank, N. A.       May 31, 2019      June 18, 2019  \n",
       "1                   Royal Savings Bank  December 15, 2017   February 1, 2019  \n",
       "2                          Conway Bank   October 13, 2017  February 21, 2018  \n",
       "3            United Fidelity Bank, fsb       May 26, 2017   January 29, 2019  \n",
       "4  First-Citizens Bank & Trust Company        May 5, 2017     March 22, 2018  "
      ]
     },
     "execution_count": 79,
     "metadata": {},
     "output_type": "execute_result"
    }
   ],
   "source": [
    "banks.head()"
   ]
  },
  {
   "cell_type": "code",
   "execution_count": 80,
   "metadata": {},
   "outputs": [],
   "source": [
    "close_timestamps = pd.to_datetime(banks['Closing Date'])"
   ]
  },
  {
   "cell_type": "code",
   "execution_count": 81,
   "metadata": {},
   "outputs": [
    {
     "data": {
      "text/plain": [
       "2010    157\n",
       "2009    140\n",
       "2011     92\n",
       "2012     51\n",
       "2008     25\n",
       "2013     24\n",
       "2014     18\n",
       "2002     11\n",
       "2015      8\n",
       "2017      8\n",
       "2016      5\n",
       "2001      4\n",
       "2004      4\n",
       "2007      3\n",
       "2003      3\n",
       "2000      2\n",
       "2019      1\n",
       "Name: Closing Date, dtype: int64"
      ]
     },
     "execution_count": 81,
     "metadata": {},
     "output_type": "execute_result"
    }
   ],
   "source": [
    "close_timestamps.dt.year.value_counts()"
   ]
  },
  {
   "cell_type": "code",
   "execution_count": null,
   "metadata": {},
   "outputs": [],
   "source": []
  },
  {
   "cell_type": "code",
   "execution_count": null,
   "metadata": {},
   "outputs": [],
   "source": []
  },
  {
   "cell_type": "markdown",
   "metadata": {},
   "source": [
    "## Primeri"
   ]
  },
  {
   "cell_type": "markdown",
   "metadata": {},
   "source": [
    "### Scraping and Visualizing IMDB Ratings"
   ]
  },
  {
   "cell_type": "markdown",
   "metadata": {},
   "source": [
    "Stran: http://www.imdb.com/title/tt0944947/episodes"
   ]
  },
  {
   "cell_type": "code",
   "execution_count": 82,
   "metadata": {},
   "outputs": [],
   "source": [
    "import requests\n",
    "from bs4 import BeautifulSoup\n",
    "url = 'http://www.imdb.com/title/tt0944947/episodes'"
   ]
  },
  {
   "cell_type": "code",
   "execution_count": null,
   "metadata": {},
   "outputs": [],
   "source": []
  },
  {
   "cell_type": "code",
   "execution_count": 83,
   "metadata": {},
   "outputs": [],
   "source": [
    "episodes = []\n",
    "rankings = []"
   ]
  },
  {
   "cell_type": "code",
   "execution_count": 84,
   "metadata": {},
   "outputs": [
    {
     "name": "stdout",
     "output_type": "stream",
     "text": [
      "{'No.overall': '3', 'No. inseason': '3', 'Title': '\"Lord Snow\"', 'Directed by': 'Brian Kirk', 'Written by': 'David Benioff & D. B. Weiss', 'Original air date': 'May\\xa01,\\xa02011\\xa0(2011-05-01)', 'U.S. viewers(millions)': '2.44[22]'} <span class=\"ipl-rating-star__rating\">9.1</span>\n",
      "----------------\n",
      "{'No.overall': '3', 'No. inseason': '3', 'Title': '\"Lord Snow\"', 'Directed by': 'Brian Kirk', 'Written by': 'David Benioff & D. B. Weiss', 'Original air date': 'May\\xa01,\\xa02011\\xa0(2011-05-01)', 'U.S. viewers(millions)': '2.44[22]'} <span class=\"ipl-rating-star__rating\">8.8</span>\n",
      "----------------\n",
      "{'No.overall': '3', 'No. inseason': '3', 'Title': '\"Lord Snow\"', 'Directed by': 'Brian Kirk', 'Written by': 'David Benioff & D. B. Weiss', 'Original air date': 'May\\xa01,\\xa02011\\xa0(2011-05-01)', 'U.S. viewers(millions)': '2.44[22]'} <span class=\"ipl-rating-star__rating\">8.7</span>\n",
      "----------------\n",
      "{'No.overall': '3', 'No. inseason': '3', 'Title': '\"Lord Snow\"', 'Directed by': 'Brian Kirk', 'Written by': 'David Benioff & D. B. Weiss', 'Original air date': 'May\\xa01,\\xa02011\\xa0(2011-05-01)', 'U.S. viewers(millions)': '2.44[22]'} <span class=\"ipl-rating-star__rating\">8.8</span>\n",
      "----------------\n",
      "{'No.overall': '3', 'No. inseason': '3', 'Title': '\"Lord Snow\"', 'Directed by': 'Brian Kirk', 'Written by': 'David Benioff & D. B. Weiss', 'Original air date': 'May\\xa01,\\xa02011\\xa0(2011-05-01)', 'U.S. viewers(millions)': '2.44[22]'} <span class=\"ipl-rating-star__rating\">9.1</span>\n",
      "----------------\n",
      "{'No.overall': '3', 'No. inseason': '3', 'Title': '\"Lord Snow\"', 'Directed by': 'Brian Kirk', 'Written by': 'David Benioff & D. B. Weiss', 'Original air date': 'May\\xa01,\\xa02011\\xa0(2011-05-01)', 'U.S. viewers(millions)': '2.44[22]'} <span class=\"ipl-rating-star__rating\">9.2</span>\n",
      "----------------\n",
      "{'No.overall': '3', 'No. inseason': '3', 'Title': '\"Lord Snow\"', 'Directed by': 'Brian Kirk', 'Written by': 'David Benioff & D. B. Weiss', 'Original air date': 'May\\xa01,\\xa02011\\xa0(2011-05-01)', 'U.S. viewers(millions)': '2.44[22]'} <span class=\"ipl-rating-star__rating\">9.3</span>\n",
      "----------------\n",
      "{'No.overall': '3', 'No. inseason': '3', 'Title': '\"Lord Snow\"', 'Directed by': 'Brian Kirk', 'Written by': 'David Benioff & D. B. Weiss', 'Original air date': 'May\\xa01,\\xa02011\\xa0(2011-05-01)', 'U.S. viewers(millions)': '2.44[22]'} <span class=\"ipl-rating-star__rating\">9.1</span>\n",
      "----------------\n",
      "{'No.overall': '3', 'No. inseason': '3', 'Title': '\"Lord Snow\"', 'Directed by': 'Brian Kirk', 'Written by': 'David Benioff & D. B. Weiss', 'Original air date': 'May\\xa01,\\xa02011\\xa0(2011-05-01)', 'U.S. viewers(millions)': '2.44[22]'} <span class=\"ipl-rating-star__rating\">9.6</span>\n",
      "----------------\n",
      "{'No.overall': '3', 'No. inseason': '3', 'Title': '\"Lord Snow\"', 'Directed by': 'Brian Kirk', 'Written by': 'David Benioff & D. B. Weiss', 'Original air date': 'May\\xa01,\\xa02011\\xa0(2011-05-01)', 'U.S. viewers(millions)': '2.44[22]'} <span class=\"ipl-rating-star__rating\">9.5</span>\n",
      "----------------\n",
      "{'No.overall': '3', 'No. inseason': '3', 'Title': '\"Lord Snow\"', 'Directed by': 'Brian Kirk', 'Written by': 'David Benioff & D. B. Weiss', 'Original air date': 'May\\xa01,\\xa02011\\xa0(2011-05-01)', 'U.S. viewers(millions)': '2.44[22]'} <span class=\"ipl-rating-star__rating\">8.9</span>\n",
      "----------------\n",
      "{'No.overall': '3', 'No. inseason': '3', 'Title': '\"Lord Snow\"', 'Directed by': 'Brian Kirk', 'Written by': 'David Benioff & D. B. Weiss', 'Original air date': 'May\\xa01,\\xa02011\\xa0(2011-05-01)', 'U.S. viewers(millions)': '2.44[22]'} <span class=\"ipl-rating-star__rating\">8.6</span>\n",
      "----------------\n",
      "{'No.overall': '3', 'No. inseason': '3', 'Title': '\"Lord Snow\"', 'Directed by': 'Brian Kirk', 'Written by': 'David Benioff & D. B. Weiss', 'Original air date': 'May\\xa01,\\xa02011\\xa0(2011-05-01)', 'U.S. viewers(millions)': '2.44[22]'} <span class=\"ipl-rating-star__rating\">8.9</span>\n",
      "----------------\n",
      "{'No.overall': '3', 'No. inseason': '3', 'Title': '\"Lord Snow\"', 'Directed by': 'Brian Kirk', 'Written by': 'David Benioff & D. B. Weiss', 'Original air date': 'May\\xa01,\\xa02011\\xa0(2011-05-01)', 'U.S. viewers(millions)': '2.44[22]'} <span class=\"ipl-rating-star__rating\">8.9</span>\n",
      "----------------\n",
      "{'No.overall': '3', 'No. inseason': '3', 'Title': '\"Lord Snow\"', 'Directed by': 'Brian Kirk', 'Written by': 'David Benioff & D. B. Weiss', 'Original air date': 'May\\xa01,\\xa02011\\xa0(2011-05-01)', 'U.S. viewers(millions)': '2.44[22]'} <span class=\"ipl-rating-star__rating\">8.9</span>\n",
      "----------------\n",
      "{'No.overall': '3', 'No. inseason': '3', 'Title': '\"Lord Snow\"', 'Directed by': 'Brian Kirk', 'Written by': 'David Benioff & D. B. Weiss', 'Original air date': 'May\\xa01,\\xa02011\\xa0(2011-05-01)', 'U.S. viewers(millions)': '2.44[22]'} <span class=\"ipl-rating-star__rating\">9.1</span>\n",
      "----------------\n",
      "{'No.overall': '3', 'No. inseason': '3', 'Title': '\"Lord Snow\"', 'Directed by': 'Brian Kirk', 'Written by': 'David Benioff & D. B. Weiss', 'Original air date': 'May\\xa01,\\xa02011\\xa0(2011-05-01)', 'U.S. viewers(millions)': '2.44[22]'} <span class=\"ipl-rating-star__rating\">9.0</span>\n",
      "----------------\n",
      "{'No.overall': '3', 'No. inseason': '3', 'Title': '\"Lord Snow\"', 'Directed by': 'Brian Kirk', 'Written by': 'David Benioff & D. B. Weiss', 'Original air date': 'May\\xa01,\\xa02011\\xa0(2011-05-01)', 'U.S. viewers(millions)': '2.44[22]'} <span class=\"ipl-rating-star__rating\">8.9</span>\n",
      "----------------\n",
      "{'No.overall': '3', 'No. inseason': '3', 'Title': '\"Lord Snow\"', 'Directed by': 'Brian Kirk', 'Written by': 'David Benioff & D. B. Weiss', 'Original air date': 'May\\xa01,\\xa02011\\xa0(2011-05-01)', 'U.S. viewers(millions)': '2.44[22]'} <span class=\"ipl-rating-star__rating\">9.7</span>\n",
      "----------------\n",
      "{'No.overall': '3', 'No. inseason': '3', 'Title': '\"Lord Snow\"', 'Directed by': 'Brian Kirk', 'Written by': 'David Benioff & D. B. Weiss', 'Original air date': 'May\\xa01,\\xa02011\\xa0(2011-05-01)', 'U.S. viewers(millions)': '2.44[22]'} <span class=\"ipl-rating-star__rating\">9.5</span>\n",
      "----------------\n",
      "{'No.overall': '3', 'No. inseason': '3', 'Title': '\"Lord Snow\"', 'Directed by': 'Brian Kirk', 'Written by': 'David Benioff & D. B. Weiss', 'Original air date': 'May\\xa01,\\xa02011\\xa0(2011-05-01)', 'U.S. viewers(millions)': '2.44[22]'} <span class=\"ipl-rating-star__rating\">8.9</span>\n",
      "----------------\n",
      "{'No.overall': '3', 'No. inseason': '3', 'Title': '\"Lord Snow\"', 'Directed by': 'Brian Kirk', 'Written by': 'David Benioff & D. B. Weiss', 'Original air date': 'May\\xa01,\\xa02011\\xa0(2011-05-01)', 'U.S. viewers(millions)': '2.44[22]'} <span class=\"ipl-rating-star__rating\">8.7</span>\n",
      "----------------\n",
      "{'No.overall': '3', 'No. inseason': '3', 'Title': '\"Lord Snow\"', 'Directed by': 'Brian Kirk', 'Written by': 'David Benioff & D. B. Weiss', 'Original air date': 'May\\xa01,\\xa02011\\xa0(2011-05-01)', 'U.S. viewers(millions)': '2.44[22]'} <span class=\"ipl-rating-star__rating\">8.9</span>\n",
      "----------------\n",
      "{'No.overall': '3', 'No. inseason': '3', 'Title': '\"Lord Snow\"', 'Directed by': 'Brian Kirk', 'Written by': 'David Benioff & D. B. Weiss', 'Original air date': 'May\\xa01,\\xa02011\\xa0(2011-05-01)', 'U.S. viewers(millions)': '2.44[22]'} <span class=\"ipl-rating-star__rating\">9.6</span>\n",
      "----------------\n",
      "{'No.overall': '3', 'No. inseason': '3', 'Title': '\"Lord Snow\"', 'Directed by': 'Brian Kirk', 'Written by': 'David Benioff & D. B. Weiss', 'Original air date': 'May\\xa01,\\xa02011\\xa0(2011-05-01)', 'U.S. viewers(millions)': '2.44[22]'} <span class=\"ipl-rating-star__rating\">9.1</span>\n",
      "----------------\n",
      "{'No.overall': '3', 'No. inseason': '3', 'Title': '\"Lord Snow\"', 'Directed by': 'Brian Kirk', 'Written by': 'David Benioff & D. B. Weiss', 'Original air date': 'May\\xa01,\\xa02011\\xa0(2011-05-01)', 'U.S. viewers(millions)': '2.44[22]'} <span class=\"ipl-rating-star__rating\">8.9</span>\n",
      "----------------\n",
      "{'No.overall': '3', 'No. inseason': '3', 'Title': '\"Lord Snow\"', 'Directed by': 'Brian Kirk', 'Written by': 'David Benioff & D. B. Weiss', 'Original air date': 'May\\xa01,\\xa02011\\xa0(2011-05-01)', 'U.S. viewers(millions)': '2.44[22]'} <span class=\"ipl-rating-star__rating\">8.8</span>\n",
      "----------------\n",
      "{'No.overall': '3', 'No. inseason': '3', 'Title': '\"Lord Snow\"', 'Directed by': 'Brian Kirk', 'Written by': 'David Benioff & D. B. Weiss', 'Original air date': 'May\\xa01,\\xa02011\\xa0(2011-05-01)', 'U.S. viewers(millions)': '2.44[22]'} <span class=\"ipl-rating-star__rating\">9.1</span>\n",
      "----------------\n",
      "{'No.overall': '3', 'No. inseason': '3', 'Title': '\"Lord Snow\"', 'Directed by': 'Brian Kirk', 'Written by': 'David Benioff & D. B. Weiss', 'Original air date': 'May\\xa01,\\xa02011\\xa0(2011-05-01)', 'U.S. viewers(millions)': '2.44[22]'} <span class=\"ipl-rating-star__rating\">9.9</span>\n",
      "----------------\n",
      "{'No.overall': '3', 'No. inseason': '3', 'Title': '\"Lord Snow\"', 'Directed by': 'Brian Kirk', 'Written by': 'David Benioff & D. B. Weiss', 'Original air date': 'May\\xa01,\\xa02011\\xa0(2011-05-01)', 'U.S. viewers(millions)': '2.44[22]'} <span class=\"ipl-rating-star__rating\">9.2</span>\n",
      "----------------\n"
     ]
    },
    {
     "name": "stdout",
     "output_type": "stream",
     "text": [
      "{'No.overall': '3', 'No. inseason': '3', 'Title': '\"Lord Snow\"', 'Directed by': 'Brian Kirk', 'Written by': 'David Benioff & D. B. Weiss', 'Original air date': 'May\\xa01,\\xa02011\\xa0(2011-05-01)', 'U.S. viewers(millions)': '2.44[22]'} <span class=\"ipl-rating-star__rating\">9.2</span>\n",
      "----------------\n",
      "{'No.overall': '3', 'No. inseason': '3', 'Title': '\"Lord Snow\"', 'Directed by': 'Brian Kirk', 'Written by': 'David Benioff & D. B. Weiss', 'Original air date': 'May\\xa01,\\xa02011\\xa0(2011-05-01)', 'U.S. viewers(millions)': '2.44[22]'} <span class=\"ipl-rating-star__rating\">9.7</span>\n",
      "----------------\n",
      "{'No.overall': '3', 'No. inseason': '3', 'Title': '\"Lord Snow\"', 'Directed by': 'Brian Kirk', 'Written by': 'David Benioff & D. B. Weiss', 'Original air date': 'May\\xa01,\\xa02011\\xa0(2011-05-01)', 'U.S. viewers(millions)': '2.44[22]'} <span class=\"ipl-rating-star__rating\">8.9</span>\n",
      "----------------\n",
      "{'No.overall': '3', 'No. inseason': '3', 'Title': '\"Lord Snow\"', 'Directed by': 'Brian Kirk', 'Written by': 'David Benioff & D. B. Weiss', 'Original air date': 'May\\xa01,\\xa02011\\xa0(2011-05-01)', 'U.S. viewers(millions)': '2.44[22]'} <span class=\"ipl-rating-star__rating\">8.9</span>\n",
      "----------------\n",
      "{'No.overall': '3', 'No. inseason': '3', 'Title': '\"Lord Snow\"', 'Directed by': 'Brian Kirk', 'Written by': 'David Benioff & D. B. Weiss', 'Original air date': 'May\\xa01,\\xa02011\\xa0(2011-05-01)', 'U.S. viewers(millions)': '2.44[22]'} <span class=\"ipl-rating-star__rating\">8.8</span>\n",
      "----------------\n",
      "{'No.overall': '3', 'No. inseason': '3', 'Title': '\"Lord Snow\"', 'Directed by': 'Brian Kirk', 'Written by': 'David Benioff & D. B. Weiss', 'Original air date': 'May\\xa01,\\xa02011\\xa0(2011-05-01)', 'U.S. viewers(millions)': '2.44[22]'} <span class=\"ipl-rating-star__rating\">9.7</span>\n",
      "----------------\n",
      "{'No.overall': '3', 'No. inseason': '3', 'Title': '\"Lord Snow\"', 'Directed by': 'Brian Kirk', 'Written by': 'David Benioff & D. B. Weiss', 'Original air date': 'May\\xa01,\\xa02011\\xa0(2011-05-01)', 'U.S. viewers(millions)': '2.44[22]'} <span class=\"ipl-rating-star__rating\">9.2</span>\n",
      "----------------\n",
      "{'No.overall': '3', 'No. inseason': '3', 'Title': '\"Lord Snow\"', 'Directed by': 'Brian Kirk', 'Written by': 'David Benioff & D. B. Weiss', 'Original air date': 'May\\xa01,\\xa02011\\xa0(2011-05-01)', 'U.S. viewers(millions)': '2.44[22]'} <span class=\"ipl-rating-star__rating\">9.7</span>\n",
      "----------------\n",
      "{'No.overall': '3', 'No. inseason': '3', 'Title': '\"Lord Snow\"', 'Directed by': 'Brian Kirk', 'Written by': 'David Benioff & D. B. Weiss', 'Original air date': 'May\\xa01,\\xa02011\\xa0(2011-05-01)', 'U.S. viewers(millions)': '2.44[22]'} <span class=\"ipl-rating-star__rating\">9.6</span>\n",
      "----------------\n",
      "{'No.overall': '3', 'No. inseason': '3', 'Title': '\"Lord Snow\"', 'Directed by': 'Brian Kirk', 'Written by': 'David Benioff & D. B. Weiss', 'Original air date': 'May\\xa01,\\xa02011\\xa0(2011-05-01)', 'U.S. viewers(millions)': '2.44[22]'} <span class=\"ipl-rating-star__rating\">9.7</span>\n",
      "----------------\n",
      "{'No.overall': '3', 'No. inseason': '3', 'Title': '\"Lord Snow\"', 'Directed by': 'Brian Kirk', 'Written by': 'David Benioff & D. B. Weiss', 'Original air date': 'May\\xa01,\\xa02011\\xa0(2011-05-01)', 'U.S. viewers(millions)': '2.44[22]'} <span class=\"ipl-rating-star__rating\">8.6</span>\n",
      "----------------\n",
      "{'No.overall': '3', 'No. inseason': '3', 'Title': '\"Lord Snow\"', 'Directed by': 'Brian Kirk', 'Written by': 'David Benioff & D. B. Weiss', 'Original air date': 'May\\xa01,\\xa02011\\xa0(2011-05-01)', 'U.S. viewers(millions)': '2.44[22]'} <span class=\"ipl-rating-star__rating\">8.6</span>\n",
      "----------------\n",
      "{'No.overall': '3', 'No. inseason': '3', 'Title': '\"Lord Snow\"', 'Directed by': 'Brian Kirk', 'Written by': 'David Benioff & D. B. Weiss', 'Original air date': 'May\\xa01,\\xa02011\\xa0(2011-05-01)', 'U.S. viewers(millions)': '2.44[22]'} <span class=\"ipl-rating-star__rating\">8.6</span>\n",
      "----------------\n",
      "{'No.overall': '3', 'No. inseason': '3', 'Title': '\"Lord Snow\"', 'Directed by': 'Brian Kirk', 'Written by': 'David Benioff & D. B. Weiss', 'Original air date': 'May\\xa01,\\xa02011\\xa0(2011-05-01)', 'U.S. viewers(millions)': '2.44[22]'} <span class=\"ipl-rating-star__rating\">8.8</span>\n",
      "----------------\n",
      "{'No.overall': '3', 'No. inseason': '3', 'Title': '\"Lord Snow\"', 'Directed by': 'Brian Kirk', 'Written by': 'David Benioff & D. B. Weiss', 'Original air date': 'May\\xa01,\\xa02011\\xa0(2011-05-01)', 'U.S. viewers(millions)': '2.44[22]'} <span class=\"ipl-rating-star__rating\">8.7</span>\n",
      "----------------\n",
      "{'No.overall': '3', 'No. inseason': '3', 'Title': '\"Lord Snow\"', 'Directed by': 'Brian Kirk', 'Written by': 'David Benioff & D. B. Weiss', 'Original air date': 'May\\xa01,\\xa02011\\xa0(2011-05-01)', 'U.S. viewers(millions)': '2.44[22]'} <span class=\"ipl-rating-star__rating\">8.1</span>\n",
      "----------------\n",
      "{'No.overall': '3', 'No. inseason': '3', 'Title': '\"Lord Snow\"', 'Directed by': 'Brian Kirk', 'Written by': 'David Benioff & D. B. Weiss', 'Original air date': 'May\\xa01,\\xa02011\\xa0(2011-05-01)', 'U.S. viewers(millions)': '2.44[22]'} <span class=\"ipl-rating-star__rating\">9.1</span>\n",
      "----------------\n",
      "{'No.overall': '3', 'No. inseason': '3', 'Title': '\"Lord Snow\"', 'Directed by': 'Brian Kirk', 'Written by': 'David Benioff & D. B. Weiss', 'Original air date': 'May\\xa01,\\xa02011\\xa0(2011-05-01)', 'U.S. viewers(millions)': '2.44[22]'} <span class=\"ipl-rating-star__rating\">9.9</span>\n",
      "----------------\n",
      "{'No.overall': '3', 'No. inseason': '3', 'Title': '\"Lord Snow\"', 'Directed by': 'Brian Kirk', 'Written by': 'David Benioff & D. B. Weiss', 'Original air date': 'May\\xa01,\\xa02011\\xa0(2011-05-01)', 'U.S. viewers(millions)': '2.44[22]'} <span class=\"ipl-rating-star__rating\">9.5</span>\n",
      "----------------\n",
      "{'No.overall': '3', 'No. inseason': '3', 'Title': '\"Lord Snow\"', 'Directed by': 'Brian Kirk', 'Written by': 'David Benioff & D. B. Weiss', 'Original air date': 'May\\xa01,\\xa02011\\xa0(2011-05-01)', 'U.S. viewers(millions)': '2.44[22]'} <span class=\"ipl-rating-star__rating\">9.1</span>\n",
      "----------------\n",
      "{'No.overall': '3', 'No. inseason': '3', 'Title': '\"Lord Snow\"', 'Directed by': 'Brian Kirk', 'Written by': 'David Benioff & D. B. Weiss', 'Original air date': 'May\\xa01,\\xa02011\\xa0(2011-05-01)', 'U.S. viewers(millions)': '2.44[22]'} <span class=\"ipl-rating-star__rating\">8.6</span>\n",
      "----------------\n",
      "{'No.overall': '3', 'No. inseason': '3', 'Title': '\"Lord Snow\"', 'Directed by': 'Brian Kirk', 'Written by': 'David Benioff & D. B. Weiss', 'Original air date': 'May\\xa01,\\xa02011\\xa0(2011-05-01)', 'U.S. viewers(millions)': '2.44[22]'} <span class=\"ipl-rating-star__rating\">9.4</span>\n",
      "----------------\n",
      "{'No.overall': '3', 'No. inseason': '3', 'Title': '\"Lord Snow\"', 'Directed by': 'Brian Kirk', 'Written by': 'David Benioff & D. B. Weiss', 'Original air date': 'May\\xa01,\\xa02011\\xa0(2011-05-01)', 'U.S. viewers(millions)': '2.44[22]'} <span class=\"ipl-rating-star__rating\">8.8</span>\n",
      "----------------\n",
      "{'No.overall': '3', 'No. inseason': '3', 'Title': '\"Lord Snow\"', 'Directed by': 'Brian Kirk', 'Written by': 'David Benioff & D. B. Weiss', 'Original air date': 'May\\xa01,\\xa02011\\xa0(2011-05-01)', 'U.S. viewers(millions)': '2.44[22]'} <span class=\"ipl-rating-star__rating\">9.2</span>\n",
      "----------------\n",
      "{'No.overall': '3', 'No. inseason': '3', 'Title': '\"Lord Snow\"', 'Directed by': 'Brian Kirk', 'Written by': 'David Benioff & D. B. Weiss', 'Original air date': 'May\\xa01,\\xa02011\\xa0(2011-05-01)', 'U.S. viewers(millions)': '2.44[22]'} <span class=\"ipl-rating-star__rating\">9.7</span>\n",
      "----------------\n",
      "{'No.overall': '3', 'No. inseason': '3', 'Title': '\"Lord Snow\"', 'Directed by': 'Brian Kirk', 'Written by': 'David Benioff & D. B. Weiss', 'Original air date': 'May\\xa01,\\xa02011\\xa0(2011-05-01)', 'U.S. viewers(millions)': '2.44[22]'} <span class=\"ipl-rating-star__rating\">8.5</span>\n",
      "----------------\n",
      "{'No.overall': '3', 'No. inseason': '3', 'Title': '\"Lord Snow\"', 'Directed by': 'Brian Kirk', 'Written by': 'David Benioff & D. B. Weiss', 'Original air date': 'May\\xa01,\\xa02011\\xa0(2011-05-01)', 'U.S. viewers(millions)': '2.44[22]'} <span class=\"ipl-rating-star__rating\">8.7</span>\n",
      "----------------\n",
      "{'No.overall': '3', 'No. inseason': '3', 'Title': '\"Lord Snow\"', 'Directed by': 'Brian Kirk', 'Written by': 'David Benioff & D. B. Weiss', 'Original air date': 'May\\xa01,\\xa02011\\xa0(2011-05-01)', 'U.S. viewers(millions)': '2.44[22]'} <span class=\"ipl-rating-star__rating\">8.5</span>\n",
      "----------------\n",
      "{'No.overall': '3', 'No. inseason': '3', 'Title': '\"Lord Snow\"', 'Directed by': 'Brian Kirk', 'Written by': 'David Benioff & D. B. Weiss', 'Original air date': 'May\\xa01,\\xa02011\\xa0(2011-05-01)', 'U.S. viewers(millions)': '2.44[22]'} <span class=\"ipl-rating-star__rating\">9.9</span>\n",
      "----------------\n",
      "{'No.overall': '3', 'No. inseason': '3', 'Title': '\"Lord Snow\"', 'Directed by': 'Brian Kirk', 'Written by': 'David Benioff & D. B. Weiss', 'Original air date': 'May\\xa01,\\xa02011\\xa0(2011-05-01)', 'U.S. viewers(millions)': '2.44[22]'} <span class=\"ipl-rating-star__rating\">9.9</span>\n",
      "----------------\n"
     ]
    },
    {
     "name": "stdout",
     "output_type": "stream",
     "text": [
      "{'No.overall': '3', 'No. inseason': '3', 'Title': '\"Lord Snow\"', 'Directed by': 'Brian Kirk', 'Written by': 'David Benioff & D. B. Weiss', 'Original air date': 'May\\xa01,\\xa02011\\xa0(2011-05-01)', 'U.S. viewers(millions)': '2.44[22]'} <span class=\"ipl-rating-star__rating\">8.7</span>\n",
      "----------------\n",
      "{'No.overall': '3', 'No. inseason': '3', 'Title': '\"Lord Snow\"', 'Directed by': 'Brian Kirk', 'Written by': 'David Benioff & D. B. Weiss', 'Original air date': 'May\\xa01,\\xa02011\\xa0(2011-05-01)', 'U.S. viewers(millions)': '2.44[22]'} <span class=\"ipl-rating-star__rating\">9.0</span>\n",
      "----------------\n",
      "{'No.overall': '3', 'No. inseason': '3', 'Title': '\"Lord Snow\"', 'Directed by': 'Brian Kirk', 'Written by': 'David Benioff & D. B. Weiss', 'Original air date': 'May\\xa01,\\xa02011\\xa0(2011-05-01)', 'U.S. viewers(millions)': '2.44[22]'} <span class=\"ipl-rating-star__rating\">9.2</span>\n",
      "----------------\n",
      "{'No.overall': '3', 'No. inseason': '3', 'Title': '\"Lord Snow\"', 'Directed by': 'Brian Kirk', 'Written by': 'David Benioff & D. B. Weiss', 'Original air date': 'May\\xa01,\\xa02011\\xa0(2011-05-01)', 'U.S. viewers(millions)': '2.44[22]'} <span class=\"ipl-rating-star__rating\">9.8</span>\n",
      "----------------\n",
      "{'No.overall': '3', 'No. inseason': '3', 'Title': '\"Lord Snow\"', 'Directed by': 'Brian Kirk', 'Written by': 'David Benioff & D. B. Weiss', 'Original air date': 'May\\xa01,\\xa02011\\xa0(2011-05-01)', 'U.S. viewers(millions)': '2.44[22]'} <span class=\"ipl-rating-star__rating\">8.9</span>\n",
      "----------------\n",
      "{'No.overall': '3', 'No. inseason': '3', 'Title': '\"Lord Snow\"', 'Directed by': 'Brian Kirk', 'Written by': 'David Benioff & D. B. Weiss', 'Original air date': 'May\\xa01,\\xa02011\\xa0(2011-05-01)', 'U.S. viewers(millions)': '2.44[22]'} <span class=\"ipl-rating-star__rating\">9.0</span>\n",
      "----------------\n",
      "{'No.overall': '3', 'No. inseason': '3', 'Title': '\"Lord Snow\"', 'Directed by': 'Brian Kirk', 'Written by': 'David Benioff & D. B. Weiss', 'Original air date': 'May\\xa01,\\xa02011\\xa0(2011-05-01)', 'U.S. viewers(millions)': '2.44[22]'} <span class=\"ipl-rating-star__rating\">9.5</span>\n",
      "----------------\n",
      "{'No.overall': '3', 'No. inseason': '3', 'Title': '\"Lord Snow\"', 'Directed by': 'Brian Kirk', 'Written by': 'David Benioff & D. B. Weiss', 'Original air date': 'May\\xa01,\\xa02011\\xa0(2011-05-01)', 'U.S. viewers(millions)': '2.44[22]'} <span class=\"ipl-rating-star__rating\">7.6</span>\n",
      "----------------\n",
      "{'No.overall': '3', 'No. inseason': '3', 'Title': '\"Lord Snow\"', 'Directed by': 'Brian Kirk', 'Written by': 'David Benioff & D. B. Weiss', 'Original air date': 'May\\xa01,\\xa02011\\xa0(2011-05-01)', 'U.S. viewers(millions)': '2.44[22]'} <span class=\"ipl-rating-star__rating\">7.9</span>\n",
      "----------------\n",
      "{'No.overall': '3', 'No. inseason': '3', 'Title': '\"Lord Snow\"', 'Directed by': 'Brian Kirk', 'Written by': 'David Benioff & D. B. Weiss', 'Original air date': 'May\\xa01,\\xa02011\\xa0(2011-05-01)', 'U.S. viewers(millions)': '2.44[22]'} <span class=\"ipl-rating-star__rating\">7.6</span>\n",
      "----------------\n",
      "{'No.overall': '3', 'No. inseason': '3', 'Title': '\"Lord Snow\"', 'Directed by': 'Brian Kirk', 'Written by': 'David Benioff & D. B. Weiss', 'Original air date': 'May\\xa01,\\xa02011\\xa0(2011-05-01)', 'U.S. viewers(millions)': '2.44[22]'} <span class=\"ipl-rating-star__rating\">5.6</span>\n",
      "----------------\n",
      "{'No.overall': '3', 'No. inseason': '3', 'Title': '\"Lord Snow\"', 'Directed by': 'Brian Kirk', 'Written by': 'David Benioff & D. B. Weiss', 'Original air date': 'May\\xa01,\\xa02011\\xa0(2011-05-01)', 'U.S. viewers(millions)': '2.44[22]'} <span class=\"ipl-rating-star__rating\">6.1</span>\n",
      "----------------\n",
      "{'No.overall': '3', 'No. inseason': '3', 'Title': '\"Lord Snow\"', 'Directed by': 'Brian Kirk', 'Written by': 'David Benioff & D. B. Weiss', 'Original air date': 'May\\xa01,\\xa02011\\xa0(2011-05-01)', 'U.S. viewers(millions)': '2.44[22]'} <span class=\"ipl-rating-star__rating\">4.2</span>\n",
      "----------------\n"
     ]
    }
   ],
   "source": [
    "for season in range(1,9):\n",
    "    r = requests.get(url, params={'season': season})\n",
    "    soup = BeautifulSoup(r.text, 'html.parser')\n",
    "    listing = soup.find('div', class_='eplist')\n",
    "    for epnr, div in enumerate(listing.find_all('div', recursive=False)):\n",
    "        episode = f'{season}.{epnr + 1}'\n",
    "        rating_el = div.find(class_='ipl-rating-star__rating')\n",
    "        print(epsiode, rating_el)\n",
    "        print('----------------')\n",
    "        rating = float(rating_el.get_text(strip=True))\n",
    "        episodes.append(episode)\n",
    "        rankings.append(rating)"
   ]
  },
  {
   "cell_type": "code",
   "execution_count": 85,
   "metadata": {},
   "outputs": [
    {
     "data": {
      "text/plain": [
       "[9.1,\n",
       " 8.8,\n",
       " 8.7,\n",
       " 8.8,\n",
       " 9.1,\n",
       " 9.2,\n",
       " 9.3,\n",
       " 9.1,\n",
       " 9.6,\n",
       " 9.5,\n",
       " 8.9,\n",
       " 8.6,\n",
       " 8.9,\n",
       " 8.9,\n",
       " 8.9,\n",
       " 9.1,\n",
       " 9.0,\n",
       " 8.9,\n",
       " 9.7,\n",
       " 9.5]"
      ]
     },
     "execution_count": 85,
     "metadata": {},
     "output_type": "execute_result"
    }
   ],
   "source": [
    "rankings[:20]"
   ]
  },
  {
   "cell_type": "code",
   "execution_count": 86,
   "metadata": {},
   "outputs": [
    {
     "data": {
      "text/plain": [
       "['1.1',\n",
       " '1.2',\n",
       " '1.3',\n",
       " '1.4',\n",
       " '1.5',\n",
       " '1.6',\n",
       " '1.7',\n",
       " '1.8',\n",
       " '1.9',\n",
       " '1.10',\n",
       " '2.1',\n",
       " '2.2',\n",
       " '2.3',\n",
       " '2.4',\n",
       " '2.5',\n",
       " '2.6',\n",
       " '2.7',\n",
       " '2.8',\n",
       " '2.9',\n",
       " '2.10']"
      ]
     },
     "execution_count": 86,
     "metadata": {},
     "output_type": "execute_result"
    }
   ],
   "source": [
    "episodes[:20]"
   ]
  },
  {
   "cell_type": "code",
   "execution_count": 87,
   "metadata": {},
   "outputs": [
    {
     "data": {
      "text/plain": [
       "<BarContainer object of 73 artists>"
      ]
     },
     "execution_count": 87,
     "metadata": {},
     "output_type": "execute_result"
    }
   ],
   "source": [
    "import matplotlib.pylab as plt\n",
    "\n",
    "plt.figure()\n",
    "\n",
    "positions = [a for a in range(len(rankings))]\n",
    "plt.bar(positions, rankings, align='center')"
   ]
  },
  {
   "cell_type": "code",
   "execution_count": null,
   "metadata": {},
   "outputs": [],
   "source": []
  },
  {
   "cell_type": "code",
   "execution_count": null,
   "metadata": {},
   "outputs": [],
   "source": []
  },
  {
   "cell_type": "markdown",
   "metadata": {},
   "source": [
    "### Scraping Fast Track data"
   ]
  },
  {
   "cell_type": "markdown",
   "metadata": {},
   "source": [
    "Stran: https://www.fasttrack.co.uk/league-tables/tech-track-100/league-table/"
   ]
  },
  {
   "cell_type": "code",
   "execution_count": 88,
   "metadata": {},
   "outputs": [],
   "source": [
    "# import libraries\n",
    "from bs4 import BeautifulSoup\n",
    "import requests\n",
    "import csv"
   ]
  },
  {
   "cell_type": "code",
   "execution_count": 89,
   "metadata": {},
   "outputs": [],
   "source": [
    "# specify the url\n",
    "urlpage =  'http://www.fasttrack.co.uk/league-tables/tech-track-100/league-table/'"
   ]
  },
  {
   "cell_type": "code",
   "execution_count": 90,
   "metadata": {},
   "outputs": [],
   "source": [
    "page = requests.get(urlpage)"
   ]
  },
  {
   "cell_type": "code",
   "execution_count": 91,
   "metadata": {},
   "outputs": [],
   "source": [
    "soup = BeautifulSoup(page.text, 'html.parser')"
   ]
  },
  {
   "cell_type": "code",
   "execution_count": 92,
   "metadata": {},
   "outputs": [],
   "source": [
    "table = soup.find('table', class_='tableSorter')"
   ]
  },
  {
   "cell_type": "code",
   "execution_count": 93,
   "metadata": {},
   "outputs": [
    {
     "data": {
      "text/plain": [
       "3"
      ]
     },
     "execution_count": 93,
     "metadata": {},
     "output_type": "execute_result"
    }
   ],
   "source": [
    "len(table)"
   ]
  },
  {
   "cell_type": "code",
   "execution_count": 94,
   "metadata": {},
   "outputs": [
    {
     "data": {
      "text/plain": [
       "<table class=\"tableSorter\">\n",
       "<tbody>\n",
       "<tr>\n",
       "<th>Rank</th>\n",
       "<th>Company</th>\n",
       "<th class=\"\">Location</th>\n",
       "<th class=\"no-word-wrap\">Year end</th>\n",
       "<th class=\"\" style=\"text-align:right;\">Annual sales rise over 3 years</th>\n",
       "<th class=\"\" style=\"text-align:right;\">Latest sales £000s</th>\n",
       "<th class=\"\" style=\"text-align:right;\">Staff</th>\n",
       "<th class=\"\">Comment</th>\n",
       "<!--\t\t\t\t<th>FYE</th>-->\n",
       "</tr>\n",
       "<tr>\n",
       "<td>1</td>\n",
       "<td><a href=\"https://www.fasttrack.co.uk/company_profile/plan-com/\"><span class=\"company-name\">Plan.com</span></a>Communications provider</td>\n",
       "<td>Isle of Man</td>\n",
       "<td>Sep-17</td>\n",
       "<td style=\"text-align:right;\">364.38%</td>\n",
       "<td style=\"text-align:right;\">*35,418</td>\n",
       "<td style=\"text-align:right;\">90</td>\n",
       "<td>About 650 partners use its telecoms platform to support more than 100,000 UK business customers</td>\n",
       "<!--\t\t\t\t\t\t<td>Sep-17</td>-->\n",
       "</tr>\n",
       "<tr>\n",
       "<td>2</td>\n",
       "<td><a href=\"https://www.fasttrack.co.uk/company_profile/psioxus-2/\"><span class=\"company-name\">PsiOxus</span></a>Biotechnology developer</td>\n",
       "<td>Oxfordshire</td>\n",
       "<td>Dec-17</td>\n",
       "<td style=\"text-align:right;\">311.67%</td>\n",
       "<td style=\"text-align:right;\">53,136</td>\n",
       "<td style=\"text-align:right;\">54</td>\n",
       "<td>Received a $15m milestone payment from its development partner Bristol-Myers Squibb in December</td>\n",
       "<!--\t\t\t\t\t\t<td>Dec-17</td>-->\n",
       "</tr>\n",
       "<tr>\n",
       "<td>3</td>\n",
       "<td><a href=\"https://www.fasttrack.co.uk/company_profile/censornet/\"><span class=\"company-name\">CensorNet</span></a>Cloud security software developer</td>\n",
       "<td>Basingstoke</td>\n",
       "<td>Dec-17</td>\n",
       "<td style=\"text-align:right;\">210.17%</td>\n",
       "<td style=\"text-align:right;\">*7,535</td>\n",
       "<td style=\"text-align:right;\">77</td>\n",
       "<td>Has more than 4,000 customers, including McDonald’s in France and the European Central Bank</td>\n",
       "<!--\t\t\t\t\t\t<td>Dec-17</td>-->\n",
       "</tr>\n",
       "<tr>\n",
       "<td>4</td>\n",
       "<td><a href=\"https://www.fasttrack.co.uk/company_profile/thoughtonomy/\"><span class=\"company-name\">thoughtonomy</span></a>Automation software developer</td>\n",
       "<td>East London</td>\n",
       "<td>May-18</td>\n",
       "<td style=\"text-align:right;\">205.20%</td>\n",
       "<td style=\"text-align:right;\">*16,916</td>\n",
       "<td style=\"text-align:right;\">100</td>\n",
       "<td>It sells to 28 countries and 50% of revenue is generated from overseas</td>\n",
       "<!--\t\t\t\t\t\t<td>May-18</td>-->\n",
       "</tr>\n",
       "<tr>\n",
       "<td>5</td>\n",
       "<td><a href=\"https://www.fasttrack.co.uk/company_profile/perkbox-2/\"><span class=\"company-name\">Perkbox</span></a>Employee engagement services</td>\n",
       "<td>Central London</td>\n",
       "<td>Dec-17</td>\n",
       "<td style=\"text-align:right;\">204.12%</td>\n",
       "<td style=\"text-align:right;\">*34,700</td>\n",
       "<td style=\"text-align:right;\">200</td>\n",
       "<td>Acquired software platform Loyalty Bay for an undisclosed sum in November</td>\n",
       "<!--\t\t\t\t\t\t<td>Dec-17</td>-->\n",
       "</tr>\n",
       "<tr>\n",
       "<td>6</td>\n",
       "<td><a href=\"https://www.fasttrack.co.uk/company_profile/ogury/\"><span class=\"company-name\">Ogury</span></a>Mobile data marketing</td>\n",
       "<td>North London</td>\n",
       "<td>Dec-17</td>\n",
       "<td style=\"text-align:right;\">204.09%</td>\n",
       "<td style=\"text-align:right;\">33,760</td>\n",
       "<td style=\"text-align:right;\">133</td>\n",
       "<td>It has access to data from more than 400m mobile phone users in 120 countries</td>\n",
       "<!--\t\t\t\t\t\t<td>Dec-17</td>-->\n",
       "</tr>\n",
       "<tr>\n",
       "<td>7</td>\n",
       "<td><a href=\"https://www.fasttrack.co.uk/company_profile/verve/\"><span class=\"company-name\">Verve</span></a>Marketing software developer</td>\n",
       "<td>Central London</td>\n",
       "<td>Dec-17</td>\n",
       "<td style=\"text-align:right;\">202.15%</td>\n",
       "<td style=\"text-align:right;\">*10,747</td>\n",
       "<td style=\"text-align:right;\">130</td>\n",
       "<td>Its network of 25,000 ‘micro-influencers’ have sold half a million event tickets since 2014</td>\n",
       "<!--\t\t\t\t\t\t<td>Dec-17</td>-->\n",
       "</tr>\n",
       "<tr>\n",
       "<td>8</td>\n",
       "<td><a href=\"https://www.fasttrack.co.uk/company_profile/gohenry/\"><span class=\"company-name\">goHenry</span></a>Children's pre-paid card developer</td>\n",
       "<td>Central London</td>\n",
       "<td>Dec-17</td>\n",
       "<td style=\"text-align:right;\">200.87%</td>\n",
       "<td style=\"text-align:right;\">*6,116</td>\n",
       "<td style=\"text-align:right;\">61</td>\n",
       "<td>The company is named after the first child to make a transaction with one of its cards</td>\n",
       "<!--\t\t\t\t\t\t<td>Dec-17</td>-->\n",
       "</tr>\n",
       "<tr>\n",
       "<td>9</td>\n",
       "<td><a href=\"https://www.fasttrack.co.uk/company_profile/darktrace-3/\"><span class=\"company-name\">Darktrace</span></a>Cybersecurity developer</td>\n",
       "<td>Cambridge</td>\n",
       "<td>Jun-18</td>\n",
       "<td style=\"text-align:right;\">195.51%</td>\n",
       "<td style=\"text-align:right;\">*58,573</td>\n",
       "<td style=\"text-align:right;\">694</td>\n",
       "<td>Was reportedly valued at $1.25bn in April when Vitruvian Partners bought a small stake</td>\n",
       "<!--\t\t\t\t\t\t<td>Jun-18</td>-->\n",
       "</tr>\n",
       "<tr>\n",
       "<td>10</td>\n",
       "<td><a href=\"https://www.fasttrack.co.uk/company_profile/bizuma/\"><span class=\"company-name\">Bizuma</span></a>B2B e-commerce platform</td>\n",
       "<td>Central London</td>\n",
       "<td>Mar-18</td>\n",
       "<td style=\"text-align:right;\">181.75%</td>\n",
       "<td style=\"text-align:right;\">*9,608</td>\n",
       "<td style=\"text-align:right;\">48</td>\n",
       "<td>Originally founded as a flash sales website before changing direction in 2014</td>\n",
       "<!--\t\t\t\t\t\t<td>Mar-18</td>-->\n",
       "</tr>\n",
       "<tr>\n",
       "<td>11</td>\n",
       "<td><a href=\"https://www.fasttrack.co.uk/company_profile/depop/\"><span class=\"company-name\">Depop</span></a>Social shopping app</td>\n",
       "<td>Central London</td>\n",
       "<td>Dec-17</td>\n",
       "<td style=\"text-align:right;\">175.70%</td>\n",
       "<td style=\"text-align:right;\">*94,300</td>\n",
       "<td style=\"text-align:right;\">95</td>\n",
       "<td>More than 10m people use its platform to buy and sell vintage clothing</td>\n",
       "<!--\t\t\t\t\t\t<td>Dec-17</td>-->\n",
       "</tr>\n",
       "<tr>\n",
       "<td>12</td>\n",
       "<td><a href=\"https://www.fasttrack.co.uk/company_profile/laser-wire-solutions/\"><span class=\"company-name\">Laser Wire Solutions</span></a>Laser wire-stripping machinery</td>\n",
       "<td>Pontypridd</td>\n",
       "<td>Dec-17</td>\n",
       "<td style=\"text-align:right;\">173.41%</td>\n",
       "<td style=\"text-align:right;\">*5,114</td>\n",
       "<td style=\"text-align:right;\">26</td>\n",
       "<td>Swiss technology group Schleuniger took a 20% stake in 2016</td>\n",
       "<!--\t\t\t\t\t\t<td>Dec-17</td>-->\n",
       "</tr>\n",
       "<tr>\n",
       "<td>13</td>\n",
       "<td><a href=\"https://www.fasttrack.co.uk/company_profile/bought-by-many-2/\"><span class=\"company-name\">Bought By Many</span></a>Specialist insurance platform</td>\n",
       "<td>Central London</td>\n",
       "<td>Mar-18</td>\n",
       "<td style=\"text-align:right;\">170.20%</td>\n",
       "<td style=\"text-align:right;\">*19,727</td>\n",
       "<td style=\"text-align:right;\">78</td>\n",
       "<td>Launched its own travel insurance policy for people with severe medical conditions in December</td>\n",
       "<!--\t\t\t\t\t\t<td>Mar-18</td>-->\n",
       "</tr>\n",
       "<tr>\n",
       "<td>14</td>\n",
       "<td><a href=\"https://www.fasttrack.co.uk/company_profile/optal-5/\"><span class=\"company-name\">Optal</span></a>Payment services provider</td>\n",
       "<td>Central London</td>\n",
       "<td>Dec-17</td>\n",
       "<td style=\"text-align:right;\">169.29%</td>\n",
       "<td style=\"text-align:right;\">177,653</td>\n",
       "<td style=\"text-align:right;\">65</td>\n",
       "<td>Uses the Mastercard processing network to facilitate payments in 34 currencies</td>\n",
       "<!--\t\t\t\t\t\t<td>Dec-17</td>-->\n",
       "</tr>\n",
       "<tr>\n",
       "<td>15</td>\n",
       "<td><a href=\"https://www.fasttrack.co.uk/company_profile/infinox-2/\"><span class=\"company-name\">Infinox</span></a>Currency trading platform</td>\n",
       "<td>Central London</td>\n",
       "<td>Mar-18</td>\n",
       "<td style=\"text-align:right;\">155.18%</td>\n",
       "<td style=\"text-align:right;\">*41,700</td>\n",
       "<td style=\"text-align:right;\">48</td>\n",
       "<td>Provides users with an AI-generated news feed that could affect currency trades</td>\n",
       "<!--\t\t\t\t\t\t<td>Mar-18</td>-->\n",
       "</tr>\n",
       "<tr>\n",
       "<td>16</td>\n",
       "<td><a href=\"https://www.fasttrack.co.uk/company_profile/oakbrook-2/\"><span class=\"company-name\">Oakbrook</span></a>Consumer finance provider</td>\n",
       "<td>Nottingham</td>\n",
       "<td>Dec-17</td>\n",
       "<td style=\"text-align:right;\">154.54%</td>\n",
       "<td style=\"text-align:right;\">*40,400</td>\n",
       "<td style=\"text-align:right;\">98</td>\n",
       "<td>Uses machine learning to help estimate borrowers’ credit risk</td>\n",
       "<!--\t\t\t\t\t\t<td>Dec-17</td>-->\n",
       "</tr>\n",
       "<tr>\n",
       "<td>17</td>\n",
       "<td><a href=\"https://www.fasttrack.co.uk/company_profile/carwow/\"><span class=\"company-name\">Carwow</span></a>Car sales platform</td>\n",
       "<td>Central London</td>\n",
       "<td>Dec-17</td>\n",
       "<td style=\"text-align:right;\">147.21%</td>\n",
       "<td style=\"text-align:right;\">*15,276</td>\n",
       "<td style=\"text-align:right;\">127</td>\n",
       "<td>Claims its car review videos have more viewers than the hit BBC series Top Gear</td>\n",
       "<!--\t\t\t\t\t\t<td>Dec-17</td>-->\n",
       "</tr>\n",
       "<tr>\n",
       "<td>18</td>\n",
       "<td><a href=\"https://www.fasttrack.co.uk/company_profile/receipt-bank-2/\"><span class=\"company-name\">Receipt Bank</span></a>Book-keeping automation services</td>\n",
       "<td>Central London</td>\n",
       "<td>Dec-17</td>\n",
       "<td style=\"text-align:right;\">146.07%</td>\n",
       "<td style=\"text-align:right;\">*11,667</td>\n",
       "<td style=\"text-align:right;\">341</td>\n",
       "<td>Says 150,000 businesses in America, Europe and Australia use its book-keeping software</td>\n",
       "<!--\t\t\t\t\t\t<td>Dec-17</td>-->\n",
       "</tr>\n",
       "<tr>\n",
       "<td>19</td>\n",
       "<td><a href=\"https://www.fasttrack.co.uk/company_profile/db-broadcast-2/\"><span class=\"company-name\">dB Broadcast</span></a>Broadcast technology provider</td>\n",
       "<td>Cambridgeshire</td>\n",
       "<td>Sep-17</td>\n",
       "<td style=\"text-align:right;\">143.58%</td>\n",
       "<td style=\"text-align:right;\">34,943</td>\n",
       "<td style=\"text-align:right;\">50</td>\n",
       "<td>Its key customers include Sky, YouTube, Bloomberg and the BBC</td>\n",
       "<!--\t\t\t\t\t\t<td>Sep-17</td>-->\n",
       "</tr>\n",
       "<tr>\n",
       "<td>20</td>\n",
       "<td><a href=\"https://www.fasttrack.co.uk/company_profile/the-car-buying-group/\"><span class=\"company-name\">The Car Buying Group</span></a>Car sales platform</td>\n",
       "<td>Wakefield</td>\n",
       "<td>Mar-18</td>\n",
       "<td style=\"text-align:right;\">140.89%</td>\n",
       "<td style=\"text-align:right;\">*39,140</td>\n",
       "<td style=\"text-align:right;\">31</td>\n",
       "<td>Runs a free nationwide doorstep vehicle collection service</td>\n",
       "<!--\t\t\t\t\t\t<td>Mar-18</td>-->\n",
       "</tr>\n",
       "<tr>\n",
       "<td>21</td>\n",
       "<td><a href=\"https://www.fasttrack.co.uk/company_profile/festicket-2/\"><span class=\"company-name\">Festicket</span></a>Festival booking platform</td>\n",
       "<td>Central London</td>\n",
       "<td>Dec-17</td>\n",
       "<td style=\"text-align:right;\">139.86%</td>\n",
       "<td style=\"text-align:right;\">35,839</td>\n",
       "<td style=\"text-align:right;\">88</td>\n",
       "<td>Sells tickets and packages to more than 1,000 festivals worldwide</td>\n",
       "<!--\t\t\t\t\t\t<td>Dec-17</td>-->\n",
       "</tr>\n",
       "<tr>\n",
       "<td>22</td>\n",
       "<td><a href=\"https://www.fasttrack.co.uk/company_profile/planixs/\"><span class=\"company-name\">Planixs</span></a>Software developer</td>\n",
       "<td>Manchester</td>\n",
       "<td>Mar-17</td>\n",
       "<td style=\"text-align:right;\">133.70%</td>\n",
       "<td style=\"text-align:right;\">*7,240</td>\n",
       "<td style=\"text-align:right;\">67</td>\n",
       "<td>More than £200bn worth of transactions have been analysed using its systems</td>\n",
       "<!--\t\t\t\t\t\t<td>Mar-17</td>-->\n",
       "</tr>\n",
       "<tr>\n",
       "<td>23</td>\n",
       "<td><a href=\"https://www.fasttrack.co.uk/company_profile/gigaclear/\"><span class=\"company-name\">Gigaclear</span></a>Internet services provider</td>\n",
       "<td>Oxfordshire</td>\n",
       "<td>Dec-17</td>\n",
       "<td style=\"text-align:right;\">130.17%</td>\n",
       "<td style=\"text-align:right;\">7,402</td>\n",
       "<td style=\"text-align:right;\">210</td>\n",
       "<td>Has connected more than 16,000 rural customers to broadband in 22 counties</td>\n",
       "<!--\t\t\t\t\t\t<td>Dec-17</td>-->\n",
       "</tr>\n",
       "<tr>\n",
       "<td>24</td>\n",
       "<td><a href=\"https://www.fasttrack.co.uk/company_profile/transferwise-4/\"><span class=\"company-name\">TransferWise</span></a>Currency transfer provider</td>\n",
       "<td>East London</td>\n",
       "<td>Mar-18</td>\n",
       "<td style=\"text-align:right;\">129.39%</td>\n",
       "<td style=\"text-align:right;\">*117,283</td>\n",
       "<td style=\"text-align:right;\">1000</td>\n",
       "<td>Was valued at $1.6bn in November after it raised $280m, taking its funding total to $396m</td>\n",
       "<!--\t\t\t\t\t\t<td>Mar-18</td>-->\n",
       "</tr>\n",
       "<tr>\n",
       "<td>25</td>\n",
       "<td><a href=\"https://www.fasttrack.co.uk/company_profile/patsnap/\"><span class=\"company-name\">PatSnap</span></a>R&amp;D data platform</td>\n",
       "<td>West London</td>\n",
       "<td>Dec-17</td>\n",
       "<td style=\"text-align:right;\">126.18%</td>\n",
       "<td style=\"text-align:right;\">*17,977</td>\n",
       "<td style=\"text-align:right;\">752</td>\n",
       "<td>Has raised more than $100m from investors including Sequoia and Shunwei Capital</td>\n",
       "<!--\t\t\t\t\t\t<td>Dec-17</td>-->\n",
       "</tr>\n",
       "<tr>\n",
       "<td>26</td>\n",
       "<td><a href=\"https://www.fasttrack.co.uk/company_profile/hyperoptic-2/\"><span class=\"company-name\">Hyperoptic</span></a>Internet services provider</td>\n",
       "<td>West London</td>\n",
       "<td>Dec-17</td>\n",
       "<td style=\"text-align:right;\">119.90%</td>\n",
       "<td style=\"text-align:right;\">16,572</td>\n",
       "<td style=\"text-align:right;\">411</td>\n",
       "<td>Aims to provide superfast broadband to more than 2m homes by 2022</td>\n",
       "<!--\t\t\t\t\t\t<td>Dec-17</td>-->\n",
       "</tr>\n",
       "<tr>\n",
       "<td>27</td>\n",
       "<td><a href=\"https://www.fasttrack.co.uk/company_profile/gocardless-2/\"><span class=\"company-name\">GoCardless</span></a>Payment services provider</td>\n",
       "<td>Central London</td>\n",
       "<td>Dec-17</td>\n",
       "<td style=\"text-align:right;\">112.99%</td>\n",
       "<td style=\"text-align:right;\">*11,896</td>\n",
       "<td style=\"text-align:right;\">165</td>\n",
       "<td>International expansion plans include targeting Australia, New Zealand, Canada and the US</td>\n",
       "<!--\t\t\t\t\t\t<td>Dec-17</td>-->\n",
       "</tr>\n",
       "<tr>\n",
       "<td>28</td>\n",
       "<td><a href=\"https://www.fasttrack.co.uk/company_profile/purple/\"><span class=\"company-name\">Purple</span></a>Wifi services provider</td>\n",
       "<td>Oldham</td>\n",
       "<td>Jan-18</td>\n",
       "<td style=\"text-align:right;\">112.88%</td>\n",
       "<td style=\"text-align:right;\">*5,586</td>\n",
       "<td style=\"text-align:right;\">93</td>\n",
       "<td>Its technology is used in every public airport in Spain and in a 21,000-capacity stadium in Miami</td>\n",
       "<!--\t\t\t\t\t\t<td>Jan-18</td>-->\n",
       "</tr>\n",
       "<tr>\n",
       "<td>29</td>\n",
       "<td><a href=\"https://www.fasttrack.co.uk/company_profile/trustpay-global/\"><span class=\"company-name\">Trustpay Global</span></a>Online payment provider</td>\n",
       "<td>Guildford</td>\n",
       "<td>Mar-18</td>\n",
       "<td style=\"text-align:right;\">110.45%</td>\n",
       "<td style=\"text-align:right;\">*9,796</td>\n",
       "<td style=\"text-align:right;\">25</td>\n",
       "<td>The Premier Lotto in Nigeria uses the company’s platform to prevent money laundering</td>\n",
       "<!--\t\t\t\t\t\t<td>Mar-18</td>-->\n",
       "</tr>\n",
       "<tr>\n",
       "<td>30</td>\n",
       "<td><a href=\"https://www.fasttrack.co.uk/company_profile/iwoca-2/\"><span class=\"company-name\">iwoca</span></a>Business finance provider</td>\n",
       "<td>Central London</td>\n",
       "<td>Dec-17</td>\n",
       "<td style=\"text-align:right;\">109.27%</td>\n",
       "<td style=\"text-align:right;\">*25,000</td>\n",
       "<td style=\"text-align:right;\">200</td>\n",
       "<td>Its 140 employees include three former Olympians</td>\n",
       "<!--\t\t\t\t\t\t<td>Dec-17</td>-->\n",
       "</tr>\n",
       "<tr>\n",
       "<td>31</td>\n",
       "<td><a href=\"https://www.fasttrack.co.uk/company_profile/ladbible-group-2/\"><span class=\"company-name\">LADBible Group</span></a>Online entertainment community</td>\n",
       "<td>Manchester</td>\n",
       "<td>Dec-17</td>\n",
       "<td style=\"text-align:right;\">108.91%</td>\n",
       "<td style=\"text-align:right;\">*15,500</td>\n",
       "<td style=\"text-align:right;\">133</td>\n",
       "<td>Claims its flagship brand reaches more than half of all millennials in the UK every month</td>\n",
       "<!--\t\t\t\t\t\t<td>Dec-17</td>-->\n",
       "</tr>\n",
       "<tr>\n",
       "<td>32</td>\n",
       "<td><a href=\"https://www.fasttrack.co.uk/company_profile/threads-styling-2/\"><span class=\"company-name\">Threads Styling</span></a>Online fashion services</td>\n",
       "<td>East London</td>\n",
       "<td>Dec-17</td>\n",
       "<td style=\"text-align:right;\">107.88%</td>\n",
       "<td style=\"text-align:right;\">*12,672</td>\n",
       "<td style=\"text-align:right;\">55</td>\n",
       "<td>Some three-quarters of its sales are to fashionistas in the Middle East</td>\n",
       "<!--\t\t\t\t\t\t<td>Dec-17</td>-->\n",
       "</tr>\n",
       "<tr>\n",
       "<td>33</td>\n",
       "<td><a href=\"https://www.fasttrack.co.uk/company_profile/prodigy-finance-2/\"><span class=\"company-name\">Prodigy Finance</span></a>Student finance provider</td>\n",
       "<td>Central London</td>\n",
       "<td>Dec-17</td>\n",
       "<td style=\"text-align:right;\">105.94%</td>\n",
       "<td style=\"text-align:right;\">*10,273</td>\n",
       "<td style=\"text-align:right;\">133</td>\n",
       "<td>More than 10,000 students have used its platform to fund their postgraduate studies</td>\n",
       "<!--\t\t\t\t\t\t<td>Dec-17</td>-->\n",
       "</tr>\n",
       "<tr>\n",
       "<td>34</td>\n",
       "<td><a href=\"https://www.fasttrack.co.uk/company_profile/azimo/\"><span class=\"company-name\">Azimo</span></a>Online money transfers</td>\n",
       "<td>Central London</td>\n",
       "<td>Jun-17</td>\n",
       "<td style=\"text-align:right;\">103.79%</td>\n",
       "<td style=\"text-align:right;\">5,870</td>\n",
       "<td style=\"text-align:right;\">115</td>\n",
       "<td>Recently launched its international money transfer service for businesses</td>\n",
       "<!--\t\t\t\t\t\t<td>Jun-17</td>-->\n",
       "</tr>\n",
       "<tr>\n",
       "<td>35</td>\n",
       "<td><a href=\"https://www.fasttrack.co.uk/company_profile/chameleon-2/\"><span class=\"company-name\">Chameleon</span></a>Smart energy monitoring</td>\n",
       "<td>Harrogate</td>\n",
       "<td>Dec-17</td>\n",
       "<td style=\"text-align:right;\">101.10%</td>\n",
       "<td style=\"text-align:right;\">19,890</td>\n",
       "<td style=\"text-align:right;\">32</td>\n",
       "<td>About 2.5m of its energy display units have been installed in UK homes</td>\n",
       "<!--\t\t\t\t\t\t<td>Dec-17</td>-->\n",
       "</tr>\n",
       "<tr>\n",
       "<td>36</td>\n",
       "<td><a href=\"https://www.fasttrack.co.uk/company_profile/superawesome-2/\"><span class=\"company-name\">SuperAwesome</span></a>Children's privacy protection</td>\n",
       "<td>Central London</td>\n",
       "<td>Dec-17</td>\n",
       "<td style=\"text-align:right;\">97.91%</td>\n",
       "<td style=\"text-align:right;\">*14,935</td>\n",
       "<td style=\"text-align:right;\">130</td>\n",
       "<td>Last month it signed a deal with Pokémon Go, allowing parents to manage their child’s privacy settings</td>\n",
       "<!--\t\t\t\t\t\t<td>Dec-17</td>-->\n",
       "</tr>\n",
       "<tr>\n",
       "<td>37</td>\n",
       "<td><a href=\"https://www.fasttrack.co.uk/company_profile/gousto/\"><span class=\"company-name\">Gousto</span></a>Meal kit delivery services</td>\n",
       "<td>West London</td>\n",
       "<td>Dec-17</td>\n",
       "<td style=\"text-align:right;\">97.32%</td>\n",
       "<td style=\"text-align:right;\">*23,300</td>\n",
       "<td style=\"text-align:right;\">400</td>\n",
       "<td>Aims to provide the ingredients for 400m meals in UK homes by 2025</td>\n",
       "<!--\t\t\t\t\t\t<td>Dec-17</td>-->\n",
       "</tr>\n",
       "<tr>\n",
       "<td>38</td>\n",
       "<td><a href=\"https://www.fasttrack.co.uk/company_profile/vizolution/\"><span class=\"company-name\">Vizolution</span></a>Business software developer</td>\n",
       "<td>Swansea</td>\n",
       "<td>Dec-17</td>\n",
       "<td style=\"text-align:right;\">94.99%</td>\n",
       "<td style=\"text-align:right;\">*6,965</td>\n",
       "<td style=\"text-align:right;\">118</td>\n",
       "<td>Its DigiDocs software lets RBS customers complete mortgage applications digitally</td>\n",
       "<!--\t\t\t\t\t\t<td>Dec-17</td>-->\n",
       "</tr>\n",
       "<tr>\n",
       "<td>39</td>\n",
       "<td><a href=\"https://www.fasttrack.co.uk/company_profile/movegb/\"><span class=\"company-name\">MoveGB</span></a>Activity membership</td>\n",
       "<td>Bath</td>\n",
       "<td>Dec-17</td>\n",
       "<td style=\"text-align:right;\">94.93%</td>\n",
       "<td style=\"text-align:right;\">*5,029</td>\n",
       "<td style=\"text-align:right;\">41</td>\n",
       "<td>Has 300,000 subscribers gaining access to more than 6,000 fitness venues</td>\n",
       "<!--\t\t\t\t\t\t<td>Dec-17</td>-->\n",
       "</tr>\n",
       "<tr>\n",
       "<td>40</td>\n",
       "<td><a href=\"https://www.fasttrack.co.uk/company_profile/bboxx-3/\"><span class=\"company-name\">BBOXX</span></a>Solar system manufacturer</td>\n",
       "<td>West London</td>\n",
       "<td>Dec-17</td>\n",
       "<td style=\"text-align:right;\">93.35%</td>\n",
       "<td style=\"text-align:right;\">*20,416</td>\n",
       "<td style=\"text-align:right;\">443</td>\n",
       "<td>Has raised almost $70m in venture funding and debt financing</td>\n",
       "<!--\t\t\t\t\t\t<td>Dec-17</td>-->\n",
       "</tr>\n",
       "<tr>\n",
       "<td>41</td>\n",
       "<td><a href=\"https://www.fasttrack.co.uk/company_profile/funding-circle-4/\"><span class=\"company-name\">Funding Circle</span></a>Peer-to-peer lending platform</td>\n",
       "<td>Central London</td>\n",
       "<td>Dec-17</td>\n",
       "<td style=\"text-align:right;\">93.21%</td>\n",
       "<td style=\"text-align:right;\">*94,500</td>\n",
       "<td style=\"text-align:right;\">790</td>\n",
       "<td>Is planning an IPO in London this autumn that will value it at more than £1.5bn </td>\n",
       "<!--\t\t\t\t\t\t<td>Dec-17</td>-->\n",
       "</tr>\n",
       "<tr>\n",
       "<td>42</td>\n",
       "<td><a href=\"https://www.fasttrack.co.uk/company_profile/loopme-2/\"><span class=\"company-name\">LoopMe</span></a>Advertising technology developer</td>\n",
       "<td>Central London</td>\n",
       "<td>Dec-17</td>\n",
       "<td style=\"text-align:right;\">93.04%</td>\n",
       "<td style=\"text-align:right;\">24,493</td>\n",
       "<td style=\"text-align:right;\">91</td>\n",
       "<td>Says its AI technology reaches 2bn devices around the world</td>\n",
       "<!--\t\t\t\t\t\t<td>Dec-17</td>-->\n",
       "</tr>\n",
       "<tr>\n",
       "<td>43</td>\n",
       "<td><a href=\"https://www.fasttrack.co.uk/company_profile/kano-3/\"><span class=\"company-name\">Kano</span></a>Educational computer developer</td>\n",
       "<td>East London</td>\n",
       "<td>Dec-17</td>\n",
       "<td style=\"text-align:right;\">91.81%</td>\n",
       "<td style=\"text-align:right;\">*13,000</td>\n",
       "<td style=\"text-align:right;\">60</td>\n",
       "<td>Has customers in 150 countries and aims to have 100m global users by 2020</td>\n",
       "<!--\t\t\t\t\t\t<td>Dec-17</td>-->\n",
       "</tr>\n",
       "<tr>\n",
       "<td>44</td>\n",
       "<td><a href=\"https://www.fasttrack.co.uk/company_profile/capital-on-tap-2/\"><span class=\"company-name\">Capital on Tap</span></a>Business finance provider</td>\n",
       "<td>West London</td>\n",
       "<td>Mar-18</td>\n",
       "<td style=\"text-align:right;\">88.73%</td>\n",
       "<td style=\"text-align:right;\">17,318</td>\n",
       "<td style=\"text-align:right;\">56</td>\n",
       "<td>This company’s founders also set up Paymentsense, No 91 in the league table</td>\n",
       "<!--\t\t\t\t\t\t<td>Mar-18</td>-->\n",
       "</tr>\n",
       "<tr>\n",
       "<td>45</td>\n",
       "<td><a href=\"https://www.fasttrack.co.uk/company_profile/hutch/\"><span class=\"company-name\">Hutch</span></a>Video games developer</td>\n",
       "<td>Central London</td>\n",
       "<td>Sep-17</td>\n",
       "<td style=\"text-align:right;\">88.63%</td>\n",
       "<td style=\"text-align:right;\">*8,766 (2017)</td>\n",
       "<td style=\"text-align:right;\">51</td>\n",
       "<td>Its Hot Wheels Race Off game has been played in 190 countries including Antarctica and Vatican City</td>\n",
       "<!--\t\t\t\t\t\t<td>Sep-17</td>-->\n",
       "</tr>\n",
       "<tr>\n",
       "<td>46</td>\n",
       "<td><a href=\"https://www.fasttrack.co.uk/company_profile/ensek/\"><span class=\"company-name\">ENSEK</span></a>Energy software developer</td>\n",
       "<td>Nottingham</td>\n",
       "<td>Mar-18</td>\n",
       "<td style=\"text-align:right;\">87.56%</td>\n",
       "<td style=\"text-align:right;\">*6,161</td>\n",
       "<td style=\"text-align:right;\">110</td>\n",
       "<td>A fifth of the UK’s energy suppliers are said to use this company’s software</td>\n",
       "<!--\t\t\t\t\t\t<td>Mar-18</td>-->\n",
       "</tr>\n",
       "<tr>\n",
       "<td>47</td>\n",
       "<td><a href=\"https://www.fasttrack.co.uk/company_profile/miq-3/\"><span class=\"company-name\">MiQ</span></a>Digital marketing agency</td>\n",
       "<td>Central London</td>\n",
       "<td>Dec-17</td>\n",
       "<td style=\"text-align:right;\">87.36%</td>\n",
       "<td style=\"text-align:right;\">*155,876</td>\n",
       "<td style=\"text-align:right;\">561</td>\n",
       "<td>Relocated its New York base in April, tripling its office space</td>\n",
       "<!--\t\t\t\t\t\t<td>Dec-17</td>-->\n",
       "</tr>\n",
       "<tr>\n",
       "<td>48</td>\n",
       "<td><a href=\"https://www.fasttrack.co.uk/company_profile/starleaf-2/\"><span class=\"company-name\">StarLeaf</span></a>Video conferencing platform</td>\n",
       "<td>Watford</td>\n",
       "<td>Dec-17</td>\n",
       "<td style=\"text-align:right;\">86.89%</td>\n",
       "<td style=\"text-align:right;\">11,427</td>\n",
       "<td style=\"text-align:right;\">133</td>\n",
       "<td>Its founders set up the Tech Track 100 alumnus Codian and sold it for $270m in 2007</td>\n",
       "<!--\t\t\t\t\t\t<td>Dec-17</td>-->\n",
       "</tr>\n",
       "<tr>\n",
       "<td>49</td>\n",
       "<td><a href=\"https://www.fasttrack.co.uk/company_profile/bigchange/\"><span class=\"company-name\">BigChange</span></a>Management software developer</td>\n",
       "<td>Leeds</td>\n",
       "<td>Dec-17</td>\n",
       "<td style=\"text-align:right;\">86.45%</td>\n",
       "<td style=\"text-align:right;\">*6,566</td>\n",
       "<td style=\"text-align:right;\">41</td>\n",
       "<td>Last year its technology saved 15m sheets of paper and facilitated 9m tasks</td>\n",
       "<!--\t\t\t\t\t\t<td>Dec-17</td>-->\n",
       "</tr>\n",
       "<tr>\n",
       "<td>50</td>\n",
       "<td><a href=\"https://www.fasttrack.co.uk/company_profile/the-lead-agency/\"><span class=\"company-name\">The Lead Agency</span></a>Lead generation developer</td>\n",
       "<td>Liverpool</td>\n",
       "<td>Dec-17</td>\n",
       "<td style=\"text-align:right;\">80.38%</td>\n",
       "<td style=\"text-align:right;\">†6,383</td>\n",
       "<td style=\"text-align:right;\">96</td>\n",
       "<td>Works with every large automotive brand in the UK</td>\n",
       "<!--\t\t\t\t\t\t<td>Dec-17</td>-->\n",
       "</tr>\n",
       "<tr>\n",
       "<td>51</td>\n",
       "<td><a href=\"https://www.fasttrack.co.uk/company_profile/unidays-3/\"><span class=\"company-name\">UNiDAYS</span></a>Student verification services</td>\n",
       "<td>Nottingham</td>\n",
       "<td>Apr-18</td>\n",
       "<td style=\"text-align:right;\">80.03%</td>\n",
       "<td style=\"text-align:right;\">*27,400</td>\n",
       "<td style=\"text-align:right;\">210</td>\n",
       "<td>Connects brands with 10m students in 114 countries</td>\n",
       "<!--\t\t\t\t\t\t<td>Apr-18</td>-->\n",
       "</tr>\n",
       "<tr>\n",
       "<td>52</td>\n",
       "<td><a href=\"https://www.fasttrack.co.uk/company_profile/farfetch-3/\"><span class=\"company-name\">Farfetch</span></a>Online fashion platform</td>\n",
       "<td>East London</td>\n",
       "<td>Dec-17</td>\n",
       "<td style=\"text-align:right;\">78.31%</td>\n",
       "<td style=\"text-align:right;\">*299,812</td>\n",
       "<td style=\"text-align:right;\">2,700</td>\n",
       "<td>Has announced plans to float in the US with a reported $5bn valuation</td>\n",
       "<!--\t\t\t\t\t\t<td>Dec-17</td>-->\n",
       "</tr>\n",
       "<tr>\n",
       "<td>53</td>\n",
       "<td><a href=\"https://www.fasttrack.co.uk/company_profile/assetz-capital/\"><span class=\"company-name\">Assetz Capital</span></a>Peer-to-peer lending platform</td>\n",
       "<td>Manchester</td>\n",
       "<td>Mar-18</td>\n",
       "<td style=\"text-align:right;\">77.91%</td>\n",
       "<td style=\"text-align:right;\">*13,700</td>\n",
       "<td style=\"text-align:right;\">98</td>\n",
       "<td>Has funded the construction of 1,800 new homes since 2013</td>\n",
       "<!--\t\t\t\t\t\t<td>Mar-18</td>-->\n",
       "</tr>\n",
       "<tr>\n",
       "<td>54</td>\n",
       "<td><a href=\"https://www.fasttrack.co.uk/company_profile/ipulse-3/\"><span class=\"company-name\">iPulse</span></a>Hair removal technology</td>\n",
       "<td>Swansea</td>\n",
       "<td>Dec-17</td>\n",
       "<td style=\"text-align:right;\">77.12%</td>\n",
       "<td style=\"text-align:right;\">*32,874</td>\n",
       "<td style=\"text-align:right;\">39</td>\n",
       "<td>Almost 95% of its hair removal devices are sold overseas</td>\n",
       "<!--\t\t\t\t\t\t<td>Dec-17</td>-->\n",
       "</tr>\n",
       "<tr>\n",
       "<td>55</td>\n",
       "<td><a href=\"https://www.fasttrack.co.uk/company_profile/giacom-2/\"><span class=\"company-name\">Giacom</span></a>Cloud services provider</td>\n",
       "<td>Hull</td>\n",
       "<td>Jul-17</td>\n",
       "<td style=\"text-align:right;\">76.14%</td>\n",
       "<td style=\"text-align:right;\">13,883</td>\n",
       "<td style=\"text-align:right;\">49</td>\n",
       "<td>It now reaches more than 500,000 end users across the UK</td>\n",
       "<!--\t\t\t\t\t\t<td>Jul-17</td>-->\n",
       "</tr>\n",
       "<tr>\n",
       "<td>56</td>\n",
       "<td><a href=\"https://www.fasttrack.co.uk/company_profile/arcus-global/\"><span class=\"company-name\">Arcus Global</span></a>Cloud IT developer</td>\n",
       "<td>Cambridge</td>\n",
       "<td>Jun-17</td>\n",
       "<td style=\"text-align:right;\">75.57%</td>\n",
       "<td style=\"text-align:right;\">*9,681</td>\n",
       "<td style=\"text-align:right;\">110</td>\n",
       "<td>In May it secured a £3m investment from the private equity firm YFM, valuing it at £27m</td>\n",
       "<!--\t\t\t\t\t\t<td>Jun-17</td>-->\n",
       "</tr>\n",
       "<tr>\n",
       "<td>57</td>\n",
       "<td><a href=\"https://www.fasttrack.co.uk/company_profile/disguise/\"><span class=\"company-name\">disguise</span></a>Live event technology provider</td>\n",
       "<td>Central London</td>\n",
       "<td>Dec-17</td>\n",
       "<td style=\"text-align:right;\">75.46%</td>\n",
       "<td style=\"text-align:right;\">*17,971</td>\n",
       "<td style=\"text-align:right;\">59</td>\n",
       "<td>Customers include the likes of Disney and Universal Studios</td>\n",
       "<!--\t\t\t\t\t\t<td>Dec-17</td>-->\n",
       "</tr>\n",
       "<tr>\n",
       "<td>58</td>\n",
       "<td><a href=\"https://www.fasttrack.co.uk/company_profile/tech21-7/\"><span class=\"company-name\">Tech21</span></a>Device impact protection maker</td>\n",
       "<td>Southwest London</td>\n",
       "<td>May-17</td>\n",
       "<td style=\"text-align:right;\">75.34%</td>\n",
       "<td style=\"text-align:right;\">121,576</td>\n",
       "<td style=\"text-align:right;\">81</td>\n",
       "<td>Became an inaugural member of Google’s certified accessories programme last year</td>\n",
       "<!--\t\t\t\t\t\t<td>May-17</td>-->\n",
       "</tr>\n",
       "<tr>\n",
       "<td>59</td>\n",
       "<td><a href=\"https://www.fasttrack.co.uk/company_profile/victor-5/\"><span class=\"company-name\">Victor</span></a>Online private jet hire</td>\n",
       "<td>Central London</td>\n",
       "<td>Dec-17</td>\n",
       "<td style=\"text-align:right;\">74.13%</td>\n",
       "<td style=\"text-align:right;\">*41,508</td>\n",
       "<td style=\"text-align:right;\">113</td>\n",
       "<td>Counts Sir Elton John among its investors</td>\n",
       "<!--\t\t\t\t\t\t<td>Dec-17</td>-->\n",
       "</tr>\n",
       "<tr>\n",
       "<td>60</td>\n",
       "<td><a href=\"https://www.fasttrack.co.uk/company_profile/cinesite-2/\"><span class=\"company-name\">Cinesite</span></a>Visual effects and animation</td>\n",
       "<td>Central London</td>\n",
       "<td>Apr-17</td>\n",
       "<td style=\"text-align:right;\">74.11%</td>\n",
       "<td style=\"text-align:right;\">43,888</td>\n",
       "<td style=\"text-align:right;\">699</td>\n",
       "<td>Is producing visual effects for Mary Poppins Returns and the Marvel franchise</td>\n",
       "<!--\t\t\t\t\t\t<td>Apr-17</td>-->\n",
       "</tr>\n",
       "<tr>\n",
       "<td>61</td>\n",
       "<td><a href=\"https://www.fasttrack.co.uk/company_profile/biosite-systems/\"><span class=\"company-name\">Biosite Systems</span></a>Workforce management software</td>\n",
       "<td>Solihull</td>\n",
       "<td>Jul-17</td>\n",
       "<td style=\"text-align:right;\">74.04%</td>\n",
       "<td style=\"text-align:right;\">*6,401</td>\n",
       "<td style=\"text-align:right;\">117</td>\n",
       "<td>More than 200,000 of the UK’s construction workers are registered on its systems</td>\n",
       "<!--\t\t\t\t\t\t<td>Jul-17</td>-->\n",
       "</tr>\n",
       "<tr>\n",
       "<td>62</td>\n",
       "<td><a href=\"https://www.fasttrack.co.uk/company_profile/ecometrica/\"><span class=\"company-name\">Ecometrica</span></a>Environmental reporting software</td>\n",
       "<td>Edinburgh</td>\n",
       "<td>Mar-18</td>\n",
       "<td style=\"text-align:right;\">71.67%</td>\n",
       "<td style=\"text-align:right;\">5,496</td>\n",
       "<td style=\"text-align:right;\">40</td>\n",
       "<td>Helps 250 companies on five continents to manage their environmental impacts</td>\n",
       "<!--\t\t\t\t\t\t<td>Mar-18</td>-->\n",
       "</tr>\n",
       "<tr>\n",
       "<td>63</td>\n",
       "<td><a href=\"https://www.fasttrack.co.uk/company_profile/qualasept-pharmaxo-3/\"><span class=\"company-name\">Qualasept Pharmaxo</span></a>Pharmaceuticals manufacturer</td>\n",
       "<td>Wiltshire</td>\n",
       "<td>Apr-17</td>\n",
       "<td style=\"text-align:right;\">70.89%</td>\n",
       "<td style=\"text-align:right;\">152,744</td>\n",
       "<td style=\"text-align:right;\">156</td>\n",
       "<td>Its manufacturing facility and offices have a zero carbon footprint</td>\n",
       "<!--\t\t\t\t\t\t<td>Apr-17</td>-->\n",
       "</tr>\n",
       "<tr>\n",
       "<td>64</td>\n",
       "<td><a href=\"https://www.fasttrack.co.uk/company_profile/edesix/\"><span class=\"company-name\">Edesix</span></a>Body camera manufacturer</td>\n",
       "<td>Edinburgh</td>\n",
       "<td>Dec-17</td>\n",
       "<td style=\"text-align:right;\">70.52%</td>\n",
       "<td style=\"text-align:right;\">*5,900</td>\n",
       "<td style=\"text-align:right;\">47</td>\n",
       "<td>Founders Richie McBride and Robin Iddon competed on the TV show Robot Wars</td>\n",
       "<!--\t\t\t\t\t\t<td>Dec-17</td>-->\n",
       "</tr>\n",
       "<tr>\n",
       "<td>65</td>\n",
       "<td><a href=\"https://www.fasttrack.co.uk/company_profile/lendinvest-3/\"><span class=\"company-name\">LendInvest</span></a>Property finance provider</td>\n",
       "<td>Central London</td>\n",
       "<td>Mar-18</td>\n",
       "<td style=\"text-align:right;\">70.13%</td>\n",
       "<td style=\"text-align:right;\">35,617</td>\n",
       "<td style=\"text-align:right;\">128</td>\n",
       "<td>Has facilitated more than £1.4bn of property loans</td>\n",
       "<!--\t\t\t\t\t\t<td>Mar-18</td>-->\n",
       "</tr>\n",
       "<tr>\n",
       "<td>66</td>\n",
       "<td><a href=\"https://www.fasttrack.co.uk/company_profile/e3d-online/\"><span class=\"company-name\">E3D Online</span></a>3D printer developer</td>\n",
       "<td>Oxfordshire</td>\n",
       "<td>Apr-18</td>\n",
       "<td style=\"text-align:right;\">69.08%</td>\n",
       "<td style=\"text-align:right;\">*5,800</td>\n",
       "<td style=\"text-align:right;\">41</td>\n",
       "<td>Has grown its exports to account for 75% of its total sales</td>\n",
       "<!--\t\t\t\t\t\t<td>Apr-18</td>-->\n",
       "</tr>\n",
       "<tr>\n",
       "<td>67</td>\n",
       "<td><a href=\"https://www.fasttrack.co.uk/company_profile/lyst-2/\"><span class=\"company-name\">Lyst</span></a>Fashion search platform</td>\n",
       "<td>East London</td>\n",
       "<td>Mar-18</td>\n",
       "<td style=\"text-align:right;\">68.34%</td>\n",
       "<td style=\"text-align:right;\">*15,300</td>\n",
       "<td style=\"text-align:right;\">100</td>\n",
       "<td>LVMH, the owner of Christian Dior and Louis Vuitton, invested an undisclosed amount in May</td>\n",
       "<!--\t\t\t\t\t\t<td>Mar-18</td>-->\n",
       "</tr>\n",
       "<tr>\n",
       "<td>68</td>\n",
       "<td><a href=\"https://www.fasttrack.co.uk/company_profile/diaceutics/\"><span class=\"company-name\">Diaceutics</span></a>Medtech research provider</td>\n",
       "<td>Belfast</td>\n",
       "<td>Dec-17</td>\n",
       "<td style=\"text-align:right;\">67.80%</td>\n",
       "<td style=\"text-align:right;\">*7,390</td>\n",
       "<td style=\"text-align:right;\">57</td>\n",
       "<td>Works with 31 of the top 35 pharmaceutical companies in the world</td>\n",
       "<!--\t\t\t\t\t\t<td>Dec-17</td>-->\n",
       "</tr>\n",
       "<tr>\n",
       "<td>69</td>\n",
       "<td><a href=\"https://www.fasttrack.co.uk/company_profile/amplience/\"><span class=\"company-name\">Amplience</span></a>Digital media technology</td>\n",
       "<td>Central London</td>\n",
       "<td>Jun-17</td>\n",
       "<td style=\"text-align:right;\">66.25%</td>\n",
       "<td style=\"text-align:right;\">*8,147</td>\n",
       "<td style=\"text-align:right;\">85</td>\n",
       "<td>Helps retailers such as Argos and Mulberry to create and manage online content</td>\n",
       "<!--\t\t\t\t\t\t<td>Jun-17</td>-->\n",
       "</tr>\n",
       "<tr>\n",
       "<td>70</td>\n",
       "<td><a href=\"https://www.fasttrack.co.uk/company_profile/glucorx/\"><span class=\"company-name\">GlucoRx</span></a>Diabetes product manufacturer</td>\n",
       "<td>Woking</td>\n",
       "<td>Mar-17</td>\n",
       "<td style=\"text-align:right;\">65.52%</td>\n",
       "<td style=\"text-align:right;\">24,885</td>\n",
       "<td style=\"text-align:right;\">26</td>\n",
       "<td>Claims to have saved the NHS £150m in the past three years</td>\n",
       "<!--\t\t\t\t\t\t<td>Mar-17</td>-->\n",
       "</tr>\n",
       "<tr>\n",
       "<td>71</td>\n",
       "<td><a href=\"https://www.fasttrack.co.uk/company_profile/love-energy-savings-2/\"><span class=\"company-name\">Love Energy Savings</span></a>Price comparison website</td>\n",
       "<td>Bolton</td>\n",
       "<td>Dec-17</td>\n",
       "<td style=\"text-align:right;\">64.26%</td>\n",
       "<td style=\"text-align:right;\">17,361</td>\n",
       "<td style=\"text-align:right;\">183</td>\n",
       "<td>Has helped 145,000 UK homes and businesses save on energy costs since 2007</td>\n",
       "<!--\t\t\t\t\t\t<td>Dec-17</td>-->\n",
       "</tr>\n",
       "<tr>\n",
       "<td>72</td>\n",
       "<td><a href=\"https://www.fasttrack.co.uk/company_profile/creative-virtual/\"><span class=\"company-name\">Creative Virtual</span></a>Chatbot developer</td>\n",
       "<td>East London</td>\n",
       "<td>Dec-17</td>\n",
       "<td style=\"text-align:right;\">63.30%</td>\n",
       "<td style=\"text-align:right;\">*8,400</td>\n",
       "<td style=\"text-align:right;\">99</td>\n",
       "<td>Its trademarked chatbot can be used through Facebook Messenger and Amazon Alexa</td>\n",
       "<!--\t\t\t\t\t\t<td>Dec-17</td>-->\n",
       "</tr>\n",
       "<tr>\n",
       "<td>73</td>\n",
       "<td><a href=\"https://www.fasttrack.co.uk/company_profile/ebury-4/\"><span class=\"company-name\">Ebury</span></a>Business finance provider</td>\n",
       "<td>Central London</td>\n",
       "<td>Apr-18</td>\n",
       "<td style=\"text-align:right;\">62.77%</td>\n",
       "<td style=\"text-align:right;\">*47,000</td>\n",
       "<td style=\"text-align:right;\">628</td>\n",
       "<td>Has traded £12.5bn in foreign exchange in 140 different currencies</td>\n",
       "<!--\t\t\t\t\t\t<td>Apr-18</td>-->\n",
       "</tr>\n",
       "<tr>\n",
       "<td>74</td>\n",
       "<td><a href=\"https://www.fasttrack.co.uk/company_profile/zappistore-2/\"><span class=\"company-name\">ZappiStore</span></a>Research services provider</td>\n",
       "<td>Central London</td>\n",
       "<td>Dec-17</td>\n",
       "<td style=\"text-align:right;\">61.62%</td>\n",
       "<td style=\"text-align:right;\">19,323</td>\n",
       "<td style=\"text-align:right;\">128</td>\n",
       "<td>Holds weekly hackathons with its clients and programmers</td>\n",
       "<!--\t\t\t\t\t\t<td>Dec-17</td>-->\n",
       "</tr>\n",
       "<tr>\n",
       "<td>75</td>\n",
       "<td><a href=\"https://www.fasttrack.co.uk/company_profile/blis-3/\"><span class=\"company-name\">Blis</span></a>Location data technology</td>\n",
       "<td>Central London</td>\n",
       "<td>Dec-17</td>\n",
       "<td style=\"text-align:right;\">61.28%</td>\n",
       "<td style=\"text-align:right;\">*33,400</td>\n",
       "<td style=\"text-align:right;\">186</td>\n",
       "<td>Analyses more than 5.5bn data points each day</td>\n",
       "<!--\t\t\t\t\t\t<td>Dec-17</td>-->\n",
       "</tr>\n",
       "<tr>\n",
       "<td>76</td>\n",
       "<td><a href=\"https://www.fasttrack.co.uk/company_profile/bookingbug/\"><span class=\"company-name\">BookingBug</span></a>Booking systems developer</td>\n",
       "<td>Central London</td>\n",
       "<td>Mar-18</td>\n",
       "<td style=\"text-align:right;\">60.61%</td>\n",
       "<td style=\"text-align:right;\">*6,937</td>\n",
       "<td style=\"text-align:right;\">117</td>\n",
       "<td>Raised nearly £10m in April from backers including PeakSpan Capital and Downing Ventures</td>\n",
       "<!--\t\t\t\t\t\t<td>Mar-18</td>-->\n",
       "</tr>\n",
       "<tr>\n",
       "<td>77</td>\n",
       "<td><a href=\"https://www.fasttrack.co.uk/company_profile/egress-2/\"><span class=\"company-name\">Egress</span></a>Data security provider</td>\n",
       "<td>Central London</td>\n",
       "<td>Dec-17</td>\n",
       "<td style=\"text-align:right;\">60.22%</td>\n",
       "<td style=\"text-align:right;\">9,403</td>\n",
       "<td style=\"text-align:right;\">115</td>\n",
       "<td>Users of its platform can revoke access to emails after they have reached the recipient’s inbox</td>\n",
       "<!--\t\t\t\t\t\t<td>Dec-17</td>-->\n",
       "</tr>\n",
       "<tr>\n",
       "<td>78</td>\n",
       "<td><a href=\"https://www.fasttrack.co.uk/company_profile/contis-group/\"><span class=\"company-name\">Contis Group</span></a>Payment services provider</td>\n",
       "<td>North Yorkshire</td>\n",
       "<td>Mar-17</td>\n",
       "<td style=\"text-align:right;\">59.56%</td>\n",
       "<td style=\"text-align:right;\">7,161</td>\n",
       "<td style=\"text-align:right;\">86</td>\n",
       "<td>Appointed the former European boss of American Express to drive sales on the continent</td>\n",
       "<!--\t\t\t\t\t\t<td>Mar-17</td>-->\n",
       "</tr>\n",
       "<tr>\n",
       "<td>79</td>\n",
       "<td><a href=\"https://www.fasttrack.co.uk/company_profile/pm-connect-2/\"><span class=\"company-name\">PM Connect</span></a>Mobile content provider</td>\n",
       "<td>Birmingham</td>\n",
       "<td>Feb-18</td>\n",
       "<td style=\"text-align:right;\">59.44%</td>\n",
       "<td style=\"text-align:right;\">*19,317</td>\n",
       "<td style=\"text-align:right;\">35</td>\n",
       "<td>Its clients include World Wrestling Entertainment and the NBA</td>\n",
       "<!--\t\t\t\t\t\t<td>Feb-18</td>-->\n",
       "</tr>\n",
       "<tr>\n",
       "<td>80</td>\n",
       "<td><a href=\"https://www.fasttrack.co.uk/company_profile/zopa-5/\"><span class=\"company-name\">Zopa</span></a>Peer-to-peer lending platform</td>\n",
       "<td>South London</td>\n",
       "<td>Dec-17</td>\n",
       "<td style=\"text-align:right;\">59.43%</td>\n",
       "<td style=\"text-align:right;\">*46,500</td>\n",
       "<td style=\"text-align:right;\">312</td>\n",
       "<td>About £3.5bn has been advanced through its platform</td>\n",
       "<!--\t\t\t\t\t\t<td>Dec-17</td>-->\n",
       "</tr>\n",
       "<tr>\n",
       "<td>81</td>\n",
       "<td><a href=\"https://www.fasttrack.co.uk/company_profile/worldremit-3/\"><span class=\"company-name\">WorldRemit</span></a>Online money transfers</td>\n",
       "<td>Central London</td>\n",
       "<td>Dec-17</td>\n",
       "<td style=\"text-align:right;\">59.07%</td>\n",
       "<td style=\"text-align:right;\">*61,000</td>\n",
       "<td style=\"text-align:right;\">440</td>\n",
       "<td>Has raised $220m since 2010 to expand its online money transfer service</td>\n",
       "<!--\t\t\t\t\t\t<td>Dec-17</td>-->\n",
       "</tr>\n",
       "<tr>\n",
       "<td>82</td>\n",
       "<td><a href=\"https://www.fasttrack.co.uk/company_profile/dianomi-3/\"><span class=\"company-name\">Dianomi</span></a>Financial content marketing</td>\n",
       "<td>Central London</td>\n",
       "<td>Dec-17</td>\n",
       "<td style=\"text-align:right;\">58.99%</td>\n",
       "<td style=\"text-align:right;\">*12,861</td>\n",
       "<td style=\"text-align:right;\">25</td>\n",
       "<td>Works with eight of the top 10 global asset managers</td>\n",
       "<!--\t\t\t\t\t\t<td>Dec-17</td>-->\n",
       "</tr>\n",
       "<tr>\n",
       "<td>83</td>\n",
       "<td><a href=\"https://www.fasttrack.co.uk/company_profile/liberis/\"><span class=\"company-name\">Liberis</span></a>Cash advance provider</td>\n",
       "<td>West London</td>\n",
       "<td>Dec-17</td>\n",
       "<td style=\"text-align:right;\">57.99%</td>\n",
       "<td style=\"text-align:right;\">*15,150</td>\n",
       "<td style=\"text-align:right;\">75</td>\n",
       "<td>Received £57.5m in funding in April from investors including Blenheim Chalcot</td>\n",
       "<!--\t\t\t\t\t\t<td>Dec-17</td>-->\n",
       "</tr>\n",
       "<tr>\n",
       "<td>84</td>\n",
       "<td><a href=\"https://www.fasttrack.co.uk/company_profile/currencycloud/\"><span class=\"company-name\">Currencycloud</span></a>Payment services provider</td>\n",
       "<td>East London</td>\n",
       "<td>Dec-17</td>\n",
       "<td style=\"text-align:right;\">57.48%</td>\n",
       "<td style=\"text-align:right;\">*13,600</td>\n",
       "<td style=\"text-align:right;\">140</td>\n",
       "<td>Has 250 clients and 2m end users across the world</td>\n",
       "<!--\t\t\t\t\t\t<td>Dec-17</td>-->\n",
       "</tr>\n",
       "<tr>\n",
       "<td>85</td>\n",
       "<td><a href=\"https://www.fasttrack.co.uk/company_profile/featurespace/\"><span class=\"company-name\">Featurespace</span></a>Analytics software developer</td>\n",
       "<td>Cambridge</td>\n",
       "<td>Dec-17</td>\n",
       "<td style=\"text-align:right;\">57.48%</td>\n",
       "<td style=\"text-align:right;\">*5,170</td>\n",
       "<td style=\"text-align:right;\">113</td>\n",
       "<td>Is recruiting for more than 100 positions this year, following customer demand in UK and US</td>\n",
       "<!--\t\t\t\t\t\t<td>Dec-17</td>-->\n",
       "</tr>\n",
       "<tr>\n",
       "<td>86</td>\n",
       "<td><a href=\"https://www.fasttrack.co.uk/company_profile/cloud-technology-solutions-3/\"><span class=\"company-name\">Cloud Technology Solutions</span></a>Cloud IT developer</td>\n",
       "<td>Manchester</td>\n",
       "<td>Mar-18</td>\n",
       "<td style=\"text-align:right;\">57.21%</td>\n",
       "<td style=\"text-align:right;\">*21,902</td>\n",
       "<td style=\"text-align:right;\">102</td>\n",
       "<td>Its software has moved nearly 12,000 companies in 20 countries onto Google Apps</td>\n",
       "<!--\t\t\t\t\t\t<td>Mar-18</td>-->\n",
       "</tr>\n",
       "<tr>\n",
       "<td>87</td>\n",
       "<td><a href=\"https://www.fasttrack.co.uk/company_profile/leisure-pass-group-3/\"><span class=\"company-name\">Leisure Pass Group</span></a>Tourism smartcard developer</td>\n",
       "<td>Central London</td>\n",
       "<td>Dec-17</td>\n",
       "<td style=\"text-align:right;\">57.16%</td>\n",
       "<td style=\"text-align:right;\">†225,803</td>\n",
       "<td style=\"text-align:right;\">105</td>\n",
       "<td>Has partnered with the booking platform Ctrip to target Chinese tourists visiting Europe</td>\n",
       "<!--\t\t\t\t\t\t<td>Dec-17</td>-->\n",
       "</tr>\n",
       "<tr>\n",
       "<td>88</td>\n",
       "<td><a href=\"https://www.fasttrack.co.uk/company_profile/rradar/\"><span class=\"company-name\">rradar</span></a>Legal digital services</td>\n",
       "<td>Hull</td>\n",
       "<td>Dec-17</td>\n",
       "<td style=\"text-align:right;\">57.03%</td>\n",
       "<td style=\"text-align:right;\">*5,083</td>\n",
       "<td style=\"text-align:right;\">125</td>\n",
       "<td>Uses machine learning and AI to provide legal advice to customers</td>\n",
       "<!--\t\t\t\t\t\t<td>Dec-17</td>-->\n",
       "</tr>\n",
       "<tr>\n",
       "<td>89</td>\n",
       "<td><a href=\"https://www.fasttrack.co.uk/company_profile/converge-ts/\"><span class=\"company-name\">Converge TS</span></a>Cloud services provider</td>\n",
       "<td>Cheshire</td>\n",
       "<td>Dec-17</td>\n",
       "<td style=\"text-align:right;\">55.00%</td>\n",
       "<td style=\"text-align:right;\">*5,802</td>\n",
       "<td style=\"text-align:right;\">38</td>\n",
       "<td>Focused solely on the legal sector after its first three clients were all law firms</td>\n",
       "<!--\t\t\t\t\t\t<td>Dec-17</td>-->\n",
       "</tr>\n",
       "<tr>\n",
       "<td>90</td>\n",
       "<td><a href=\"https://www.fasttrack.co.uk/company_profile/kimble-applications-2/\"><span class=\"company-name\">Kimble Applications</span></a>Software developer</td>\n",
       "<td>Central London</td>\n",
       "<td>Dec-17</td>\n",
       "<td style=\"text-align:right;\">54.67%</td>\n",
       "<td style=\"text-align:right;\">*9,153</td>\n",
       "<td style=\"text-align:right;\">78</td>\n",
       "<td>More than half of its new business is in the US, where it has offices in Boston and Park City</td>\n",
       "<!--\t\t\t\t\t\t<td>Dec-17</td>-->\n",
       "</tr>\n",
       "<tr>\n",
       "<td>91</td>\n",
       "<td><a href=\"https://www.fasttrack.co.uk/company_profile/paymentsense-8/\"><span class=\"company-name\">Paymentsense</span></a>Payment services provider</td>\n",
       "<td>West London</td>\n",
       "<td>Mar-18</td>\n",
       "<td style=\"text-align:right;\">53.54%</td>\n",
       "<td style=\"text-align:right;\">*72,400</td>\n",
       "<td style=\"text-align:right;\">243</td>\n",
       "<td>Processed more than £6.5bn of card payments last year in the UK and Ireland</td>\n",
       "<!--\t\t\t\t\t\t<td>Mar-18</td>-->\n",
       "</tr>\n",
       "<tr>\n",
       "<td>92</td>\n",
       "<td><a href=\"https://www.fasttrack.co.uk/company_profile/godel-technologies-2/\"><span class=\"company-name\">Godel Technologies</span></a>Software developer</td>\n",
       "<td>Manchester</td>\n",
       "<td>Dec-17</td>\n",
       "<td style=\"text-align:right;\">53.01%</td>\n",
       "<td style=\"text-align:right;\">*13,853</td>\n",
       "<td style=\"text-align:right;\">637</td>\n",
       "<td>Is named after the late German mathematician Kurt Gödel</td>\n",
       "<!--\t\t\t\t\t\t<td>Dec-17</td>-->\n",
       "</tr>\n",
       "<tr>\n",
       "<td>93</td>\n",
       "<td><a href=\"https://www.fasttrack.co.uk/company_profile/secret-escapes-2/\"><span class=\"company-name\">Secret Escapes</span></a>Online travel services</td>\n",
       "<td>Central London</td>\n",
       "<td>Dec-17</td>\n",
       "<td style=\"text-align:right;\">52.99%</td>\n",
       "<td style=\"text-align:right;\">*73,000</td>\n",
       "<td style=\"text-align:right;\">850</td>\n",
       "<td>Has raised £132m from investors including Google Ventures</td>\n",
       "<!--\t\t\t\t\t\t<td>Dec-17</td>-->\n",
       "</tr>\n",
       "<tr>\n",
       "<td>94</td>\n",
       "<td><a href=\"https://www.fasttrack.co.uk/company_profile/neuven-4/\"><span class=\"company-name\">Neuven</span></a>HR software developer</td>\n",
       "<td>Manchester</td>\n",
       "<td>Jul-17</td>\n",
       "<td style=\"text-align:right;\">52.23%</td>\n",
       "<td style=\"text-align:right;\">130,071</td>\n",
       "<td style=\"text-align:right;\">28</td>\n",
       "<td>Appearing on Tech Track 100 for a fourth consecutive year</td>\n",
       "<!--\t\t\t\t\t\t<td>Jul-17</td>-->\n",
       "</tr>\n",
       "<tr>\n",
       "<td>95</td>\n",
       "<td><a href=\"https://www.fasttrack.co.uk/company_profile/citnow-3/\"><span class=\"company-name\">CitNOW</span></a>Video software developer</td>\n",
       "<td>Wokingham</td>\n",
       "<td>Dec-17</td>\n",
       "<td style=\"text-align:right;\">51.85%</td>\n",
       "<td style=\"text-align:right;\">*11,611</td>\n",
       "<td style=\"text-align:right;\">71</td>\n",
       "<td>Has more than 8,000 installations in franchised car dealerships in 45 countries</td>\n",
       "<!--\t\t\t\t\t\t<td>Dec-17</td>-->\n",
       "</tr>\n",
       "<tr>\n",
       "<td>96</td>\n",
       "<td><a href=\"https://www.fasttrack.co.uk/company_profile/geo-2/\"><span class=\"company-name\">geo</span></a>Smart energy monitoring</td>\n",
       "<td>Cambridge</td>\n",
       "<td>Mar-18</td>\n",
       "<td style=\"text-align:right;\">51.24%</td>\n",
       "<td style=\"text-align:right;\">*29,406</td>\n",
       "<td style=\"text-align:right;\">85</td>\n",
       "<td>Customers in Norway, Sweden and Luxembourg use its smart energy monitoring devices</td>\n",
       "<!--\t\t\t\t\t\t<td>Mar-18</td>-->\n",
       "</tr>\n",
       "<tr>\n",
       "<td>97</td>\n",
       "<td><a href=\"https://www.fasttrack.co.uk/company_profile/vision-rt/\"><span class=\"company-name\">Vision RT</span></a>Medical technology developer</td>\n",
       "<td>North London</td>\n",
       "<td>Jul-17</td>\n",
       "<td style=\"text-align:right;\">50.99%</td>\n",
       "<td style=\"text-align:right;\">32,468</td>\n",
       "<td style=\"text-align:right;\">132</td>\n",
       "<td>Has secured 60 patents and has another 46 pending</td>\n",
       "<!--\t\t\t\t\t\t<td>Jul-17</td>-->\n",
       "</tr>\n",
       "<tr>\n",
       "<td>98</td>\n",
       "<td><a href=\"https://www.fasttrack.co.uk/company_profile/thread/\"><span class=\"company-name\">Thread</span></a>Online fashion services</td>\n",
       "<td>Central London</td>\n",
       "<td>Dec-17</td>\n",
       "<td style=\"text-align:right;\">50.77%</td>\n",
       "<td style=\"text-align:right;\">*6,492</td>\n",
       "<td style=\"text-align:right;\">60</td>\n",
       "<td>More than 800,000 men subscribe to its free personal styling service</td>\n",
       "<!--\t\t\t\t\t\t<td>Dec-17</td>-->\n",
       "</tr>\n",
       "<tr>\n",
       "<td>99</td>\n",
       "<td><a href=\"https://www.fasttrack.co.uk/company_profile/the-media-image-4/\"><span class=\"company-name\">The Media Image</span></a>Digital marketing agency</td>\n",
       "<td>South London</td>\n",
       "<td>Feb-18</td>\n",
       "<td style=\"text-align:right;\">50.38%</td>\n",
       "<td style=\"text-align:right;\">*27,515</td>\n",
       "<td style=\"text-align:right;\">37</td>\n",
       "<td>Founded by the man who was Google UK’s first recruit when it launched its AdWords service in 2002</td>\n",
       "<!--\t\t\t\t\t\t<td>Feb-18</td>-->\n",
       "</tr>\n",
       "<tr>\n",
       "<td>100</td>\n",
       "<td><a href=\"https://www.fasttrack.co.uk/company_profile/brompton-technology/\"><span class=\"company-name\">Brompton Technology</span></a>Video technology provider</td>\n",
       "<td>West London</td>\n",
       "<td>Aug-17</td>\n",
       "<td style=\"text-align:right;\">50.17%</td>\n",
       "<td style=\"text-align:right;\">*5,250</td>\n",
       "<td style=\"text-align:right;\">27</td>\n",
       "<td>Its technology is used in high-profile events such as the Oscars</td>\n",
       "<!--\t\t\t\t\t\t<td>Aug-17</td>-->\n",
       "</tr>\n",
       "</tbody>\n",
       "</table>"
      ]
     },
     "execution_count": 94,
     "metadata": {},
     "output_type": "execute_result"
    }
   ],
   "source": [
    "table"
   ]
  },
  {
   "cell_type": "code",
   "execution_count": 95,
   "metadata": {},
   "outputs": [],
   "source": [
    "results = table.find_all('tr')"
   ]
  },
  {
   "cell_type": "code",
   "execution_count": 96,
   "metadata": {},
   "outputs": [
    {
     "name": "stdout",
     "output_type": "stream",
     "text": [
      "Number of rows:  101\n"
     ]
    }
   ],
   "source": [
    "print('Number of rows: ', len(results))"
   ]
  },
  {
   "cell_type": "code",
   "execution_count": 97,
   "metadata": {},
   "outputs": [
    {
     "data": {
      "text/plain": [
       "<tr>\n",
       "<td>1</td>\n",
       "<td><a href=\"https://www.fasttrack.co.uk/company_profile/plan-com/\"><span class=\"company-name\">Plan.com</span></a>Communications provider</td>\n",
       "<td>Isle of Man</td>\n",
       "<td>Sep-17</td>\n",
       "<td style=\"text-align:right;\">364.38%</td>\n",
       "<td style=\"text-align:right;\">*35,418</td>\n",
       "<td style=\"text-align:right;\">90</td>\n",
       "<td>About 650 partners use its telecoms platform to support more than 100,000 UK business customers</td>\n",
       "<!--\t\t\t\t\t\t<td>Sep-17</td>-->\n",
       "</tr>"
      ]
     },
     "execution_count": 97,
     "metadata": {},
     "output_type": "execute_result"
    }
   ],
   "source": [
    "results[1]"
   ]
  },
  {
   "cell_type": "code",
   "execution_count": 98,
   "metadata": {},
   "outputs": [
    {
     "data": {
      "text/plain": [
       "<tr>\n",
       "<th>Rank</th>\n",
       "<th>Company</th>\n",
       "<th class=\"\">Location</th>\n",
       "<th class=\"no-word-wrap\">Year end</th>\n",
       "<th class=\"\" style=\"text-align:right;\">Annual sales rise over 3 years</th>\n",
       "<th class=\"\" style=\"text-align:right;\">Latest sales £000s</th>\n",
       "<th class=\"\" style=\"text-align:right;\">Staff</th>\n",
       "<th class=\"\">Comment</th>\n",
       "<!--\t\t\t\t<th>FYE</th>-->\n",
       "</tr>"
      ]
     },
     "execution_count": 98,
     "metadata": {},
     "output_type": "execute_result"
    }
   ],
   "source": [
    "results[0]"
   ]
  },
  {
   "cell_type": "code",
   "execution_count": 99,
   "metadata": {},
   "outputs": [],
   "source": [
    "rows = []"
   ]
  },
  {
   "cell_type": "code",
   "execution_count": 100,
   "metadata": {},
   "outputs": [],
   "source": [
    "for row in results[0].find_all('th'):\n",
    "    rows.append(row.contents[0])"
   ]
  },
  {
   "cell_type": "code",
   "execution_count": 101,
   "metadata": {},
   "outputs": [
    {
     "data": {
      "text/plain": [
       "['Rank',\n",
       " 'Company',\n",
       " 'Location',\n",
       " 'Year end',\n",
       " 'Annual sales rise over 3 years',\n",
       " 'Latest sales £000s',\n",
       " 'Staff',\n",
       " 'Comment']"
      ]
     },
     "execution_count": 101,
     "metadata": {},
     "output_type": "execute_result"
    }
   ],
   "source": [
    "rows"
   ]
  },
  {
   "cell_type": "code",
   "execution_count": 102,
   "metadata": {},
   "outputs": [],
   "source": [
    "rows = []\n",
    "rows.append(['Rank',\n",
    " 'Company',\n",
    " 'Location',\n",
    " 'Year end',\n",
    " 'Annual sales rise over 3 years',\n",
    " 'Latest sales £000s',\n",
    " 'Staff',\n",
    " 'Comment'])"
   ]
  },
  {
   "cell_type": "code",
   "execution_count": 103,
   "metadata": {},
   "outputs": [
    {
     "data": {
      "text/plain": [
       "[['Rank',\n",
       "  'Company',\n",
       "  'Location',\n",
       "  'Year end',\n",
       "  'Annual sales rise over 3 years',\n",
       "  'Latest sales £000s',\n",
       "  'Staff',\n",
       "  'Comment']]"
      ]
     },
     "execution_count": 103,
     "metadata": {},
     "output_type": "execute_result"
    }
   ],
   "source": [
    "rows"
   ]
  },
  {
   "cell_type": "code",
   "execution_count": 104,
   "metadata": {},
   "outputs": [],
   "source": [
    "for result in results:\n",
    "    data = result.find_all('td')\n",
    "    if len(data) == 0:\n",
    "        continue"
   ]
  },
  {
   "cell_type": "code",
   "execution_count": 105,
   "metadata": {},
   "outputs": [
    {
     "data": {
      "text/plain": [
       "[<td>100</td>,\n",
       " <td><a href=\"https://www.fasttrack.co.uk/company_profile/brompton-technology/\"><span class=\"company-name\">Brompton Technology</span></a>Video technology provider</td>,\n",
       " <td>West London</td>,\n",
       " <td>Aug-17</td>,\n",
       " <td style=\"text-align:right;\">50.17%</td>,\n",
       " <td style=\"text-align:right;\">*5,250</td>,\n",
       " <td style=\"text-align:right;\">27</td>,\n",
       " <td>Its technology is used in high-profile events such as the Oscars</td>]"
      ]
     },
     "execution_count": 105,
     "metadata": {},
     "output_type": "execute_result"
    }
   ],
   "source": [
    "data"
   ]
  },
  {
   "cell_type": "code",
   "execution_count": null,
   "metadata": {},
   "outputs": [],
   "source": []
  },
  {
   "cell_type": "code",
   "execution_count": 106,
   "metadata": {},
   "outputs": [],
   "source": [
    "# write columns to variables\n",
    "rank = data[0].getText()\n",
    "company = data[1].getText()\n",
    "location = data[2].getText()\n",
    "yearend = data[3].getText()\n",
    "salesrise = data[4].getText()\n",
    "sales = data[5].getText()\n",
    "staff = data[6].getText()\n",
    "comments = data[7].getText()"
   ]
  },
  {
   "cell_type": "code",
   "execution_count": 107,
   "metadata": {},
   "outputs": [
    {
     "data": {
      "text/plain": [
       "'100'"
      ]
     },
     "execution_count": 107,
     "metadata": {},
     "output_type": "execute_result"
    }
   ],
   "source": [
    "rank"
   ]
  },
  {
   "cell_type": "code",
   "execution_count": 108,
   "metadata": {},
   "outputs": [
    {
     "data": {
      "text/plain": [
       "'Brompton TechnologyVideo technology provider'"
      ]
     },
     "execution_count": 108,
     "metadata": {},
     "output_type": "execute_result"
    }
   ],
   "source": [
    "company"
   ]
  },
  {
   "cell_type": "code",
   "execution_count": 109,
   "metadata": {},
   "outputs": [
    {
     "data": {
      "text/plain": [
       "'*5,250'"
      ]
     },
     "execution_count": 109,
     "metadata": {},
     "output_type": "execute_result"
    }
   ],
   "source": [
    "sales"
   ]
  },
  {
   "cell_type": "code",
   "execution_count": 110,
   "metadata": {},
   "outputs": [
    {
     "data": {
      "text/plain": [
       "[<td>100</td>,\n",
       " <td><a href=\"https://www.fasttrack.co.uk/company_profile/brompton-technology/\"><span class=\"company-name\">Brompton Technology</span></a>Video technology provider</td>,\n",
       " <td>West London</td>,\n",
       " <td>Aug-17</td>,\n",
       " <td style=\"text-align:right;\">50.17%</td>,\n",
       " <td style=\"text-align:right;\">*5,250</td>,\n",
       " <td style=\"text-align:right;\">27</td>,\n",
       " <td>Its technology is used in high-profile events such as the Oscars</td>]"
      ]
     },
     "execution_count": 110,
     "metadata": {},
     "output_type": "execute_result"
    }
   ],
   "source": [
    "data"
   ]
  },
  {
   "cell_type": "code",
   "execution_count": 111,
   "metadata": {},
   "outputs": [],
   "source": [
    "companyname = data[1].find('span', class_='company-name').getText()"
   ]
  },
  {
   "cell_type": "code",
   "execution_count": 112,
   "metadata": {},
   "outputs": [
    {
     "data": {
      "text/plain": [
       "'Brompton Technology'"
      ]
     },
     "execution_count": 112,
     "metadata": {},
     "output_type": "execute_result"
    }
   ],
   "source": [
    "companyname"
   ]
  },
  {
   "cell_type": "code",
   "execution_count": 113,
   "metadata": {},
   "outputs": [
    {
     "data": {
      "text/plain": [
       "'Video technology provid'"
      ]
     },
     "execution_count": 113,
     "metadata": {},
     "output_type": "execute_result"
    }
   ],
   "source": [
    "company.strip(companyname)"
   ]
  },
  {
   "cell_type": "code",
   "execution_count": 114,
   "metadata": {},
   "outputs": [
    {
     "data": {
      "text/plain": [
       "'Brompton TechnologyVideo technology provider'"
      ]
     },
     "execution_count": 114,
     "metadata": {},
     "output_type": "execute_result"
    }
   ],
   "source": [
    "company"
   ]
  },
  {
   "cell_type": "code",
   "execution_count": 115,
   "metadata": {},
   "outputs": [],
   "source": [
    "description = company.replace(companyname,'')"
   ]
  },
  {
   "cell_type": "code",
   "execution_count": 116,
   "metadata": {},
   "outputs": [
    {
     "data": {
      "text/plain": [
       "'Video technology provider'"
      ]
     },
     "execution_count": 116,
     "metadata": {},
     "output_type": "execute_result"
    }
   ],
   "source": [
    "description"
   ]
  },
  {
   "cell_type": "code",
   "execution_count": 117,
   "metadata": {},
   "outputs": [
    {
     "data": {
      "text/plain": [
       "'*5,250'"
      ]
     },
     "execution_count": 117,
     "metadata": {},
     "output_type": "execute_result"
    }
   ],
   "source": [
    "sales"
   ]
  },
  {
   "cell_type": "code",
   "execution_count": 118,
   "metadata": {},
   "outputs": [
    {
     "data": {
      "text/plain": [
       "'5250'"
      ]
     },
     "execution_count": 118,
     "metadata": {},
     "output_type": "execute_result"
    }
   ],
   "source": [
    "sales.strip('*').strip('†').replace(',','')"
   ]
  },
  {
   "cell_type": "code",
   "execution_count": 119,
   "metadata": {},
   "outputs": [
    {
     "data": {
      "text/plain": [
       "<td><a href=\"https://www.fasttrack.co.uk/company_profile/brompton-technology/\"><span class=\"company-name\">Brompton Technology</span></a>Video technology provider</td>"
      ]
     },
     "execution_count": 119,
     "metadata": {},
     "output_type": "execute_result"
    }
   ],
   "source": [
    "data[1]"
   ]
  },
  {
   "cell_type": "code",
   "execution_count": 120,
   "metadata": {},
   "outputs": [],
   "source": [
    "url = data[1].find('a').get('href')"
   ]
  },
  {
   "cell_type": "code",
   "execution_count": 121,
   "metadata": {},
   "outputs": [
    {
     "data": {
      "text/plain": [
       "'https://www.fasttrack.co.uk/company_profile/brompton-technology/'"
      ]
     },
     "execution_count": 121,
     "metadata": {},
     "output_type": "execute_result"
    }
   ],
   "source": [
    "url"
   ]
  },
  {
   "cell_type": "code",
   "execution_count": 122,
   "metadata": {},
   "outputs": [],
   "source": [
    "page = requests.get(url)"
   ]
  },
  {
   "cell_type": "code",
   "execution_count": 123,
   "metadata": {},
   "outputs": [],
   "source": [
    "soup = BeautifulSoup(page.text, 'html.parser')"
   ]
  },
  {
   "cell_type": "code",
   "execution_count": 124,
   "metadata": {},
   "outputs": [],
   "source": [
    "try:\n",
    "    tableRow = soup.find('table').find_all('tr')[-1]\n",
    "    webpage = tableRow.find('a').get('href')\n",
    "except:\n",
    "    webpage = None"
   ]
  },
  {
   "cell_type": "code",
   "execution_count": 125,
   "metadata": {},
   "outputs": [
    {
     "data": {
      "text/plain": [
       "'http://www.bromptontech.com'"
      ]
     },
     "execution_count": 125,
     "metadata": {},
     "output_type": "execute_result"
    }
   ],
   "source": [
    "webpage"
   ]
  },
  {
   "cell_type": "markdown",
   "metadata": {},
   "source": [
    "#### Celotni program skupaj"
   ]
  },
  {
   "cell_type": "code",
   "execution_count": 126,
   "metadata": {},
   "outputs": [
    {
     "name": "stdout",
     "output_type": "stream",
     "text": [
      "Number of rows: 101\n"
     ]
    }
   ],
   "source": [
    "# import libraries\n",
    "from bs4 import BeautifulSoup\n",
    "import requests\n",
    "import csv\n",
    "\n",
    "# specify the url\n",
    "urlpage =  'http://www.fasttrack.co.uk/league-tables/tech-track-100/league-table/'\n",
    "\n",
    "page = requests.get(urlpage)\n",
    "soup = BeautifulSoup(page.text, 'html.parser')\n",
    "\n",
    "table = soup.find('table', class_='tableSorter')\n",
    "results = table.find_all('tr')\n",
    "print('Number of rows:', len(results))"
   ]
  },
  {
   "cell_type": "code",
   "execution_count": 127,
   "metadata": {},
   "outputs": [],
   "source": [
    "rows = []\n",
    "rows.append(['Rank', 'Company Name', 'Webpage', 'Description', 'Location',\n",
    "            'Year end', 'Annual sales rise over 3 years', 'Sales £000s',\n",
    "            'Staff', 'Comments'])"
   ]
  },
  {
   "cell_type": "code",
   "execution_count": 128,
   "metadata": {},
   "outputs": [
    {
     "name": "stdout",
     "output_type": "stream",
     "text": [
      "100 - Company is Brompton Technology\n"
     ]
    }
   ],
   "source": [
    "for num, result in enumerate(results):\n",
    "    data = result.find_all('td')\n",
    "    if len(data) == 0:\n",
    "        continue\n",
    "        \n",
    "rank = data[0].getText()\n",
    "company = data[1].getText()\n",
    "location = data[2].getText()\n",
    "yearend = data[3].getText()\n",
    "salesrise = data[4].getText()\n",
    "sales = data[5].getText()\n",
    "staff = data[6].getText()\n",
    "comments = data[7].getText()   \n",
    "\n",
    "companyname = data[1].find('span', class_='company-name').getText()\n",
    "description = company.replace(companyname, '')\n",
    "print(num, '- Company is', companyname)\n",
    "\n",
    "sales = sales.strip('*').strip('†').replace(',','')\n",
    "\n",
    "url = data[1].find('a').get('href')\n",
    "page = requests.get(url)\n",
    "soup = BeautifulSoup(page.text, 'html.parser')\n",
    "\n",
    "try:\n",
    "    tableRow = soup.find('table').find_all('tr')[-1]\n",
    "    webpage = tableRow.find('a').get('href')\n",
    "except:\n",
    "    webpage = None\n",
    "        \n",
    "rows.append([rank, companyname, webpage, description, location, yearend, salesrise, sales,\n",
    "                staff, comments])"
   ]
  },
  {
   "cell_type": "code",
   "execution_count": 129,
   "metadata": {},
   "outputs": [],
   "source": [
    "with open('OUT_companies.csv', 'w', newline='') as f_output:\n",
    "    csv_output = csv.writer(f_output)\n",
    "    csv_output.writerows(rows)"
   ]
  },
  {
   "cell_type": "code",
   "execution_count": 130,
   "metadata": {},
   "outputs": [],
   "source": [
    "df = pd.read_csv('OUT_companies.csv')"
   ]
  },
  {
   "cell_type": "code",
   "execution_count": 131,
   "metadata": {},
   "outputs": [
    {
     "data": {
      "text/html": [
       "<div>\n",
       "<style scoped>\n",
       "    .dataframe tbody tr th:only-of-type {\n",
       "        vertical-align: middle;\n",
       "    }\n",
       "\n",
       "    .dataframe tbody tr th {\n",
       "        vertical-align: top;\n",
       "    }\n",
       "\n",
       "    .dataframe thead th {\n",
       "        text-align: right;\n",
       "    }\n",
       "</style>\n",
       "<table border=\"1\" class=\"dataframe\">\n",
       "  <thead>\n",
       "    <tr style=\"text-align: right;\">\n",
       "      <th></th>\n",
       "      <th>Rank</th>\n",
       "      <th>Company Name</th>\n",
       "      <th>Webpage</th>\n",
       "      <th>Description</th>\n",
       "      <th>Location</th>\n",
       "      <th>Year end</th>\n",
       "      <th>Annual sales rise over 3 years</th>\n",
       "      <th>Sales £000s</th>\n",
       "      <th>Staff</th>\n",
       "      <th>Comments</th>\n",
       "    </tr>\n",
       "  </thead>\n",
       "  <tbody>\n",
       "    <tr>\n",
       "      <th>0</th>\n",
       "      <td>100</td>\n",
       "      <td>Brompton Technology</td>\n",
       "      <td>http://www.bromptontech.com</td>\n",
       "      <td>Video technology provider</td>\n",
       "      <td>West London</td>\n",
       "      <td>Aug-17</td>\n",
       "      <td>50.17%</td>\n",
       "      <td>5250</td>\n",
       "      <td>27</td>\n",
       "      <td>Its technology is used in high-profile events ...</td>\n",
       "    </tr>\n",
       "  </tbody>\n",
       "</table>\n",
       "</div>"
      ],
      "text/plain": [
       "   Rank         Company Name                      Webpage  \\\n",
       "0   100  Brompton Technology  http://www.bromptontech.com   \n",
       "\n",
       "                 Description     Location Year end  \\\n",
       "0  Video technology provider  West London   Aug-17   \n",
       "\n",
       "  Annual sales rise over 3 years  Sales £000s  Staff  \\\n",
       "0                         50.17%         5250     27   \n",
       "\n",
       "                                            Comments  \n",
       "0  Its technology is used in high-profile events ...  "
      ]
     },
     "execution_count": 131,
     "metadata": {},
     "output_type": "execute_result"
    }
   ],
   "source": [
    "df.head()"
   ]
  },
  {
   "cell_type": "code",
   "execution_count": null,
   "metadata": {},
   "outputs": [],
   "source": []
  },
  {
   "cell_type": "code",
   "execution_count": null,
   "metadata": {},
   "outputs": [],
   "source": []
  },
  {
   "cell_type": "code",
   "execution_count": null,
   "metadata": {},
   "outputs": [],
   "source": []
  },
  {
   "cell_type": "code",
   "execution_count": null,
   "metadata": {},
   "outputs": [],
   "source": []
  },
  {
   "cell_type": "code",
   "execution_count": null,
   "metadata": {},
   "outputs": [],
   "source": []
  },
  {
   "cell_type": "code",
   "execution_count": null,
   "metadata": {},
   "outputs": [],
   "source": []
  },
  {
   "cell_type": "code",
   "execution_count": null,
   "metadata": {},
   "outputs": [],
   "source": []
  }
 ],
 "metadata": {
  "kernelspec": {
   "display_name": "Python 3",
   "language": "python",
   "name": "python3"
  },
  "language_info": {
   "codemirror_mode": {
    "name": "ipython",
    "version": 3
   },
   "file_extension": ".py",
   "mimetype": "text/x-python",
   "name": "python",
   "nbconvert_exporter": "python",
   "pygments_lexer": "ipython3",
   "version": "3.7.3"
  }
 },
 "nbformat": 4,
 "nbformat_minor": 2
}
